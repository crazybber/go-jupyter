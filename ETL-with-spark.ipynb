{
 "cells": [
  {
   "cell_type": "code",
   "execution_count": 1,
   "metadata": {},
   "outputs": [
    {
     "data": {
      "application/vnd.jupyter.widget-view+json": {
       "model_id": "06cf15ccdb5b45c4a24c03ad42d1bde4",
       "version_major": 2,
       "version_minor": 0
      },
      "text/plain": [
       "VBox()"
      ]
     },
     "metadata": {},
     "output_type": "display_data"
    },
    {
     "name": "stdout",
     "output_type": "stream",
     "text": [
      "Starting Spark application\n"
     ]
    },
    {
     "data": {
      "text/html": [
       "<table>\n",
       "<tr><th>ID</th><th>YARN Application ID</th><th>Kind</th><th>State</th><th>Spark UI</th><th>Driver log</th><th>Current session?</th></tr><tr><td>12</td><td>application_1584073442397_0013</td><td>pyspark</td><td>idle</td><td><a target=\"_blank\" href=\"http://ip-172-31-29-161.ap-northeast-1.compute.internal:20888/proxy/application_1584073442397_0013/\">Link</a></td><td><a target=\"_blank\" href=\"http://ip-172-31-29-161.ap-northeast-1.compute.internal:8042/node/containerlogs/container_1584073442397_0013_01_000001/livy\">Link</a></td><td>✔</td></tr></table>"
      ],
      "text/plain": [
       "<IPython.core.display.HTML object>"
      ]
     },
     "metadata": {},
     "output_type": "display_data"
    },
    {
     "data": {
      "application/vnd.jupyter.widget-view+json": {
       "model_id": "",
       "version_major": 2,
       "version_minor": 0
      },
      "text/plain": [
       "FloatProgress(value=0.0, bar_style='info', description='Progress:', layout=Layout(height='25px', width='50%'),…"
      ]
     },
     "metadata": {},
     "output_type": "display_data"
    },
    {
     "name": "stdout",
     "output_type": "stream",
     "text": [
      "SparkSession available as 'spark'.\n"
     ]
    },
    {
     "data": {
      "application/vnd.jupyter.widget-view+json": {
       "model_id": "",
       "version_major": 2,
       "version_minor": 0
      },
      "text/plain": [
       "FloatProgress(value=0.0, bar_style='info', description='Progress:', layout=Layout(height='25px', width='50%'),…"
      ]
     },
     "metadata": {},
     "output_type": "display_data"
    },
    {
     "name": "stdout",
     "output_type": "stream",
     "text": [
      "<SparkContext master=yarn appName=livy-session-12>"
     ]
    }
   ],
   "source": [
    "sc"
   ]
  },
  {
   "cell_type": "code",
   "execution_count": null,
   "metadata": {},
   "outputs": [],
   "source": [
    "sc.list_packages()"
   ]
  },
  {
   "cell_type": "code",
   "execution_count": 82,
   "metadata": {},
   "outputs": [
    {
     "data": {
      "application/vnd.jupyter.widget-view+json": {
       "model_id": "989effbd76f2456faaf924f9f25b3526",
       "version_major": 2,
       "version_minor": 0
      },
      "text/plain": [
       "VBox()"
      ]
     },
     "metadata": {},
     "output_type": "display_data"
    },
    {
     "data": {
      "application/vnd.jupyter.widget-view+json": {
       "model_id": "",
       "version_major": 2,
       "version_minor": 0
      },
      "text/plain": [
       "FloatProgress(value=0.0, bar_style='info', description='Progress:', layout=Layout(height='25px', width='50%'),…"
      ]
     },
     "metadata": {},
     "output_type": "display_data"
    }
   ],
   "source": [
    "from pyspark.sql.types import *\n",
    "from pyspark.sql import SparkSession\n",
    "import pyspark.sql.functions as f\n",
    "import warnings; warnings.simplefilter('ignore')\n",
    "import datetime"
   ]
  },
  {
   "cell_type": "code",
   "execution_count": 83,
   "metadata": {},
   "outputs": [
    {
     "data": {
      "application/vnd.jupyter.widget-view+json": {
       "model_id": "adbfeaa941434cfcb43477b5f5913e86",
       "version_major": 2,
       "version_minor": 0
      },
      "text/plain": [
       "VBox()"
      ]
     },
     "metadata": {},
     "output_type": "display_data"
    },
    {
     "data": {
      "application/vnd.jupyter.widget-view+json": {
       "model_id": "",
       "version_major": 2,
       "version_minor": 0
      },
      "text/plain": [
       "FloatProgress(value=0.0, bar_style='info', description='Progress:', layout=Layout(height='25px', width='50%'),…"
      ]
     },
     "metadata": {},
     "output_type": "display_data"
    }
   ],
   "source": [
    "# config spark to build context\n",
    "spark=SparkSession.builder.appName(\"NYC.TLC-Green-Car-Data-ETL\").getOrCreate()\n",
    "spark.conf.set(\"spark.sql.session.timeZone\", \"America/New_York\")"
   ]
  },
  {
   "cell_type": "code",
   "execution_count": 84,
   "metadata": {},
   "outputs": [
    {
     "data": {
      "application/vnd.jupyter.widget-view+json": {
       "model_id": "65ca10e477a1478abbd1d1e5451e0871",
       "version_major": 2,
       "version_minor": 0
      },
      "text/plain": [
       "VBox()"
      ]
     },
     "metadata": {},
     "output_type": "display_data"
    },
    {
     "data": {
      "application/vnd.jupyter.widget-view+json": {
       "model_id": "",
       "version_major": 2,
       "version_minor": 0
      },
      "text/plain": [
       "FloatProgress(value=0.0, bar_style='info', description='Progress:', layout=Layout(height='25px', width='50%'),…"
      ]
     },
     "metadata": {},
     "output_type": "display_data"
    }
   ],
   "source": [
    "#read in our raw dataset\n",
    "df = spark.read.option('header', 'true') \\\n",
    "    .option('mode', 'FAILFAST') \\\n",
    "    .option('timeStampFormat', 'yyyy-MM-dd HH:mm:ss') \\\n",
    "    .option('columnNameOfCorruptRecord', 'error') \\\n",
    "    .csv('s3://data-etl-o-original-raw/green/*.csv') \\\n",
    "    .filter(year('lpep_pickup_datetime') == 2019) \\\n",
    "    .withColumn('duration', f.unix_timestamp('lpep_dropoff_datetime') - f.unix_timestamp('lpep_pickup_datetime')) \\\n",
    "    .withColumn('minute_rate',f.when(f.col('total_amount') <= 0.001,0).otherwise(f.col('total_amount')/f.col('duration') * 60)) \\\n",
    "    .withColumn('average_speed',f.when(f.col('trip_distance') < 0.001,0).otherwise(f.col('trip_distance')/f.col('duration') * 60 * 60)) \\\n",
    "    .drop('store_and_fwd_flag') \\\n",
    "    .drop('ehail_fee') \\\n",
    "    .drop('congestion_surcharge')"
   ]
  },
  {
   "cell_type": "code",
   "execution_count": 85,
   "metadata": {},
   "outputs": [
    {
     "data": {
      "application/vnd.jupyter.widget-view+json": {
       "model_id": "e470db3c6a934969b819e03dba1d92fd",
       "version_major": 2,
       "version_minor": 0
      },
      "text/plain": [
       "VBox()"
      ]
     },
     "metadata": {},
     "output_type": "display_data"
    },
    {
     "data": {
      "application/vnd.jupyter.widget-view+json": {
       "model_id": "",
       "version_major": 2,
       "version_minor": 0
      },
      "text/plain": [
       "FloatProgress(value=0.0, bar_style='info', description='Progress:', layout=Layout(height='25px', width='50%'),…"
      ]
     },
     "metadata": {},
     "output_type": "display_data"
    },
    {
     "name": "stdout",
     "output_type": "stream",
     "text": [
      "DataFrame[VendorID: string, lpep_pickup_datetime: string, lpep_dropoff_datetime: string, RatecodeID: string, PULocationID: string, DOLocationID: string, passenger_count: string, trip_distance: string, fare_amount: string, extra: string, mta_tax: string, tip_amount: string, tolls_amount: string, improvement_surcharge: string, total_amount: string, payment_type: string, trip_type: string, duration: bigint, minute_rate: double, average_speed: double]"
     ]
    }
   ],
   "source": [
    "dfcache = df.cache()\n",
    "\n",
    "dfcache"
   ]
  },
  {
   "cell_type": "code",
   "execution_count": 9,
   "metadata": {},
   "outputs": [
    {
     "data": {
      "application/vnd.jupyter.widget-view+json": {
       "model_id": "94add3338f604e52a938702b9765dab4",
       "version_major": 2,
       "version_minor": 0
      },
      "text/plain": [
       "VBox()"
      ]
     },
     "metadata": {},
     "output_type": "display_data"
    },
    {
     "data": {
      "application/vnd.jupyter.widget-view+json": {
       "model_id": "",
       "version_major": 2,
       "version_minor": 0
      },
      "text/plain": [
       "FloatProgress(value=0.0, bar_style='info', description='Progress:', layout=Layout(height='25px', width='50%'),…"
      ]
     },
     "metadata": {},
     "output_type": "display_data"
    },
    {
     "name": "stdout",
     "output_type": "stream",
     "text": [
      "['VendorID', 'lpep_pickup_datetime', 'lpep_dropoff_datetime', 'RatecodeID', 'PULocationID', 'DOLocationID', 'passenger_count', 'trip_distance', 'fare_amount', 'extra', 'mta_tax', 'tip_amount', 'tolls_amount', 'improvement_surcharge', 'total_amount', 'payment_type', 'trip_type', 'duration', 'minute_rate', 'average_speed']"
     ]
    }
   ],
   "source": [
    "dfcache.columns"
   ]
  },
  {
   "cell_type": "code",
   "execution_count": null,
   "metadata": {},
   "outputs": [],
   "source": []
  },
  {
   "cell_type": "code",
   "execution_count": 86,
   "metadata": {},
   "outputs": [
    {
     "data": {
      "application/vnd.jupyter.widget-view+json": {
       "model_id": "7b7326e355a54c6ab6871d163163fe6c",
       "version_major": 2,
       "version_minor": 0
      },
      "text/plain": [
       "VBox()"
      ]
     },
     "metadata": {},
     "output_type": "display_data"
    },
    {
     "data": {
      "application/vnd.jupyter.widget-view+json": {
       "model_id": "",
       "version_major": 2,
       "version_minor": 0
      },
      "text/plain": [
       "FloatProgress(value=0.0, bar_style='info', description='Progress:', layout=Layout(height='25px', width='50%'),…"
      ]
     },
     "metadata": {},
     "output_type": "display_data"
    },
    {
     "name": "stdout",
     "output_type": "stream",
     "text": [
      "root\n",
      " |-- VendorID: string (nullable = true)\n",
      " |-- lpep_pickup_datetime: string (nullable = true)\n",
      " |-- lpep_dropoff_datetime: string (nullable = true)\n",
      " |-- RatecodeID: string (nullable = true)\n",
      " |-- PULocationID: string (nullable = true)\n",
      " |-- DOLocationID: string (nullable = true)\n",
      " |-- passenger_count: string (nullable = true)\n",
      " |-- trip_distance: string (nullable = true)\n",
      " |-- fare_amount: string (nullable = true)\n",
      " |-- extra: string (nullable = true)\n",
      " |-- mta_tax: string (nullable = true)\n",
      " |-- tip_amount: string (nullable = true)\n",
      " |-- tolls_amount: string (nullable = true)\n",
      " |-- improvement_surcharge: string (nullable = true)\n",
      " |-- total_amount: string (nullable = true)\n",
      " |-- payment_type: string (nullable = true)\n",
      " |-- trip_type: string (nullable = true)\n",
      " |-- duration: long (nullable = true)\n",
      " |-- minute_rate: double (nullable = true)\n",
      " |-- average_speed: double (nullable = true)"
     ]
    }
   ],
   "source": [
    "## check schema structure\n",
    "df.printSchema()"
   ]
  },
  {
   "cell_type": "code",
   "execution_count": 67,
   "metadata": {
    "collapsed": true,
    "jupyter": {
     "outputs_hidden": true
    }
   },
   "outputs": [
    {
     "data": {
      "application/vnd.jupyter.widget-view+json": {
       "model_id": "02715e515b3c41f090b75cacebd4ed47",
       "version_major": 2,
       "version_minor": 0
      },
      "text/plain": [
       "VBox()"
      ]
     },
     "metadata": {},
     "output_type": "display_data"
    },
    {
     "data": {
      "application/vnd.jupyter.widget-view+json": {
       "model_id": "",
       "version_major": 2,
       "version_minor": 0
      },
      "text/plain": [
       "FloatProgress(value=0.0, bar_style='info', description='Progress:', layout=Layout(height='25px', width='50%'),…"
      ]
     },
     "metadata": {},
     "output_type": "display_data"
    },
    {
     "name": "stdout",
     "output_type": "stream",
     "text": [
      "+--------+--------------------+---------------------+--------+------------+-------------+--------------------+-------------------+\n",
      "|VendorID|lpep_pickup_datetime|lpep_dropoff_datetime|duration|total_amount|trip_distance|         minute_rate|      average_speed|\n",
      "+--------+--------------------+---------------------+--------+------------+-------------+--------------------+-------------------+\n",
      "|       2| 2019-01-01 00:10:16|  2019-01-01 00:16:32|     376|         7.3|          .86|  1.1648936170212767|   8.23404255319149|\n",
      "|       2| 2019-01-01 00:27:11|  2019-01-01 00:31:38|     267|         5.8|          .66|   1.303370786516854|  8.898876404494382|\n",
      "|       2| 2019-01-01 00:46:20|  2019-01-01 01:04:54|    1114|       19.71|         2.68|  1.0615798922800719|  8.660682226211849|\n",
      "|       2| 2019-01-01 00:19:06|  2019-01-01 00:39:43|    1237|        19.3|         4.53|  0.9361358124494745| 13.183508488278092|\n",
      "|       2| 2019-01-01 00:12:35|  2019-01-01 00:19:09|     394|         7.8|         1.05|  1.1878172588832485|  9.593908629441625|\n",
      "|       2| 2019-01-01 00:47:55|  2019-01-01 01:00:01|     726|        14.8|         3.77|  1.2231404958677687| 18.694214876033058|\n",
      "|       1| 2019-01-01 00:12:47|  2019-01-01 00:30:50|    1083|        17.3|         4.10|  0.9584487534626038| 13.628808864265928|\n",
      "|       2| 2019-01-01 00:16:23|  2019-01-01 00:39:46|    1403|        26.8|         7.75|  1.1461154668567355| 19.885958660014257|\n",
      "|       2| 2019-01-01 00:58:02|  2019-01-01 01:19:02|    1260|        16.8|         3.68|                 0.8| 10.514285714285714|\n",
      "|       2| 2019-01-01 00:37:00|  2019-01-01 00:56:42|    1182|       37.06|         6.84|  1.8812182741116754|  20.83248730964467|\n",
      "|       2| 2019-01-01 00:13:48|  2019-01-01 00:21:00|     432|        9.36|         1.15|  1.2999999999999998|  9.583333333333332|\n",
      "|       2| 2019-01-01 00:19:59|  2019-01-01 00:45:50|    1551|        16.8|          .49|  0.6499032882011606|  1.137330754352031|\n",
      "|       2| 2019-01-01 00:57:57|  2019-01-01 01:20:10|    1333|        18.3|         3.61|  0.8237059264816204|  9.749437359339835|\n",
      "|       1| 2019-01-01 00:09:02|  2019-01-01 00:17:50|     528|          14|         1.20|   1.590909090909091|  8.181818181818182|\n",
      "|       1| 2019-01-01 00:22:12|  2019-01-01 00:25:29|     197|         5.3|          .50|   1.614213197969543|  9.137055837563452|\n",
      "|       1| 2019-01-01 00:31:55|  2019-01-01 00:52:59|    1264|       24.95|         5.50|  1.1843354430379747| 15.664556962025317|\n",
      "|       2| 2019-01-01 00:30:20|  2019-01-01 00:54:19|    1439|       25.56|         5.01|  1.0657400972897844| 12.533703961084086|\n",
      "|       2| 2019-01-01 00:40:17|  2019-01-01 00:50:23|     606|       14.16|         2.72|   1.401980198019802|  16.15841584158416|\n",
      "|       2| 2019-01-01 00:51:16|  2019-01-01 01:04:10|     774|       14.75|         2.15|  1.1434108527131783|               10.0|\n",
      "|       2| 2019-01-01 00:30:28|  2019-01-01 00:41:18|     650|       14.04|         2.18|  1.2959999999999998| 12.073846153846157|\n",
      "|       2| 2019-01-01 00:26:59|  2019-01-01 01:01:33|    2074|        26.8|         6.66|  0.7753134040501447| 11.560270009643201|\n",
      "|       2| 2019-01-01 00:39:09|  2019-01-01 00:42:32|     203|         5.8|          .57|  1.7142857142857142| 10.108374384236452|\n",
      "|       2| 2019-01-01 00:35:13|  2019-01-01 01:18:53|    2620|        45.3|        13.90|  1.0374045801526717| 19.099236641221374|\n",
      "|       1| 2019-01-01 00:35:52|  2019-01-01 00:40:00|     248|         6.3|          .80|  1.5241935483870968| 11.612903225806452|\n",
      "|       1| 2019-01-01 00:48:27|  2019-01-01 00:55:49|     442|         8.3|         1.40|  1.1266968325791857| 11.402714932126695|\n",
      "|       2| 2019-01-01 00:01:21|  2019-01-01 00:08:45|     444|         8.3|         1.21|  1.1216216216216217|   9.81081081081081|\n",
      "|       2| 2019-01-01 00:24:39|  2019-01-01 00:43:17|    1118|        17.3|         2.74|  0.9284436493738819|  8.822898032200358|\n",
      "|       2| 2019-01-01 00:44:25|  2019-01-01 00:53:03|     518|       12.25|         1.99|   1.418918918918919| 13.830115830115831|\n",
      "|       2| 2019-01-01 00:44:58|  2019-01-01 01:13:46|    1728|        33.3|         9.97|  1.1562499999999998| 20.770833333333336|\n",
      "|       2| 2019-01-01 00:08:07|  2019-01-01 00:18:36|     629|         9.8|         1.36|  0.9348171701112878|  7.783783783783784|\n",
      "|       2| 2019-01-01 00:40:23|  2019-01-01 00:56:12|     949|        14.3|         2.80|   0.904109589041096| 10.621707060063223|\n",
      "|       2| 2019-01-01 00:29:46|  2019-01-01 00:41:09|     683|       12.36|         1.52|  1.0857979502196191|  8.011713030746707|\n",
      "|       2| 2019-01-01 00:01:17|  2019-01-01 00:21:33|    1216|        16.3|         3.08|  0.8042763157894737|  9.118421052631579|\n",
      "|       2| 2019-01-01 00:59:07|  2019-01-01 01:30:20|    1873|        36.8|        12.03|   1.178857447944474| 23.122263747997863|\n",
      "|       2| 2019-01-01 00:44:31|  2019-01-01 01:25:32|    2461|        43.8|        13.54|   1.067858594067452| 19.806582689963427|\n",
      "|       2| 2019-01-01 00:23:15|  2019-01-01 01:10:07|    2812|        41.3|        10.76|  0.8812233285917496|  13.77524893314367|\n",
      "|       2| 2019-01-01 00:33:41|  2019-01-01 00:54:35|    1254|       21.36|         4.58|  1.0220095693779905| 13.148325358851677|\n",
      "|       2| 2019-01-01 00:33:40|  2019-01-01 00:59:29|    1549|        22.8|         5.52|   0.883150419625565| 12.828921885087153|\n",
      "|       2| 2019-01-01 00:31:28|  2019-01-01 00:57:27|    1559|          36|        10.98|  1.3855035279025016| 25.354714560615783|\n",
      "|       1| 2019-01-01 00:19:22|  2019-01-01 00:31:33|     731|        10.8|         1.40|  0.8864569083447333|  6.894664842681259|\n",
      "|       1| 2019-01-01 00:45:24|  2019-01-01 01:09:30|    1446|        19.3|         4.10|  0.8008298755186722|  10.20746887966805|\n",
      "|       2| 2019-01-01 01:00:28|  2019-01-01 01:16:36|     968|        12.8|         2.26|  0.7933884297520662|   8.40495867768595|\n",
      "|       2| 2019-01-01 00:41:11|  2019-01-01 00:48:14|     423|       10.79|         1.43|   1.530496453900709| 12.170212765957446|\n",
      "|       2| 2019-01-01 00:55:18|  2019-01-01 00:58:08|     170|        7.25|          .76|   2.558823529411765| 16.094117647058823|\n",
      "|       1| 2019-01-01 00:18:13|  2019-01-01 00:32:22|     849|        12.3|         2.50|  0.8692579505300354|  10.60070671378092|\n",
      "|       1| 2019-01-01 00:59:59|  2019-01-01 01:12:23|     744|       15.95|         2.80|  1.2862903225806452| 13.548387096774194|\n",
      "|       2| 2019-01-01 00:51:48|  2019-01-01 00:51:58|      10|          60|          .00|               360.0|                0.0|\n",
      "|       2| 2019-01-01 00:39:04|  2019-01-01 00:52:06|     782|        14.3|         3.14|  1.0971867007672635|  14.45524296675192|\n",
      "|       2| 2019-01-01 00:47:37|  2019-01-01 00:50:08|     151|         5.8|          .74|  2.3046357615894038| 17.642384105960264|\n",
      "|       1| 2019-01-01 00:50:16|  2019-01-01 01:25:21|    2105|        32.3|         8.90|  0.9206650831353919| 15.220902612826603|\n",
      "|       2| 2019-01-01 00:23:10|  2019-01-01 00:39:03|     953|       20.76|         4.65|  1.3070304302203568|  17.56558237145855|\n",
      "|       2| 2019-01-01 00:55:59|  2019-01-01 01:48:31|    3152|        42.3|         9.98|  0.8052030456852791| 11.398477157360407|\n",
      "|       1| 2019-01-01 00:39:43|  2019-01-01 00:54:21|     878|        12.8|         2.20|  0.8747152619589977|  9.020501138952163|\n",
      "|       2| 2019-01-01 00:10:35|  2019-01-01 00:32:51|    1336|        23.3|         6.44|  1.0464071856287425| 17.353293413173656|\n",
      "|       2| 2019-01-01 00:12:41|  2019-01-01 00:29:20|     999|        12.8|         2.22|  0.7687687687687688|                8.0|\n",
      "|       2| 2019-01-01 00:44:36|  2019-01-01 00:58:31|     835|        12.3|         2.27|  0.8838323353293414|   9.78682634730539|\n",
      "|       2| 2019-01-01 01:02:35|  2019-01-01 01:07:00|     265|         6.3|          .88|  1.4264150943396225| 11.954716981132076|\n",
      "|       2| 2019-01-01 00:08:09|  2019-01-01 00:35:40|    1651|        29.8|         8.73|  1.0829800121138704|  19.03573591762568|\n",
      "|       2| 2019-01-01 00:46:27|  2019-01-01 01:22:54|    2187|       38.16|         7.00|  1.0469135802469134| 11.522633744855966|\n",
      "|       1| 2019-01-01 00:00:51|  2019-01-01 00:03:15|     144|         4.8|          .40|                 2.0| 10.000000000000002|\n",
      "|       1| 2019-01-01 00:52:26|  2019-01-01 00:59:56|     450|         8.3|         1.40|   1.106666666666667|               11.2|\n",
      "|       2| 2019-01-01 00:10:43|  2019-01-01 00:15:37|     294|        8.16|          .89|  1.6653061224489796|  10.89795918367347|\n",
      "|       2| 2019-01-01 00:18:39|  2019-01-01 00:21:48|     189|         5.3|          .29|  1.6825396825396826|  5.523809523809524|\n",
      "|       2| 2019-01-01 00:12:45|  2019-01-01 00:25:00|     735|        11.8|         2.11|   0.963265306122449|  10.33469387755102|\n",
      "|       2| 2019-01-01 00:43:00|  2019-01-01 00:53:38|     638|        13.3|         3.40|  1.2507836990595613| 19.184952978056423|\n",
      "|       2| 2019-01-01 00:39:51|  2019-01-01 00:43:05|     194|         5.8|          .75|  1.7938144329896906| 13.917525773195877|\n",
      "|       1| 2019-01-01 00:52:32|  2019-01-01 00:55:48|     196|         5.8|          .70|  1.7755102040816324| 12.857142857142856|\n",
      "|       1| 2019-01-01 00:26:04|  2019-01-01 00:42:16|     972|       27.35|         7.10|  1.6882716049382718| 26.296296296296294|\n",
      "|       1| 2019-01-01 00:36:35|  2019-01-01 00:54:14|    1059|        21.8|         6.30|  1.2351274787535411|  21.41643059490085|\n",
      "|       2| 2019-01-01 00:05:29|  2019-01-01 00:07:24|     115|         5.3|          .76|   2.765217391304348| 23.791304347826088|\n",
      "|       2| 2019-01-01 00:24:54|  2019-01-01 00:27:14|     140|         4.8|          .24|  2.0571428571428574|  6.171428571428572|\n",
      "|       2| 2019-01-01 00:28:31|  2019-01-01 00:30:24|     113|         4.8|          .39|  2.5486725663716814| 12.424778761061948|\n",
      "|       2| 2019-01-01 00:31:27|  2019-01-01 00:56:07|    1480|       41.76|        11.73|  1.6929729729729728|  28.53243243243243|\n",
      "|       2| 2019-01-01 00:38:22|  2019-01-01 00:50:32|     730|       20.16|         4.66|   1.656986301369863|  22.98082191780822|\n",
      "|       2| 2019-01-01 00:51:47|  2019-01-01 01:04:03|     736|       12.96|         1.58|  1.0565217391304347|  7.728260869565218|\n",
      "|       2| 2019-01-01 00:06:52|  2019-01-01 00:23:35|    1003|        14.3|         2.58|  0.8554336989032902|  9.260219341974079|\n",
      "|       2| 2019-01-01 00:29:33|  2019-01-01 00:37:17|     464|         9.3|         1.67|  1.2025862068965518| 12.956896551724139|\n",
      "|       2| 2019-01-01 00:51:56|  2019-01-02 00:37:17|   85521|        10.7|         1.61|0.007506928122917...|0.06777282772652331|\n",
      "|       2| 2019-01-01 01:01:56|  2019-01-01 01:21:03|    1147|        20.8|         5.75|   1.088055797733217| 18.047079337401918|\n",
      "|       2| 2019-01-01 00:00:15|  2019-01-01 00:11:28|     673|        17.3|         5.17|  1.5423476968796435| 27.655274888558694|\n",
      "|       2| 2019-01-01 00:40:18|  2019-01-01 01:03:58|    1420|        19.3|         4.36|  0.8154929577464789| 11.053521126760565|\n",
      "|       2| 2019-01-01 00:15:19|  2019-01-01 00:42:21|    1622|        26.3|         7.57|  0.9728729963008632| 16.801479654747226|\n",
      "|       2| 2019-01-01 00:56:06|  2019-01-01 01:29:56|    2030|       35.68|         9.17|  1.0545812807881774|  16.26206896551724|\n",
      "|       1| 2019-01-01 00:40:34|  2019-01-01 00:51:16|     642|       15.35|         3.40|  1.4345794392523366|  19.06542056074766|\n",
      "|       2| 2019-01-01 00:18:45|  2019-01-01 00:29:12|     627|        11.8|         2.74|  1.1291866028708135| 15.732057416267942|\n",
      "|       2| 2019-01-01 00:07:33|  2019-01-01 00:22:44|     911|        16.8|         4.49|  1.1064763995609221| 17.743139407244787|\n",
      "|       2| 2019-01-01 00:40:36|  2019-01-01 01:07:56|    1640|        32.8|        10.38|  1.1999999999999997| 22.785365853658536|\n",
      "|       2| 2019-01-01 00:06:31|  2019-01-01 00:14:44|     493|        10.3|         2.31|  1.2535496957403651|  16.86815415821501|\n",
      "|       2| 2019-01-01 00:10:50|  2019-01-01 00:11:23|      33|        5.16|          .23|   9.381818181818183| 25.090909090909093|\n",
      "|       2| 2019-01-01 00:39:52|  2019-01-01 01:11:33|    1901|        36.3|        11.25|   1.145712782745923| 21.304576538663863|\n",
      "|       2| 2019-01-01 00:21:11|  2019-01-01 00:26:29|     318|         6.8|          .81|  1.2830188679245282|  9.169811320754716|\n",
      "|       2| 2019-01-01 00:45:11|  2019-01-01 00:55:26|     615|         9.8|         1.83|  0.9560975609756099| 10.712195121951218|\n",
      "|       2| 2019-01-01 00:38:41|  2019-01-02 00:00:00|   84079|        27.8|         8.40| 0.01983848523412505| 0.3596617466906124|\n",
      "|       2| 2019-01-01 00:15:42|  2019-01-01 00:41:04|    1522|       32.76|         7.83|  1.2914586070959264| 18.520367936925098|\n",
      "|       2| 2019-01-01 00:21:28|  2019-01-01 00:48:15|    1607|        25.3|         4.49|  0.9446172993154948| 10.058494088363409|\n",
      "|       2| 2019-01-01 00:17:10|  2019-01-01 00:23:34|     384|         7.8|         1.08|             1.21875|             10.125|\n",
      "|       2| 2019-01-01 00:25:01|  2019-01-01 00:43:55|    1134|        26.3|         8.74|  1.3915343915343916| 27.746031746031747|\n",
      "|       2| 2019-01-01 00:36:56|  2019-01-01 00:43:50|     414|        10.3|         1.32|  1.4927536231884058| 11.478260869565219|\n",
      "|       2| 2019-01-01 00:53:11|  2019-01-01 00:57:04|     233|        8.91|          .68|   2.294420600858369| 10.506437768240344|\n",
      "|       2| 2019-01-01 00:01:00|  2019-01-01 00:06:27|     327|       10.38|         1.43|  1.9045871559633027| 15.743119266055043|\n",
      "+--------+--------------------+---------------------+--------+------------+-------------+--------------------+-------------------+\n",
      "only showing top 100 rows"
     ]
    }
   ],
   "source": [
    "# do some test\n",
    "tmp = df.select(['VendorID', 'lpep_pickup_datetime', 'lpep_dropoff_datetime', 'duration','total_amount','trip_distance','minute_rate','average_speed'])\n",
    "tmp.show(100)"
   ]
  },
  {
   "cell_type": "code",
   "execution_count": 89,
   "metadata": {},
   "outputs": [
    {
     "data": {
      "application/vnd.jupyter.widget-view+json": {
       "model_id": "61bc3e889e8148e9802670359099e2ad",
       "version_major": 2,
       "version_minor": 0
      },
      "text/plain": [
       "VBox()"
      ]
     },
     "metadata": {},
     "output_type": "display_data"
    },
    {
     "data": {
      "application/vnd.jupyter.widget-view+json": {
       "model_id": "",
       "version_major": 2,
       "version_minor": 0
      },
      "text/plain": [
       "FloatProgress(value=0.0, bar_style='info', description='Progress:', layout=Layout(height='25px', width='50%'),…"
      ]
     },
     "metadata": {},
     "output_type": "display_data"
    },
    {
     "name": "stdout",
     "output_type": "stream",
     "text": [
      "(5929810, 5779303)"
     ]
    }
   ],
   "source": [
    "dfcache.count(),df.count()"
   ]
  },
  {
   "cell_type": "code",
   "execution_count": 10,
   "metadata": {
    "collapsed": true,
    "jupyter": {
     "outputs_hidden": true
    }
   },
   "outputs": [
    {
     "data": {
      "application/vnd.jupyter.widget-view+json": {
       "model_id": "762963e2670a4d3d91d287c823308db2",
       "version_major": 2,
       "version_minor": 0
      },
      "text/plain": [
       "VBox()"
      ]
     },
     "metadata": {},
     "output_type": "display_data"
    },
    {
     "data": {
      "application/vnd.jupyter.widget-view+json": {
       "model_id": "",
       "version_major": 2,
       "version_minor": 0
      },
      "text/plain": [
       "FloatProgress(value=0.0, bar_style='info', description='Progress:', layout=Layout(height='25px', width='50%'),…"
      ]
     },
     "metadata": {},
     "output_type": "display_data"
    },
    {
     "name": "stdout",
     "output_type": "stream",
     "text": [
      "['VendorID', 'lpep_pickup_datetime', 'lpep_dropoff_datetime', 'RatecodeID', 'PULocationID', 'DOLocationID', 'passenger_count', 'trip_distance', 'fare_amount', 'extra', 'mta_tax', 'tip_amount', 'tolls_amount', 'improvement_surcharge', 'total_amount', 'payment_type', 'trip_type', 'duration', 'minute_rate', 'average_speed']"
     ]
    }
   ],
   "source": [
    "df.columns,dfcache.columns"
   ]
  },
  {
   "cell_type": "code",
   "execution_count": 90,
   "metadata": {},
   "outputs": [
    {
     "data": {
      "application/vnd.jupyter.widget-view+json": {
       "model_id": "e24c91d88e1a44939339ad69ddab56a5",
       "version_major": 2,
       "version_minor": 0
      },
      "text/plain": [
       "VBox()"
      ]
     },
     "metadata": {},
     "output_type": "display_data"
    },
    {
     "data": {
      "application/vnd.jupyter.widget-view+json": {
       "model_id": "",
       "version_major": 2,
       "version_minor": 0
      },
      "text/plain": [
       "FloatProgress(value=0.0, bar_style='info', description='Progress:', layout=Layout(height='25px', width='50%'),…"
      ]
     },
     "metadata": {},
     "output_type": "display_data"
    }
   ],
   "source": [
    "## fix colums with regular names\n",
    "for c in df.columns:\n",
    "    df = df.withColumnRenamed(c, c.replace(' ', '_'))"
   ]
  },
  {
   "cell_type": "code",
   "execution_count": 87,
   "metadata": {},
   "outputs": [
    {
     "data": {
      "application/vnd.jupyter.widget-view+json": {
       "model_id": "632ca5fbebb2459db0164089773f8128",
       "version_major": 2,
       "version_minor": 0
      },
      "text/plain": [
       "VBox()"
      ]
     },
     "metadata": {},
     "output_type": "display_data"
    },
    {
     "data": {
      "application/vnd.jupyter.widget-view+json": {
       "model_id": "",
       "version_major": 2,
       "version_minor": 0
      },
      "text/plain": [
       "FloatProgress(value=0.0, bar_style='info', description='Progress:', layout=Layout(height='25px', width='50%'),…"
      ]
     },
     "metadata": {},
     "output_type": "display_data"
    },
    {
     "name": "stdout",
     "output_type": "stream",
     "text": [
      "+--------+--------------------+---------------------+----------+------------+------------+---------------+-------------+-----------+-----+-------+----------+------------+---------------------+------------+------------+---------+--------+-----------+-------------+\n",
      "|VendorID|lpep_pickup_datetime|lpep_dropoff_datetime|RatecodeID|PULocationID|DOLocationID|passenger_count|trip_distance|fare_amount|extra|mta_tax|tip_amount|tolls_amount|improvement_surcharge|total_amount|payment_type|trip_type|duration|minute_rate|average_speed|\n",
      "+--------+--------------------+---------------------+----------+------------+------------+---------------+-------------+-----------+-----+-------+----------+------------+---------------------+------------+------------+---------+--------+-----------+-------------+\n",
      "|       2| 2019-01-01 00:10:16|  2019-01-01 00:16:32|         1|          97|          49|              2|          .86|          6|  0.5|    0.5|         0|           0|                  0.3|         7.3|           2|        1|     376|     1.1649|        8.234|\n",
      "|       2| 2019-01-01 00:27:11|  2019-01-01 00:31:38|         1|          49|         189|              2|          .66|        4.5|  0.5|    0.5|         0|           0|                  0.3|         5.8|           1|        1|     267|     1.3034|       8.8989|\n",
      "|       2| 2019-01-01 00:46:20|  2019-01-01 01:04:54|         1|         189|          17|              2|         2.68|       13.5|  0.5|    0.5|      2.96|           0|                  0.3|       19.71|           1|        1|    1114|     1.0616|       8.6607|\n",
      "|       2| 2019-01-01 00:19:06|  2019-01-01 00:39:43|         1|          82|         258|              1|         4.53|         18|  0.5|    0.5|         0|           0|                  0.3|        19.3|           2|        1|    1237|     0.9361|      13.1835|\n",
      "|       2| 2019-01-01 00:12:35|  2019-01-01 00:19:09|         1|          49|          17|              1|         1.05|        6.5|  0.5|    0.5|         0|           0|                  0.3|         7.8|           1|        1|     394|     1.1878|       9.5939|\n",
      "|       2| 2019-01-01 00:47:55|  2019-01-01 01:00:01|         1|         255|          33|              1|         3.77|       13.5|  0.5|    0.5|         0|           0|                  0.3|        14.8|           1|        1|     726|     1.2231|      18.6942|\n",
      "|       1| 2019-01-01 00:12:47|  2019-01-01 00:30:50|         1|          76|         225|              1|         4.10|         16|  0.5|    0.5|         0|           0|                  0.3|        17.3|           1|        1|    1083|     0.9584|      13.6288|\n",
      "|       2| 2019-01-01 00:16:23|  2019-01-01 00:39:46|         1|          25|          89|              1|         7.75|       25.5|  0.5|    0.5|         0|           0|                  0.3|        26.8|           1|        1|    1403|     1.1461|       19.886|\n",
      "|       2| 2019-01-01 00:58:02|  2019-01-01 01:19:02|         1|          85|          39|              1|         3.68|       15.5|  0.5|    0.5|         0|           0|                  0.3|        16.8|           1|        1|    1260|        0.8|      10.5143|\n",
      "|       2| 2019-01-01 00:37:00|  2019-01-01 00:56:42|         1|         223|         238|              1|         6.84|         22|  0.5|    0.5|         8|        5.76|                  0.3|       37.06|           1|        1|    1182|     1.8812|      20.8325|\n",
      "+--------+--------------------+---------------------+----------+------------+------------+---------------+-------------+-----------+-----+-------+----------+------------+---------------------+------------+------------+---------+--------+-----------+-------------+\n",
      "only showing top 10 rows"
     ]
    }
   ],
   "source": [
    "## polish data\n",
    "\n",
    "## remove data which is tooooo small and ilegal value\n",
    "df = df.filter(df['trip_distance'] >= 0.001)\n",
    "\n",
    "## round minute_rate and average_speed to scale 3 \n",
    "\n",
    "df = df.withColumn('minute_rate', round(df['minute_rate'],4))\n",
    "\n",
    "df = df.withColumn('average_speed', round(df['average_speed'],4))\n",
    "\n",
    "# rename 'VendorID'\n",
    "# df = df.withColumnRenamed('VendorID', 'vendor_id')\n",
    "\n",
    "df.show(10)\n"
   ]
  },
  {
   "cell_type": "code",
   "execution_count": 12,
   "metadata": {
    "collapsed": true,
    "jupyter": {
     "outputs_hidden": true
    }
   },
   "outputs": [
    {
     "data": {
      "application/vnd.jupyter.widget-view+json": {
       "model_id": "4ac90e9d2eef430590aacf97629ad046",
       "version_major": 2,
       "version_minor": 0
      },
      "text/plain": [
       "VBox()"
      ]
     },
     "metadata": {},
     "output_type": "display_data"
    },
    {
     "data": {
      "application/vnd.jupyter.widget-view+json": {
       "model_id": "",
       "version_major": 2,
       "version_minor": 0
      },
      "text/plain": [
       "FloatProgress(value=0.0, bar_style='info', description='Progress:', layout=Layout(height='25px', width='50%'),…"
      ]
     },
     "metadata": {},
     "output_type": "display_data"
    },
    {
     "name": "stdout",
     "output_type": "stream",
     "text": [
      "+--------+--------------------+---------------------+--------+------------+-------------+-----------+-------------+\n",
      "|VendorID|lpep_pickup_datetime|lpep_dropoff_datetime|duration|total_amount|trip_distance|minute_rate|average_speed|\n",
      "+--------+--------------------+---------------------+--------+------------+-------------+-----------+-------------+\n",
      "|       2| 2019-01-01 00:10:16|  2019-01-01 00:16:32|     376|         7.3|          .86|     1.1649|        8.234|\n",
      "|       2| 2019-01-01 00:27:11|  2019-01-01 00:31:38|     267|         5.8|          .66|     1.3034|       8.8989|\n",
      "|       2| 2019-01-01 00:46:20|  2019-01-01 01:04:54|    1114|       19.71|         2.68|     1.0616|       8.6607|\n",
      "|       2| 2019-01-01 00:19:06|  2019-01-01 00:39:43|    1237|        19.3|         4.53|     0.9361|      13.1835|\n",
      "|       2| 2019-01-01 00:12:35|  2019-01-01 00:19:09|     394|         7.8|         1.05|     1.1878|       9.5939|\n",
      "|       2| 2019-01-01 00:47:55|  2019-01-01 01:00:01|     726|        14.8|         3.77|     1.2231|      18.6942|\n",
      "|       1| 2019-01-01 00:12:47|  2019-01-01 00:30:50|    1083|        17.3|         4.10|     0.9584|      13.6288|\n",
      "|       2| 2019-01-01 00:16:23|  2019-01-01 00:39:46|    1403|        26.8|         7.75|     1.1461|       19.886|\n",
      "|       2| 2019-01-01 00:58:02|  2019-01-01 01:19:02|    1260|        16.8|         3.68|        0.8|      10.5143|\n",
      "|       2| 2019-01-01 00:37:00|  2019-01-01 00:56:42|    1182|       37.06|         6.84|     1.8812|      20.8325|\n",
      "|       2| 2019-01-01 00:13:48|  2019-01-01 00:21:00|     432|        9.36|         1.15|        1.3|       9.5833|\n",
      "|       2| 2019-01-01 00:19:59|  2019-01-01 00:45:50|    1551|        16.8|          .49|     0.6499|       1.1373|\n",
      "|       2| 2019-01-01 00:57:57|  2019-01-01 01:20:10|    1333|        18.3|         3.61|     0.8237|       9.7494|\n",
      "|       1| 2019-01-01 00:09:02|  2019-01-01 00:17:50|     528|          14|         1.20|     1.5909|       8.1818|\n",
      "|       1| 2019-01-01 00:22:12|  2019-01-01 00:25:29|     197|         5.3|          .50|     1.6142|       9.1371|\n",
      "|       1| 2019-01-01 00:31:55|  2019-01-01 00:52:59|    1264|       24.95|         5.50|     1.1843|      15.6646|\n",
      "|       2| 2019-01-01 00:30:20|  2019-01-01 00:54:19|    1439|       25.56|         5.01|     1.0657|      12.5337|\n",
      "|       2| 2019-01-01 00:40:17|  2019-01-01 00:50:23|     606|       14.16|         2.72|      1.402|      16.1584|\n",
      "|       2| 2019-01-01 00:51:16|  2019-01-01 01:04:10|     774|       14.75|         2.15|     1.1434|         10.0|\n",
      "|       2| 2019-01-01 00:30:28|  2019-01-01 00:41:18|     650|       14.04|         2.18|      1.296|      12.0738|\n",
      "+--------+--------------------+---------------------+--------+------------+-------------+-----------+-------------+\n",
      "only showing top 20 rows"
     ]
    }
   ],
   "source": [
    "tmp = df.select(['VendorID', 'lpep_pickup_datetime', 'lpep_dropoff_datetime', 'duration','total_amount','trip_distance','minute_rate','average_speed'])\n",
    "tmp.show(20)"
   ]
  },
  {
   "cell_type": "code",
   "execution_count": 18,
   "metadata": {
    "collapsed": true,
    "jupyter": {
     "outputs_hidden": true
    }
   },
   "outputs": [
    {
     "data": {
      "application/vnd.jupyter.widget-view+json": {
       "model_id": "7cfb59ad8b4d46e6a940526f053e2a1f",
       "version_major": 2,
       "version_minor": 0
      },
      "text/plain": [
       "VBox()"
      ]
     },
     "metadata": {},
     "output_type": "display_data"
    },
    {
     "data": {
      "application/vnd.jupyter.widget-view+json": {
       "model_id": "",
       "version_major": 2,
       "version_minor": 0
      },
      "text/plain": [
       "FloatProgress(value=0.0, bar_style='info', description='Progress:', layout=Layout(height='25px', width='50%'),…"
      ]
     },
     "metadata": {},
     "output_type": "display_data"
    }
   ],
   "source": [
    "## Write Data Back to S3 using AWS API\n",
    "currenttime = datetime.datetime.now()\n",
    "\n",
    "df.write.option('compression', 'snappy') \\\n",
    "    .save( \"s3://data-etl-o-target-0/result/green/green_car_data_processed_{date}/\".format(date=currenttime.strftime('%Y%m%d%H%M%s')))"
   ]
  },
  {
   "cell_type": "code",
   "execution_count": 15,
   "metadata": {},
   "outputs": [
    {
     "data": {
      "application/vnd.jupyter.widget-view+json": {
       "model_id": "41f18013567a4ab183fd0979853e8e4c",
       "version_major": 2,
       "version_minor": 0
      },
      "text/plain": [
       "VBox()"
      ]
     },
     "metadata": {},
     "output_type": "display_data"
    },
    {
     "data": {
      "application/vnd.jupyter.widget-view+json": {
       "model_id": "",
       "version_major": 2,
       "version_minor": 0
      },
      "text/plain": [
       "FloatProgress(value=0.0, bar_style='info', description='Progress:', layout=Layout(height='25px', width='50%'),…"
      ]
     },
     "metadata": {},
     "output_type": "display_data"
    }
   ],
   "source": [
    "#read in our raw dataset\n",
    "dfz = spark.read.option('header', 'true') \\\n",
    "    .option('mode', 'FAILFAST') \\\n",
    "    .option('columnNameOfCorruptRecord', 'error') \\\n",
    "    .csv('s3://data-etl-o-original-raw/zone/nyc.tlc.taxi_zone_lookup.csv') \\"
   ]
  },
  {
   "cell_type": "code",
   "execution_count": 16,
   "metadata": {},
   "outputs": [
    {
     "data": {
      "application/vnd.jupyter.widget-view+json": {
       "model_id": "2e1051c0ab4f4f7c8027311bddda1b82",
       "version_major": 2,
       "version_minor": 0
      },
      "text/plain": [
       "VBox()"
      ]
     },
     "metadata": {},
     "output_type": "display_data"
    },
    {
     "data": {
      "application/vnd.jupyter.widget-view+json": {
       "model_id": "",
       "version_major": 2,
       "version_minor": 0
      },
      "text/plain": [
       "FloatProgress(value=0.0, bar_style='info', description='Progress:', layout=Layout(height='25px', width='50%'),…"
      ]
     },
     "metadata": {},
     "output_type": "display_data"
    },
    {
     "name": "stdout",
     "output_type": "stream",
     "text": [
      "(265, ['LocationID', 'Borough', 'Zone', 'service_zone'])"
     ]
    }
   ],
   "source": [
    "dfzcache = dfz.cache()\n",
    "\n",
    "dfz.count(),dfz.columns"
   ]
  },
  {
   "cell_type": "code",
   "execution_count": 17,
   "metadata": {},
   "outputs": [
    {
     "data": {
      "application/vnd.jupyter.widget-view+json": {
       "model_id": "06db0e1183bc43d8b4af2da12e93e851",
       "version_major": 2,
       "version_minor": 0
      },
      "text/plain": [
       "VBox()"
      ]
     },
     "metadata": {},
     "output_type": "display_data"
    },
    {
     "data": {
      "application/vnd.jupyter.widget-view+json": {
       "model_id": "",
       "version_major": 2,
       "version_minor": 0
      },
      "text/plain": [
       "FloatProgress(value=0.0, bar_style='info', description='Progress:', layout=Layout(height='25px', width='50%'),…"
      ]
     },
     "metadata": {},
     "output_type": "display_data"
    },
    {
     "name": "stdout",
     "output_type": "stream",
     "text": [
      "+----------+-------------+--------------------+------------+\n",
      "|LocationID|      Borough|                Zone|service_zone|\n",
      "+----------+-------------+--------------------+------------+\n",
      "|         1|          EWR|      Newark Airport|         EWR|\n",
      "|         2|       Queens|         Jamaica Bay|   Boro Zone|\n",
      "|         3|        Bronx|Allerton/Pelham G...|   Boro Zone|\n",
      "|         4|    Manhattan|       Alphabet City| Yellow Zone|\n",
      "|         5|Staten Island|       Arden Heights|   Boro Zone|\n",
      "|         6|Staten Island|Arrochar/Fort Wad...|   Boro Zone|\n",
      "|         7|       Queens|             Astoria|   Boro Zone|\n",
      "|         8|       Queens|        Astoria Park|   Boro Zone|\n",
      "|         9|       Queens|          Auburndale|   Boro Zone|\n",
      "|        10|       Queens|        Baisley Park|   Boro Zone|\n",
      "|        11|     Brooklyn|          Bath Beach|   Boro Zone|\n",
      "|        12|    Manhattan|        Battery Park| Yellow Zone|\n",
      "|        13|    Manhattan|   Battery Park City| Yellow Zone|\n",
      "|        14|     Brooklyn|           Bay Ridge|   Boro Zone|\n",
      "|        15|       Queens|Bay Terrace/Fort ...|   Boro Zone|\n",
      "|        16|       Queens|             Bayside|   Boro Zone|\n",
      "|        17|     Brooklyn|             Bedford|   Boro Zone|\n",
      "|        18|        Bronx|        Bedford Park|   Boro Zone|\n",
      "|        19|       Queens|           Bellerose|   Boro Zone|\n",
      "|        20|        Bronx|             Belmont|   Boro Zone|\n",
      "+----------+-------------+--------------------+------------+\n",
      "only showing top 20 rows"
     ]
    }
   ],
   "source": [
    "dfz.show(20)"
   ]
  },
  {
   "cell_type": "code",
   "execution_count": 18,
   "metadata": {},
   "outputs": [
    {
     "data": {
      "application/vnd.jupyter.widget-view+json": {
       "model_id": "447bb51c711c4edbb95a6942c17d08f6",
       "version_major": 2,
       "version_minor": 0
      },
      "text/plain": [
       "VBox()"
      ]
     },
     "metadata": {},
     "output_type": "display_data"
    },
    {
     "data": {
      "application/vnd.jupyter.widget-view+json": {
       "model_id": "",
       "version_major": 2,
       "version_minor": 0
      },
      "text/plain": [
       "FloatProgress(value=0.0, bar_style='info', description='Progress:', layout=Layout(height='25px', width='50%'),…"
      ]
     },
     "metadata": {},
     "output_type": "display_data"
    },
    {
     "name": "stdout",
     "output_type": "stream",
     "text": [
      "+-------------+\n",
      "|      Borough|\n",
      "+-------------+\n",
      "|       Queens|\n",
      "|          EWR|\n",
      "|      Unknown|\n",
      "|     Brooklyn|\n",
      "|Staten Island|\n",
      "|    Manhattan|\n",
      "|        Bronx|\n",
      "+-------------+"
     ]
    }
   ],
   "source": [
    "dfz.select('Borough').distinct().show()"
   ]
  },
  {
   "cell_type": "code",
   "execution_count": 89,
   "metadata": {
    "collapsed": true,
    "jupyter": {
     "outputs_hidden": true
    }
   },
   "outputs": [
    {
     "data": {
      "application/vnd.jupyter.widget-view+json": {
       "model_id": "222f6e0b800b40b8acdf4bef9da2a3cd",
       "version_major": 2,
       "version_minor": 0
      },
      "text/plain": [
       "VBox()"
      ]
     },
     "metadata": {},
     "output_type": "display_data"
    },
    {
     "data": {
      "application/vnd.jupyter.widget-view+json": {
       "model_id": "",
       "version_major": 2,
       "version_minor": 0
      },
      "text/plain": [
       "FloatProgress(value=0.0, bar_style='info', description='Progress:', layout=Layout(height='25px', width='50%'),…"
      ]
     },
     "metadata": {},
     "output_type": "display_data"
    },
    {
     "name": "stdout",
     "output_type": "stream",
     "text": [
      "+----------+-------------+--------------------+------------+\n",
      "|LocationID|      Borough|                Zone|service_zone|\n",
      "+----------+-------------+--------------------+------------+\n",
      "|         1|          EWR|      Newark Airport|         EWR|\n",
      "|         2|       Queens|         Jamaica Bay|   Boro Zone|\n",
      "|         3|        Bronx|Allerton/Pelham G...|   Boro Zone|\n",
      "|         4|    Manhattan|       Alphabet City| Yellow Zone|\n",
      "|         5|Staten Island|       Arden Heights|   Boro Zone|\n",
      "|         6|Staten Island|Arrochar/Fort Wad...|   Boro Zone|\n",
      "|         7|       Queens|             Astoria|   Boro Zone|\n",
      "|         8|       Queens|        Astoria Park|   Boro Zone|\n",
      "|         9|       Queens|          Auburndale|   Boro Zone|\n",
      "|        10|       Queens|        Baisley Park|   Boro Zone|\n",
      "|        11|     Brooklyn|          Bath Beach|   Boro Zone|\n",
      "|        12|    Manhattan|        Battery Park| Yellow Zone|\n",
      "|        13|    Manhattan|   Battery Park City| Yellow Zone|\n",
      "|        14|     Brooklyn|           Bay Ridge|   Boro Zone|\n",
      "|        15|       Queens|Bay Terrace/Fort ...|   Boro Zone|\n",
      "|        16|       Queens|             Bayside|   Boro Zone|\n",
      "|        17|     Brooklyn|             Bedford|   Boro Zone|\n",
      "|        18|        Bronx|        Bedford Park|   Boro Zone|\n",
      "|        19|       Queens|           Bellerose|   Boro Zone|\n",
      "|        20|        Bronx|             Belmont|   Boro Zone|\n",
      "+----------+-------------+--------------------+------------+\n",
      "only showing top 20 rows"
     ]
    }
   ],
   "source": [
    "dfz.show(20)"
   ]
  },
  {
   "cell_type": "code",
   "execution_count": 17,
   "metadata": {
    "collapsed": true,
    "jupyter": {
     "outputs_hidden": true
    }
   },
   "outputs": [
    {
     "data": {
      "application/vnd.jupyter.widget-view+json": {
       "model_id": "959b360308874d578edb3042f5afa17c",
       "version_major": 2,
       "version_minor": 0
      },
      "text/plain": [
       "VBox()"
      ]
     },
     "metadata": {},
     "output_type": "display_data"
    },
    {
     "data": {
      "application/vnd.jupyter.widget-view+json": {
       "model_id": "",
       "version_major": 2,
       "version_minor": 0
      },
      "text/plain": [
       "FloatProgress(value=0.0, bar_style='info', description='Progress:', layout=Layout(height='25px', width='50%'),…"
      ]
     },
     "metadata": {},
     "output_type": "display_data"
    },
    {
     "name": "stdout",
     "output_type": "stream",
     "text": [
      "+-------------+--------------+\n",
      "|      Borough|count(Borough)|\n",
      "+-------------+--------------+\n",
      "|       Queens|            69|\n",
      "|          EWR|             1|\n",
      "|      Unknown|             2|\n",
      "|     Brooklyn|            61|\n",
      "|Staten Island|            20|\n",
      "|    Manhattan|            69|\n",
      "|        Bronx|            43|\n",
      "+-------------+--------------+"
     ]
    }
   ],
   "source": [
    "dfz.select('Borough').groupBy('Borough').agg({'Borough': 'count'}).show()"
   ]
  },
  {
   "cell_type": "code",
   "execution_count": 99,
   "metadata": {
    "collapsed": true,
    "jupyter": {
     "outputs_hidden": true
    }
   },
   "outputs": [
    {
     "name": "stdout",
     "output_type": "stream",
     "text": [
      "# packages in environment at /opt/conda:\n",
      "#\n",
      "# Name                    Version                   Build  Channel\n",
      "_libgcc_mutex             0.1                 conda_forge    conda-forge\n",
      "_openmp_mutex             4.5                      1_llvm    conda-forge\n",
      "alabaster                 0.7.12                     py_0    defaults\n",
      "anaconda-client           1.7.2                    py37_0    defaults\n",
      "anaconda-navigator        1.9.7                    py37_0    defaults\n",
      "anaconda-project          0.8.4                      py_0    defaults\n",
      "asn1crypto                1.3.0                    py37_0    defaults\n",
      "astroid                   2.3.3                    py37_0    defaults\n",
      "astropy                   4.0              py37h7b6447c_0    defaults\n",
      "attrs                     19.3.0                     py_0    defaults\n",
      "autovizwidget             0.13.1                     py_0    defaults\n",
      "awscli                    1.18.3                   py37_0    conda-forge\n",
      "awseditorssparkmonitoringwidget 1.0                      py37_0    file:///tmp/conda-repo\n",
      "awseditorsstorage         0.0.1                    py37_0    file:///tmp/conda-repo\n",
      "babel                     2.8.0                      py_0    defaults\n",
      "backcall                  0.1.0                    py37_0    defaults\n",
      "backports                 1.0                        py_2    defaults\n",
      "backports.functools_lru_cache 1.6.1                      py_0    defaults\n",
      "backports.shutil_get_terminal_size 1.0.0                    py37_2    defaults\n",
      "backports.tempfile        1.0                        py_1    defaults\n",
      "backports.weakref         1.0.post1                  py_1    defaults\n",
      "beautifulsoup4            4.8.2                    py37_0    defaults\n",
      "bitarray                  1.2.1            py37h7b6447c_0    defaults\n",
      "bkcharts                  0.2                      py37_0    defaults\n",
      "blas                      1.0                         mkl    defaults\n",
      "blaze                     0.11.3                   py37_0    defaults\n",
      "bleach                    3.1.0                      py_0    defaults\n",
      "blosc                     1.14.3               hdbcaa40_0    defaults\n",
      "bokeh                     1.4.0                    py37_0    defaults\n",
      "boto                      2.49.0                   py37_0    defaults\n",
      "botocore                  1.15.3                     py_0    conda-forge\n",
      "bottleneck                1.3.1            py37hdd07704_0    defaults\n",
      "bzip2                     1.0.6                h14c3975_5    defaults\n",
      "ca-certificates           2020.1.1                      0    defaults\n",
      "cairo                     1.14.12              h8948797_3    defaults\n",
      "certifi                   2019.11.28               py37_0    defaults\n",
      "cffi                      1.14.0           py37h2e261b9_0    defaults\n",
      "chardet                   3.0.4                 py37_1003    defaults\n",
      "click                     7.0                        py_0    defaults\n",
      "cloudpickle               1.3.0                      py_0    defaults\n",
      "clyent                    1.2.2                    py37_1    defaults\n",
      "colorama                  0.4.3                      py_0    defaults\n",
      "conda                     4.8.2                    py37_0    defaults\n",
      "conda-build               3.18.11                  py37_0    defaults\n",
      "conda-env                 2.6.0                         1    conda-forge\n",
      "conda-package-handling    1.6.0            py37h7b6447c_0    defaults\n",
      "conda-verify              3.4.2                      py_1    defaults\n",
      "contextlib2               0.6.0.post1                py_0    defaults\n",
      "cryptography              2.8              py37h1ba5d50_0    defaults\n",
      "curl                      7.68.0               hf8cf82a_0    conda-forge\n",
      "cycler                    0.10.0                   py37_0    defaults\n",
      "cython                    0.29.15          py37he6710b0_0    defaults\n",
      "cytoolz                   0.10.1           py37h7b6447c_0    defaults\n",
      "dask                      2.10.1                     py_0    defaults\n",
      "dask-core                 2.10.1                     py_0    defaults\n",
      "datashape                 0.5.4                    py37_1    defaults\n",
      "dbus                      1.13.2               h714fa37_1    defaults\n",
      "decorator                 4.4.1                      py_0    defaults\n",
      "defusedxml                0.6.0                      py_0    defaults\n",
      "distributed               2.10.0                     py_0    defaults\n",
      "docutils                  0.15.2                   py37_0    defaults\n",
      "entrypoints               0.3                      py37_0    defaults\n",
      "et_xmlfile                1.0.1                    py37_0    defaults\n",
      "expat                     2.2.6                he6710b0_0    defaults\n",
      "fastcache                 1.1.0            py37h7b6447c_0    defaults\n",
      "filelock                  3.0.12                     py_0    defaults\n",
      "flask                     1.1.1                      py_0    defaults\n",
      "flask-cors                3.0.8                      py_0    defaults\n",
      "fontconfig                2.13.0               h9420a91_0    defaults\n",
      "freetype                  2.9.1                h8a8886c_1    defaults\n",
      "fribidi                   1.0.5                h7b6447c_0    defaults\n",
      "fsspec                    0.6.2                      py_0    defaults\n",
      "future                    0.18.2                   py37_0    defaults\n",
      "get_terminal_size         1.0.0                haa9412d_0    defaults\n",
      "gevent                    1.4.0            py37h7b6447c_0    defaults\n",
      "gitdb2                    2.0.6                      py_0    defaults\n",
      "gitpython                 3.0.5                      py_0    defaults\n",
      "glib                      2.56.2               hd408876_0    defaults\n",
      "glob2                     0.7                        py_0    defaults\n",
      "gmp                       6.1.2                h6c8ec71_1    defaults\n",
      "gmpy2                     2.0.8            py37h10f8cd9_2    defaults\n",
      "graphite2                 1.3.11               h16798f4_2    defaults\n",
      "greenlet                  0.4.15           py37h7b6447c_0    defaults\n",
      "gst-plugins-base          1.14.0               hbbd80ab_1    defaults\n",
      "gstreamer                 1.14.0               hb453b48_1    defaults\n",
      "h5py                      2.8.0            py37h989c5e5_3    defaults\n",
      "harfbuzz                  1.8.8                hffaf4a1_0    defaults\n",
      "hdf5                      1.10.2               hba1933b_1    defaults\n",
      "hdijupyterutils           0.12.9                     py_0    defaults\n",
      "heapdict                  1.0.1                      py_0    defaults\n",
      "html5lib                  1.0.1                      py_0    defaults\n",
      "hypothesis                5.5.4                      py_0    defaults\n",
      "icu                       58.2                 h9c2bf20_1    defaults\n",
      "idna                      2.8                      py37_0    defaults\n",
      "imageio                   2.6.1                    py37_0    defaults\n",
      "imagesize                 1.2.0                      py_0    defaults\n",
      "importlib_metadata        1.5.0                    py37_0    defaults\n",
      "intel-openmp              2020.0                      166    defaults\n",
      "ipykernel                 5.1.4            py37h39e3cac_0    defaults\n",
      "ipython                   7.12.0           py37h5ca1d4c_0    defaults\n",
      "ipython_genutils          0.2.0                    py37_0    defaults\n",
      "ipywidgets                7.5.1                      py_0    defaults\n",
      "isort                     4.3.21                   py37_0    defaults\n",
      "itsdangerous              1.1.0                      py_0    defaults\n",
      "jbig                      2.1                  hdba287a_0    defaults\n",
      "jdcal                     1.4.1                      py_0    defaults\n",
      "jedi                      0.16.0                   py37_0    defaults\n",
      "jeepney                   0.4.2                      py_0    defaults\n",
      "jinja2                    2.11.1                     py_0    defaults\n",
      "jmespath                  0.9.4                      py_0    conda-forge\n",
      "joblib                    0.14.1                     py_0    defaults\n",
      "jpeg                      9b                   h024ee3a_2    defaults\n",
      "json5                     0.9.1                      py_0    defaults\n",
      "jsonschema                3.2.0                    py37_0    defaults\n",
      "jupyter_client            5.3.4                    py37_0    defaults\n",
      "jupyter_console           6.1.0                      py_0    defaults\n",
      "jupyter_core              4.6.1                    py37_0    defaults\n",
      "jupyterlab                1.2.3              pyhf63ae98_0    defaults\n",
      "jupyterlab-git            0.9.0                      py_0    conda-forge\n",
      "jupyterlab_server         1.0.0                      py_0    defaults\n",
      "keyring                   21.1.0                   py37_0    defaults\n",
      "kiwisolver                1.1.0            py37he6710b0_0    defaults\n",
      "krb5                      1.16.4               h2fd8d38_0    conda-forge\n",
      "lazy-object-proxy         1.4.3            py37h7b6447c_0    defaults\n",
      "libarchive                3.3.3             hb44662c_1005    conda-forge\n",
      "libblas                   3.8.0                    15_mkl    conda-forge\n",
      "libcblas                  3.8.0                    15_mkl    conda-forge\n",
      "libcurl                   7.68.0               hda55be3_0    conda-forge\n",
      "libedit                   3.1.20170329         h6b74fdf_2    defaults\n",
      "libffi                    3.2.1                hd88cf55_4    defaults\n",
      "libgcc-ng                 9.2.0                h24d8f2e_2    conda-forge\n",
      "libgfortran-ng            7.3.0                hdf63c60_5    conda-forge\n",
      "libiconv                  1.15              h516909a_1005    conda-forge\n",
      "liblapack                 3.8.0                    15_mkl    conda-forge\n",
      "liblapacke                3.8.0                    15_mkl    conda-forge\n",
      "liblief                   0.9.0                hf8a498c_1    conda-forge\n",
      "libopenblas               0.3.8                h5ec1e0e_0    conda-forge\n",
      "libpng                    1.6.37               hbc83047_0    defaults\n",
      "libsodium                 1.0.16               h1bed415_0    defaults\n",
      "libssh2                   1.8.2                h22169c7_2    conda-forge\n",
      "libstdcxx-ng              9.2.0                hdf63c60_2    conda-forge\n",
      "libtiff                   4.0.9                he85c1e1_1    defaults\n",
      "libtool                   2.4.6                h544aabb_3    defaults\n",
      "libuuid                   1.0.3                h1bed415_2    defaults\n",
      "libuv                     1.34.0               h516909a_0    conda-forge\n",
      "libxcb                    1.13                 h1bed415_1    defaults\n",
      "libxml2                   2.9.9                hea5a465_1    defaults\n",
      "libxslt                   1.1.33               h7d1a2b0_0    defaults\n",
      "llvm-openmp               9.0.1                hc9558a2_2    conda-forge\n",
      "llvmlite                  0.31.0           py37hd408876_0    defaults\n",
      "locket                    0.2.0                    py37_1    defaults\n",
      "lxml                      4.5.0            py37hefd8a0e_0    defaults\n",
      "lz4-c                     1.8.3             he1b5a44_1001    conda-forge\n",
      "lzo                       2.10                 h49e0be7_2    defaults\n",
      "markupsafe                1.1.1            py37h7b6447c_0    defaults\n",
      "matplotlib                3.1.3                    py37_0    defaults\n",
      "matplotlib-base           3.1.3            py37hef1b27d_0    defaults\n",
      "mccabe                    0.6.1                    py37_1    defaults\n",
      "mistune                   0.8.4            py37h7b6447c_0    defaults\n",
      "mkl                       2020.0                      166    conda-forge\n",
      "mkl-service               2.3.0            py37he904b0f_0    defaults\n",
      "mkl_fft                   1.0.15           py37ha843d7b_0    defaults\n",
      "mkl_random                1.1.0            py37hd6b4f25_0    defaults\n",
      "more-itertools            8.2.0                      py_0    defaults\n",
      "mpc                       1.1.0                h10f8cd9_1    defaults\n",
      "mpfr                      4.0.1                hdf1c602_3    defaults\n",
      "mpmath                    1.1.0                    py37_0    defaults\n",
      "msgpack-python            0.6.1            py37hfd86e86_1    defaults\n",
      "multipledispatch          0.6.0                    py37_0    defaults\n",
      "navigator-updater         0.2.1                    py37_0    defaults\n",
      "nbconvert                 5.6.1                    py37_0    defaults\n",
      "nbdime                    1.1.0                    py37_0    conda-forge\n",
      "nbformat                  5.0.4                      py_0    defaults\n",
      "ncurses                   6.1                  hf484d3e_0    defaults\n",
      "networkx                  2.4                        py_0    defaults\n",
      "nltk                      3.4.5                    py37_0    defaults\n",
      "nodejs                    10.13.0              he6710b0_0    defaults\n",
      "nose                      1.3.7                    py37_2    defaults\n",
      "notebook                  6.0.2                    py37_0    defaults\n",
      "numba                     0.48.0           py37h0573a6f_0    defaults\n",
      "numexpr                   2.7.1            py37h423224d_0    defaults\n",
      "numpy                     1.18.1           py37h4f9e942_0    defaults\n",
      "numpy-base                1.18.1           py37hde5b4d6_1    defaults\n",
      "numpydoc                  0.9.2                      py_0    defaults\n",
      "odo                       0.5.1                    py37_0    defaults\n",
      "olefile                   0.46                       py_0    defaults\n",
      "openpyxl                  3.0.3                      py_0    defaults\n",
      "openssl                   1.1.1d               h7b6447c_4    defaults\n",
      "packaging                 20.1                       py_0    defaults\n",
      "pandas                    1.0.1            py37h0573a6f_0    defaults\n",
      "pandoc                    1.19.2.1             hea2e7c5_1    defaults\n",
      "pandocfilters             1.4.2                    py37_1    defaults\n",
      "pango                     1.42.3               h8589676_0    defaults\n",
      "parso                     0.6.1                      py_0    defaults\n",
      "partd                     1.1.0                      py_0    defaults\n",
      "patchelf                  0.9                  hf79760b_2    defaults\n",
      "path                      13.1.0                   py37_0    defaults\n",
      "path.py                   12.4.0                        0    defaults\n",
      "pathlib2                  2.3.5                    py37_0    defaults\n",
      "patsy                     0.5.1                    py37_0    defaults\n",
      "pcre                      8.42                 h439df22_0    defaults\n",
      "pep8                      1.7.1                    py37_0    defaults\n",
      "pexpect                   4.8.0                    py37_0    defaults\n",
      "pickleshare               0.7.5                    py37_0    defaults\n",
      "pillow                    5.4.1            py37h34e0f95_0    defaults\n",
      "pip                       20.0.2                   py37_1    defaults\n",
      "pixman                    0.38.0               h7b6447c_0    defaults\n",
      "pkginfo                   1.5.0.1                  py37_0    defaults\n",
      "plotly                    4.5.0                      py_0    defaults\n",
      "pluggy                    0.13.1                   py37_0    defaults\n",
      "ply                       3.11                     py37_0    defaults\n",
      "prometheus_client         0.7.1                      py_0    defaults\n",
      "prompt_toolkit            3.0.3                      py_0    defaults\n",
      "psutil                    5.6.7            py37h7b6447c_0    defaults\n",
      "ptyprocess                0.6.0                    py37_0    defaults\n",
      "py                        1.8.1                      py_0    defaults\n",
      "py-lief                   0.9.0            py37he1b5a44_1    conda-forge\n",
      "pyasn1                    0.4.8                      py_0    conda-forge\n",
      "pycodestyle               2.5.0                    py37_0    defaults\n",
      "pycosat                   0.6.3            py37h7b6447c_0    defaults\n",
      "pycparser                 2.19                       py_0    defaults\n",
      "pycrypto                  2.6.1            py37h14c3975_9    defaults\n",
      "pycurl                    7.43.0.5         py37h1ba5d50_0    defaults\n",
      "pyflakes                  2.1.1                    py37_0    defaults\n",
      "pygments                  2.5.2                      py_0    defaults\n",
      "pykerberos                1.2.1            py37h14c3975_0    defaults\n",
      "pylint                    2.4.4                    py37_0    defaults\n",
      "pyodbc                    4.0.24           py37he6710b0_0    defaults\n",
      "pyopenssl                 19.1.0                   py37_0    defaults\n",
      "pyparsing                 2.4.6                      py_0    defaults\n",
      "pyqt                      5.6.0            py37h22d08a2_6    defaults\n",
      "pyrsistent                0.15.7           py37h7b6447c_0    defaults\n",
      "pysocks                   1.7.1                    py37_0    defaults\n",
      "pytables                  3.4.4            py37ha205bf6_0    defaults\n",
      "pytest                    5.3.5                    py37_0    defaults\n",
      "pytest-arraydiff          0.3              py37h39e3cac_0    defaults\n",
      "pytest-astropy            0.8.0                      py_0    defaults\n",
      "pytest-astropy-header     0.1.2                      py_0    defaults\n",
      "pytest-doctestplus        0.5.0                      py_0    defaults\n",
      "pytest-openfiles          0.4.0                      py_0    defaults\n",
      "pytest-remotedata         0.3.2                    py37_0    defaults\n",
      "pytest-runner             5.2                        py_0    defaults\n",
      "python                    3.7.3                h0371630_0    defaults\n",
      "python-dateutil           2.8.1                      py_0    defaults\n",
      "python-libarchive-c       2.8                     py37_13    defaults\n",
      "pytz                      2019.3                     py_0    defaults\n",
      "pywavelets                1.1.1            py37h7b6447c_0    defaults\n",
      "pyyaml                    5.2              py37h7b6447c_0    defaults\n",
      "pyzmq                     18.1.1                   pypi_0    pypi\n",
      "qt                        5.6.3                h8bf5577_3    defaults\n",
      "qtawesome                 0.6.1                      py_0    defaults\n",
      "qtconsole                 4.6.0                      py_1    defaults\n",
      "qtpy                      1.9.0                      py_0    defaults\n",
      "readline                  7.0                  ha6073c6_4    defaults\n",
      "requests                  2.22.0                   py37_1    defaults\n",
      "requests-kerberos         0.12.0                   py37_0    defaults\n",
      "retrying                  1.3.3                      py_2    defaults\n",
      "ripgrep                   11.0.2               h516909a_3    conda-forge\n",
      "rope                      0.16.0                     py_0    defaults\n",
      "rsa                       3.4.2                      py_1    conda-forge\n",
      "ruamel_yaml               0.15.87          py37h7b6447c_0    defaults\n",
      "s3transfer                0.3.3                    py37_0    defaults\n",
      "scikit-image              0.16.2           py37h0573a6f_0    defaults\n",
      "scikit-learn              0.22.1           py37hd81dba3_0    defaults\n",
      "scipy                     1.4.1            py37h0b6359f_0    defaults\n",
      "seaborn                   0.10.0                     py_0    defaults\n",
      "secretstorage             3.1.2                    py37_0    defaults\n",
      "send2trash                1.5.0                    py37_0    defaults\n",
      "setuptools                45.2.0                   py37_0    defaults\n",
      "simplegeneric             0.8.1                    py37_2    defaults\n",
      "singledispatch            3.4.0.3                  py37_0    defaults\n",
      "sip                       4.18.1           py37hf484d3e_2    defaults\n",
      "six                       1.14.0                   py37_0    defaults\n",
      "smmap2                    2.0.5                      py_0    defaults\n",
      "snappy                    1.1.7                hbae5bb6_3    defaults\n",
      "snowballstemmer           2.0.0                      py_0    defaults\n",
      "sortedcollections         1.1.2                    py37_0    defaults\n",
      "sortedcontainers          2.1.0                    py37_0    defaults\n",
      "soupsieve                 1.9.5                    py37_0    defaults\n",
      "sparkmagic                0.12.9.amzn.0              py37    file:///tmp/conda-repo\n",
      "sphinx                    2.4.0                      py_0    defaults\n",
      "sphinxcontrib             1.0                      py37_1    defaults\n",
      "sphinxcontrib-applehelp   1.0.1                      py_0    defaults\n",
      "sphinxcontrib-devhelp     1.0.1                      py_0    defaults\n",
      "sphinxcontrib-htmlhelp    1.0.2                      py_0    defaults\n",
      "sphinxcontrib-jsmath      1.0.1                      py_0    defaults\n",
      "sphinxcontrib-qthelp      1.0.2                      py_0    defaults\n",
      "sphinxcontrib-serializinghtml 1.1.3                      py_0    defaults\n",
      "sphinxcontrib-websupport  1.2.0                      py_0    defaults\n",
      "spyder                    3.3.6                    py37_0    defaults\n",
      "spyder-kernels            0.5.2                    py37_0    defaults\n",
      "sqlalchemy                1.3.13           py37h7b6447c_0    defaults\n",
      "sqlite                    3.28.0               h8b20d00_0    conda-forge\n",
      "statsmodels               0.11.0           py37h7b6447c_0    defaults\n",
      "sympy                     1.5.1                    py37_0    defaults\n",
      "tbb                       2020.0               hfd86e86_0    defaults\n",
      "tblib                     1.6.0                      py_0    defaults\n",
      "terminado                 0.8.3                    py37_0    defaults\n",
      "testpath                  0.4.4                      py_0    defaults\n",
      "tk                        8.6.10               hed695b0_0    conda-forge\n",
      "toolz                     0.10.0                     py_0    defaults\n",
      "tornado                   6.0.3            py37h7b6447c_3    defaults\n",
      "tqdm                      4.43.0                     py_0    conda-forge\n",
      "traitlets                 4.3.3                    py37_0    defaults\n",
      "typing                    3.6.4                    py37_0    defaults\n",
      "unicodecsv                0.14.1                   py37_0    defaults\n",
      "unixodbc                  2.3.6                h1bed415_0    defaults\n",
      "urllib3                   1.25.8                   py37_0    defaults\n",
      "wcwidth                   0.1.8                      py_0    defaults\n",
      "webencodings              0.5.1                    py37_1    defaults\n",
      "werkzeug                  1.0.0                      py_0    defaults\n",
      "wheel                     0.34.2                   py37_0    defaults\n",
      "widgetsnbextension        3.5.1                    py37_0    defaults\n",
      "wrapt                     1.11.2           py37h7b6447c_0    defaults\n",
      "wurlitzer                 2.0.0                    py37_0    defaults\n",
      "xlrd                      1.2.0                      py_0    defaults\n",
      "xlsxwriter                1.2.7                      py_0    defaults\n",
      "xlwt                      1.3.0                    py37_0    defaults\n",
      "xz                        5.2.4                h14c3975_4    defaults\n",
      "yaml                      0.1.7                had09818_2    defaults\n",
      "zeromq                    4.2.5                h439df22_0    defaults\n",
      "zict                      1.0.0                      py_0    defaults\n",
      "zipp                      2.2.0                      py_0    defaults\n",
      "zlib                      1.2.11               ha838bed_2    defaults\n",
      "zstd                      1.4.0                h3b9ef0a_0    conda-forge\n",
      "\n",
      "Note: you may need to restart the kernel to use updated packages.\n"
     ]
    }
   ],
   "source": [
    "%%local\n",
    "conda list"
   ]
  },
  {
   "cell_type": "code",
   "execution_count": 100,
   "metadata": {
    "collapsed": true,
    "jupyter": {
     "outputs_hidden": true
    }
   },
   "outputs": [
    {
     "data": {
      "text/html": [
       "\n",
       "<table>\n",
       "  <tr>\n",
       "    <th>Magic</th>\n",
       "    <th>Example</th>\n",
       "    <th>Explanation</th>\n",
       "  </tr>\n",
       "  <tr>\n",
       "    <td>info</td>\n",
       "    <td>%%info</td>\n",
       "    <td>Outputs session information for the current Livy endpoint.</td>\n",
       "  </tr>\n",
       "  <tr>\n",
       "    <td>cleanup</td>\n",
       "    <td>%%cleanup -f</td>\n",
       "    <td>Deletes all sessions for the current Livy endpoint, including this notebook's session. The force flag is mandatory.</td>\n",
       "  </tr>\n",
       "  <tr>\n",
       "    <td>delete</td>\n",
       "    <td>%%delete -f -s 0</td>\n",
       "    <td>Deletes a session by number for the current Livy endpoint. Cannot delete this kernel's session.</td>\n",
       "  </tr>\n",
       "  <tr>\n",
       "    <td>logs</td>\n",
       "    <td>%%logs</td>\n",
       "    <td>Outputs the current session's Livy logs.</td>\n",
       "  </tr>\n",
       "  <tr>\n",
       "    <td>configure</td>\n",
       "    <td>%%configure -f<br/>{\"executorMemory\": \"1000M\", \"executorCores\": 4}</td>\n",
       "    <td>Configure the session creation parameters. The force flag is mandatory if a session has already been\n",
       "    created and the session will be dropped and recreated.<br/>Look at <a href=\"https://github.com/cloudera/livy#request-body\">\n",
       "    Livy's POST /sessions Request Body</a> for a list of valid parameters. Parameters must be passed in as a JSON string.</td>\n",
       "  </tr>\n",
       "  <tr>\n",
       "    <td>spark</td>\n",
       "    <td>%%spark -o df<br/>df = spark.read.parquet('...</td>\n",
       "    <td>Executes spark commands.\n",
       "    Parameters:\n",
       "      <ul>\n",
       "        <li>-o VAR_NAME: The Spark dataframe of name VAR_NAME will be available in the %%local Python context as a\n",
       "          <a href=\"http://pandas.pydata.org/\">Pandas</a> dataframe with the same name.</li>\n",
       "        <li>-m METHOD: Sample method, either <tt>take</tt> or <tt>sample</tt>.</li>\n",
       "        <li>-n MAXROWS: The maximum number of rows of a dataframe that will be pulled from Livy to Jupyter.\n",
       "            If this number is negative, then the number of rows will be unlimited.</li>\n",
       "        <li>-r FRACTION: Fraction used for sampling.</li>\n",
       "      </ul>\n",
       "    </td>\n",
       "  </tr>\n",
       "  <tr>\n",
       "    <td>display</td>\n",
       "    <td>%%display -n 100<br/>my_spark_df</td>\n",
       "    <td>Displays Spark dataframe as a beautiful HTML table with horizontal and vertical scroll bars(if necessary).\n",
       "    Parameters:\n",
       "      <ul>\n",
       "        <li>-m METHOD: Sample method, either <tt>take</tt> or <tt>sample</tt>.</li>\n",
       "        <li>-n MAXROWS: The maximum number of rows of a dataframe to display.\n",
       "            If this number is negative, then the number of rows will be unlimited.</li>\n",
       "        <li>-r FRACTION: Fraction used for sampling.</li>\n",
       "      </ul>\n",
       "    </td>\n",
       "  </tr>\n",
       "  <tr>\n",
       "    <td>sql</td>\n",
       "    <td>%%sql -o tables -q<br/>SHOW TABLES</td>\n",
       "    <td>Executes a SQL query against the variable sqlContext (Spark v1.x) or spark (Spark v2.x).\n",
       "    Parameters:\n",
       "      <ul>\n",
       "        <li>-o VAR_NAME: The result of the SQL query will be available in the %%local Python context as a\n",
       "          <a href=\"http://pandas.pydata.org/\">Pandas</a> dataframe.</li>\n",
       "        <li>-q: The magic will return None instead of the dataframe (no visualization).</li>\n",
       "        <li>-m, -n, -r are the same as the %%spark parameters above.</li>\n",
       "      </ul>\n",
       "    </td>\n",
       "  </tr>\n",
       "  <tr>\n",
       "    <td>local</td>\n",
       "    <td>%%local<br/>a = 1</td>\n",
       "    <td>All the code in subsequent lines will be executed locally. Code must be valid Python code.</td>\n",
       "  </tr>\n",
       "</table>\n"
      ],
      "text/plain": [
       "<IPython.core.display.HTML object>"
      ]
     },
     "metadata": {},
     "output_type": "display_data"
    }
   ],
   "source": [
    "%%help"
   ]
  },
  {
   "cell_type": "code",
   "execution_count": 101,
   "metadata": {
    "collapsed": true,
    "jupyter": {
     "outputs_hidden": true
    }
   },
   "outputs": [
    {
     "data": {
      "application/vnd.jupyter.widget-view+json": {
       "model_id": "94ce942e34414873bd873f6211225555",
       "version_major": 2,
       "version_minor": 0
      },
      "text/plain": [
       "VBox()"
      ]
     },
     "metadata": {},
     "output_type": "display_data"
    },
    {
     "data": {
      "application/vnd.jupyter.widget-view+json": {
       "model_id": "",
       "version_major": 2,
       "version_minor": 0
      },
      "text/plain": [
       "FloatProgress(value=0.0, bar_style='info', description='Progress:', layout=Layout(height='25px', width='50%'),…"
      ]
     },
     "metadata": {},
     "output_type": "display_data"
    },
    {
     "name": "stdout",
     "output_type": "stream",
     "text": [
      "+--------+------------+------------+---------------+--------------------+---------------------+--------+------------+-------------+-----------+-------------+\n",
      "|VendorID|PULocationID|DOLocationID|passenger_count|lpep_pickup_datetime|lpep_dropoff_datetime|duration|total_amount|trip_distance|minute_rate|average_speed|\n",
      "+--------+------------+------------+---------------+--------------------+---------------------+--------+------------+-------------+-----------+-------------+\n",
      "|       2|          97|          49|              2| 2019-01-01 00:10:16|  2019-01-01 00:16:32|     376|         7.3|          .86|      1.165|        8.234|\n",
      "|       2|          49|         189|              2| 2019-01-01 00:27:11|  2019-01-01 00:31:38|     267|         5.8|          .66|      1.303|        8.899|\n",
      "|       2|         189|          17|              2| 2019-01-01 00:46:20|  2019-01-01 01:04:54|    1114|       19.71|         2.68|      1.062|        8.661|\n",
      "|       2|          82|         258|              1| 2019-01-01 00:19:06|  2019-01-01 00:39:43|    1237|        19.3|         4.53|      0.936|       13.184|\n",
      "|       2|          49|          17|              1| 2019-01-01 00:12:35|  2019-01-01 00:19:09|     394|         7.8|         1.05|      1.188|        9.594|\n",
      "|       2|         255|          33|              1| 2019-01-01 00:47:55|  2019-01-01 01:00:01|     726|        14.8|         3.77|      1.223|       18.694|\n",
      "|       1|          76|         225|              1| 2019-01-01 00:12:47|  2019-01-01 00:30:50|    1083|        17.3|         4.10|      0.958|       13.629|\n",
      "|       2|          25|          89|              1| 2019-01-01 00:16:23|  2019-01-01 00:39:46|    1403|        26.8|         7.75|      1.146|       19.886|\n",
      "|       2|          85|          39|              1| 2019-01-01 00:58:02|  2019-01-01 01:19:02|    1260|        16.8|         3.68|        0.8|       10.514|\n",
      "|       2|         223|         238|              1| 2019-01-01 00:37:00|  2019-01-01 00:56:42|    1182|       37.06|         6.84|      1.881|       20.832|\n",
      "|       2|         129|         129|              2| 2019-01-01 00:13:48|  2019-01-01 00:21:00|     432|        9.36|         1.15|        1.3|        9.583|\n",
      "|       2|          71|          71|              1| 2019-01-01 00:19:59|  2019-01-01 00:45:50|    1551|        16.8|          .49|       0.65|        1.137|\n",
      "|       2|          85|         177|              1| 2019-01-01 00:57:57|  2019-01-01 01:20:10|    1333|        18.3|         3.61|      0.824|        9.749|\n",
      "|       1|         256|          80|              1| 2019-01-01 00:09:02|  2019-01-01 00:17:50|     528|          14|         1.20|      1.591|        8.182|\n",
      "|       1|          80|          80|              1| 2019-01-01 00:22:12|  2019-01-01 00:25:29|     197|         5.3|          .50|      1.614|        9.137|\n",
      "|       1|         256|         229|              1| 2019-01-01 00:31:55|  2019-01-01 00:52:59|    1264|       24.95|         5.50|      1.184|       15.665|\n",
      "|       2|         255|         231|              1| 2019-01-01 00:30:20|  2019-01-01 00:54:19|    1439|       25.56|         5.01|      1.066|       12.534|\n",
      "|       2|         146|         129|              1| 2019-01-01 00:40:17|  2019-01-01 00:50:23|     606|       14.16|         2.72|      1.402|       16.158|\n",
      "|       2|         129|         157|              1| 2019-01-01 00:51:16|  2019-01-01 01:04:10|     774|       14.75|         2.15|      1.143|         10.0|\n",
      "|       2|         256|         112|              5| 2019-01-01 00:30:28|  2019-01-01 00:41:18|     650|       14.04|         2.18|      1.296|       12.074|\n",
      "+--------+------------+------------+---------------+--------------------+---------------------+--------+------------+-------------+-----------+-------------+\n",
      "only showing top 20 rows"
     ]
    }
   ],
   "source": [
    "tmp = df.select(['VendorID','PULocationID', 'DOLocationID', 'passenger_count', 'lpep_pickup_datetime', 'lpep_dropoff_datetime', 'duration','total_amount','trip_distance','minute_rate','average_speed'])\n",
    "tmp.show(20)"
   ]
  },
  {
   "cell_type": "code",
   "execution_count": 19,
   "metadata": {},
   "outputs": [
    {
     "data": {
      "application/vnd.jupyter.widget-view+json": {
       "model_id": "d56cccd0ee114d78a6579e7accf2943c",
       "version_major": 2,
       "version_minor": 0
      },
      "text/plain": [
       "VBox()"
      ]
     },
     "metadata": {},
     "output_type": "display_data"
    },
    {
     "data": {
      "application/vnd.jupyter.widget-view+json": {
       "model_id": "",
       "version_major": 2,
       "version_minor": 0
      },
      "text/plain": [
       "FloatProgress(value=0.0, bar_style='info', description='Progress:', layout=Layout(height='25px', width='50%'),…"
      ]
     },
     "metadata": {},
     "output_type": "display_data"
    },
    {
     "name": "stdout",
     "output_type": "stream",
     "text": [
      "+---------------+-------+\n",
      "|passenger_count|  count|\n",
      "+---------------+-------+\n",
      "|              1|4705631|\n",
      "|              2| 406405|\n",
      "|           null| 304825|\n",
      "|              5| 161783|\n",
      "|              6|  86660|\n",
      "|              3|  75135|\n",
      "|              4|  28172|\n",
      "|              0|  10584|\n",
      "|              8|     58|\n",
      "|              7|     36|\n",
      "+---------------+-------+"
     ]
    }
   ],
   "source": [
    "df.groupBy('passenger_count').count().orderBy('count', ascending=False).limit(10).show(10)"
   ]
  },
  {
   "cell_type": "code",
   "execution_count": 91,
   "metadata": {},
   "outputs": [
    {
     "data": {
      "application/vnd.jupyter.widget-view+json": {
       "model_id": "49c892fc33f34cf08354bae08cd872db",
       "version_major": 2,
       "version_minor": 0
      },
      "text/plain": [
       "VBox()"
      ]
     },
     "metadata": {},
     "output_type": "display_data"
    },
    {
     "data": {
      "application/vnd.jupyter.widget-view+json": {
       "model_id": "",
       "version_major": 2,
       "version_minor": 0
      },
      "text/plain": [
       "FloatProgress(value=0.0, bar_style='info', description='Progress:', layout=Layout(height='25px', width='50%'),…"
      ]
     },
     "metadata": {},
     "output_type": "display_data"
    },
    {
     "name": "stdout",
     "output_type": "stream",
     "text": [
      "+------------+------+\n",
      "|PULocationID| count|\n",
      "+------------+------+\n",
      "|          74|457848|\n",
      "|          75|368752|\n",
      "|          41|333623|\n",
      "|          82|259303|\n",
      "|           7|244131|\n",
      "+------------+------+\n",
      "only showing top 5 rows"
     ]
    }
   ],
   "source": [
    "toplo = df.groupBy('PULocationID').count().orderBy('count', ascending=False).limit(10)\n",
    "toplo.show(5)"
   ]
  },
  {
   "cell_type": "code",
   "execution_count": 93,
   "metadata": {},
   "outputs": [
    {
     "data": {
      "application/vnd.jupyter.widget-view+json": {
       "model_id": "a8c23887480c4d62a9f468e2c9b612fb",
       "version_major": 2,
       "version_minor": 0
      },
      "text/plain": [
       "VBox()"
      ]
     },
     "metadata": {},
     "output_type": "display_data"
    },
    {
     "data": {
      "application/vnd.jupyter.widget-view+json": {
       "model_id": "",
       "version_major": 2,
       "version_minor": 0
      },
      "text/plain": [
       "FloatProgress(value=0.0, bar_style='info', description='Progress:', layout=Layout(height='25px', width='50%'),…"
      ]
     },
     "metadata": {},
     "output_type": "display_data"
    },
    {
     "name": "stdout",
     "output_type": "stream",
     "text": [
      "+------------+------------+-----+\n",
      "|PULocationID|DOLocationID|count|\n",
      "+------------+------------+-----+\n",
      "|          75|          74|72275|\n",
      "|           7|           7|67275|\n",
      "|          74|          75|61992|\n",
      "|          41|          42|56941|\n",
      "|          95|          95|52950|\n",
      "+------------+------------+-----+\n",
      "only showing top 5 rows"
     ]
    }
   ],
   "source": [
    "toplo2 = df.groupBy('PULocationID','DOLocationID').count().orderBy('count', ascending=False).limit(10)\n",
    "toplo2.show(5)"
   ]
  },
  {
   "cell_type": "code",
   "execution_count": 21,
   "metadata": {
    "collapsed": true,
    "jupyter": {
     "outputs_hidden": true
    }
   },
   "outputs": [
    {
     "data": {
      "application/vnd.jupyter.widget-view+json": {
       "model_id": "a2cde955a0fe4ba2a22c52261aad6c8a",
       "version_major": 2,
       "version_minor": 0
      },
      "text/plain": [
       "VBox()"
      ]
     },
     "metadata": {},
     "output_type": "display_data"
    },
    {
     "data": {
      "application/vnd.jupyter.widget-view+json": {
       "model_id": "",
       "version_major": 2,
       "version_minor": 0
      },
      "text/plain": [
       "FloatProgress(value=0.0, bar_style='info', description='Progress:', layout=Layout(height='25px', width='50%'),…"
      ]
     },
     "metadata": {},
     "output_type": "display_data"
    },
    {
     "name": "stdout",
     "output_type": "stream",
     "text": [
      "+----------+-------------+--------------------+------------+\n",
      "|LocationID|      Borough|                Zone|service_zone|\n",
      "+----------+-------------+--------------------+------------+\n",
      "|         1|          EWR|      Newark Airport|         EWR|\n",
      "|         2|       Queens|         Jamaica Bay|   Boro Zone|\n",
      "|         3|        Bronx|Allerton/Pelham G...|   Boro Zone|\n",
      "|         4|    Manhattan|       Alphabet City| Yellow Zone|\n",
      "|         5|Staten Island|       Arden Heights|   Boro Zone|\n",
      "+----------+-------------+--------------------+------------+\n",
      "only showing top 5 rows"
     ]
    }
   ],
   "source": [
    "dfz.show(5)"
   ]
  },
  {
   "cell_type": "code",
   "execution_count": 94,
   "metadata": {},
   "outputs": [
    {
     "data": {
      "application/vnd.jupyter.widget-view+json": {
       "model_id": "2133b54ff81d46b3a709bac654369ecb",
       "version_major": 2,
       "version_minor": 0
      },
      "text/plain": [
       "VBox()"
      ]
     },
     "metadata": {},
     "output_type": "display_data"
    },
    {
     "data": {
      "application/vnd.jupyter.widget-view+json": {
       "model_id": "",
       "version_major": 2,
       "version_minor": 0
      },
      "text/plain": [
       "FloatProgress(value=0.0, bar_style='info', description='Progress:', layout=Layout(height='25px', width='50%'),…"
      ]
     },
     "metadata": {},
     "output_type": "display_data"
    },
    {
     "name": "stdout",
     "output_type": "stream",
     "text": [
      "+------------+------------+-----+------------+-----------------+------------+\n",
      "|PULocationID|DOLocationID|count|FromLocation|             Zone|service_zone|\n",
      "+------------+------------+-----+------------+-----------------+------------+\n",
      "|          75|          74|72275|   Manhattan|East Harlem South|   Boro Zone|\n",
      "|           7|           7|67275|      Queens|          Astoria|   Boro Zone|\n",
      "|          74|          75|61992|   Manhattan|East Harlem North|   Boro Zone|\n",
      "|          41|          42|56941|   Manhattan|   Central Harlem|   Boro Zone|\n",
      "|          95|          95|52950|      Queens|     Forest Hills|   Boro Zone|\n",
      "|          82|         129|49679|      Queens|         Elmhurst|   Boro Zone|\n",
      "|          41|          41|43924|   Manhattan|   Central Harlem|   Boro Zone|\n",
      "|          74|          41|43754|   Manhattan|East Harlem North|   Boro Zone|\n",
      "|          74|          74|43477|   Manhattan|East Harlem North|   Boro Zone|\n",
      "|         129|         129|43268|      Queens|  Jackson Heights|   Boro Zone|\n",
      "+------------+------------+-----+------------+-----------------+------------+"
     ]
    }
   ],
   "source": [
    "top_5_loc_names = toplo2.join(dfz, toplo2['PULocationID'].eqNullSafe(dfz['LocationID']),'left') \\\n",
    "            .withColumnRenamed('Borough','FromLocation') \\\n",
    "            .drop('LocationID') \\\n",
    "            .orderBy('count', ascending=False)\n",
    "top_5_loc_names.show()"
   ]
  },
  {
   "cell_type": "code",
   "execution_count": 114,
   "metadata": {
    "collapsed": true,
    "jupyter": {
     "outputs_hidden": true
    }
   },
   "outputs": [
    {
     "data": {
      "text/html": [
       "\n",
       "<table>\n",
       "  <tr>\n",
       "    <th>Magic</th>\n",
       "    <th>Example</th>\n",
       "    <th>Explanation</th>\n",
       "  </tr>\n",
       "  <tr>\n",
       "    <td>info</td>\n",
       "    <td>%%info</td>\n",
       "    <td>Outputs session information for the current Livy endpoint.</td>\n",
       "  </tr>\n",
       "  <tr>\n",
       "    <td>cleanup</td>\n",
       "    <td>%%cleanup -f</td>\n",
       "    <td>Deletes all sessions for the current Livy endpoint, including this notebook's session. The force flag is mandatory.</td>\n",
       "  </tr>\n",
       "  <tr>\n",
       "    <td>delete</td>\n",
       "    <td>%%delete -f -s 0</td>\n",
       "    <td>Deletes a session by number for the current Livy endpoint. Cannot delete this kernel's session.</td>\n",
       "  </tr>\n",
       "  <tr>\n",
       "    <td>logs</td>\n",
       "    <td>%%logs</td>\n",
       "    <td>Outputs the current session's Livy logs.</td>\n",
       "  </tr>\n",
       "  <tr>\n",
       "    <td>configure</td>\n",
       "    <td>%%configure -f<br/>{\"executorMemory\": \"1000M\", \"executorCores\": 4}</td>\n",
       "    <td>Configure the session creation parameters. The force flag is mandatory if a session has already been\n",
       "    created and the session will be dropped and recreated.<br/>Look at <a href=\"https://github.com/cloudera/livy#request-body\">\n",
       "    Livy's POST /sessions Request Body</a> for a list of valid parameters. Parameters must be passed in as a JSON string.</td>\n",
       "  </tr>\n",
       "  <tr>\n",
       "    <td>spark</td>\n",
       "    <td>%%spark -o df<br/>df = spark.read.parquet('...</td>\n",
       "    <td>Executes spark commands.\n",
       "    Parameters:\n",
       "      <ul>\n",
       "        <li>-o VAR_NAME: The Spark dataframe of name VAR_NAME will be available in the %%local Python context as a\n",
       "          <a href=\"http://pandas.pydata.org/\">Pandas</a> dataframe with the same name.</li>\n",
       "        <li>-m METHOD: Sample method, either <tt>take</tt> or <tt>sample</tt>.</li>\n",
       "        <li>-n MAXROWS: The maximum number of rows of a dataframe that will be pulled from Livy to Jupyter.\n",
       "            If this number is negative, then the number of rows will be unlimited.</li>\n",
       "        <li>-r FRACTION: Fraction used for sampling.</li>\n",
       "      </ul>\n",
       "    </td>\n",
       "  </tr>\n",
       "  <tr>\n",
       "    <td>display</td>\n",
       "    <td>%%display -n 100<br/>my_spark_df</td>\n",
       "    <td>Displays Spark dataframe as a beautiful HTML table with horizontal and vertical scroll bars(if necessary).\n",
       "    Parameters:\n",
       "      <ul>\n",
       "        <li>-m METHOD: Sample method, either <tt>take</tt> or <tt>sample</tt>.</li>\n",
       "        <li>-n MAXROWS: The maximum number of rows of a dataframe to display.\n",
       "            If this number is negative, then the number of rows will be unlimited.</li>\n",
       "        <li>-r FRACTION: Fraction used for sampling.</li>\n",
       "      </ul>\n",
       "    </td>\n",
       "  </tr>\n",
       "  <tr>\n",
       "    <td>sql</td>\n",
       "    <td>%%sql -o tables -q<br/>SHOW TABLES</td>\n",
       "    <td>Executes a SQL query against the variable sqlContext (Spark v1.x) or spark (Spark v2.x).\n",
       "    Parameters:\n",
       "      <ul>\n",
       "        <li>-o VAR_NAME: The result of the SQL query will be available in the %%local Python context as a\n",
       "          <a href=\"http://pandas.pydata.org/\">Pandas</a> dataframe.</li>\n",
       "        <li>-q: The magic will return None instead of the dataframe (no visualization).</li>\n",
       "        <li>-m, -n, -r are the same as the %%spark parameters above.</li>\n",
       "      </ul>\n",
       "    </td>\n",
       "  </tr>\n",
       "  <tr>\n",
       "    <td>local</td>\n",
       "    <td>%%local<br/>a = 1</td>\n",
       "    <td>All the code in subsequent lines will be executed locally. Code must be valid Python code.</td>\n",
       "  </tr>\n",
       "</table>\n"
      ],
      "text/plain": [
       "<IPython.core.display.HTML object>"
      ]
     },
     "metadata": {},
     "output_type": "display_data"
    }
   ],
   "source": [
    "%%help"
   ]
  },
  {
   "cell_type": "code",
   "execution_count": 23,
   "metadata": {
    "collapsed": true,
    "jupyter": {
     "outputs_hidden": true
    }
   },
   "outputs": [
    {
     "data": {
      "application/vnd.jupyter.widget-view+json": {
       "model_id": "aa573813590e4eb894dc4f18d5ef150a",
       "version_major": 2,
       "version_minor": 0
      },
      "text/plain": [
       "VBox()"
      ]
     },
     "metadata": {},
     "output_type": "display_data"
    },
    {
     "data": {
      "application/vnd.jupyter.widget-view+json": {
       "model_id": "",
       "version_major": 2,
       "version_minor": 0
      },
      "text/plain": [
       "FloatProgress(value=0.0, bar_style='info', description='Progress:', layout=Layout(height='25px', width='50%'),…"
      ]
     },
     "metadata": {},
     "output_type": "display_data"
    }
   ],
   "source": [
    "top_5_loc_names.createOrReplaceTempView(\"top_5_loc_names_views\")"
   ]
  },
  {
   "cell_type": "code",
   "execution_count": 29,
   "metadata": {
    "collapsed": true,
    "jupyter": {
     "outputs_hidden": true
    }
   },
   "outputs": [
    {
     "data": {
      "application/vnd.jupyter.widget-view+json": {
       "model_id": "",
       "version_major": 2,
       "version_minor": 0
      },
      "text/plain": [
       "FloatProgress(value=0.0, bar_style='info', description='Progress:', layout=Layout(height='25px', width='50%'),…"
      ]
     },
     "metadata": {},
     "output_type": "display_data"
    },
    {
     "data": {
      "application/vnd.jupyter.widget-view+json": {
       "model_id": "23b79f0857b04d02a3fa6c1d968c6d99",
       "version_major": 2,
       "version_minor": 0
      },
      "text/plain": [
       "VBox(children=(HBox(children=(HTML(value='Type:'), Button(description='Table', layout=Layout(width='70px'), st…"
      ]
     },
     "metadata": {},
     "output_type": "display_data"
    },
    {
     "data": {
      "application/vnd.jupyter.widget-view+json": {
       "model_id": "621514ca62c1477b8d5aabc9b2477554",
       "version_major": 2,
       "version_minor": 0
      },
      "text/plain": [
       "Output()"
      ]
     },
     "metadata": {},
     "output_type": "display_data"
    }
   ],
   "source": [
    "%%sql -o top_5_loc_names -n -1\n",
    "select 'PULocationID','DOLocationID','count' from top_5_loc_names_views\n",
    "group by 'PULocationID','DOLocationID'\n",
    "ORDER BY count Desc"
   ]
  },
  {
   "cell_type": "code",
   "execution_count": 21,
   "metadata": {},
   "outputs": [
    {
     "data": {
      "application/vnd.jupyter.widget-view+json": {
       "model_id": "0f63d0e7a8f1441ab9c52822aaa9c1b1",
       "version_major": 2,
       "version_minor": 0
      },
      "text/plain": [
       "VBox()"
      ]
     },
     "metadata": {},
     "output_type": "display_data"
    },
    {
     "data": {
      "application/vnd.jupyter.widget-view+json": {
       "model_id": "",
       "version_major": 2,
       "version_minor": 0
      },
      "text/plain": [
       "FloatProgress(value=0.0, bar_style='info', description='Progress:', layout=Layout(height='25px', width='50%'),…"
      ]
     },
     "metadata": {},
     "output_type": "display_data"
    },
    {
     "name": "stdout",
     "output_type": "stream",
     "text": [
      "[]"
     ]
    }
   ],
   "source": [
    "import os\n",
    "all_files_in_cur_dir = os.listdir('.') \n",
    "csvfileslist = list(filter(lambda x:(x[-6:] == '.ipynb'),all_files_in_cur_dir))\n",
    "csvfileslist"
   ]
  },
  {
   "cell_type": "code",
   "execution_count": 34,
   "metadata": {
    "collapsed": true,
    "jupyter": {
     "outputs_hidden": true
    }
   },
   "outputs": [
    {
     "data": {
      "application/vnd.jupyter.widget-view+json": {
       "model_id": "1df3cd73ee1f415aad31992231191629",
       "version_major": 2,
       "version_minor": 0
      },
      "text/plain": [
       "VBox()"
      ]
     },
     "metadata": {},
     "output_type": "display_data"
    },
    {
     "data": {
      "application/vnd.jupyter.widget-view+json": {
       "model_id": "",
       "version_major": 2,
       "version_minor": 0
      },
      "text/plain": [
       "FloatProgress(value=0.0, bar_style='info', description='Progress:', layout=Layout(height='25px', width='50%'),…"
      ]
     },
     "metadata": {},
     "output_type": "display_data"
    },
    {
     "name": "stdout",
     "output_type": "stream",
     "text": [
      "['var', 'lib64', 'emr', 'home', 'lost+found', 'sbin', 'selinux', 'lib', 'srv', 'device-names.json', 'media', 'tmp', 'mnt', 'run', 'cgroup', 'bin', 'etc', 'dev', 'mnt1', '.autofsck', 'boot', 'opt', 'usr', 'proc', 'sys', 'root', 'local', '.autorelabel']"
     ]
    }
   ],
   "source": [
    "import os\n",
    "# csvfileslist = list(os.listdir('.'))\n",
    "csvfileslist\n",
    "os.listdir('.')"
   ]
  },
  {
   "cell_type": "code",
   "execution_count": 22,
   "metadata": {},
   "outputs": [
    {
     "data": {
      "application/vnd.jupyter.widget-view+json": {
       "model_id": "a86fc7ce563b4af098c2e3dd68fbb523",
       "version_major": 2,
       "version_minor": 0
      },
      "text/plain": [
       "VBox()"
      ]
     },
     "metadata": {},
     "output_type": "display_data"
    },
    {
     "data": {
      "application/vnd.jupyter.widget-view+json": {
       "model_id": "",
       "version_major": 2,
       "version_minor": 0
      },
      "text/plain": [
       "FloatProgress(value=0.0, bar_style='info', description='Progress:', layout=Layout(height='25px', width='50%'),…"
      ]
     },
     "metadata": {},
     "output_type": "display_data"
    },
    {
     "name": "stdout",
     "output_type": "stream",
     "text": [
      "['LoanStats3a.csv.zip', 'taxi_zones.zip']"
     ]
    }
   ],
   "source": [
    "tmpfile = list(filter(lambda x:(x[-4:] == '.zip'),os.listdir('/tmp')))\n",
    "tmpfile"
   ]
  },
  {
   "cell_type": "code",
   "execution_count": 46,
   "metadata": {
    "collapsed": true,
    "jupyter": {
     "outputs_hidden": true
    }
   },
   "outputs": [
    {
     "data": {
      "application/vnd.jupyter.widget-view+json": {
       "model_id": "1d02511d038e4656bc750730d9677644",
       "version_major": 2,
       "version_minor": 0
      },
      "text/plain": [
       "VBox()"
      ]
     },
     "metadata": {},
     "output_type": "display_data"
    },
    {
     "data": {
      "application/vnd.jupyter.widget-view+json": {
       "model_id": "",
       "version_major": 2,
       "version_minor": 0
      },
      "text/plain": [
       "FloatProgress(value=0.0, bar_style='info', description='Progress:', layout=Layout(height='25px', width='50%'),…"
      ]
     },
     "metadata": {},
     "output_type": "display_data"
    }
   ],
   "source": [
    "import zipfile\n",
    "urllib.request.urlretrieve(\"https://s3.amazonaws.com/nyc-tlc/misc/taxi_zones.zip\", \"/tmp/taxi_zones.zip\")\n",
    "with zipfile.ZipFile(\"/tmp/taxi_zones.zip\",\"r\") as zip_ref:\n",
    "    zip_ref.extractall(\"/tmp/shape\")"
   ]
  },
  {
   "cell_type": "code",
   "execution_count": 23,
   "metadata": {},
   "outputs": [
    {
     "data": {
      "application/vnd.jupyter.widget-view+json": {
       "model_id": "677315a591784119ad31c6708b6f659b",
       "version_major": 2,
       "version_minor": 0
      },
      "text/plain": [
       "VBox()"
      ]
     },
     "metadata": {},
     "output_type": "display_data"
    },
    {
     "data": {
      "application/vnd.jupyter.widget-view+json": {
       "model_id": "",
       "version_major": 2,
       "version_minor": 0
      },
      "text/plain": [
       "FloatProgress(value=0.0, bar_style='info', description='Progress:', layout=Layout(height='25px', width='50%'),…"
      ]
     },
     "metadata": {},
     "output_type": "display_data"
    },
    {
     "name": "stdout",
     "output_type": "stream",
     "text": [
      "['taxi_zones.prj', 'taxi_zones.dbf', 'taxi_zones.shp', 'taxi_zones.shp.xml', 'taxi_zones.shx', 'taxi_zones.sbn', 'taxi_zones.sbx']"
     ]
    }
   ],
   "source": [
    "os.listdir('/tmp/shape')"
   ]
  },
  {
   "cell_type": "code",
   "execution_count": 54,
   "metadata": {
    "collapsed": true,
    "jupyter": {
     "outputs_hidden": true
    }
   },
   "outputs": [
    {
     "data": {
      "application/vnd.jupyter.widget-view+json": {
       "model_id": "e2e1ac6b2a114da8b6b0dc5012193dab",
       "version_major": 2,
       "version_minor": 0
      },
      "text/plain": [
       "VBox()"
      ]
     },
     "metadata": {},
     "output_type": "display_data"
    },
    {
     "data": {
      "application/vnd.jupyter.widget-view+json": {
       "model_id": "",
       "version_major": 2,
       "version_minor": 0
      },
      "text/plain": [
       "FloatProgress(value=0.0, bar_style='info', description='Progress:', layout=Layout(height='25px', width='50%'),…"
      ]
     },
     "metadata": {},
     "output_type": "display_data"
    }
   ],
   "source": [
    "#read in our raw dataset\n",
    "# shpt1 = sc.binaryFiles('s3://data-etl-o-original-raw/zone/taxi_zones_shape.zip')"
   ]
  },
  {
   "cell_type": "code",
   "execution_count": 55,
   "metadata": {
    "collapsed": true,
    "jupyter": {
     "outputs_hidden": true
    }
   },
   "outputs": [
    {
     "data": {
      "application/vnd.jupyter.widget-view+json": {
       "model_id": "9e0699fadf074791a0f601920326591c",
       "version_major": 2,
       "version_minor": 0
      },
      "text/plain": [
       "VBox()"
      ]
     },
     "metadata": {},
     "output_type": "display_data"
    },
    {
     "data": {
      "application/vnd.jupyter.widget-view+json": {
       "model_id": "",
       "version_major": 2,
       "version_minor": 0
      },
      "text/plain": [
       "FloatProgress(value=0.0, bar_style='info', description='Progress:', layout=Layout(height='25px', width='50%'),…"
      ]
     },
     "metadata": {},
     "output_type": "display_data"
    }
   ],
   "source": [
    "# shpt1.saveAsTextFile('/tmp/taxi_zones_shape_1.zip')"
   ]
  },
  {
   "cell_type": "code",
   "execution_count": 25,
   "metadata": {},
   "outputs": [
    {
     "data": {
      "application/vnd.jupyter.widget-view+json": {
       "model_id": "82e4ea5fd3914345a063bc68f7307ed5",
       "version_major": 2,
       "version_minor": 0
      },
      "text/plain": [
       "VBox()"
      ]
     },
     "metadata": {},
     "output_type": "display_data"
    },
    {
     "data": {
      "application/vnd.jupyter.widget-view+json": {
       "model_id": "",
       "version_major": 2,
       "version_minor": 0
      },
      "text/plain": [
       "FloatProgress(value=0.0, bar_style='info', description='Progress:', layout=Layout(height='25px', width='50%'),…"
      ]
     },
     "metadata": {},
     "output_type": "display_data"
    },
    {
     "name": "stdout",
     "output_type": "stream",
     "text": [
      "Collecting pandas\n",
      "  Using cached pandas-1.0.1-cp36-cp36m-manylinux1_x86_64.whl (10.1 MB)\n",
      "Collecting python-dateutil>=2.6.1\n",
      "  Using cached python_dateutil-2.8.1-py2.py3-none-any.whl (227 kB)\n",
      "Requirement already satisfied: numpy>=1.13.3 in /usr/local/lib64/python3.6/site-packages (from pandas) (1.14.5)\n",
      "Requirement already satisfied: pytz>=2017.2 in /usr/local/lib/python3.6/site-packages (from pandas) (2019.3)\n",
      "Requirement already satisfied: six>=1.5 in /usr/local/lib/python3.6/site-packages (from python-dateutil>=2.6.1->pandas) (1.13.0)\n",
      "Installing collected packages: python-dateutil, pandas\n",
      "Successfully installed pandas-1.0.1 python-dateutil-2.8.1"
     ]
    }
   ],
   "source": [
    "sc.install_pypi_package(\"pandas\")\n",
    "sc.install_pypi_package(\"pyshp\")\n",
    "sc.install_pypi_package(\"shapely\")\n",
    "sc.install_pypi_package(\"descartes\")"
   ]
  },
  {
   "cell_type": "code",
   "execution_count": 95,
   "metadata": {},
   "outputs": [
    {
     "data": {
      "application/vnd.jupyter.widget-view+json": {
       "model_id": "b799f2649cfd4fd8988ad09e29436a46",
       "version_major": 2,
       "version_minor": 0
      },
      "text/plain": [
       "VBox()"
      ]
     },
     "metadata": {},
     "output_type": "display_data"
    },
    {
     "data": {
      "application/vnd.jupyter.widget-view+json": {
       "model_id": "",
       "version_major": 2,
       "version_minor": 0
      },
      "text/plain": [
       "FloatProgress(value=0.0, bar_style='info', description='Progress:', layout=Layout(height='25px', width='50%'),…"
      ]
     },
     "metadata": {},
     "output_type": "display_data"
    }
   ],
   "source": [
    "import pandas as pd\n",
    "import numpy as np\n",
    "import urllib.request\n",
    "import zipfile\n",
    "import random\n",
    "import itertools\n",
    "import math\n",
    "import shapefile\n",
    "from shapely.geometry import Polygon\n",
    "from descartes.patch import PolygonPatch\n",
    "import matplotlib as mpl\n",
    "import matplotlib.pyplot as plt\n",
    "plt.style.use('ggplot')"
   ]
  },
  {
   "cell_type": "raw",
   "metadata": {},
   "source": [
    "sf = shapefile.Reader(\"/tmp/shape/taxi_zones.shp\")\n",
    "fields_name = [field[0] for field in sf.fields[1:]]\n",
    "shp_dic = dict(zip(fields_name, list(range(len(fields_name)))))\n",
    "attributes = sf.records()\n",
    "shp_attr = [dict(zip(fields_name, attr)) for attr in attributes]\n",
    "\n",
    "df_loc = pd.DataFrame(shp_attr).join(get_lat_lon(sf,shp_dic).set_index(\"LocationID\"), on=\"LocationID\")\n",
    "df_loc.head()"
   ]
  },
  {
   "cell_type": "code",
   "execution_count": 68,
   "metadata": {},
   "outputs": [
    {
     "data": {
      "application/vnd.jupyter.widget-view+json": {
       "model_id": "e914bd1517d04531aa0666d595722b4f",
       "version_major": 2,
       "version_minor": 0
      },
      "text/plain": [
       "VBox()"
      ]
     },
     "metadata": {},
     "output_type": "display_data"
    },
    {
     "data": {
      "application/vnd.jupyter.widget-view+json": {
       "model_id": "",
       "version_major": 2,
       "version_minor": 0
      },
      "text/plain": [
       "FloatProgress(value=0.0, bar_style='info', description='Progress:', layout=Layout(height='25px', width='50%'),…"
      ]
     },
     "metadata": {},
     "output_type": "display_data"
    },
    {
     "name": "stdout",
     "output_type": "stream",
     "text": [
      "<shapefile.Reader object at 0x7fc1e4fe04a8>"
     ]
    }
   ],
   "source": [
    "sf = shapefile.Reader(\"/tmp/shape/taxi_zones.shp\")\n",
    "sf"
   ]
  },
  {
   "cell_type": "code",
   "execution_count": 74,
   "metadata": {
    "collapsed": true,
    "jupyter": {
     "outputs_hidden": true
    }
   },
   "outputs": [
    {
     "data": {
      "application/vnd.jupyter.widget-view+json": {
       "model_id": "99d763cb86324c52bfa8ab4a242e9766",
       "version_major": 2,
       "version_minor": 0
      },
      "text/plain": [
       "VBox()"
      ]
     },
     "metadata": {},
     "output_type": "display_data"
    },
    {
     "data": {
      "application/vnd.jupyter.widget-view+json": {
       "model_id": "",
       "version_major": 2,
       "version_minor": 0
      },
      "text/plain": [
       "FloatProgress(value=0.0, bar_style='info', description='Progress:', layout=Layout(height='25px', width='50%'),…"
      ]
     },
     "metadata": {},
     "output_type": "display_data"
    },
    {
     "name": "stdout",
     "output_type": "stream",
     "text": [
      "[('DeletionFlag', 'C', 1, 0), ['OBJECTID', 'N', 9, 0], ['Shape_Leng', 'F', 19, 11], ['Shape_Area', 'F', 19, 11], ['zone', 'C', 254, 0], ['LocationID', 'N', 4, 0], ['borough', 'C', 254, 0]]"
     ]
    }
   ],
   "source": [
    "sf.fields"
   ]
  },
  {
   "cell_type": "code",
   "execution_count": 75,
   "metadata": {
    "collapsed": true,
    "jupyter": {
     "outputs_hidden": true
    }
   },
   "outputs": [
    {
     "data": {
      "application/vnd.jupyter.widget-view+json": {
       "model_id": "123e0afc686d43858256d11fe0ab6de7",
       "version_major": 2,
       "version_minor": 0
      },
      "text/plain": [
       "VBox()"
      ]
     },
     "metadata": {},
     "output_type": "display_data"
    },
    {
     "data": {
      "application/vnd.jupyter.widget-view+json": {
       "model_id": "",
       "version_major": 2,
       "version_minor": 0
      },
      "text/plain": [
       "FloatProgress(value=0.0, bar_style='info', description='Progress:', layout=Layout(height='25px', width='50%'),…"
      ]
     },
     "metadata": {},
     "output_type": "display_data"
    },
    {
     "name": "stdout",
     "output_type": "stream",
     "text": [
      "[['OBJECTID', 'N', 9, 0], ['Shape_Leng', 'F', 19, 11], ['Shape_Area', 'F', 19, 11], ['zone', 'C', 254, 0], ['LocationID', 'N', 4, 0], ['borough', 'C', 254, 0]]"
     ]
    }
   ],
   "source": [
    "sf.fields[1:]"
   ]
  },
  {
   "cell_type": "code",
   "execution_count": 77,
   "metadata": {
    "collapsed": true,
    "jupyter": {
     "outputs_hidden": true
    }
   },
   "outputs": [
    {
     "data": {
      "application/vnd.jupyter.widget-view+json": {
       "model_id": "3ed664167f494d258101525dd88ac46e",
       "version_major": 2,
       "version_minor": 0
      },
      "text/plain": [
       "VBox()"
      ]
     },
     "metadata": {},
     "output_type": "display_data"
    },
    {
     "data": {
      "application/vnd.jupyter.widget-view+json": {
       "model_id": "",
       "version_major": 2,
       "version_minor": 0
      },
      "text/plain": [
       "FloatProgress(value=0.0, bar_style='info', description='Progress:', layout=Layout(height='25px', width='50%'),…"
      ]
     },
     "metadata": {},
     "output_type": "display_data"
    },
    {
     "name": "stdout",
     "output_type": "stream",
     "text": [
      "['OBJECTID', 'Shape_Leng', 'Shape_Area', 'zone', 'LocationID', 'borough']"
     ]
    }
   ],
   "source": [
    "fields_name = [field[0] for field in sf.fields[1:]]\n",
    "fields_name"
   ]
  },
  {
   "cell_type": "code",
   "execution_count": 78,
   "metadata": {},
   "outputs": [
    {
     "data": {
      "application/vnd.jupyter.widget-view+json": {
       "model_id": "91ecf6ca2e83428a99860c4c6ad57f92",
       "version_major": 2,
       "version_minor": 0
      },
      "text/plain": [
       "VBox()"
      ]
     },
     "metadata": {},
     "output_type": "display_data"
    },
    {
     "data": {
      "application/vnd.jupyter.widget-view+json": {
       "model_id": "",
       "version_major": 2,
       "version_minor": 0
      },
      "text/plain": [
       "FloatProgress(value=0.0, bar_style='info', description='Progress:', layout=Layout(height='25px', width='50%'),…"
      ]
     },
     "metadata": {},
     "output_type": "display_data"
    },
    {
     "name": "stdout",
     "output_type": "stream",
     "text": [
      "{'OBJECTID': 0, 'Shape_Leng': 1, 'Shape_Area': 2, 'zone': 3, 'LocationID': 4, 'borough': 5}"
     ]
    }
   ],
   "source": [
    "shp_dic = dict(zip(fields_name, list(range(len(fields_name)))))\n",
    "shp_dic"
   ]
  },
  {
   "cell_type": "code",
   "execution_count": 80,
   "metadata": {
    "collapsed": true,
    "jupyter": {
     "outputs_hidden": true
    }
   },
   "outputs": [
    {
     "data": {
      "application/vnd.jupyter.widget-view+json": {
       "model_id": "a110508edcb247fd8913e57f7c7e52da",
       "version_major": 2,
       "version_minor": 0
      },
      "text/plain": [
       "VBox()"
      ]
     },
     "metadata": {},
     "output_type": "display_data"
    },
    {
     "data": {
      "application/vnd.jupyter.widget-view+json": {
       "model_id": "",
       "version_major": 2,
       "version_minor": 0
      },
      "text/plain": [
       "FloatProgress(value=0.0, bar_style='info', description='Progress:', layout=Layout(height='25px', width='50%'),…"
      ]
     },
     "metadata": {},
     "output_type": "display_data"
    },
    {
     "name": "stdout",
     "output_type": "stream",
     "text": [
      "[Record #0: [1, 0.116357453189, 0.0007823067885, 'Newark Airport', 1, 'EWR'], Record #1: [2, 0.43346966679, 0.00486634037837, 'Jamaica Bay', 2, 'Queens'], Record #2: [3, 0.0843411059012, 0.000314414156821, 'Allerton/Pelham Gardens', 3, 'Bronx'], Record #3: [4, 0.0435665270921, 0.000111871946192, 'Alphabet City', 4, 'Manhattan'], Record #4: [5, 0.0921464898574, 0.000497957489363, 'Arden Heights', 5, 'Staten Island'], Record #5: [6, 0.150490542523, 0.000606460984581, 'Arrochar/Fort Wadsworth', 6, 'Staten Island'], Record #6: [7, 0.107417171123, 0.000389787989274, 'Astoria', 7, 'Queens'], Record #7: [8, 0.0275906911574, 2.6587716279e-05, 'Astoria Park', 8, 'Queens'], Record #8: [9, 0.0997840924705, 0.000338443803197, 'Auburndale', 9, 'Queens'], Record #9: [10, 0.0998394794152, 0.000435823818081, 'Baisley Park', 10, 'Queens'], Record #10: [11, 0.0792110389596, 0.00026452053504, 'Bath Beach', 11, 'Brooklyn'], Record #11: [12, 0.0366613013579, 4.15116236727e-05, 'Battery Park', 12, 'Manhattan'], Record #12: [13, 0.0502813228631, 0.000149358592917, 'Battery Park City', 13, 'Manhattan'], Record #13: [14, 0.175213698053, 0.00138177826442, 'Bay Ridge', 14, 'Brooklyn'], Record #14: [15, 0.14433622262, 0.000925219395547, 'Bay Terrace/Fort Totten', 15, 'Queens'], Record #15: [16, 0.141291873771, 0.000871889446182, 'Bayside', 16, 'Queens'], Record #16: [17, 0.093522632948, 0.000322957654799, 'Bedford', 17, 'Brooklyn'], Record #17: [18, 0.0697995498569, 0.000148850163948, 'Bedford Park', 18, 'Bronx'], Record #18: [19, 0.101824875452, 0.000546661094782, 'Bellerose', 19, 'Queens'], Record #19: [20, 0.0514401924362, 0.000134512633032, 'Belmont', 20, 'Bronx'], Record #20: [21, 0.115973569062, 0.000380251345507, 'Bensonhurst East', 21, 'Brooklyn'], Record #21: [22, 0.126170229196, 0.000472062684608, 'Bensonhurst West', 22, 'Brooklyn'], Record #22: [23, 0.290556028962, 0.00219556576201, 'Bloomfield/Emerson Hill', 23, 'Staten Island'], Record #23: [24, 0.0469999619287, 6.07235737749e-05, 'Bloomingdale', 24, 'Manhattan'], Record #24: [25, 0.0471458199319, 0.000124168267356, 'Boerum Hill', 25, 'Brooklyn'], Record #25: [26, 0.12354780707, 0.000534039927626, 'Borough Park', 26, 'Brooklyn'], Record #26: [27, 0.202508808518, 0.00134088762746, 'Breezy Point/Fort Tilden/Riis Beach', 27, 'Queens'], Record #27: [28, 0.097960782214, 0.000291203927662, 'Briarwood/Jamaica Hills', 28, 'Queens'], Record #28: [29, 0.0714083127733, 0.000201673837402, 'Brighton Beach', 29, 'Brooklyn'], Record #29: [30, 0.0945097669793, 0.000145862107626, 'Broad Channel', 30, 'Queens'], Record #30: [31, 0.0964245666516, 0.000333975927329, 'Bronx Park', 31, 'Bronx'], Record #31: [32, 0.05426721601, 0.000150879171971, 'Bronxdale', 32, 'Bronx'], Record #32: [33, 0.0532702931967, 0.000147416802448, 'Brooklyn Heights', 33, 'Brooklyn'], Record #33: [34, 0.0657059323545, 0.000173946146651, 'Brooklyn Navy Yard', 34, 'Brooklyn'], Record #34: [35, 0.085787918592, 0.000323825195932, 'Brownsville', 35, 'Brooklyn'], Record #35: [36, 0.0870507867063, 0.000247666139269, 'Bushwick North', 36, 'Brooklyn'], Record #36: [37, 0.142810040466, 0.000452062644782, 'Bushwick South', 37, 'Brooklyn'], Record #37: [38, 0.0832175685234, 0.000327392684821, 'Cambria Heights', 38, 'Queens'], Record #38: [39, 0.132369620757, 0.00090028293862, 'Canarsie', 39, 'Brooklyn'], Record #39: [40, 0.0518506648762, 0.000108949211644, 'Carroll Gardens', 40, 'Brooklyn'], Record #40: [41, 0.052793109453, 0.000143093037737, 'Central Harlem', 41, 'Manhattan'], Record #41: [42, 0.0927092274616, 0.000263896952605, 'Central Harlem North', 42, 'Manhattan'], Record #42: [43, 0.0997386183576, 0.000379662912054, 'Central Park', 43, 'Manhattan'], Record #43: [44, 0.235688967594, 0.00194465649192, 'Charleston/Tottenville', 44, 'Staten Island'], Record #44: [45, 0.0459068626235, 9.13594688556e-05, 'Chinatown', 45, 'Manhattan'], Record #45: [46, 0.134475429879, 0.000926391677672, 'City Island', 46, 'Bronx'], Record #46: [47, 0.0898275563294, 0.000163198117339, 'Claremont/Bathgate', 47, 'Bronx'], Record #47: [48, 0.0437467441431, 9.42538425377e-05, 'Clinton East', 48, 'Manhattan'], Record #48: [49, 0.0752900183427, 0.000203185525471, 'Clinton Hill', 49, 'Brooklyn'], Record #49: [50, 0.0557479867536, 0.000173249283326, 'Clinton West', 50, 'Manhattan'], Record #50: [51, 0.0953613442277, 0.000395756553505, 'Co-Op City', 51, 'Bronx'], Record #51: [52, 0.0289076710093, 4.52027509603e-05, 'Cobble Hill', 52, 'Brooklyn'], Record #52: [53, 0.161500913385, 0.000947530980821, 'College Point', 53, 'Queens'], Record #53: [54, 0.0762192448554, 0.000132452130536, 'Columbia Street', 54, 'Brooklyn'], Record #54: [55, 0.149956807524, 0.000736274713586, 'Coney Island', 55, 'Brooklyn'], Record #55: [56, 0.0568478126677, 0.000180907844436, 'Corona', 56, 'Queens'], Record #56: [57, 0.0192705048557, 1.80259807917e-05, 'Corona', 56, 'Queens'], Record #57: [58, 0.0598554094851, 0.000204980931361, 'Country Club', 58, 'Bronx'], Record #58: [59, 0.0377948070893, 6.28765230648e-05, 'Crotona Park', 59, 'Bronx'], Record #59: [60, 0.0786482878226, 0.000161833284912, 'Crotona Park East', 60, 'Bronx'], Record #60: [61, 0.117310808097, 0.000510772092295, 'Crown Heights North', 61, 'Brooklyn'], Record #61: [62, 0.0822593359838, 0.000158238169004, 'Crown Heights South', 62, 'Brooklyn'], Record #62: [63, 0.119100721883, 0.000353190910142, 'Cypress Hills', 63, 'Brooklyn'], Record #63: [64, 0.18445188474, 0.00105790284614, 'Douglaston', 64, 'Queens'], Record #64: [65, 0.0446070683658, 8.1803882541e-05, 'Downtown Brooklyn/MetroTech', 65, 'Brooklyn'], Record #65: [66, 0.0546334593634, 0.000108378855948, 'DUMBO/Vinegar Hill', 66, 'Brooklyn'], Record #66: [67, 0.0997470781551, 0.000394282272487, 'Dyker Heights', 67, 'Brooklyn'], Record #67: [68, 0.0493373795569, 0.000111073378655, 'East Chelsea', 68, 'Manhattan'], Record #68: [69, 0.0789896450483, 0.00019905160381, 'East Concourse/Concourse Village', 69, 'Bronx'], Record #69: [70, 0.0638403183367, 0.000195458476728, 'East Elmhurst', 70, 'Queens'], Record #70: [71, 0.0931694551828, 0.000382572587364, 'East Flatbush/Farragut', 71, 'Brooklyn'], Record #71: [72, 0.0952020695166, 0.000323532461947, 'East Flatbush/Remsen Village', 72, 'Brooklyn'], Record #72: [73, 0.0853020209129, 0.000291799754395, 'East Flushing', 73, 'Queens'], Record #73: [74, 0.11029093625, 0.000295038418204, 'East Harlem North', 74, 'Manhattan'], Record #74: [75, 0.0876638997685, 0.00024056392715, 'East Harlem South', 75, 'Manhattan'], Record #75: [76, 0.241203016269, 0.00126660143241, 'East New York', 76, 'Brooklyn'], Record #76: [77, 0.075461081444, 0.000191917981315, 'East New York/Pennsylvania Avenue', 77, 'Brooklyn'], Record #77: [78, 0.0935944495806, 0.000191114419551, 'East Tremont', 78, 'Bronx'], Record #78: [79, 0.0426249113144, 0.000107893068218, 'East Village', 79, 'Manhattan'], Record #79: [80, 0.117212621448, 0.00040732245622, 'East Williamsburg', 80, 'Brooklyn'], Record #80: [81, 0.197592771731, 0.00039956655019, 'Eastchester', 81, 'Bronx'], Record #81: [82, 0.119875649697, 0.000323601079994, 'Elmhurst', 82, 'Queens'], Record #82: [83, 0.105984933269, 0.000217463718718, 'Elmhurst/Maspeth', 83, 'Queens'], Record #83: [84, 0.233623987032, 0.00207375572052, \"Eltingville/Annadale/Prince's Bay\", 84, 'Staten Island'], Record #84: [85, 0.0574751473562, 0.000143637804933, 'Erasmus', 85, 'Brooklyn'], Record #85: [86, 0.134245282582, 0.000623278815249, 'Far Rockaway', 86, 'Queens'], Record #86: [87, 0.0369015496117, 6.72050210692e-05, 'Financial District North', 87, 'Manhattan'], Record #87: [88, 0.0352046035327, 5.72999455414e-05, 'Financial District South', 88, 'Manhattan'], Record #88: [89, 0.122794569553, 0.000447548142373, 'Flatbush/Ditmas Park', 89, 'Brooklyn'], Record #89: [90, 0.0307591620819, 5.53132476305e-05, 'Flatiron', 90, 'Manhattan'], Record #90: [91, 0.124996624585, 0.000537330013243, 'Flatlands', 91, 'Brooklyn'], Record #91: [92, 0.117830066799, 0.000374946617289, 'Flushing', 92, 'Queens'], Record #92: [93, 0.170998027597, 0.000594278183978, 'Flushing Meadows-Corona Park', 93, 'Queens'], Record #93: [94, 0.0498326083147, 6.25819407393e-05, 'Fordham South', 94, 'Bronx'], Record #94: [95, 0.113629605476, 0.00057277033803, 'Forest Hills', 95, 'Queens'], Record #95: [96, 0.185180248095, 0.000547566253402, 'Forest Park/Highland Park', 96, 'Queens'], Record #96: [97, 0.0624760147423, 0.000163303970435, 'Fort Greene', 97, 'Brooklyn'], Record #97: [98, 0.121661018278, 0.000485773020954, 'Fresh Meadows', 98, 'Queens'], Record #98: [99, 0.1833714893, 0.00121016463877, 'Freshkills Park', 99, 'Staten Island'], Record #99: [100, 0.0248131090342, 3.74700210291e-05, 'Garment District', 100, 'Manhattan'], Record #100: [101, 0.101709836277, 0.000452342528877, 'Glen Oaks', 101, 'Queens'], Record #101: [102, 0.136900484646, 0.000296595466345, 'Glendale', 102, 'Queens'], Record #102: [103, 0.0143055167343, 6.33056361314e-06, \"Governor's Island/Ellis Island/Liberty Island\", 103, 'Manhattan'], Record #103: [104, 0.0212208330928, 1.19205339715e-05, \"Governor's Island/Ellis Island/Liberty Island\", 103, 'Manhattan'], Record #104: [105, 0.0774253398314, 0.000368636392805, \"Governor's Island/Ellis Island/Liberty Island\", 103, 'Manhattan'], Record #105: [106, 0.0492110119798, 0.000113616826567, 'Gowanus', 106, 'Brooklyn'], Record #106: [107, 0.0380413645908, 7.46112192675e-05, 'Gramercy', 107, 'Manhattan'], Record #107: [108, 0.11117141227, 0.000352866009465, 'Gravesend', 108, 'Brooklyn'], Record #108: [109, 0.178267819599, 0.00116960076185, 'Great Kills', 109, 'Staten Island'], Record #109: [110, 0.103946292913, 0.000525745098785, 'Great Kills Park', 110, 'Staten Island'], Record #110: [111, 0.0599308800658, 0.000208683276503, 'Green-Wood Cemetery', 111, 'Brooklyn'], Record #111: [112, 0.107267875765, 0.000462068671429, 'Greenpoint', 112, 'Brooklyn'], Record #112: [113, 0.032745350566, 5.79634566998e-05, 'Greenwich Village North', 113, 'Manhattan'], Record #113: [114, 0.0317270347711, 4.70207704945e-05, 'Greenwich Village South', 114, 'Manhattan'], Record #114: [115, 0.116169413964, 0.000373168991958, 'Grymes Hill/Clifton', 115, 'Staten Island'], Record #115: [116, 0.0681164844265, 0.000260415337217, 'Hamilton Heights', 116, 'Manhattan'], Record #116: [117, 0.169885857987, 0.00090429427072, 'Hammels/Arverne', 117, 'Queens'], Record #117: [118, 0.243966217692, 0.00182693922711, 'Heartland Village/Todt Hill', 118, 'Staten Island'], Record #118: [119, 0.0835070355744, 0.000185779447534, 'Highbridge', 119, 'Bronx'], Record #119: [120, 0.0832612702158, 9.31462821313e-05, 'Highbridge Park', 120, 'Manhattan'], Record #120: [121, 0.0969153373445, 0.000384563286473, 'Hillcrest/Pomonok', 121, 'Queens'], Record #121: [122, 0.0665318439446, 0.000226597104976, 'Hollis', 122, 'Queens'], Record #122: [123, 0.0834211389387, 0.000296445173366, 'Homecrest', 123, 'Brooklyn'], Record #123: [124, 0.127724410062, 0.000754837821479, 'Howard Beach', 124, 'Queens'], Record #124: [125, 0.0497322121757, 7.64293209892e-05, 'Hudson Sq', 125, 'Manhattan'], Record #125: [126, 0.12994872606, 0.0007032738273, 'Hunts Point', 126, 'Bronx'], Record #126: [127, 0.0600188855815, 0.000163195647796, 'Inwood', 127, 'Manhattan'], Record #127: [128, 0.0702090290681, 0.000207405982869, 'Inwood Hill Park', 128, 'Manhattan'], Record #128: [129, 0.0932727273403, 0.00047398833179, 'Jackson Heights', 129, 'Queens'], Record #129: [130, 0.142028320665, 0.000468322514327, 'Jamaica', 130, 'Queens'], Record #130: [131, 0.116547120922, 0.000423696152789, 'Jamaica Estates', 131, 'Queens'], Record #131: [132, 0.24547851707, 0.00203830095472, 'JFK Airport', 132, 'Queens'], Record #132: [133, 0.065134863162, 0.000157188987507, 'Kensington', 133, 'Brooklyn'], Record #133: [134, 0.0695878223284, 0.000202375182143, 'Kew Gardens', 134, 'Queens'], Record #134: [135, 0.121793045659, 0.000467912240542, 'Kew Gardens Hills', 135, 'Queens'], Record #135: [136, 0.0906287154122, 0.000148524994129, 'Kingsbridge Heights', 136, 'Bronx'], Record #136: [137, 0.0461076242707, 0.000116455098947, 'Kips Bay', 137, 'Manhattan'], Record #137: [138, 0.107466933508, 0.000536797294367, 'LaGuardia Airport', 138, 'Queens'], Record #138: [139, 0.0932997884483, 0.000446669880154, 'Laurelton', 139, 'Queens'], Record #139: [140, 0.0475842911325, 0.000114203907779, 'Lenox Hill East', 140, 'Manhattan'], Record #140: [141, 0.0415144638712, 7.66545579019e-05, 'Lenox Hill West', 141, 'Manhattan'], Record #141: [142, 0.0381758942321, 7.56537920738e-05, 'Lincoln Square East', 142, 'Manhattan'], Record #142: [143, 0.0541798538849, 0.00015109426901, 'Lincoln Square West', 143, 'Manhattan'], Record #143: [144, 0.0276201668505, 4.74789670369e-05, 'Little Italy/NoLiTa', 144, 'Manhattan'], Record #144: [145, 0.114313844981, 0.000346641733797, 'Long Island City/Hunters Point', 145, 'Queens'], Record #145: [146, 0.0471405215717, 0.000104638923425, 'Long Island City/Queens Plaza', 146, 'Queens'], Record #146: [147, 0.0587654949268, 0.000106418172757, 'Longwood', 147, 'Bronx'], Record #147: [148, 0.0391305015633, 6.97489921327e-05, 'Lower East Side', 148, 'Manhattan'], Record #148: [149, 0.0836805821837, 0.000270639618955, 'Madison', 149, 'Brooklyn'], Record #149: [150, 0.089331491183, 0.000332568036088, 'Manhattan Beach', 150, 'Brooklyn'], Record #150: [151, 0.0548899410999, 0.000128848901918, 'Manhattan Valley', 151, 'Manhattan'], Record #151: [152, 0.0579094768782, 0.000146637644064, 'Manhattanville', 152, 'Manhattan'], Record #152: [153, 0.024737239022, 3.24684964817e-05, 'Marble Hill', 153, 'Manhattan'], Record #153: [154, 0.22733157076, 0.00178968692433, 'Marine Park/Floyd Bennett Field', 154, 'Brooklyn'], Record #154: [155, 0.169808473032, 0.000868261018498, 'Marine Park/Mill Basin', 155, 'Brooklyn'], Record #155: [156, 0.144476890476, 0.0010521217443, 'Mariners Harbor', 156, 'Staten Island'], Record #156: [157, 0.131300217777, 0.000354370128323, 'Maspeth', 157, 'Queens'], Record #157: [158, 0.0548099905515, 0.000185568253002, 'Meatpacking/West Village West', 158, 'Manhattan'], Record #158: [159, 0.064363233206, 0.00017124910387, 'Melrose South', 159, 'Bronx'], Record #159: [160, 0.14151914297, 0.000571234977994, 'Middle Village', 160, 'Queens'], Record #160: [161, 0.0358039100611, 7.19130682992e-05, 'Midtown Center', 161, 'Manhattan'], Record #161: [162, 0.0352698146219, 4.78936962112e-05, 'Midtown East', 162, 'Manhattan'], Record #162: [163, 0.0341768669752, 4.08567804196e-05, 'Midtown North', 163, 'Manhattan'], Record #163: [164, 0.0357716119908, 5.56318237441e-05, 'Midtown South', 164, 'Manhattan'], Record #164: [165, 0.088608036213, 0.000353959317019, 'Midwood', 165, 'Brooklyn'], Record #165: [166, 0.0688237542871, 0.000255276270405, 'Morningside Heights', 166, 'Manhattan'], Record #166: [167, 0.0908159737292, 0.000167529391193, 'Morrisania/Melrose', 167, 'Bronx'], Record #167: [168, 0.114517434155, 0.000547058100444, 'Mott Haven/Port Morris', 168, 'Bronx'], Record #168: [169, 0.0601046580332, 0.000146027537733, 'Mount Hope', 169, 'Bronx'], Record #169: [170, 0.0457690091051, 7.43150675972e-05, 'Murray Hill', 170, 'Manhattan'], Record #170: [171, 0.107353876244, 0.000520099538161, 'Murray Hill-Queens', 171, 'Queens'], Record #171: [172, 0.118476116148, 0.000658402501406, 'New Dorp/Midland Beach', 172, 'Staten Island'], Record #172: [173, 0.0600639661414, 0.000178329851357, 'North Corona', 173, 'Queens'], Record #173: [174, 0.0678177559602, 0.000155928664422, 'Norwood', 174, 'Bronx'], Record #174: [175, 0.134897665102, 0.000504920726134, 'Oakland Gardens', 175, 'Queens'], Record #175: [176, 0.151995190703, 0.000657782126267, 'Oakwood', 176, 'Staten Island'], Record #176: [177, 0.0715805407056, 0.000198894762248, 'Ocean Hill', 177, 'Brooklyn'], Record #177: [178, 0.0682528770739, 0.000175805409143, 'Ocean Parkway South', 178, 'Brooklyn'], Record #178: [179, 0.0713808644377, 0.000183893478476, 'Old Astoria', 179, 'Queens'], Record #179: [180, 0.0805277671523, 0.000247682193353, 'Ozone Park', 180, 'Queens'], Record #180: [181, 0.0895372399547, 0.000306890292807, 'Park Slope', 181, 'Brooklyn'], Record #181: [182, 0.0393606369479, 9.10644156732e-05, 'Parkchester', 182, 'Bronx'], Record #182: [183, 0.0398262960348, 9.51929451066e-05, 'Pelham Bay', 183, 'Bronx'], Record #183: [184, 0.260815683043, 0.00198883363103, 'Pelham Bay Park', 184, 'Bronx'], Record #184: [185, 0.0861619681636, 0.000228537100218, 'Pelham Parkway', 185, 'Bronx'], Record #185: [186, 0.0246963902234, 3.70729416953e-05, 'Penn Station/Madison Sq West', 186, 'Manhattan'], Record #186: [187, 0.126868431324, 0.000421195755741, 'Port Richmond', 187, 'Staten Island'], Record #187: [188, 0.0977983968367, 0.000313003032771, 'Prospect-Lefferts Gardens', 188, 'Brooklyn'], Record #188: [189, 0.0486743306502, 0.000101427594033, 'Prospect Heights', 189, 'Brooklyn'], Record #189: [190, 0.0743294660829, 0.000270873666522, 'Prospect Park', 190, 'Brooklyn'], Record #190: [191, 0.130932637664, 0.000688460603185, 'Queens Village', 191, 'Queens'], Record #191: [192, 0.11196461971, 0.000373808019026, 'Queensboro Hill', 192, 'Queens'], Record #192: [193, 0.0655299584801, 0.000145591657944, 'Queensbridge/Ravenswood', 193, 'Queens'], Record #193: [194, 0.0817938353532, 0.000273481702719, 'Randalls Island', 194, 'Manhattan'], Record #194: [195, 0.131308244067, 0.000801651953985, 'Red Hook', 195, 'Brooklyn'], Record #195: [196, 0.0832421106332, 0.0001974713336, 'Rego Park', 196, 'Queens'], Record #196: [197, 0.108568532229, 0.000504689160432, 'Richmond Hill', 197, 'Queens'], Record #197: [198, 0.134094242763, 0.000499809882564, 'Ridgewood', 198, 'Queens'], Record #198: [199, 0.0778085005169, 0.000288747549303, 'Rikers Island', 199, 'Bronx'], Record #199: [200, 0.112661735435, 0.000744643168558, 'Riverdale/North Riverdale/Fieldston', 200, 'Bronx'], Record #200: [201, 0.130404117686, 0.000619350747819, 'Rockaway Park', 201, 'Queens'], Record #201: [202, 0.0699215712618, 0.000106175396322, 'Roosevelt Island', 202, 'Manhattan'], Record #202: [203, 0.189937815868, 0.000615129861659, 'Rosedale', 203, 'Queens'], Record #203: [204, 0.101912418311, 0.000641384265972, 'Rossville/Woodrow', 204, 'Staten Island'], Record #204: [205, 0.141953388327, 0.000766216513505, 'Saint Albans', 205, 'Queens'], Record #205: [206, 0.212756793386, 0.000944392507762, 'Saint George/New Brighton', 206, 'Staten Island'], Record #206: [207, 0.0283756831492, 4.47230848441e-05, 'Saint Michaels Cemetery/Woodside', 207, 'Queens'], Record #207: [208, 0.214721009581, 0.00202032598969, 'Schuylerville/Edgewater Park', 208, 'Bronx'], Record #208: [209, 0.0306953113473, 3.88703351209e-05, 'Seaport', 209, 'Manhattan'], Record #209: [210, 0.114851983372, 0.000453155131253, 'Sheepshead Bay', 210, 'Brooklyn'], Record #210: [211, 0.0252345082132, 3.97291966087e-05, 'SoHo', 211, 'Manhattan'], Record #211: [212, 0.0671290653429, 0.000161276191858, 'Soundview/Bruckner', 212, 'Bronx'], Record #212: [213, 0.159958783822, 0.000904077906339, 'Soundview/Castle Hill', 213, 'Bronx'], Record #213: [214, 0.135300314246, 0.000811976523012, 'South Beach/Dongan Hills', 214, 'Staten Island'], Record #214: [215, 0.103556453625, 0.000395647022725, 'South Jamaica', 215, 'Queens'], Record #215: [216, 0.116797554681, 0.000816076647781, 'South Ozone Park', 216, 'Queens'], Record #216: [217, 0.0553905251285, 0.000114733270758, 'South Williamsburg', 217, 'Brooklyn'], Record #217: [218, 0.0837008281049, 0.000281293736407, 'Springfield Gardens North', 218, 'Queens'], Record #218: [219, 0.155126669675, 0.000428176336771, 'Springfield Gardens South', 219, 'Queens'], Record #219: [220, 0.106015943267, 0.000313035744467, 'Spuyten Duyvil/Kingsbridge', 220, 'Bronx'], Record #220: [221, 0.166218220846, 0.000890111567051, 'Stapleton', 221, 'Staten Island'], Record #221: [222, 0.0483893527976, 0.000130268343918, 'Starrett City', 222, 'Brooklyn'], Record #222: [223, 0.166021925275, 0.00076436070058, 'Steinway', 223, 'Queens'], Record #223: [224, 0.0440204462769, 9.84786989135e-05, 'Stuy Town/Peter Cooper Village', 224, 'Manhattan'], Record #224: [225, 0.0887992073281, 0.000310835395162, 'Stuyvesant Heights', 225, 'Brooklyn'], Record #225: [226, 0.168957762041, 0.00076194414504, 'Sunnyside', 226, 'Queens'], Record #226: [227, 0.0828301570789, 0.000268316529534, 'Sunset Park East', 227, 'Brooklyn'], Record #227: [228, 0.177685177706, 0.000993414783816, 'Sunset Park West', 228, 'Brooklyn'], Record #228: [229, 0.0425252900116, 9.47058230931e-05, 'Sutton Place/Turtle Bay North', 229, 'Manhattan'], Record #229: [230, 0.0310283096779, 5.60914463266e-05, 'Times Sq/Theatre District', 230, 'Manhattan'], Record #230: [231, 0.0634201165587, 0.000166929752992, 'TriBeCa/Civic Center', 231, 'Manhattan'], Record #231: [232, 0.0614709085331, 0.000216049973456, 'Two Bridges/Seward Park', 232, 'Manhattan'], Record #232: [233, 0.048035918294, 0.000116188094682, 'UN/Turtle Bay South', 233, 'Manhattan'], Record #233: [234, 0.0360721994984, 7.31054382894e-05, 'Union Sq', 234, 'Manhattan'], Record #234: [235, 0.0761668426519, 0.000212844547337, 'University Heights/Morris Heights', 235, 'Bronx'], Record #235: [236, 0.0442519223099, 0.000102864345211, 'Upper East Side North', 236, 'Manhattan'], Record #236: [237, 0.0422126003388, 9.59873206621e-05, 'Upper East Side South', 237, 'Manhattan'], Record #237: [238, 0.0601093114033, 0.000184763693765, 'Upper West Side North', 238, 'Manhattan'], Record #238: [239, 0.0636261152958, 0.000204715440774, 'Upper West Side South', 239, 'Manhattan'], Record #239: [240, 0.146069764379, 0.000722130920707, 'Van Cortlandt Park', 240, 'Bronx'], Record #240: [241, 0.0687645777649, 0.00025467697592, 'Van Cortlandt Village', 241, 'Bronx'], Record #241: [242, 0.138136446433, 0.000360072450014, 'Van Nest/Morris Park', 242, 'Bronx'], Record #242: [243, 0.0943314999364, 0.000438377341503, 'Washington Heights North', 243, 'Manhattan'], Record #243: [244, 0.0805686044599, 0.000359702747951, 'Washington Heights South', 244, 'Manhattan'], Record #244: [245, 0.0959830596604, 0.000466175414294, 'West Brighton', 245, 'Staten Island'], Record #245: [246, 0.0694671937437, 0.000281298327076, 'West Chelsea/Hudson Yards', 246, 'Manhattan'], Record #246: [247, 0.0929678582271, 0.000205617157843, 'West Concourse', 247, 'Bronx'], Record #247: [248, 0.0569191167671, 0.000149592769799, 'West Farms/Bronx River', 248, 'Bronx'], Record #248: [249, 0.03638434365, 7.22155957729e-05, 'West Village', 249, 'Manhattan'], Record #249: [250, 0.0796263465454, 0.000240975845956, 'Westchester Village/Unionport', 250, 'Bronx'], Record #250: [251, 0.1377111611, 0.000625754983157, 'Westerleigh', 251, 'Staten Island'], Record #251: [252, 0.158004373564, 0.00102526406057, 'Whitestone', 252, 'Queens'], Record #252: [253, 0.0360514998192, 7.83395761191e-05, 'Willets Point', 253, 'Queens'], Record #253: [254, 0.0858863754861, 0.000360040216032, 'Williamsbridge/Olinville', 254, 'Bronx'], Record #254: [255, 0.0623841997664, 0.000172309184842, 'Williamsburg (North Side)', 255, 'Brooklyn'], Record #255: [256, 0.0679149669603, 0.000168611097013, 'Williamsburg (South Side)', 256, 'Brooklyn'], Record #256: [257, 0.0586690259793, 0.00013890947321, 'Windsor Terrace', 257, 'Brooklyn'], Record #257: [258, 0.0890133787693, 0.000366209617143, 'Woodhaven', 258, 'Queens'], Record #258: [259, 0.126750305191, 0.000394552487366, 'Woodlawn/Wakefield', 259, 'Bronx'], Record #259: [260, 0.133514154636, 0.000422345326907, 'Woodside', 260, 'Queens'], Record #260: [261, 0.0271204563616, 3.43423231652e-05, 'World Trade Center', 261, 'Manhattan'], Record #261: [262, 0.0490636231541, 0.000122330270966, 'Yorkville East', 262, 'Manhattan'], Record #262: [263, 0.0370166252994, 6.57697664169e-05, 'Yorkville West', 263, 'Manhattan']]"
     ]
    }
   ],
   "source": [
    "attributes = sf.records()\n",
    "for attr in attributes:\n",
    "    attr"
   ]
  },
  {
   "cell_type": "raw",
   "metadata": {},
   "source": [
    "src format:\n",
    "\n",
    "Record #0:[1, 0.116357453189, 0.0007823067885, 'Newark Airport', 1, 'EWR']\n",
    "\n",
    "target format\n",
    "\n",
    "{'OBJECTID': 1, 'Shape_Leng': 0.116357453189, 'Shape_Area': 0.0007823067885, 'zone': 'Newark Airport', 'LocationID': 1, 'borough': 'EWR'}"
   ]
  },
  {
   "cell_type": "code",
   "execution_count": 93,
   "metadata": {
    "collapsed": true,
    "jupyter": {
     "outputs_hidden": true
    }
   },
   "outputs": [
    {
     "data": {
      "application/vnd.jupyter.widget-view+json": {
       "model_id": "64f841f0800142ba9064df3334282e25",
       "version_major": 2,
       "version_minor": 0
      },
      "text/plain": [
       "VBox()"
      ]
     },
     "metadata": {},
     "output_type": "display_data"
    },
    {
     "data": {
      "application/vnd.jupyter.widget-view+json": {
       "model_id": "",
       "version_major": 2,
       "version_minor": 0
      },
      "text/plain": [
       "FloatProgress(value=0.0, bar_style='info', description='Progress:', layout=Layout(height='25px', width='50%'),…"
      ]
     },
     "metadata": {},
     "output_type": "display_data"
    },
    {
     "name": "stdout",
     "output_type": "stream",
     "text": [
      "{'OBJECTID': 1, 'Shape_Leng': 0.116357453189, 'Shape_Area': 0.0007823067885, 'zone': 'Newark Airport', 'LocationID': 1, 'borough': 'EWR'}\n",
      "{'OBJECTID': 2, 'Shape_Leng': 0.43346966679, 'Shape_Area': 0.00486634037837, 'zone': 'Jamaica Bay', 'LocationID': 2, 'borough': 'Queens'}\n",
      "{'OBJECTID': 3, 'Shape_Leng': 0.0843411059012, 'Shape_Area': 0.000314414156821, 'zone': 'Allerton/Pelham Gardens', 'LocationID': 3, 'borough': 'Bronx'}\n",
      "{'OBJECTID': 4, 'Shape_Leng': 0.0435665270921, 'Shape_Area': 0.000111871946192, 'zone': 'Alphabet City', 'LocationID': 4, 'borough': 'Manhattan'}\n",
      "{'OBJECTID': 5, 'Shape_Leng': 0.0921464898574, 'Shape_Area': 0.000497957489363, 'zone': 'Arden Heights', 'LocationID': 5, 'borough': 'Staten Island'}\n",
      "{'OBJECTID': 6, 'Shape_Leng': 0.150490542523, 'Shape_Area': 0.000606460984581, 'zone': 'Arrochar/Fort Wadsworth', 'LocationID': 6, 'borough': 'Staten Island'}\n",
      "{'OBJECTID': 7, 'Shape_Leng': 0.107417171123, 'Shape_Area': 0.000389787989274, 'zone': 'Astoria', 'LocationID': 7, 'borough': 'Queens'}\n",
      "{'OBJECTID': 8, 'Shape_Leng': 0.0275906911574, 'Shape_Area': 2.6587716279e-05, 'zone': 'Astoria Park', 'LocationID': 8, 'borough': 'Queens'}\n",
      "{'OBJECTID': 9, 'Shape_Leng': 0.0997840924705, 'Shape_Area': 0.000338443803197, 'zone': 'Auburndale', 'LocationID': 9, 'borough': 'Queens'}\n",
      "{'OBJECTID': 10, 'Shape_Leng': 0.0998394794152, 'Shape_Area': 0.000435823818081, 'zone': 'Baisley Park', 'LocationID': 10, 'borough': 'Queens'}\n",
      "{'OBJECTID': 11, 'Shape_Leng': 0.0792110389596, 'Shape_Area': 0.00026452053504, 'zone': 'Bath Beach', 'LocationID': 11, 'borough': 'Brooklyn'}\n",
      "{'OBJECTID': 12, 'Shape_Leng': 0.0366613013579, 'Shape_Area': 4.15116236727e-05, 'zone': 'Battery Park', 'LocationID': 12, 'borough': 'Manhattan'}\n",
      "{'OBJECTID': 13, 'Shape_Leng': 0.0502813228631, 'Shape_Area': 0.000149358592917, 'zone': 'Battery Park City', 'LocationID': 13, 'borough': 'Manhattan'}\n",
      "{'OBJECTID': 14, 'Shape_Leng': 0.175213698053, 'Shape_Area': 0.00138177826442, 'zone': 'Bay Ridge', 'LocationID': 14, 'borough': 'Brooklyn'}\n",
      "{'OBJECTID': 15, 'Shape_Leng': 0.14433622262, 'Shape_Area': 0.000925219395547, 'zone': 'Bay Terrace/Fort Totten', 'LocationID': 15, 'borough': 'Queens'}\n",
      "{'OBJECTID': 16, 'Shape_Leng': 0.141291873771, 'Shape_Area': 0.000871889446182, 'zone': 'Bayside', 'LocationID': 16, 'borough': 'Queens'}\n",
      "{'OBJECTID': 17, 'Shape_Leng': 0.093522632948, 'Shape_Area': 0.000322957654799, 'zone': 'Bedford', 'LocationID': 17, 'borough': 'Brooklyn'}\n",
      "{'OBJECTID': 18, 'Shape_Leng': 0.0697995498569, 'Shape_Area': 0.000148850163948, 'zone': 'Bedford Park', 'LocationID': 18, 'borough': 'Bronx'}\n",
      "{'OBJECTID': 19, 'Shape_Leng': 0.101824875452, 'Shape_Area': 0.000546661094782, 'zone': 'Bellerose', 'LocationID': 19, 'borough': 'Queens'}\n",
      "{'OBJECTID': 20, 'Shape_Leng': 0.0514401924362, 'Shape_Area': 0.000134512633032, 'zone': 'Belmont', 'LocationID': 20, 'borough': 'Bronx'}\n",
      "{'OBJECTID': 21, 'Shape_Leng': 0.115973569062, 'Shape_Area': 0.000380251345507, 'zone': 'Bensonhurst East', 'LocationID': 21, 'borough': 'Brooklyn'}\n",
      "{'OBJECTID': 22, 'Shape_Leng': 0.126170229196, 'Shape_Area': 0.000472062684608, 'zone': 'Bensonhurst West', 'LocationID': 22, 'borough': 'Brooklyn'}\n",
      "{'OBJECTID': 23, 'Shape_Leng': 0.290556028962, 'Shape_Area': 0.00219556576201, 'zone': 'Bloomfield/Emerson Hill', 'LocationID': 23, 'borough': 'Staten Island'}\n",
      "{'OBJECTID': 24, 'Shape_Leng': 0.0469999619287, 'Shape_Area': 6.07235737749e-05, 'zone': 'Bloomingdale', 'LocationID': 24, 'borough': 'Manhattan'}\n",
      "{'OBJECTID': 25, 'Shape_Leng': 0.0471458199319, 'Shape_Area': 0.000124168267356, 'zone': 'Boerum Hill', 'LocationID': 25, 'borough': 'Brooklyn'}\n",
      "{'OBJECTID': 26, 'Shape_Leng': 0.12354780707, 'Shape_Area': 0.000534039927626, 'zone': 'Borough Park', 'LocationID': 26, 'borough': 'Brooklyn'}\n",
      "{'OBJECTID': 27, 'Shape_Leng': 0.202508808518, 'Shape_Area': 0.00134088762746, 'zone': 'Breezy Point/Fort Tilden/Riis Beach', 'LocationID': 27, 'borough': 'Queens'}\n",
      "{'OBJECTID': 28, 'Shape_Leng': 0.097960782214, 'Shape_Area': 0.000291203927662, 'zone': 'Briarwood/Jamaica Hills', 'LocationID': 28, 'borough': 'Queens'}\n",
      "{'OBJECTID': 29, 'Shape_Leng': 0.0714083127733, 'Shape_Area': 0.000201673837402, 'zone': 'Brighton Beach', 'LocationID': 29, 'borough': 'Brooklyn'}\n",
      "{'OBJECTID': 30, 'Shape_Leng': 0.0945097669793, 'Shape_Area': 0.000145862107626, 'zone': 'Broad Channel', 'LocationID': 30, 'borough': 'Queens'}\n",
      "{'OBJECTID': 31, 'Shape_Leng': 0.0964245666516, 'Shape_Area': 0.000333975927329, 'zone': 'Bronx Park', 'LocationID': 31, 'borough': 'Bronx'}\n",
      "{'OBJECTID': 32, 'Shape_Leng': 0.05426721601, 'Shape_Area': 0.000150879171971, 'zone': 'Bronxdale', 'LocationID': 32, 'borough': 'Bronx'}\n",
      "{'OBJECTID': 33, 'Shape_Leng': 0.0532702931967, 'Shape_Area': 0.000147416802448, 'zone': 'Brooklyn Heights', 'LocationID': 33, 'borough': 'Brooklyn'}\n",
      "{'OBJECTID': 34, 'Shape_Leng': 0.0657059323545, 'Shape_Area': 0.000173946146651, 'zone': 'Brooklyn Navy Yard', 'LocationID': 34, 'borough': 'Brooklyn'}\n",
      "{'OBJECTID': 35, 'Shape_Leng': 0.085787918592, 'Shape_Area': 0.000323825195932, 'zone': 'Brownsville', 'LocationID': 35, 'borough': 'Brooklyn'}\n",
      "{'OBJECTID': 36, 'Shape_Leng': 0.0870507867063, 'Shape_Area': 0.000247666139269, 'zone': 'Bushwick North', 'LocationID': 36, 'borough': 'Brooklyn'}\n",
      "{'OBJECTID': 37, 'Shape_Leng': 0.142810040466, 'Shape_Area': 0.000452062644782, 'zone': 'Bushwick South', 'LocationID': 37, 'borough': 'Brooklyn'}\n",
      "{'OBJECTID': 38, 'Shape_Leng': 0.0832175685234, 'Shape_Area': 0.000327392684821, 'zone': 'Cambria Heights', 'LocationID': 38, 'borough': 'Queens'}\n",
      "{'OBJECTID': 39, 'Shape_Leng': 0.132369620757, 'Shape_Area': 0.00090028293862, 'zone': 'Canarsie', 'LocationID': 39, 'borough': 'Brooklyn'}\n",
      "{'OBJECTID': 40, 'Shape_Leng': 0.0518506648762, 'Shape_Area': 0.000108949211644, 'zone': 'Carroll Gardens', 'LocationID': 40, 'borough': 'Brooklyn'}\n",
      "{'OBJECTID': 41, 'Shape_Leng': 0.052793109453, 'Shape_Area': 0.000143093037737, 'zone': 'Central Harlem', 'LocationID': 41, 'borough': 'Manhattan'}\n",
      "{'OBJECTID': 42, 'Shape_Leng': 0.0927092274616, 'Shape_Area': 0.000263896952605, 'zone': 'Central Harlem North', 'LocationID': 42, 'borough': 'Manhattan'}\n",
      "{'OBJECTID': 43, 'Shape_Leng': 0.0997386183576, 'Shape_Area': 0.000379662912054, 'zone': 'Central Park', 'LocationID': 43, 'borough': 'Manhattan'}\n",
      "{'OBJECTID': 44, 'Shape_Leng': 0.235688967594, 'Shape_Area': 0.00194465649192, 'zone': 'Charleston/Tottenville', 'LocationID': 44, 'borough': 'Staten Island'}\n",
      "{'OBJECTID': 45, 'Shape_Leng': 0.0459068626235, 'Shape_Area': 9.13594688556e-05, 'zone': 'Chinatown', 'LocationID': 45, 'borough': 'Manhattan'}\n",
      "{'OBJECTID': 46, 'Shape_Leng': 0.134475429879, 'Shape_Area': 0.000926391677672, 'zone': 'City Island', 'LocationID': 46, 'borough': 'Bronx'}\n",
      "{'OBJECTID': 47, 'Shape_Leng': 0.0898275563294, 'Shape_Area': 0.000163198117339, 'zone': 'Claremont/Bathgate', 'LocationID': 47, 'borough': 'Bronx'}\n",
      "{'OBJECTID': 48, 'Shape_Leng': 0.0437467441431, 'Shape_Area': 9.42538425377e-05, 'zone': 'Clinton East', 'LocationID': 48, 'borough': 'Manhattan'}\n",
      "{'OBJECTID': 49, 'Shape_Leng': 0.0752900183427, 'Shape_Area': 0.000203185525471, 'zone': 'Clinton Hill', 'LocationID': 49, 'borough': 'Brooklyn'}\n",
      "{'OBJECTID': 50, 'Shape_Leng': 0.0557479867536, 'Shape_Area': 0.000173249283326, 'zone': 'Clinton West', 'LocationID': 50, 'borough': 'Manhattan'}\n",
      "{'OBJECTID': 51, 'Shape_Leng': 0.0953613442277, 'Shape_Area': 0.000395756553505, 'zone': 'Co-Op City', 'LocationID': 51, 'borough': 'Bronx'}\n",
      "{'OBJECTID': 52, 'Shape_Leng': 0.0289076710093, 'Shape_Area': 4.52027509603e-05, 'zone': 'Cobble Hill', 'LocationID': 52, 'borough': 'Brooklyn'}\n",
      "{'OBJECTID': 53, 'Shape_Leng': 0.161500913385, 'Shape_Area': 0.000947530980821, 'zone': 'College Point', 'LocationID': 53, 'borough': 'Queens'}\n",
      "{'OBJECTID': 54, 'Shape_Leng': 0.0762192448554, 'Shape_Area': 0.000132452130536, 'zone': 'Columbia Street', 'LocationID': 54, 'borough': 'Brooklyn'}\n",
      "{'OBJECTID': 55, 'Shape_Leng': 0.149956807524, 'Shape_Area': 0.000736274713586, 'zone': 'Coney Island', 'LocationID': 55, 'borough': 'Brooklyn'}\n",
      "{'OBJECTID': 56, 'Shape_Leng': 0.0568478126677, 'Shape_Area': 0.000180907844436, 'zone': 'Corona', 'LocationID': 56, 'borough': 'Queens'}\n",
      "{'OBJECTID': 57, 'Shape_Leng': 0.0192705048557, 'Shape_Area': 1.80259807917e-05, 'zone': 'Corona', 'LocationID': 56, 'borough': 'Queens'}\n",
      "{'OBJECTID': 58, 'Shape_Leng': 0.0598554094851, 'Shape_Area': 0.000204980931361, 'zone': 'Country Club', 'LocationID': 58, 'borough': 'Bronx'}\n",
      "{'OBJECTID': 59, 'Shape_Leng': 0.0377948070893, 'Shape_Area': 6.28765230648e-05, 'zone': 'Crotona Park', 'LocationID': 59, 'borough': 'Bronx'}\n",
      "{'OBJECTID': 60, 'Shape_Leng': 0.0786482878226, 'Shape_Area': 0.000161833284912, 'zone': 'Crotona Park East', 'LocationID': 60, 'borough': 'Bronx'}\n",
      "{'OBJECTID': 61, 'Shape_Leng': 0.117310808097, 'Shape_Area': 0.000510772092295, 'zone': 'Crown Heights North', 'LocationID': 61, 'borough': 'Brooklyn'}\n",
      "{'OBJECTID': 62, 'Shape_Leng': 0.0822593359838, 'Shape_Area': 0.000158238169004, 'zone': 'Crown Heights South', 'LocationID': 62, 'borough': 'Brooklyn'}\n",
      "{'OBJECTID': 63, 'Shape_Leng': 0.119100721883, 'Shape_Area': 0.000353190910142, 'zone': 'Cypress Hills', 'LocationID': 63, 'borough': 'Brooklyn'}\n",
      "{'OBJECTID': 64, 'Shape_Leng': 0.18445188474, 'Shape_Area': 0.00105790284614, 'zone': 'Douglaston', 'LocationID': 64, 'borough': 'Queens'}\n",
      "{'OBJECTID': 65, 'Shape_Leng': 0.0446070683658, 'Shape_Area': 8.1803882541e-05, 'zone': 'Downtown Brooklyn/MetroTech', 'LocationID': 65, 'borough': 'Brooklyn'}\n",
      "{'OBJECTID': 66, 'Shape_Leng': 0.0546334593634, 'Shape_Area': 0.000108378855948, 'zone': 'DUMBO/Vinegar Hill', 'LocationID': 66, 'borough': 'Brooklyn'}\n",
      "{'OBJECTID': 67, 'Shape_Leng': 0.0997470781551, 'Shape_Area': 0.000394282272487, 'zone': 'Dyker Heights', 'LocationID': 67, 'borough': 'Brooklyn'}\n",
      "{'OBJECTID': 68, 'Shape_Leng': 0.0493373795569, 'Shape_Area': 0.000111073378655, 'zone': 'East Chelsea', 'LocationID': 68, 'borough': 'Manhattan'}\n",
      "{'OBJECTID': 69, 'Shape_Leng': 0.0789896450483, 'Shape_Area': 0.00019905160381, 'zone': 'East Concourse/Concourse Village', 'LocationID': 69, 'borough': 'Bronx'}\n",
      "{'OBJECTID': 70, 'Shape_Leng': 0.0638403183367, 'Shape_Area': 0.000195458476728, 'zone': 'East Elmhurst', 'LocationID': 70, 'borough': 'Queens'}\n",
      "{'OBJECTID': 71, 'Shape_Leng': 0.0931694551828, 'Shape_Area': 0.000382572587364, 'zone': 'East Flatbush/Farragut', 'LocationID': 71, 'borough': 'Brooklyn'}\n",
      "{'OBJECTID': 72, 'Shape_Leng': 0.0952020695166, 'Shape_Area': 0.000323532461947, 'zone': 'East Flatbush/Remsen Village', 'LocationID': 72, 'borough': 'Brooklyn'}\n",
      "{'OBJECTID': 73, 'Shape_Leng': 0.0853020209129, 'Shape_Area': 0.000291799754395, 'zone': 'East Flushing', 'LocationID': 73, 'borough': 'Queens'}\n",
      "{'OBJECTID': 74, 'Shape_Leng': 0.11029093625, 'Shape_Area': 0.000295038418204, 'zone': 'East Harlem North', 'LocationID': 74, 'borough': 'Manhattan'}\n",
      "{'OBJECTID': 75, 'Shape_Leng': 0.0876638997685, 'Shape_Area': 0.00024056392715, 'zone': 'East Harlem South', 'LocationID': 75, 'borough': 'Manhattan'}\n",
      "{'OBJECTID': 76, 'Shape_Leng': 0.241203016269, 'Shape_Area': 0.00126660143241, 'zone': 'East New York', 'LocationID': 76, 'borough': 'Brooklyn'}\n",
      "{'OBJECTID': 77, 'Shape_Leng': 0.075461081444, 'Shape_Area': 0.000191917981315, 'zone': 'East New York/Pennsylvania Avenue', 'LocationID': 77, 'borough': 'Brooklyn'}\n",
      "{'OBJECTID': 78, 'Shape_Leng': 0.0935944495806, 'Shape_Area': 0.000191114419551, 'zone': 'East Tremont', 'LocationID': 78, 'borough': 'Bronx'}\n",
      "{'OBJECTID': 79, 'Shape_Leng': 0.0426249113144, 'Shape_Area': 0.000107893068218, 'zone': 'East Village', 'LocationID': 79, 'borough': 'Manhattan'}\n",
      "{'OBJECTID': 80, 'Shape_Leng': 0.117212621448, 'Shape_Area': 0.00040732245622, 'zone': 'East Williamsburg', 'LocationID': 80, 'borough': 'Brooklyn'}\n",
      "{'OBJECTID': 81, 'Shape_Leng': 0.197592771731, 'Shape_Area': 0.00039956655019, 'zone': 'Eastchester', 'LocationID': 81, 'borough': 'Bronx'}\n",
      "{'OBJECTID': 82, 'Shape_Leng': 0.119875649697, 'Shape_Area': 0.000323601079994, 'zone': 'Elmhurst', 'LocationID': 82, 'borough': 'Queens'}\n",
      "{'OBJECTID': 83, 'Shape_Leng': 0.105984933269, 'Shape_Area': 0.000217463718718, 'zone': 'Elmhurst/Maspeth', 'LocationID': 83, 'borough': 'Queens'}\n",
      "{'OBJECTID': 84, 'Shape_Leng': 0.233623987032, 'Shape_Area': 0.00207375572052, 'zone': \"Eltingville/Annadale/Prince's Bay\", 'LocationID': 84, 'borough': 'Staten Island'}\n",
      "{'OBJECTID': 85, 'Shape_Leng': 0.0574751473562, 'Shape_Area': 0.000143637804933, 'zone': 'Erasmus', 'LocationID': 85, 'borough': 'Brooklyn'}\n",
      "{'OBJECTID': 86, 'Shape_Leng': 0.134245282582, 'Shape_Area': 0.000623278815249, 'zone': 'Far Rockaway', 'LocationID': 86, 'borough': 'Queens'}\n",
      "{'OBJECTID': 87, 'Shape_Leng': 0.0369015496117, 'Shape_Area': 6.72050210692e-05, 'zone': 'Financial District North', 'LocationID': 87, 'borough': 'Manhattan'}\n",
      "{'OBJECTID': 88, 'Shape_Leng': 0.0352046035327, 'Shape_Area': 5.72999455414e-05, 'zone': 'Financial District South', 'LocationID': 88, 'borough': 'Manhattan'}\n",
      "{'OBJECTID': 89, 'Shape_Leng': 0.122794569553, 'Shape_Area': 0.000447548142373, 'zone': 'Flatbush/Ditmas Park', 'LocationID': 89, 'borough': 'Brooklyn'}\n",
      "{'OBJECTID': 90, 'Shape_Leng': 0.0307591620819, 'Shape_Area': 5.53132476305e-05, 'zone': 'Flatiron', 'LocationID': 90, 'borough': 'Manhattan'}\n",
      "{'OBJECTID': 91, 'Shape_Leng': 0.124996624585, 'Shape_Area': 0.000537330013243, 'zone': 'Flatlands', 'LocationID': 91, 'borough': 'Brooklyn'}\n",
      "{'OBJECTID': 92, 'Shape_Leng': 0.117830066799, 'Shape_Area': 0.000374946617289, 'zone': 'Flushing', 'LocationID': 92, 'borough': 'Queens'}\n",
      "{'OBJECTID': 93, 'Shape_Leng': 0.170998027597, 'Shape_Area': 0.000594278183978, 'zone': 'Flushing Meadows-Corona Park', 'LocationID': 93, 'borough': 'Queens'}\n",
      "{'OBJECTID': 94, 'Shape_Leng': 0.0498326083147, 'Shape_Area': 6.25819407393e-05, 'zone': 'Fordham South', 'LocationID': 94, 'borough': 'Bronx'}\n",
      "{'OBJECTID': 95, 'Shape_Leng': 0.113629605476, 'Shape_Area': 0.00057277033803, 'zone': 'Forest Hills', 'LocationID': 95, 'borough': 'Queens'}\n",
      "{'OBJECTID': 96, 'Shape_Leng': 0.185180248095, 'Shape_Area': 0.000547566253402, 'zone': 'Forest Park/Highland Park', 'LocationID': 96, 'borough': 'Queens'}\n",
      "{'OBJECTID': 97, 'Shape_Leng': 0.0624760147423, 'Shape_Area': 0.000163303970435, 'zone': 'Fort Greene', 'LocationID': 97, 'borough': 'Brooklyn'}\n",
      "{'OBJECTID': 98, 'Shape_Leng': 0.121661018278, 'Shape_Area': 0.000485773020954, 'zone': 'Fresh Meadows', 'LocationID': 98, 'borough': 'Queens'}\n",
      "{'OBJECTID': 99, 'Shape_Leng': 0.1833714893, 'Shape_Area': 0.00121016463877, 'zone': 'Freshkills Park', 'LocationID': 99, 'borough': 'Staten Island'}\n",
      "{'OBJECTID': 100, 'Shape_Leng': 0.0248131090342, 'Shape_Area': 3.74700210291e-05, 'zone': 'Garment District', 'LocationID': 100, 'borough': 'Manhattan'}\n",
      "{'OBJECTID': 101, 'Shape_Leng': 0.101709836277, 'Shape_Area': 0.000452342528877, 'zone': 'Glen Oaks', 'LocationID': 101, 'borough': 'Queens'}\n",
      "{'OBJECTID': 102, 'Shape_Leng': 0.136900484646, 'Shape_Area': 0.000296595466345, 'zone': 'Glendale', 'LocationID': 102, 'borough': 'Queens'}\n",
      "{'OBJECTID': 103, 'Shape_Leng': 0.0143055167343, 'Shape_Area': 6.33056361314e-06, 'zone': \"Governor's Island/Ellis Island/Liberty Island\", 'LocationID': 103, 'borough': 'Manhattan'}\n",
      "{'OBJECTID': 104, 'Shape_Leng': 0.0212208330928, 'Shape_Area': 1.19205339715e-05, 'zone': \"Governor's Island/Ellis Island/Liberty Island\", 'LocationID': 103, 'borough': 'Manhattan'}\n",
      "{'OBJECTID': 105, 'Shape_Leng': 0.0774253398314, 'Shape_Area': 0.000368636392805, 'zone': \"Governor's Island/Ellis Island/Liberty Island\", 'LocationID': 103, 'borough': 'Manhattan'}\n",
      "{'OBJECTID': 106, 'Shape_Leng': 0.0492110119798, 'Shape_Area': 0.000113616826567, 'zone': 'Gowanus', 'LocationID': 106, 'borough': 'Brooklyn'}\n",
      "{'OBJECTID': 107, 'Shape_Leng': 0.0380413645908, 'Shape_Area': 7.46112192675e-05, 'zone': 'Gramercy', 'LocationID': 107, 'borough': 'Manhattan'}\n",
      "{'OBJECTID': 108, 'Shape_Leng': 0.11117141227, 'Shape_Area': 0.000352866009465, 'zone': 'Gravesend', 'LocationID': 108, 'borough': 'Brooklyn'}\n",
      "{'OBJECTID': 109, 'Shape_Leng': 0.178267819599, 'Shape_Area': 0.00116960076185, 'zone': 'Great Kills', 'LocationID': 109, 'borough': 'Staten Island'}\n",
      "{'OBJECTID': 110, 'Shape_Leng': 0.103946292913, 'Shape_Area': 0.000525745098785, 'zone': 'Great Kills Park', 'LocationID': 110, 'borough': 'Staten Island'}\n",
      "{'OBJECTID': 111, 'Shape_Leng': 0.0599308800658, 'Shape_Area': 0.000208683276503, 'zone': 'Green-Wood Cemetery', 'LocationID': 111, 'borough': 'Brooklyn'}\n",
      "{'OBJECTID': 112, 'Shape_Leng': 0.107267875765, 'Shape_Area': 0.000462068671429, 'zone': 'Greenpoint', 'LocationID': 112, 'borough': 'Brooklyn'}\n",
      "{'OBJECTID': 113, 'Shape_Leng': 0.032745350566, 'Shape_Area': 5.79634566998e-05, 'zone': 'Greenwich Village North', 'LocationID': 113, 'borough': 'Manhattan'}\n",
      "{'OBJECTID': 114, 'Shape_Leng': 0.0317270347711, 'Shape_Area': 4.70207704945e-05, 'zone': 'Greenwich Village South', 'LocationID': 114, 'borough': 'Manhattan'}\n",
      "{'OBJECTID': 115, 'Shape_Leng': 0.116169413964, 'Shape_Area': 0.000373168991958, 'zone': 'Grymes Hill/Clifton', 'LocationID': 115, 'borough': 'Staten Island'}\n",
      "{'OBJECTID': 116, 'Shape_Leng': 0.0681164844265, 'Shape_Area': 0.000260415337217, 'zone': 'Hamilton Heights', 'LocationID': 116, 'borough': 'Manhattan'}\n",
      "{'OBJECTID': 117, 'Shape_Leng': 0.169885857987, 'Shape_Area': 0.00090429427072, 'zone': 'Hammels/Arverne', 'LocationID': 117, 'borough': 'Queens'}\n",
      "{'OBJECTID': 118, 'Shape_Leng': 0.243966217692, 'Shape_Area': 0.00182693922711, 'zone': 'Heartland Village/Todt Hill', 'LocationID': 118, 'borough': 'Staten Island'}\n",
      "{'OBJECTID': 119, 'Shape_Leng': 0.0835070355744, 'Shape_Area': 0.000185779447534, 'zone': 'Highbridge', 'LocationID': 119, 'borough': 'Bronx'}\n",
      "{'OBJECTID': 120, 'Shape_Leng': 0.0832612702158, 'Shape_Area': 9.31462821313e-05, 'zone': 'Highbridge Park', 'LocationID': 120, 'borough': 'Manhattan'}\n",
      "{'OBJECTID': 121, 'Shape_Leng': 0.0969153373445, 'Shape_Area': 0.000384563286473, 'zone': 'Hillcrest/Pomonok', 'LocationID': 121, 'borough': 'Queens'}\n",
      "{'OBJECTID': 122, 'Shape_Leng': 0.0665318439446, 'Shape_Area': 0.000226597104976, 'zone': 'Hollis', 'LocationID': 122, 'borough': 'Queens'}\n",
      "{'OBJECTID': 123, 'Shape_Leng': 0.0834211389387, 'Shape_Area': 0.000296445173366, 'zone': 'Homecrest', 'LocationID': 123, 'borough': 'Brooklyn'}\n",
      "{'OBJECTID': 124, 'Shape_Leng': 0.127724410062, 'Shape_Area': 0.000754837821479, 'zone': 'Howard Beach', 'LocationID': 124, 'borough': 'Queens'}\n",
      "{'OBJECTID': 125, 'Shape_Leng': 0.0497322121757, 'Shape_Area': 7.64293209892e-05, 'zone': 'Hudson Sq', 'LocationID': 125, 'borough': 'Manhattan'}\n",
      "{'OBJECTID': 126, 'Shape_Leng': 0.12994872606, 'Shape_Area': 0.0007032738273, 'zone': 'Hunts Point', 'LocationID': 126, 'borough': 'Bronx'}\n",
      "{'OBJECTID': 127, 'Shape_Leng': 0.0600188855815, 'Shape_Area': 0.000163195647796, 'zone': 'Inwood', 'LocationID': 127, 'borough': 'Manhattan'}\n",
      "{'OBJECTID': 128, 'Shape_Leng': 0.0702090290681, 'Shape_Area': 0.000207405982869, 'zone': 'Inwood Hill Park', 'LocationID': 128, 'borough': 'Manhattan'}\n",
      "{'OBJECTID': 129, 'Shape_Leng': 0.0932727273403, 'Shape_Area': 0.00047398833179, 'zone': 'Jackson Heights', 'LocationID': 129, 'borough': 'Queens'}\n",
      "{'OBJECTID': 130, 'Shape_Leng': 0.142028320665, 'Shape_Area': 0.000468322514327, 'zone': 'Jamaica', 'LocationID': 130, 'borough': 'Queens'}\n",
      "{'OBJECTID': 131, 'Shape_Leng': 0.116547120922, 'Shape_Area': 0.000423696152789, 'zone': 'Jamaica Estates', 'LocationID': 131, 'borough': 'Queens'}\n",
      "{'OBJECTID': 132, 'Shape_Leng': 0.24547851707, 'Shape_Area': 0.00203830095472, 'zone': 'JFK Airport', 'LocationID': 132, 'borough': 'Queens'}\n",
      "{'OBJECTID': 133, 'Shape_Leng': 0.065134863162, 'Shape_Area': 0.000157188987507, 'zone': 'Kensington', 'LocationID': 133, 'borough': 'Brooklyn'}\n",
      "{'OBJECTID': 134, 'Shape_Leng': 0.0695878223284, 'Shape_Area': 0.000202375182143, 'zone': 'Kew Gardens', 'LocationID': 134, 'borough': 'Queens'}\n",
      "{'OBJECTID': 135, 'Shape_Leng': 0.121793045659, 'Shape_Area': 0.000467912240542, 'zone': 'Kew Gardens Hills', 'LocationID': 135, 'borough': 'Queens'}\n",
      "{'OBJECTID': 136, 'Shape_Leng': 0.0906287154122, 'Shape_Area': 0.000148524994129, 'zone': 'Kingsbridge Heights', 'LocationID': 136, 'borough': 'Bronx'}\n",
      "{'OBJECTID': 137, 'Shape_Leng': 0.0461076242707, 'Shape_Area': 0.000116455098947, 'zone': 'Kips Bay', 'LocationID': 137, 'borough': 'Manhattan'}\n",
      "{'OBJECTID': 138, 'Shape_Leng': 0.107466933508, 'Shape_Area': 0.000536797294367, 'zone': 'LaGuardia Airport', 'LocationID': 138, 'borough': 'Queens'}\n",
      "{'OBJECTID': 139, 'Shape_Leng': 0.0932997884483, 'Shape_Area': 0.000446669880154, 'zone': 'Laurelton', 'LocationID': 139, 'borough': 'Queens'}\n",
      "{'OBJECTID': 140, 'Shape_Leng': 0.0475842911325, 'Shape_Area': 0.000114203907779, 'zone': 'Lenox Hill East', 'LocationID': 140, 'borough': 'Manhattan'}\n",
      "{'OBJECTID': 141, 'Shape_Leng': 0.0415144638712, 'Shape_Area': 7.66545579019e-05, 'zone': 'Lenox Hill West', 'LocationID': 141, 'borough': 'Manhattan'}\n",
      "{'OBJECTID': 142, 'Shape_Leng': 0.0381758942321, 'Shape_Area': 7.56537920738e-05, 'zone': 'Lincoln Square East', 'LocationID': 142, 'borough': 'Manhattan'}\n",
      "{'OBJECTID': 143, 'Shape_Leng': 0.0541798538849, 'Shape_Area': 0.00015109426901, 'zone': 'Lincoln Square West', 'LocationID': 143, 'borough': 'Manhattan'}\n",
      "{'OBJECTID': 144, 'Shape_Leng': 0.0276201668505, 'Shape_Area': 4.74789670369e-05, 'zone': 'Little Italy/NoLiTa', 'LocationID': 144, 'borough': 'Manhattan'}\n",
      "{'OBJECTID': 145, 'Shape_Leng': 0.114313844981, 'Shape_Area': 0.000346641733797, 'zone': 'Long Island City/Hunters Point', 'LocationID': 145, 'borough': 'Queens'}\n",
      "{'OBJECTID': 146, 'Shape_Leng': 0.0471405215717, 'Shape_Area': 0.000104638923425, 'zone': 'Long Island City/Queens Plaza', 'LocationID': 146, 'borough': 'Queens'}\n",
      "{'OBJECTID': 147, 'Shape_Leng': 0.0587654949268, 'Shape_Area': 0.000106418172757, 'zone': 'Longwood', 'LocationID': 147, 'borough': 'Bronx'}\n",
      "{'OBJECTID': 148, 'Shape_Leng': 0.0391305015633, 'Shape_Area': 6.97489921327e-05, 'zone': 'Lower East Side', 'LocationID': 148, 'borough': 'Manhattan'}\n",
      "{'OBJECTID': 149, 'Shape_Leng': 0.0836805821837, 'Shape_Area': 0.000270639618955, 'zone': 'Madison', 'LocationID': 149, 'borough': 'Brooklyn'}\n",
      "{'OBJECTID': 150, 'Shape_Leng': 0.089331491183, 'Shape_Area': 0.000332568036088, 'zone': 'Manhattan Beach', 'LocationID': 150, 'borough': 'Brooklyn'}\n",
      "{'OBJECTID': 151, 'Shape_Leng': 0.0548899410999, 'Shape_Area': 0.000128848901918, 'zone': 'Manhattan Valley', 'LocationID': 151, 'borough': 'Manhattan'}\n",
      "{'OBJECTID': 152, 'Shape_Leng': 0.0579094768782, 'Shape_Area': 0.000146637644064, 'zone': 'Manhattanville', 'LocationID': 152, 'borough': 'Manhattan'}\n",
      "{'OBJECTID': 153, 'Shape_Leng': 0.024737239022, 'Shape_Area': 3.24684964817e-05, 'zone': 'Marble Hill', 'LocationID': 153, 'borough': 'Manhattan'}\n",
      "{'OBJECTID': 154, 'Shape_Leng': 0.22733157076, 'Shape_Area': 0.00178968692433, 'zone': 'Marine Park/Floyd Bennett Field', 'LocationID': 154, 'borough': 'Brooklyn'}\n",
      "{'OBJECTID': 155, 'Shape_Leng': 0.169808473032, 'Shape_Area': 0.000868261018498, 'zone': 'Marine Park/Mill Basin', 'LocationID': 155, 'borough': 'Brooklyn'}\n",
      "{'OBJECTID': 156, 'Shape_Leng': 0.144476890476, 'Shape_Area': 0.0010521217443, 'zone': 'Mariners Harbor', 'LocationID': 156, 'borough': 'Staten Island'}\n",
      "{'OBJECTID': 157, 'Shape_Leng': 0.131300217777, 'Shape_Area': 0.000354370128323, 'zone': 'Maspeth', 'LocationID': 157, 'borough': 'Queens'}\n",
      "{'OBJECTID': 158, 'Shape_Leng': 0.0548099905515, 'Shape_Area': 0.000185568253002, 'zone': 'Meatpacking/West Village West', 'LocationID': 158, 'borough': 'Manhattan'}\n",
      "{'OBJECTID': 159, 'Shape_Leng': 0.064363233206, 'Shape_Area': 0.00017124910387, 'zone': 'Melrose South', 'LocationID': 159, 'borough': 'Bronx'}\n",
      "{'OBJECTID': 160, 'Shape_Leng': 0.14151914297, 'Shape_Area': 0.000571234977994, 'zone': 'Middle Village', 'LocationID': 160, 'borough': 'Queens'}\n",
      "{'OBJECTID': 161, 'Shape_Leng': 0.0358039100611, 'Shape_Area': 7.19130682992e-05, 'zone': 'Midtown Center', 'LocationID': 161, 'borough': 'Manhattan'}\n",
      "{'OBJECTID': 162, 'Shape_Leng': 0.0352698146219, 'Shape_Area': 4.78936962112e-05, 'zone': 'Midtown East', 'LocationID': 162, 'borough': 'Manhattan'}\n",
      "{'OBJECTID': 163, 'Shape_Leng': 0.0341768669752, 'Shape_Area': 4.08567804196e-05, 'zone': 'Midtown North', 'LocationID': 163, 'borough': 'Manhattan'}\n",
      "{'OBJECTID': 164, 'Shape_Leng': 0.0357716119908, 'Shape_Area': 5.56318237441e-05, 'zone': 'Midtown South', 'LocationID': 164, 'borough': 'Manhattan'}\n",
      "{'OBJECTID': 165, 'Shape_Leng': 0.088608036213, 'Shape_Area': 0.000353959317019, 'zone': 'Midwood', 'LocationID': 165, 'borough': 'Brooklyn'}\n",
      "{'OBJECTID': 166, 'Shape_Leng': 0.0688237542871, 'Shape_Area': 0.000255276270405, 'zone': 'Morningside Heights', 'LocationID': 166, 'borough': 'Manhattan'}\n",
      "{'OBJECTID': 167, 'Shape_Leng': 0.0908159737292, 'Shape_Area': 0.000167529391193, 'zone': 'Morrisania/Melrose', 'LocationID': 167, 'borough': 'Bronx'}\n",
      "{'OBJECTID': 168, 'Shape_Leng': 0.114517434155, 'Shape_Area': 0.000547058100444, 'zone': 'Mott Haven/Port Morris', 'LocationID': 168, 'borough': 'Bronx'}\n",
      "{'OBJECTID': 169, 'Shape_Leng': 0.0601046580332, 'Shape_Area': 0.000146027537733, 'zone': 'Mount Hope', 'LocationID': 169, 'borough': 'Bronx'}\n",
      "{'OBJECTID': 170, 'Shape_Leng': 0.0457690091051, 'Shape_Area': 7.43150675972e-05, 'zone': 'Murray Hill', 'LocationID': 170, 'borough': 'Manhattan'}\n",
      "{'OBJECTID': 171, 'Shape_Leng': 0.107353876244, 'Shape_Area': 0.000520099538161, 'zone': 'Murray Hill-Queens', 'LocationID': 171, 'borough': 'Queens'}\n",
      "{'OBJECTID': 172, 'Shape_Leng': 0.118476116148, 'Shape_Area': 0.000658402501406, 'zone': 'New Dorp/Midland Beach', 'LocationID': 172, 'borough': 'Staten Island'}\n",
      "{'OBJECTID': 173, 'Shape_Leng': 0.0600639661414, 'Shape_Area': 0.000178329851357, 'zone': 'North Corona', 'LocationID': 173, 'borough': 'Queens'}\n",
      "{'OBJECTID': 174, 'Shape_Leng': 0.0678177559602, 'Shape_Area': 0.000155928664422, 'zone': 'Norwood', 'LocationID': 174, 'borough': 'Bronx'}\n",
      "{'OBJECTID': 175, 'Shape_Leng': 0.134897665102, 'Shape_Area': 0.000504920726134, 'zone': 'Oakland Gardens', 'LocationID': 175, 'borough': 'Queens'}\n",
      "{'OBJECTID': 176, 'Shape_Leng': 0.151995190703, 'Shape_Area': 0.000657782126267, 'zone': 'Oakwood', 'LocationID': 176, 'borough': 'Staten Island'}\n",
      "{'OBJECTID': 177, 'Shape_Leng': 0.0715805407056, 'Shape_Area': 0.000198894762248, 'zone': 'Ocean Hill', 'LocationID': 177, 'borough': 'Brooklyn'}\n",
      "{'OBJECTID': 178, 'Shape_Leng': 0.0682528770739, 'Shape_Area': 0.000175805409143, 'zone': 'Ocean Parkway South', 'LocationID': 178, 'borough': 'Brooklyn'}\n",
      "{'OBJECTID': 179, 'Shape_Leng': 0.0713808644377, 'Shape_Area': 0.000183893478476, 'zone': 'Old Astoria', 'LocationID': 179, 'borough': 'Queens'}\n",
      "{'OBJECTID': 180, 'Shape_Leng': 0.0805277671523, 'Shape_Area': 0.000247682193353, 'zone': 'Ozone Park', 'LocationID': 180, 'borough': 'Queens'}\n",
      "{'OBJECTID': 181, 'Shape_Leng': 0.0895372399547, 'Shape_Area': 0.000306890292807, 'zone': 'Park Slope', 'LocationID': 181, 'borough': 'Brooklyn'}\n",
      "{'OBJECTID': 182, 'Shape_Leng': 0.0393606369479, 'Shape_Area': 9.10644156732e-05, 'zone': 'Parkchester', 'LocationID': 182, 'borough': 'Bronx'}\n",
      "{'OBJECTID': 183, 'Shape_Leng': 0.0398262960348, 'Shape_Area': 9.51929451066e-05, 'zone': 'Pelham Bay', 'LocationID': 183, 'borough': 'Bronx'}\n",
      "{'OBJECTID': 184, 'Shape_Leng': 0.260815683043, 'Shape_Area': 0.00198883363103, 'zone': 'Pelham Bay Park', 'LocationID': 184, 'borough': 'Bronx'}\n",
      "{'OBJECTID': 185, 'Shape_Leng': 0.0861619681636, 'Shape_Area': 0.000228537100218, 'zone': 'Pelham Parkway', 'LocationID': 185, 'borough': 'Bronx'}\n",
      "{'OBJECTID': 186, 'Shape_Leng': 0.0246963902234, 'Shape_Area': 3.70729416953e-05, 'zone': 'Penn Station/Madison Sq West', 'LocationID': 186, 'borough': 'Manhattan'}\n",
      "{'OBJECTID': 187, 'Shape_Leng': 0.126868431324, 'Shape_Area': 0.000421195755741, 'zone': 'Port Richmond', 'LocationID': 187, 'borough': 'Staten Island'}\n",
      "{'OBJECTID': 188, 'Shape_Leng': 0.0977983968367, 'Shape_Area': 0.000313003032771, 'zone': 'Prospect-Lefferts Gardens', 'LocationID': 188, 'borough': 'Brooklyn'}\n",
      "{'OBJECTID': 189, 'Shape_Leng': 0.0486743306502, 'Shape_Area': 0.000101427594033, 'zone': 'Prospect Heights', 'LocationID': 189, 'borough': 'Brooklyn'}\n",
      "{'OBJECTID': 190, 'Shape_Leng': 0.0743294660829, 'Shape_Area': 0.000270873666522, 'zone': 'Prospect Park', 'LocationID': 190, 'borough': 'Brooklyn'}\n",
      "{'OBJECTID': 191, 'Shape_Leng': 0.130932637664, 'Shape_Area': 0.000688460603185, 'zone': 'Queens Village', 'LocationID': 191, 'borough': 'Queens'}\n",
      "{'OBJECTID': 192, 'Shape_Leng': 0.11196461971, 'Shape_Area': 0.000373808019026, 'zone': 'Queensboro Hill', 'LocationID': 192, 'borough': 'Queens'}\n",
      "{'OBJECTID': 193, 'Shape_Leng': 0.0655299584801, 'Shape_Area': 0.000145591657944, 'zone': 'Queensbridge/Ravenswood', 'LocationID': 193, 'borough': 'Queens'}\n",
      "{'OBJECTID': 194, 'Shape_Leng': 0.0817938353532, 'Shape_Area': 0.000273481702719, 'zone': 'Randalls Island', 'LocationID': 194, 'borough': 'Manhattan'}\n",
      "{'OBJECTID': 195, 'Shape_Leng': 0.131308244067, 'Shape_Area': 0.000801651953985, 'zone': 'Red Hook', 'LocationID': 195, 'borough': 'Brooklyn'}\n",
      "{'OBJECTID': 196, 'Shape_Leng': 0.0832421106332, 'Shape_Area': 0.0001974713336, 'zone': 'Rego Park', 'LocationID': 196, 'borough': 'Queens'}\n",
      "{'OBJECTID': 197, 'Shape_Leng': 0.108568532229, 'Shape_Area': 0.000504689160432, 'zone': 'Richmond Hill', 'LocationID': 197, 'borough': 'Queens'}\n",
      "{'OBJECTID': 198, 'Shape_Leng': 0.134094242763, 'Shape_Area': 0.000499809882564, 'zone': 'Ridgewood', 'LocationID': 198, 'borough': 'Queens'}\n",
      "{'OBJECTID': 199, 'Shape_Leng': 0.0778085005169, 'Shape_Area': 0.000288747549303, 'zone': 'Rikers Island', 'LocationID': 199, 'borough': 'Bronx'}\n",
      "{'OBJECTID': 200, 'Shape_Leng': 0.112661735435, 'Shape_Area': 0.000744643168558, 'zone': 'Riverdale/North Riverdale/Fieldston', 'LocationID': 200, 'borough': 'Bronx'}\n",
      "{'OBJECTID': 201, 'Shape_Leng': 0.130404117686, 'Shape_Area': 0.000619350747819, 'zone': 'Rockaway Park', 'LocationID': 201, 'borough': 'Queens'}\n",
      "{'OBJECTID': 202, 'Shape_Leng': 0.0699215712618, 'Shape_Area': 0.000106175396322, 'zone': 'Roosevelt Island', 'LocationID': 202, 'borough': 'Manhattan'}\n",
      "{'OBJECTID': 203, 'Shape_Leng': 0.189937815868, 'Shape_Area': 0.000615129861659, 'zone': 'Rosedale', 'LocationID': 203, 'borough': 'Queens'}\n",
      "{'OBJECTID': 204, 'Shape_Leng': 0.101912418311, 'Shape_Area': 0.000641384265972, 'zone': 'Rossville/Woodrow', 'LocationID': 204, 'borough': 'Staten Island'}\n",
      "{'OBJECTID': 205, 'Shape_Leng': 0.141953388327, 'Shape_Area': 0.000766216513505, 'zone': 'Saint Albans', 'LocationID': 205, 'borough': 'Queens'}\n",
      "{'OBJECTID': 206, 'Shape_Leng': 0.212756793386, 'Shape_Area': 0.000944392507762, 'zone': 'Saint George/New Brighton', 'LocationID': 206, 'borough': 'Staten Island'}\n",
      "{'OBJECTID': 207, 'Shape_Leng': 0.0283756831492, 'Shape_Area': 4.47230848441e-05, 'zone': 'Saint Michaels Cemetery/Woodside', 'LocationID': 207, 'borough': 'Queens'}\n",
      "{'OBJECTID': 208, 'Shape_Leng': 0.214721009581, 'Shape_Area': 0.00202032598969, 'zone': 'Schuylerville/Edgewater Park', 'LocationID': 208, 'borough': 'Bronx'}\n",
      "{'OBJECTID': 209, 'Shape_Leng': 0.0306953113473, 'Shape_Area': 3.88703351209e-05, 'zone': 'Seaport', 'LocationID': 209, 'borough': 'Manhattan'}\n",
      "{'OBJECTID': 210, 'Shape_Leng': 0.114851983372, 'Shape_Area': 0.000453155131253, 'zone': 'Sheepshead Bay', 'LocationID': 210, 'borough': 'Brooklyn'}\n",
      "{'OBJECTID': 211, 'Shape_Leng': 0.0252345082132, 'Shape_Area': 3.97291966087e-05, 'zone': 'SoHo', 'LocationID': 211, 'borough': 'Manhattan'}\n",
      "{'OBJECTID': 212, 'Shape_Leng': 0.0671290653429, 'Shape_Area': 0.000161276191858, 'zone': 'Soundview/Bruckner', 'LocationID': 212, 'borough': 'Bronx'}\n",
      "{'OBJECTID': 213, 'Shape_Leng': 0.159958783822, 'Shape_Area': 0.000904077906339, 'zone': 'Soundview/Castle Hill', 'LocationID': 213, 'borough': 'Bronx'}\n",
      "{'OBJECTID': 214, 'Shape_Leng': 0.135300314246, 'Shape_Area': 0.000811976523012, 'zone': 'South Beach/Dongan Hills', 'LocationID': 214, 'borough': 'Staten Island'}\n",
      "{'OBJECTID': 215, 'Shape_Leng': 0.103556453625, 'Shape_Area': 0.000395647022725, 'zone': 'South Jamaica', 'LocationID': 215, 'borough': 'Queens'}\n",
      "{'OBJECTID': 216, 'Shape_Leng': 0.116797554681, 'Shape_Area': 0.000816076647781, 'zone': 'South Ozone Park', 'LocationID': 216, 'borough': 'Queens'}\n",
      "{'OBJECTID': 217, 'Shape_Leng': 0.0553905251285, 'Shape_Area': 0.000114733270758, 'zone': 'South Williamsburg', 'LocationID': 217, 'borough': 'Brooklyn'}\n",
      "{'OBJECTID': 218, 'Shape_Leng': 0.0837008281049, 'Shape_Area': 0.000281293736407, 'zone': 'Springfield Gardens North', 'LocationID': 218, 'borough': 'Queens'}\n",
      "{'OBJECTID': 219, 'Shape_Leng': 0.155126669675, 'Shape_Area': 0.000428176336771, 'zone': 'Springfield Gardens South', 'LocationID': 219, 'borough': 'Queens'}\n",
      "{'OBJECTID': 220, 'Shape_Leng': 0.106015943267, 'Shape_Area': 0.000313035744467, 'zone': 'Spuyten Duyvil/Kingsbridge', 'LocationID': 220, 'borough': 'Bronx'}\n",
      "{'OBJECTID': 221, 'Shape_Leng': 0.166218220846, 'Shape_Area': 0.000890111567051, 'zone': 'Stapleton', 'LocationID': 221, 'borough': 'Staten Island'}\n",
      "{'OBJECTID': 222, 'Shape_Leng': 0.0483893527976, 'Shape_Area': 0.000130268343918, 'zone': 'Starrett City', 'LocationID': 222, 'borough': 'Brooklyn'}\n",
      "{'OBJECTID': 223, 'Shape_Leng': 0.166021925275, 'Shape_Area': 0.00076436070058, 'zone': 'Steinway', 'LocationID': 223, 'borough': 'Queens'}\n",
      "{'OBJECTID': 224, 'Shape_Leng': 0.0440204462769, 'Shape_Area': 9.84786989135e-05, 'zone': 'Stuy Town/Peter Cooper Village', 'LocationID': 224, 'borough': 'Manhattan'}\n",
      "{'OBJECTID': 225, 'Shape_Leng': 0.0887992073281, 'Shape_Area': 0.000310835395162, 'zone': 'Stuyvesant Heights', 'LocationID': 225, 'borough': 'Brooklyn'}\n",
      "{'OBJECTID': 226, 'Shape_Leng': 0.168957762041, 'Shape_Area': 0.00076194414504, 'zone': 'Sunnyside', 'LocationID': 226, 'borough': 'Queens'}\n",
      "{'OBJECTID': 227, 'Shape_Leng': 0.0828301570789, 'Shape_Area': 0.000268316529534, 'zone': 'Sunset Park East', 'LocationID': 227, 'borough': 'Brooklyn'}\n",
      "{'OBJECTID': 228, 'Shape_Leng': 0.177685177706, 'Shape_Area': 0.000993414783816, 'zone': 'Sunset Park West', 'LocationID': 228, 'borough': 'Brooklyn'}\n",
      "{'OBJECTID': 229, 'Shape_Leng': 0.0425252900116, 'Shape_Area': 9.47058230931e-05, 'zone': 'Sutton Place/Turtle Bay North', 'LocationID': 229, 'borough': 'Manhattan'}\n",
      "{'OBJECTID': 230, 'Shape_Leng': 0.0310283096779, 'Shape_Area': 5.60914463266e-05, 'zone': 'Times Sq/Theatre District', 'LocationID': 230, 'borough': 'Manhattan'}\n",
      "{'OBJECTID': 231, 'Shape_Leng': 0.0634201165587, 'Shape_Area': 0.000166929752992, 'zone': 'TriBeCa/Civic Center', 'LocationID': 231, 'borough': 'Manhattan'}\n",
      "{'OBJECTID': 232, 'Shape_Leng': 0.0614709085331, 'Shape_Area': 0.000216049973456, 'zone': 'Two Bridges/Seward Park', 'LocationID': 232, 'borough': 'Manhattan'}\n",
      "{'OBJECTID': 233, 'Shape_Leng': 0.048035918294, 'Shape_Area': 0.000116188094682, 'zone': 'UN/Turtle Bay South', 'LocationID': 233, 'borough': 'Manhattan'}\n",
      "{'OBJECTID': 234, 'Shape_Leng': 0.0360721994984, 'Shape_Area': 7.31054382894e-05, 'zone': 'Union Sq', 'LocationID': 234, 'borough': 'Manhattan'}\n",
      "{'OBJECTID': 235, 'Shape_Leng': 0.0761668426519, 'Shape_Area': 0.000212844547337, 'zone': 'University Heights/Morris Heights', 'LocationID': 235, 'borough': 'Bronx'}\n",
      "{'OBJECTID': 236, 'Shape_Leng': 0.0442519223099, 'Shape_Area': 0.000102864345211, 'zone': 'Upper East Side North', 'LocationID': 236, 'borough': 'Manhattan'}\n",
      "{'OBJECTID': 237, 'Shape_Leng': 0.0422126003388, 'Shape_Area': 9.59873206621e-05, 'zone': 'Upper East Side South', 'LocationID': 237, 'borough': 'Manhattan'}\n",
      "{'OBJECTID': 238, 'Shape_Leng': 0.0601093114033, 'Shape_Area': 0.000184763693765, 'zone': 'Upper West Side North', 'LocationID': 238, 'borough': 'Manhattan'}\n",
      "{'OBJECTID': 239, 'Shape_Leng': 0.0636261152958, 'Shape_Area': 0.000204715440774, 'zone': 'Upper West Side South', 'LocationID': 239, 'borough': 'Manhattan'}\n",
      "{'OBJECTID': 240, 'Shape_Leng': 0.146069764379, 'Shape_Area': 0.000722130920707, 'zone': 'Van Cortlandt Park', 'LocationID': 240, 'borough': 'Bronx'}\n",
      "{'OBJECTID': 241, 'Shape_Leng': 0.0687645777649, 'Shape_Area': 0.00025467697592, 'zone': 'Van Cortlandt Village', 'LocationID': 241, 'borough': 'Bronx'}\n",
      "{'OBJECTID': 242, 'Shape_Leng': 0.138136446433, 'Shape_Area': 0.000360072450014, 'zone': 'Van Nest/Morris Park', 'LocationID': 242, 'borough': 'Bronx'}\n",
      "{'OBJECTID': 243, 'Shape_Leng': 0.0943314999364, 'Shape_Area': 0.000438377341503, 'zone': 'Washington Heights North', 'LocationID': 243, 'borough': 'Manhattan'}\n",
      "{'OBJECTID': 244, 'Shape_Leng': 0.0805686044599, 'Shape_Area': 0.000359702747951, 'zone': 'Washington Heights South', 'LocationID': 244, 'borough': 'Manhattan'}\n",
      "{'OBJECTID': 245, 'Shape_Leng': 0.0959830596604, 'Shape_Area': 0.000466175414294, 'zone': 'West Brighton', 'LocationID': 245, 'borough': 'Staten Island'}\n",
      "{'OBJECTID': 246, 'Shape_Leng': 0.0694671937437, 'Shape_Area': 0.000281298327076, 'zone': 'West Chelsea/Hudson Yards', 'LocationID': 246, 'borough': 'Manhattan'}\n",
      "{'OBJECTID': 247, 'Shape_Leng': 0.0929678582271, 'Shape_Area': 0.000205617157843, 'zone': 'West Concourse', 'LocationID': 247, 'borough': 'Bronx'}\n",
      "{'OBJECTID': 248, 'Shape_Leng': 0.0569191167671, 'Shape_Area': 0.000149592769799, 'zone': 'West Farms/Bronx River', 'LocationID': 248, 'borough': 'Bronx'}\n",
      "{'OBJECTID': 249, 'Shape_Leng': 0.03638434365, 'Shape_Area': 7.22155957729e-05, 'zone': 'West Village', 'LocationID': 249, 'borough': 'Manhattan'}\n",
      "{'OBJECTID': 250, 'Shape_Leng': 0.0796263465454, 'Shape_Area': 0.000240975845956, 'zone': 'Westchester Village/Unionport', 'LocationID': 250, 'borough': 'Bronx'}\n",
      "{'OBJECTID': 251, 'Shape_Leng': 0.1377111611, 'Shape_Area': 0.000625754983157, 'zone': 'Westerleigh', 'LocationID': 251, 'borough': 'Staten Island'}\n",
      "{'OBJECTID': 252, 'Shape_Leng': 0.158004373564, 'Shape_Area': 0.00102526406057, 'zone': 'Whitestone', 'LocationID': 252, 'borough': 'Queens'}\n",
      "{'OBJECTID': 253, 'Shape_Leng': 0.0360514998192, 'Shape_Area': 7.83395761191e-05, 'zone': 'Willets Point', 'LocationID': 253, 'borough': 'Queens'}\n",
      "{'OBJECTID': 254, 'Shape_Leng': 0.0858863754861, 'Shape_Area': 0.000360040216032, 'zone': 'Williamsbridge/Olinville', 'LocationID': 254, 'borough': 'Bronx'}\n",
      "{'OBJECTID': 255, 'Shape_Leng': 0.0623841997664, 'Shape_Area': 0.000172309184842, 'zone': 'Williamsburg (North Side)', 'LocationID': 255, 'borough': 'Brooklyn'}\n",
      "{'OBJECTID': 256, 'Shape_Leng': 0.0679149669603, 'Shape_Area': 0.000168611097013, 'zone': 'Williamsburg (South Side)', 'LocationID': 256, 'borough': 'Brooklyn'}\n",
      "{'OBJECTID': 257, 'Shape_Leng': 0.0586690259793, 'Shape_Area': 0.00013890947321, 'zone': 'Windsor Terrace', 'LocationID': 257, 'borough': 'Brooklyn'}\n",
      "{'OBJECTID': 258, 'Shape_Leng': 0.0890133787693, 'Shape_Area': 0.000366209617143, 'zone': 'Woodhaven', 'LocationID': 258, 'borough': 'Queens'}\n",
      "{'OBJECTID': 259, 'Shape_Leng': 0.126750305191, 'Shape_Area': 0.000394552487366, 'zone': 'Woodlawn/Wakefield', 'LocationID': 259, 'borough': 'Bronx'}\n",
      "{'OBJECTID': 260, 'Shape_Leng': 0.133514154636, 'Shape_Area': 0.000422345326907, 'zone': 'Woodside', 'LocationID': 260, 'borough': 'Queens'}\n",
      "{'OBJECTID': 261, 'Shape_Leng': 0.0271204563616, 'Shape_Area': 3.43423231652e-05, 'zone': 'World Trade Center', 'LocationID': 261, 'borough': 'Manhattan'}\n",
      "{'OBJECTID': 262, 'Shape_Leng': 0.0490636231541, 'Shape_Area': 0.000122330270966, 'zone': 'Yorkville East', 'LocationID': 262, 'borough': 'Manhattan'}\n",
      "{'OBJECTID': 263, 'Shape_Leng': 0.0370166252994, 'Shape_Area': 6.57697664169e-05, 'zone': 'Yorkville West', 'LocationID': 263, 'borough': 'Manhattan'}"
     ]
    }
   ],
   "source": [
    "shp_attr = [dict(zip(fields_name, attr)) for attr in attributes]\n",
    "for sattr in shp_attr:\n",
    "    sattr"
   ]
  },
  {
   "cell_type": "code",
   "execution_count": 90,
   "metadata": {
    "collapsed": true,
    "jupyter": {
     "outputs_hidden": true
    }
   },
   "outputs": [
    {
     "data": {
      "application/vnd.jupyter.widget-view+json": {
       "model_id": "3d026c93fc8248d59699e32a21e94d83",
       "version_major": 2,
       "version_minor": 0
      },
      "text/plain": [
       "VBox()"
      ]
     },
     "metadata": {},
     "output_type": "display_data"
    },
    {
     "data": {
      "application/vnd.jupyter.widget-view+json": {
       "model_id": "",
       "version_major": 2,
       "version_minor": 0
      },
      "text/plain": [
       "FloatProgress(value=0.0, bar_style='info', description='Progress:', layout=Layout(height='25px', width='50%'),…"
      ]
     },
     "metadata": {},
     "output_type": "display_data"
    },
    {
     "name": "stdout",
     "output_type": "stream",
     "text": [
      "(array('d', [931553.4909607167, 183788.04973023868, 941810.0086498931, 197256.2108251324]), Record #0: [1, 0.116357453189, 0.0007823067885, 'Newark Airport', 1, 'EWR'])\n",
      "(array('d', [1018052.3591919094, 151230.39099124074, 1049019.8063964993, 172477.57360841334]), Record #1: [2, 0.43346966679, 0.00486634037837, 'Jamaica Bay', 2, 'Queens'])\n",
      "(array('d', [1022540.6604834348, 251648.65237039328, 1031732.1639056653, 257811.3693266213]), Record #2: [3, 0.0843411059012, 0.000314414156821, 'Allerton/Pelham Gardens', 3, 'Bronx'])\n",
      "(array('d', [988733.885187909, 201170.6183192879, 992114.1539525241, 205029.46254441142]), Record #3: [4, 0.0435665270921, 0.000111871946192, 'Alphabet City', 4, 'Manhattan'])\n",
      "(array('d', [927766.5390208364, 134554.84833614528, 936499.88067846, 145354.2355352044]), Record #4: [5, 0.0921464898574, 0.000497957489363, 'Arden Heights', 5, 'Staten Island'])\n",
      "(array('d', [958451.7027633935, 153868.42604996264, 969746.3320312649, 161198.91807557642]), Record #5: [6, 0.150490542523, 0.000606460984581, 'Arrochar/Fort Wadsworth', 6, 'Staten Island'])\n",
      "(array('d', [1001260.812120989, 213309.3014806658, 1011389.0655174106, 219829.52056124806]), Record #6: [7, 0.107417171123, 0.000389787989274, 'Astoria', 7, 'Queens'])\n",
      "(array('d', [1004114.3856654912, 221499.11693656445, 1006968.7795186937, 224422.04769186676]), Record #7: [8, 0.0275906911574, 2.6587716279e-05, 'Astoria Park', 8, 'Queens'])\n",
      "(array('d', [1040414.4138160348, 208318.34435164928, 1046392.97098957, 220023.06088984013]), Record #8: [9, 0.0997840924705, 0.000338443803197, 'Auburndale', 9, 'Queens'])\n",
      "(array('d', [1038120.4419928938, 182170.75559045374, 1047431.1611431688, 190734.32089698315]), Record #9: [10, 0.0998394794152, 0.000435823818081, 'Baisley Park', 10, 'Queens'])\n",
      "(array('d', [978855.248490423, 155734.85975202918, 985473.7475159317, 162935.65002804995]), Record #10: [11, 0.0792110389596, 0.00026452053504, 'Bath Beach', 11, 'Brooklyn'])\n",
      "(array('d', [979347.0867920071, 194346.27880859375, 980432.2750512809, 196084.61617203057]), Record #11: [12, 0.0366613013579, 4.15116236727e-05, 'Battery Park', 12, 'Manhattan'])\n",
      "(array('d', [978887.1730346829, 195740.54400637746, 980801.3095727563, 201275.77463011444]), Record #12: [13, 0.0502813228631, 0.000149358592917, 'Battery Park City', 13, 'Manhattan'])\n",
      "(array('d', [972619.712829575, 158919.36825324595, 980046.0127621889, 174019.15698896348]), Record #13: [14, 0.175213698053, 0.00138177826442, 'Bay Ridge', 14, 'Brooklyn'])\n",
      "(array('d', [1038593.4591958225, 220980.7039631009, 1048845.8710327744, 229628.67419436574]), Record #14: [15, 0.14433622262, 0.000925219395547, 'Bay Terrace/Fort Totten', 15, 'Queens'])\n",
      "(array('d', [1040848.2659289092, 210169.75354078412, 1052457.788159132, 223210.62110421062]), Record #15: [16, 0.141291873771, 0.000871889446182, 'Bayside', 16, 'Queens'])\n",
      "(array('d', [995050.0798339993, 186984.30539625883, 1000800.9079147875, 195644.66168020666]), Record #16: [17, 0.093522632948, 0.000322957654799, 'Bedford', 17, 'Brooklyn'])\n",
      "(array('d', [1011611.7424808592, 251937.61171889305, 1017033.2865177691, 259621.29700030386]), Record #17: [18, 0.0697995498569, 0.000148850163948, 'Bedford Park', 18, 'Bronx'])\n",
      "(array('d', [1054444.9887268394, 202832.50467830896, 1064489.8829433173, 212784.6402245313]), Record #18: [19, 0.101824875452, 0.000546661094782, 'Bellerose', 19, 'Queens'])\n",
      "(array('d', [1014186.7076397538, 248328.83744689822, 1017275.2050766796, 255264.37341061234]), Record #19: [20, 0.0514401924362, 0.000134512633032, 'Belmont', 20, 'Bronx'])\n",
      "(array('d', [984185.4180297852, 153655.66558083892, 992169.2719079852, 163543.8049095422]), Record #20: [21, 0.115973569062, 0.000380251345507, 'Bensonhurst East', 21, 'Brooklyn'])\n",
      "(array('d', [981333.6705582887, 155153.62280274928, 989903.0823221356, 167646.0274374783]), Record #21: [22, 0.126170229196, 0.000472062684608, 'Bensonhurst West', 22, 'Brooklyn'])\n",
      "(array('d', [927024.0765991509, 150592.4406939745, 952351.8429622799, 170709.18359375]), Record #22: [23, 0.290556028962, 0.00219556576201, 'Bloomfield/Emerson Hill', 23, 'Staten Island'])\n",
      "(array('d', [991760.4703724682, 230027.44151216745, 995830.3348496258, 232849.4353930652]), Record #23: [24, 0.0469999619287, 6.07235737749e-05, 'Bloomingdale', 24, 'Manhattan'])\n",
      "(array('d', [985664.1474168152, 186769.57806573808, 990339.6668462902, 191436.01921966672]), Record #24: [25, 0.0471458199319, 0.000124168267356, 'Boerum Hill', 25, 'Brooklyn'])\n",
      "(array('d', [982208.2061350942, 162478.11165989935, 991773.078733474, 174107.99943068624]), Record #25: [26, 0.12354780707, 0.000534039927626, 'Borough Park', 26, 'Brooklyn'])\n",
      "(array('d', [1000721.5317513347, 136681.77615575492, 1022404.1647949368, 149180.35975559056]), Record #26: [27, 0.202508808518, 0.00134088762746, 'Breezy Point/Fort Tilden/Riis Beach', 27, 'Queens'])\n",
      "(array('d', [1032507.5895947516, 195189.63303925097, 1042259.0946888626, 201372.9602675736]), Record #27: [28, 0.097960782214, 0.000291203927662, 'Briarwood/Jamaica Hills', 28, 'Queens'])\n",
      "(array('d', [992892.3577268422, 148195.36700437963, 997484.9949154407, 154813.81672549248]), Record #28: [29, 0.0714083127733, 0.000201673837402, 'Brighton Beach', 29, 'Brooklyn'])\n",
      "(array('d', [1030115.5314514488, 155945.6523554623, 1035685.834242925, 163473.15239930153]), Record #29: [30, 0.0945097669793, 0.000145862107626, 'Broad Channel', 30, 'Queens'])\n",
      "(array('d', [1016341.98549743, 245890.8787690252, 1020703.2821748406, 259369.25999830663]), Record #30: [31, 0.0964245666516, 0.000333975927329, 'Bronx Park', 31, 'Bronx'])\n",
      "(array('d', [1019911.9189482778, 251628.9638696611, 1023907.3045444041, 256819.04524493217]), Record #31: [32, 0.05426721601, 0.000150879171971, 'Bronxdale', 32, 'Bronx'])\n",
      "(array('d', [983414.2272742093, 190347.67116326094, 987292.283106178, 195535.75502961874]), Record #32: [33, 0.0532702931967, 0.000147416802448, 'Brooklyn Heights', 33, 'Brooklyn'])\n",
      "(array('d', [989113.3824429363, 192825.19247861207, 994736.7863138169, 197615.71777909994]), Record #33: [34, 0.0657059323545, 0.000173946146651, 'Brooklyn Navy Yard', 34, 'Brooklyn'])\n",
      "(array('d', [1004674.0531763285, 176865.75965741277, 1012326.8032212108, 185396.4607143402]), Record #34: [35, 0.085787918592, 0.000323825195932, 'Brownsville', 35, 'Brooklyn'])\n",
      "(array('d', [1002571.0158661604, 190146.98218110204, 1011639.7309072316, 197738.2731155753]), Record #35: [36, 0.0870507867063, 0.000247666139269, 'Bushwick North', 36, 'Brooklyn'])\n",
      "(array('d', [999670.073781997, 186749.37139192224, 1012965.5230907053, 199184.06734763086]), Record #36: [37, 0.142810040466, 0.000452062644782, 'Bushwick South', 37, 'Brooklyn'])\n",
      "(array('d', [1054199.9727882743, 188318.54480920732, 1060298.710446775, 195680.0587438494]), Record #37: [38, 0.0832175685234, 0.000327392684821, 'Cambria Heights', 38, 'Queens'])\n",
      "(array('d', [1006464.5613100082, 166094.07720947266, 1018348.2197440863, 178002.3483580649]), Record #38: [39, 0.132369620757, 0.00090028293862, 'Canarsie', 39, 'Brooklyn'])\n",
      "(array('d', [983336.825977534, 184042.25400564075, 987793.4871299565, 188932.91898342967]), Record #39: [40, 0.0518506648762, 0.000108949211644, 'Carroll Gardens', 40, 'Brooklyn'])\n",
      "(array('d', [995422.1756623238, 229616.79403543472, 1000369.7375270128, 234911.22576755285]), Record #40: [41, 0.052793109453, 0.000143093037737, 'Central Harlem', 41, 'Manhattan'])\n",
      "(array('d', [997509.202251941, 232832.04702155292, 1002564.7496337891, 243934.56038284302]), Record #41: [42, 0.0927092274616, 0.000263896952605, 'Central Harlem North', 42, 'Manhattan'])\n",
      "(array('d', [989333.4212970138, 217725.2990320772, 998309.7254766375, 230953.56984065473]), Record #42: [43, 0.0997386183576, 0.000379662912054, 'Central Park', 43, 'Manhattan'])\n",
      "(array('d', [913175.109008804, 120121.88125434518, 927093.4395180792, 142826.0355462134]), Record #43: [44, 0.235688967594, 0.00194465649192, 'Charleston/Tottenville', 44, 'Staten Island'])\n",
      "(array('d', [982616.6246379465, 197200.80712497234, 986529.8478368521, 200869.51016107202]), Record #44: [45, 0.0459068626235, 9.13594688556e-05, 'Chinatown', 45, 'Manhattan'])\n",
      "(array('d', [1041375.5521850586, 243365.47680664062, 1049167.4108276814, 252857.74560545385]), Record #45: [46, 0.134475429879, 0.000926391677672, 'City Island', 46, 'Bronx'])\n",
      "(array('d', [1009020.7009378672, 241356.34054222703, 1014600.9521288276, 253174.73195180297]), Record #46: [47, 0.0898275563294, 0.000163198117339, 'Claremont/Bathgate', 47, 'Bronx'])\n",
      "(array('d', [984996.1565532982, 214236.8386195451, 989134.7794345766, 219732.54829593003]), Record #47: [48, 0.0437467441431, 9.42538425377e-05, 'Clinton East', 48, 'Manhattan'])\n",
      "(array('d', [992533.2542031258, 186731.6025840342, 997207.8873180747, 193697.88086421788]), Record #48: [49, 0.0752900183427, 0.000203185525471, 'Clinton Hill', 49, 'Brooklyn'])\n",
      "(array('d', [983209.1524570286, 216029.29558683932, 987556.4650675505, 221087.3887939602]), Record #49: [50, 0.0557479867536, 0.000173249283326, 'Clinton West', 50, 'Manhattan'])\n",
      "(array('d', [1027599.4263748527, 252313.67386355996, 1035201.5180950016, 262770.4046256244]), Record #50: [51, 0.0953613442277, 0.000395756553505, 'Co-Op City', 51, 'Bronx'])\n",
      "(array('d', [984070.4542332441, 187646.66959044337, 986367.7353494614, 191097.31523627043]), Record #51: [52, 0.0289076710093, 4.52027509603e-05, 'Cobble Hill', 52, 'Brooklyn'])\n",
      "(array('d', [1020461.8800960928, 218192.56219480932, 1032676.5946683586, 230236.85760498047]), Record #52: [53, 0.161500913385, 0.000947530980821, 'College Point', 53, 'Queens'])\n",
      "(array('d', [980873.0325927734, 186888.8100567162, 984868.6275663227, 192140.15258789062]), Record #53: [54, 0.0762192448554, 0.000132452130536, 'Columbia Street', 54, 'Brooklyn'])\n",
      "(array('d', [980630.0032348782, 146772.0317993015, 995531.1642505229, 152278.47970072925]), Record #54: [55, 0.149956807524, 0.000736274713586, 'Coney Island', 55, 'Brooklyn'])\n",
      "(array('d', [1020851.4248783141, 206824.58669760823, 1026508.2901614308, 212137.0492990762]), Record #55: [56, 0.0568478126677, 0.000180907844436, 'Corona', 56, 'Queens'])\n",
      "(array('d', [1024193.2586952895, 212137.0492990762, 1025571.4122591913, 214417.4992003888]), Record #56: [57, 0.0192705048557, 1.80259807917e-05, 'Corona', 56, 'Queens'])\n",
      "(array('d', [1032326.5755563676, 243122.02933973074, 1036347.140197739, 248693.73768472672]), Record #57: [58, 0.0598554094851, 0.000204980931361, 'Country Club', 58, 'Bronx'])\n",
      "(array('d', [1011582.6445579529, 243268.54293999076, 1015628.4929227829, 246613.0225583464]), Record #58: [59, 0.0377948070893, 6.28765230648e-05, 'Crotona Park', 59, 'Bronx'])\n",
      "(array('d', [1012706.4120851904, 238959.50123229623, 1019453.908271715, 245393.8389032185]), Record #59: [60, 0.0786482878226, 0.000161833284912, 'Crotona Park East', 60, 'Bronx'])\n",
      "(array('d', [994462.5645152181, 181378.09276786447, 1005982.7608987391, 188278.649679631]), Record #60: [61, 0.117310808097, 0.000510772092295, 'Crown Heights North', 61, 'Brooklyn'])\n",
      "(array('d', [994628.073628217, 180774.7805160433, 1004034.9007923901, 184001.26693834364]), Record #61: [62, 0.0822593359838, 0.000158238169004, 'Crown Heights South', 62, 'Brooklyn'])\n",
      "(array('d', [1010864.3816164881, 184947.65596796572, 1022789.3902440965, 192565.69151739776]), Record #62: [63, 0.119100721883, 0.000353190910142, 'Cypress Hills', 63, 'Brooklyn'])\n",
      "(array('d', [1050950.0353138745, 208414.92788231373, 1063614.448386535, 224604.19305366278]), Record #63: [64, 0.18445188474, 0.00105790284614, 'Douglaston', 64, 'Queens'])\n",
      "(array('d', [986625.3954657614, 190637.42793238163, 990027.1046282351, 194585.8874669522]), Record #64: [65, 0.0446070683658, 8.1803882541e-05, 'Downtown Brooklyn/MetroTech', 65, 'Brooklyn'])\n",
      "(array('d', [985512.7738037109, 193375.54240436852, 990057.322699964, 196477.50133308768]), Record #65: [66, 0.0546334593634, 0.000108378855948, 'DUMBO/Vinegar Hill', 66, 'Brooklyn'])\n",
      "(array('d', [976602.8883181214, 159187.59340584278, 985015.966446504, 169976.56720526516]), Record #66: [67, 0.0997470781551, 0.000394282272487, 'Dyker Heights', 67, 'Brooklyn'])\n",
      "(array('d', [981976.6209729761, 208788.4575278014, 986568.1844166964, 215112.48619379103]), Record #67: [68, 0.0493373795569, 0.000111073378655, 'East Chelsea', 68, 'Manhattan'])\n",
      "(array('d', [1004367.8891285807, 237310.06285062432, 1010531.2143002748, 246491.0085515827]), Record #68: [69, 0.0789896450483, 0.00019905160381, 'East Concourse/Concourse Village', 69, 'Bronx'])\n",
      "(array('d', [1018489.7731328458, 214963.45456770062, 1024560.200835973, 220477.85247203708]), Record #69: [70, 0.0638403183367, 0.000195458476728, 'East Elmhurst', 70, 'Queens'])\n",
      "(array('d', [998566.8409083933, 169476.75892293453, 1004858.3180650473, 178478.09916570783]), Record #70: [71, 0.0931694551828, 0.000382572587364, 'East Flatbush/Farragut', 71, 'Brooklyn'])\n",
      "(array('d', [1003143.0685890913, 172378.94802854955, 1009623.3540670127, 181749.99817848206]), Record #71: [72, 0.0952020695166, 0.000323532461947, 'East Flatbush/Remsen Village', 72, 'Brooklyn'])\n",
      "(array('d', [1033886.0970866084, 211169.66949692369, 1041163.9689667374, 216737.9325852394]), Record #72: [73, 0.0853020209129, 0.000291799754395, 'East Flushing', 73, 'Queens'])\n",
      "(array('d', [998561.2011065036, 227668.71106913686, 1004596.7239538729, 237911.03603366017]), Record #73: [74, 0.11029093625, 0.000295038418204, 'East Harlem North', 74, 'Manhattan'])\n",
      "(array('d', [996495.920017153, 224487.5527152866, 1002233.7891923338, 230061.1961416155]), Record #74: [75, 0.0876638997685, 0.00024056392715, 'East Harlem South', 75, 'Manhattan'])\n",
      "(array('d', [1009376.4581336975, 171117.71783447266, 1024287.5598733723, 187534.2877819091]), Record #75: [76, 0.241203016269, 0.00126660143241, 'East New York', 76, 'Brooklyn'])\n",
      "(array('d', [1011024.5751301795, 178803.57746355236, 1017026.7905297577, 185902.63456763327]), Record #76: [77, 0.075461081444, 0.000191917981315, 'East New York/Pennsylvania Avenue', 77, 'Brooklyn'])\n",
      "(array('d', [1012974.7547574937, 244402.67627230287, 1020808.0785965621, 250682.761809811]), Record #77: [78, 0.0935944495806, 0.000191114419551, 'East Tremont', 78, 'Bronx'])\n",
      "(array('d', [986300.2421831787, 202128.96976317465, 990340.0072489977, 206851.1467396319]), Record #78: [79, 0.0426249113144, 0.000107893068218, 'East Village', 79, 'Manhattan'])\n",
      "(array('d', [997145.0721071064, 194574.90013705194, 1006222.3634631932, 204577.4813784659]), Record #79: [80, 0.117212621448, 0.00040732245622, 'East Williamsburg', 80, 'Brooklyn'])\n",
      "(array('d', [1024728.3069882691, 252970.29394371808, 1041487.4098582268, 265000.63630248606]), Record #80: [81, 0.197592771731, 0.00039956655019, 'Eastchester', 81, 'Bronx'])\n",
      "(array('d', [1014244.430765748, 204451.3005283773, 1021810.4471470118, 212241.66576324403]), Record #81: [82, 0.119875649697, 0.000323601079994, 'Elmhurst', 82, 'Queens'])\n",
      "(array('d', [1009001.8560211658, 205839.42454260588, 1018315.7577616721, 212072.40200960636]), Record #82: [83, 0.105984933269, 0.000217463718718, 'Elmhurst/Maspeth', 83, 'Queens'])\n",
      "(array('d', [921161.640595302, 122429.09110617638, 941449.7950365692, 143900.53118143976]), Record #83: [84, 0.233623987032, 0.00207375572052, \"Eltingville/Annadale/Prince's Bay\", 84, 'Staten Island'])\n",
      "(array('d', [995708.027984649, 171874.26362998784, 999315.7305534631, 178131.301537022]), Record #84: [85, 0.0574751473562, 0.000143637804933, 'Erasmus', 85, 'Brooklyn'])\n",
      "(array('d', [1046950.5615845025, 154637.22540283203, 1057113.392000258, 163170.4364013821]), Record #85: [86, 0.134245282582, 0.000623278815249, 'Far Rockaway', 86, 'Queens'])\n",
      "(array('d', [980782.1955430657, 195191.0244140625, 983703.7543945163, 198271.82173269987]), Record #86: [87, 0.0369015496117, 6.72050210692e-05, 'Financial District North', 87, 'Manhattan'])\n",
      "(array('d', [980249.0733437836, 194223.3330078125, 982145.1027831882, 196777.49068412185]), Record #87: [88, 0.0352046035327, 5.72999455414e-05, 'Financial District South', 88, 'Manhattan'])\n",
      "(array('d', [990588.2515721768, 167337.33731935918, 999751.0216670036, 178144.36922456324]), Record #88: [89, 0.122794569553, 0.000447548142373, 'Flatbush/Ditmas Park', 89, 'Brooklyn'])\n",
      "(array('d', [983550.6117688417, 207917.0712660402, 986627.8625009954, 211503.628768757]), Record #89: [90, 0.0307591620819, 5.53132476305e-05, 'Flatiron', 90, 'Manhattan'])\n",
      "(array('d', [998870.8070805818, 162659.97818230093, 1007320.1305354834, 173467.99425894022]), Record #90: [91, 0.124996624585, 0.000537330013243, 'Flatlands', 91, 'Brooklyn'])\n",
      "(array('d', [1028721.4570953697, 211475.10554887354, 1035407.182677418, 224126.45086428523]), Record #91: [92, 0.117830066799, 0.000374946617289, 'Flushing', 92, 'Queens'])\n",
      "(array('d', [1022728.2748459578, 199573.8164920956, 1034907.1117755473, 217682.00939941406]), Record #92: [93, 0.170998027597, 0.000594278183978, 'Flushing Meadows-Corona Park', 93, 'Queens'])\n",
      "(array('d', [1010347.0370300114, 250395.07222892344, 1014383.636332646, 253618.47744601965]), Record #93: [94, 0.0498326083147, 6.25819407393e-05, 'Fordham South', 94, 'Bronx'])\n",
      "(array('d', [1022489.2139437795, 196669.1771273017, 1031433.2112831771, 208553.8619851172]), Record #94: [95, 0.113629605476, 0.00057277033803, 'Forest Hills', 95, 'Queens'])\n",
      "(array('d', [1011481.4472603798, 187886.94922852516, 1029454.3242496252, 197704.65426635742]), Record #95: [96, 0.185180248095, 0.000547566253402, 'Forest Park/Highland Park', 96, 'Queens'])\n",
      "(array('d', [988764.7777226865, 187750.87874770164, 992938.4371921867, 193667.09030114114]), Record #96: [97, 0.0624760147423, 0.000163303970435, 'Fort Greene', 97, 'Brooklyn'])\n",
      "(array('d', [1040641.6604443192, 202525.26930183172, 1051686.4311916232, 211068.35735864937]), Record #97: [98, 0.121661018278, 0.000485773020954, 'Fresh Meadows', 98, 'Queens'])\n",
      "(array('d', [924993.6700389087, 141860.31092742085, 938843.1077689081, 159002.3905353546]), Record #98: [99, 0.1833714893, 0.00121016463877, 'Freshkills Park', 99, 'Staten Island'])\n",
      "(array('d', [986060.8397000581, 212444.53102706373, 988650.2766756266, 215157.31582543254]), Record #99: [100, 0.0248131090342, 3.74700210291e-05, 'Garment District', 100, 'Manhattan'])\n",
      "(array('d', [1059349.6821221113, 204357.5867165476, 1067382.508405164, 216235.87002550066]), Record #100: [101, 0.101709836277, 0.000452342528877, 'Glen Oaks', 101, 'Queens'])\n",
      "(array('d', [1011972.3782801032, 191389.00423175097, 1025141.8984940648, 199211.22903691232]), Record #101: [102, 0.136900484646, 0.000296595466345, 'Glendale', 102, 'Queens'])\n",
      "(array('d', [971013.4882160723, 190124.56273177266, 972448.8932401985, 191074.42760623991]), Record #102: [103, 0.0143055167343, 6.33056361314e-06, \"Governor's Island/Ellis Island/Liberty Island\", 103, 'Manhattan'])\n",
      "(array('d', [972139.757855162, 193015.79828432202, 973793.291377157, 194632.34808847308]), Record #103: [104, 0.0212208330928, 1.19205339715e-05, \"Governor's Island/Ellis Island/Liberty Island\", 103, 'Manhattan'])\n",
      "(array('d', [976864.9104004055, 188082.32238772511, 980991.4830322266, 191884.24279786646]), Record #104: [105, 0.0774253398314, 0.000368636392805, \"Governor's Island/Ellis Island/Liberty Island\", 103, 'Manhattan'])\n",
      "(array('d', [984633.1199121177, 181738.7254280746, 989310.1636543423, 187386.49272739887]), Record #105: [106, 0.0492110119798, 0.000113616826567, 'Gowanus', 106, 'Brooklyn'])\n",
      "(array('d', [987027.1346760094, 205727.62998589873, 990332.2579889745, 210090.2686470002]), Record #106: [107, 0.0380413645908, 7.46112192675e-05, 'Gramercy', 107, 'Manhattan'])\n",
      "(array('d', [984114.1464702785, 150827.29769274592, 993930.7283727378, 156843.4054107666]), Record #107: [108, 0.11117141227, 0.000352866009465, 'Gravesend', 108, 'Brooklyn'])\n",
      "(array('d', [937059.9942715913, 131425.20581054688, 947657.9024766982, 147300.77384141088]), Record #108: [109, 0.178267819599, 0.00116960076185, 'Great Kills', 109, 'Staten Island'])\n",
      "(array('d', [945159.740885511, 132137.99621585011, 952739.3194195926, 142339.85182651877]), Record #109: [110, 0.103946292913, 0.000525745098785, 'Great Kills Park', 110, 'Staten Island'])\n",
      "(array('d', [983654.8834085912, 173946.5759744346, 989719.2049538791, 179611.82017435133]), Record #110: [111, 0.0599308800658, 0.000208683276503, 'Green-Wood Cemetery', 111, 'Brooklyn'])\n",
      "(array('d', [994202.7312011868, 201033.45674225688, 1003022.701530084, 208564.10400390625]), Record #111: [112, 0.107267875765, 0.000462068671429, 'Greenpoint', 112, 'Brooklyn'])\n",
      "(array('d', [984231.5485925674, 204174.96937035024, 987057.8520993888, 207917.0712660402]), Record #112: [113, 0.032745350566, 5.79634566998e-05, 'Greenwich Village North', 113, 'Manhattan'])\n",
      "(array('d', [983469.1584947407, 203099.06591120362, 986592.5346387625, 206302.46491213143]), Record #113: [114, 0.0317270347711, 4.70207704945e-05, 'Greenwich Village South', 114, 'Manhattan'])\n",
      "(array('d', [955512.891773358, 160174.83896367252, 964502.1728744358, 170255.12992368639]), Record #114: [115, 0.116169413964, 0.000373168991958, 'Grymes Hill/Clifton', 115, 'Staten Island'])\n",
      "(array('d', [995443.606201157, 238330.7431896031, 1001230.7659743577, 243297.29484848678]), Record #115: [116, 0.0681164844265, 0.000260415337217, 'Hamilton Heights', 116, 'Manhattan'])\n",
      "(array('d', [1034486.2037452161, 151489.6040149629, 1050540.039076537, 161541.0830078125]), Record #116: [117, 0.169885857987, 0.00090429427072, 'Hammels/Arverne', 117, 'Queens'])\n",
      "(array('d', [937030.637444675, 143383.46217016876, 959134.3786881268, 161977.45644657314]), Record #117: [118, 0.243966217692, 0.00182693922711, 'Heartland Village/Todt Hill', 118, 'Staten Island'])\n",
      "(array('d', [1002623.1343994141, 241003.9349899888, 1007441.1012851447, 247284.5404355526]), Record #118: [119, 0.0835070355744, 0.000185779447534, 'Highbridge', 119, 'Bronx'])\n",
      "(array('d', [1000751.5908584744, 241814.34254321456, 1005814.5888281167, 253188.33749361336]), Record #119: [120, 0.0832612702158, 9.31462821313e-05, 'Highbridge Park', 120, 'Manhattan'])\n",
      "(array('d', [1035460.6112381369, 200139.83749878407, 1042378.9009697437, 208547.62442953885]), Record #120: [121, 0.0969153373445, 0.000384563286473, 'Hillcrest/Pomonok', 121, 'Queens'])\n",
      "(array('d', [1047476.9221662283, 195242.42867137492, 1053433.7767466158, 201532.09709614515]), Record #121: [122, 0.0665318439446, 0.000226597104976, 'Hollis', 122, 'Queens'])\n",
      "(array('d', [991748.3936291933, 153250.43039295077, 996448.6596580446, 162446.86842107773]), Record #122: [123, 0.0834211389387, 0.000296445173366, 'Homecrest', 123, 'Brooklyn'])\n",
      "(array('d', [1022213.8337308168, 173987.55340576172, 1032425.3323203325, 185235.30945435166]), Record #123: [124, 0.127724410062, 0.000754837821479, 'Howard Beach', 124, 'Queens'])\n",
      "(array('d', [980035.8157959282, 202256.5970529318, 983654.3976406902, 204912.14941489697]), Record #124: [125, 0.0497322121757, 7.64293209892e-05, 'Hudson Sq', 125, 'Manhattan'])\n",
      "(array('d', [1011080.9987011701, 230827.98919677734, 1020761.3887940049, 240835.0488806665]), Record #125: [126, 0.12994872606, 0.0007032738273, 'Hunts Point', 126, 'Bronx'])\n",
      "(array('d', [1003964.5794171989, 251028.47316379845, 1009022.2955933213, 257439.96594457328]), Record #126: [127, 0.0600188855815, 0.000163195647796, 'Inwood', 127, 'Manhattan'])\n",
      "(array('d', [1003000.0112304688, 255063.40606845915, 1008713.7364349812, 259517.2861494422]), Record #127: [128, 0.0702090290681, 0.000207405982869, 'Inwood Hill Park', 128, 'Manhattan'])\n",
      "(array('d', [1011992.8834942877, 211378.82972215116, 1020429.3491906524, 220392.76095449924]), Record #128: [129, 0.0932727273403, 0.00047398833179, 'Jackson Heights', 129, 'Queens'])\n",
      "(array('d', [1035162.8823661804, 191039.73007386923, 1048446.2772685736, 200102.1854428947]), Record #129: [130, 0.142028320665, 0.000468322514327, 'Jamaica', 130, 'Queens'])\n",
      "(array('d', [1041458.764930591, 198275.48623381555, 1052901.9636390805, 205383.93336436152]), Record #130: [131, 0.116547120922, 0.000423696152789, 'Jamaica Estates', 131, 'Queens'])\n",
      "(array('d', [1030661.644603461, 165242.72768875957, 1054594.1653978825, 181745.9793278128]), Record #131: [132, 0.24547851707, 0.00203830095472, 'JFK Airport', 132, 'Queens'])\n",
      "(array('d', [987483.0447194278, 169268.12091718614, 993120.6807523668, 175188.3123728782]), Record #132: [133, 0.065134863162, 0.000157188987507, 'Kensington', 133, 'Brooklyn'])\n",
      "(array('d', [1027736.4964028448, 194856.54646006227, 1035162.8823661804, 200178.88312131166]), Record #133: [134, 0.0695878223284, 0.000202375182143, 'Kew Gardens', 134, 'Queens'])\n",
      "(array('d', [1029388.976665467, 200125.03321179748, 1038433.4760879129, 210097.23735058308]), Record #134: [135, 0.121793045659, 0.000467912240542, 'Kew Gardens Hills', 135, 'Queens'])\n",
      "(array('d', [1007974.893615678, 251585.1455296874, 1012859.2332083732, 257548.1185054034]), Record #135: [136, 0.0906287154122, 0.000148524994129, 'Kingsbridge Heights', 136, 'Bronx'])\n",
      "(array('d', [989053.8223295808, 207037.73276865482, 992097.7399913818, 210965.91549816728]), Record #136: [137, 0.0461076242707, 0.000116455098947, 'Kips Bay', 137, 'Manhattan'])\n",
      "(array('d', [1014209.0928407311, 217530.80819557607, 1024398.9540404975, 225677.9833984375]), Record #137: [138, 0.107466933508, 0.000536797294367, 'LaGuardia Airport', 138, 'Queens'])\n",
      "(array('d', [1050734.8845855296, 182155.12575505674, 1059915.489424333, 190525.14154359698]), Record #138: [139, 0.0932997884483, 0.000446669880154, 'Laurelton', 139, 'Queens'])\n",
      "(array('d', [994786.740355745, 215537.9384430945, 998794.7703253627, 220664.4041235]), Record #139: [140, 0.0475842911325, 0.000114203907779, 'Lenox Hill East', 140, 'Manhattan'])\n",
      "(array('d', [993507.2320563942, 216028.8557317704, 997355.2644428909, 221372.06698919833]), Record #140: [141, 0.0415144638712, 7.66545579019e-05, 'Lenox Hill West', 141, 'Manhattan'])\n",
      "(array('d', [987556.4650675505, 218858.90794220567, 991174.6678425521, 223425.20880676806]), Record #141: [142, 0.0381758942321, 7.56537920738e-05, 'Lincoln Square East', 142, 'Manhattan'])\n",
      "(array('d', [985291.2413800806, 219732.54829593003, 989602.4006652981, 224100.62745262682]), Record #142: [143, 0.0541798538849, 0.00015109426901, 'Lincoln Square West', 143, 'Manhattan'])\n",
      "(array('d', [983727.7374530584, 200219.03892458975, 986300.2419060171, 203570.98437306285]), Record #143: [144, 0.0276201668505, 4.74789670369e-05, 'Little Italy/NoLiTa', 144, 'Manhattan'])\n",
      "(array('d', [994608.4557789564, 208117.93359375, 1001806.690161109, 214443.44236198068]), Record #144: [145, 0.114313844981, 0.000346641733797, 'Long Island City/Hunters Point', 145, 'Queens'])\n",
      "(array('d', [999750.9529325664, 212133.3092173934, 1005262.7855216861, 216128.8589579463]), Record #145: [146, 0.0471405215717, 0.000104638923425, 'Long Island City/Queens Plaza', 146, 'Queens'])\n",
      "(array('d', [1010695.2611660659, 234353.26455533504, 1013910.4483684152, 241047.77488403022]), Record #146: [147, 0.0587654949268, 0.000106418172757, 'Longwood', 147, 'Bronx'])\n",
      "(array('d', [984941.8213095665, 199430.33412240446, 988733.885187909, 203099.06591120362]), Record #147: [148, 0.0391305015633, 6.97489921327e-05, 'Lower East Side', 148, 'Manhattan'])\n",
      "(array('d', [995746.8566166908, 156641.21387581527, 1002504.4314684719, 163723.4537564814]), Record #148: [149, 0.0836805821837, 0.000270639618955, 'Madison', 149, 'Brooklyn'])\n",
      "(array('d', [995288.626044482, 148503.7998611033, 1003666.5714110583, 153016.40510597825]), Record #149: [150, 0.089331491183, 0.000332568036088, 'Manhattan Beach', 150, 'Brooklyn'])\n",
      "(array('d', [990784.314434424, 227957.82097364962, 995312.5830573589, 231962.50479575992]), Record #150: [151, 0.0548899410999, 0.000128848901918, 'Manhattan Valley', 151, 'Manhattan'])\n",
      "(array('d', [994759.4111884087, 234911.22576755285, 999174.2605487853, 239337.94240050018]), Record #151: [152, 0.0579094768782, 0.000146637644064, 'Manhattanville', 152, 'Manhattan'])\n",
      "(array('d', [1007539.3510689586, 257041.25940480828, 1010061.7028401345, 259547.77027367055]), Record #152: [153, 0.024737239022, 3.24684964817e-05, 'Marble Hill', 153, 'Manhattan'])\n",
      "(array('d', [1000986.065276429, 149419.8804576844, 1018493.0874023736, 161345.57461504638]), Record #153: [154, 0.22733157076, 0.00178968692433, 'Marine Park/Floyd Bennett Field', 154, 'Brooklyn'])\n",
      "(array('d', [999567.4819844216, 159162.29180906713, 1014875.7102051377, 169574.4554849565]), Record #154: [155, 0.169808473032, 0.000868261018498, 'Marine Park/Mill Basin', 155, 'Brooklyn'])\n",
      "(array('d', [929972.2261398733, 162375.09933435917, 944527.4529239237, 174416.4630126804]), Record #155: [156, 0.144476890476, 0.0010521217443, 'Mariners Harbor', 156, 'Staten Island'])\n",
      "(array('d', [1005284.6193847805, 199003.77577748895, 1015549.769274056, 207144.01507903636]), Record #156: [157, 0.131300217777, 0.000354370128323, 'Maspeth', 157, 'Queens'])\n",
      "(array('d', [980261.4386435151, 204570.15210860968, 982820.6392934322, 209759.14090679586]), Record #157: [158, 0.0548099905515, 0.000185568253002, 'Meatpacking/West Village West', 158, 'Manhattan'])\n",
      "(array('d', [1004559.4372275025, 235227.73764123023, 1011570.1548598707, 239634.59324756265]), Record #158: [159, 0.064363233206, 0.00017124910387, 'Melrose South', 159, 'Bronx'])\n",
      "(array('d', [1010649.6741071343, 196679.17012934387, 1023163.9531035274, 205504.53330601752]), Record #159: [160, 0.14151914297, 0.000571234977994, 'Middle Village', 160, 'Queens'])\n",
      "(array('d', [988650.2766756266, 213402.9360369295, 992216.539204359, 217493.77440558374]), Record #160: [161, 0.0358039100611, 7.19130682992e-05, 'Midtown Center', 161, 'Manhattan'])\n",
      "(array('d', [990242.953801021, 212802.1597058177, 993510.5421310514, 217228.14155496657]), Record #161: [162, 0.0352698146219, 4.78936962112e-05, 'Midtown East', 162, 'Manhattan'])\n",
      "(array('d', [988603.9809644818, 216507.68683713675, 992615.8984147012, 219020.94289799035]), Record #162: [163, 0.0341768669752, 4.08567804196e-05, 'Midtown North', 163, 'Manhattan'])\n",
      "(array('d', [986877.4684056491, 210090.2686470002, 989555.9735842645, 214286.4020524025]), Record #163: [164, 0.0357716119908, 5.56318237441e-05, 'Midtown South', 164, 'Manhattan'])\n",
      "(array('d', [992198.0614652932, 161513.11699594557, 999652.5277501494, 168864.0633868277]), Record #164: [165, 0.088608036213, 0.000353959317019, 'Midwood', 165, 'Brooklyn'])\n",
      "(array('d', [992248.5795238763, 231162.46371272206, 997509.202251941, 237330.3349351436]), Record #165: [166, 0.0688237542871, 0.000255276270405, 'Morningside Heights', 166, 'Manhattan'])\n",
      "(array('d', [1007283.9121925086, 238213.8897280246, 1015795.7070657462, 243687.87131237984]), Record #166: [167, 0.0908159737292, 0.000167529391193, 'Morrisania/Melrose', 167, 'Bronx'])\n",
      "(array('d', [1002831.8914185166, 229165.3482055515, 1012914.3939819187, 237508.84509648383]), Record #167: [168, 0.114517434155, 0.000547058100444, 'Mott Haven/Port Morris', 168, 'Bronx'])\n",
      "(array('d', [1007242.5748289824, 246202.3814751953, 1013128.550542891, 251174.12589231133]), Record #168: [169, 0.0601046580332, 0.000146027537733, 'Mount Hope', 169, 'Bronx'])\n",
      "(array('d', [988662.0677972138, 209596.7955633849, 992224.6031291783, 213790.70108398795]), Record #169: [170, 0.0457690091051, 7.43150675972e-05, 'Murray Hill', 170, 'Manhattan'])\n",
      "(array('d', [1032285.2633328289, 215407.4402010888, 1042341.0991725326, 223347.7190543115]), Record #170: [171, 0.107353876244, 0.000520099538161, 'Murray Hill-Queens', 171, 'Queens'])\n",
      "(array('d', [949549.8245078027, 142937.87799073756, 960647.5226363838, 152760.96732077003]), Record #171: [172, 0.118476116148, 0.000658402501406, 'New Dorp/Midland Beach', 172, 'Staten Island'])\n",
      "(array('d', [1019252.5699466914, 210703.67300321162, 1024941.5620956868, 215593.59406252205]), Record #172: [173, 0.0600639661414, 0.000178329851357, 'North Corona', 173, 'Queens'])\n",
      "(array('d', [1015432.5547435582, 255021.89210614562, 1020132.4008698314, 262502.5246860683]), Record #173: [174, 0.0678177559602, 0.000155928664422, 'Norwood', 174, 'Bronx'])\n",
      "(array('d', [1048609.7442721725, 203954.90757112205, 1056254.3191102147, 216396.21381390095]), Record #174: [175, 0.134897665102, 0.000504920726134, 'Oakland Gardens', 175, 'Queens'])\n",
      "(array('d', [944135.901867941, 138867.82572729886, 956482.9982318878, 149288.86021187901]), Record #175: [176, 0.151995190703, 0.000657782126267, 'Oakwood', 176, 'Staten Island'])\n",
      "(array('d', [1005679.7990679145, 182327.3924088478, 1011974.8552480489, 189657.38088165224]), Record #176: [177, 0.0715805407056, 0.000198894762248, 'Ocean Hill', 177, 'Brooklyn'])\n",
      "(array('d', [990399.3643026203, 161044.1249420792, 994561.7902983725, 167554.05920298398]), Record #177: [178, 0.0682528770739, 0.000175805409143, 'Ocean Parkway South', 178, 'Brooklyn'])\n",
      "(array('d', [1001461.6024169922, 217895.5975098908, 1007045.5113643259, 222772.7891845554]), Record #178: [179, 0.0713808644377, 0.000183893478476, 'Old Astoria', 179, 'Queens'])\n",
      "(array('d', [1022152.3016169667, 182243.82598297298, 1030482.353552714, 188279.67651116848]), Record #179: [180, 0.0805277671523, 0.000247682193353, 'Ozone Park', 180, 'Queens'])\n",
      "(array('d', [985102.567329511, 179373.05105295777, 992929.0707275718, 188788.92194598913]), Record #180: [181, 0.0895372399547, 0.000306890292807, 'Park Slope', 181, 'Brooklyn'])\n",
      "(array('d', [1021747.5255906284, 242788.3291132301, 1025292.2133283764, 246245.95312933624]), Record #181: [182, 0.0393606369479, 9.10644156732e-05, 'Parkchester', 182, 'Bronx'])\n",
      "(array('d', [1029380.190486908, 246583.5902813077, 1032360.3846132308, 251085.0051523149]), Record #182: [183, 0.0398262960348, 9.51929451066e-05, 'Pelham Bay', 183, 'Bronx'])\n",
      "(array('d', [1030493.127870664, 245767.43420410156, 1048780.259399429, 262411.1632145643]), Record #183: [184, 0.260815683043, 0.00198883363103, 'Pelham Bay Park', 184, 'Bronx'])\n",
      "(array('d', [1020238.7655381411, 248344.1872486323, 1029895.0976033062, 252167.36205127835]), Record #184: [185, 0.0861619681636, 0.000228537100218, 'Pelham Parkway', 185, 'Bronx'])\n",
      "(array('d', [985053.814082399, 210628.45343244076, 987638.8727466464, 213319.86190195382]), Record #185: [186, 0.0246963902234, 3.70729416953e-05, 'Penn Station/Madison Sq West', 186, 'Manhattan'])\n",
      "(array('d', [941550.5553012043, 161368.62573710084, 950648.198791489, 173161.64001464844]), Record #186: [187, 0.126868431324, 0.000421195755741, 'Port Richmond', 187, 'Staten Island'])\n",
      "(array('d', [994493.7881473005, 176232.70290078223, 1004652.3437690139, 181302.64350011945]), Record #187: [188, 0.0977983968367, 0.000313003032771, 'Prospect-Lefferts Gardens', 188, 'Brooklyn'])\n",
      "(array('d', [990856.8598531932, 183890.32845537364, 995324.807143122, 188125.22487084568]), Record #188: [189, 0.0486743306502, 0.000101427594033, 'Prospect Heights', 189, 'Brooklyn'])\n",
      "(array('d', [989735.3201757967, 175455.4675487131, 995082.1268854886, 184480.4621631801]), Record #189: [190, 0.0743294660829, 0.000270873666522, 'Prospect Park', 190, 'Brooklyn'])\n",
      "(array('d', [1051539.6600592136, 192745.7406282872, 1060005.7352767438, 206239.2371288985]), Record #190: [191, 0.130932637664, 0.000688460603185, 'Queens Village', 191, 'Queens'])\n",
      "(array('d', [1029707.8573091924, 207840.4933167696, 1041205.596230492, 213238.5071708709]), Record #191: [192, 0.11196461971, 0.000373808019026, 'Queensboro Hill', 192, 'Queens'])\n",
      "(array('d', [997878.7912242115, 213369.63205237687, 1002538.571849823, 220278.1777613908]), Record #192: [193, 0.0655299584801, 0.000145591657944, 'Queensbridge/Ravenswood', 193, 'Queens'])\n",
      "(array('d', [1001953.9896921813, 223795.35259240866, 1008122.4320068359, 231475.52081300318]), Record #193: [194, 0.0817938353532, 0.000273481702719, 'Randalls Island', 194, 'Manhattan'])\n",
      "(array('d', [978715.7988281399, 181396.95141601562, 984633.1199121177, 189334.87766213715]), Record #194: [195, 0.131308244067, 0.000801651953985, 'Red Hook', 195, 'Brooklyn'])\n",
      "(array('d', [1018868.7747184187, 198515.5845246166, 1024088.7479925752, 207430.57587517798]), Record #195: [196, 0.0832421106332, 0.0001974713336, 'Rego Park', 196, 'Queens'])\n",
      "(array('d', [1025988.0749452412, 187476.9749442488, 1036764.144622162, 195882.12847973406]), Record #196: [197, 0.108568532229, 0.000504689160432, 'Richmond Hill', 197, 'Queens'])\n",
      "(array('d', [1005307.7920864075, 191202.94953353703, 1018182.3687765598, 200800.83551323414]), Record #197: [198, 0.134094242763, 0.000499809882564, 'Ridgewood', 198, 'Queens'])\n",
      "(array('d', [1013926.7904053032, 225426.8846719861, 1020031.3326351941, 230302.81939695776]), Record #198: [199, 0.0778085005169, 0.000288747549303, 'Rikers Island', 199, 'Bronx'])\n",
      "(array('d', [1006208.0345755816, 261581.97850328684, 1012900.3783389926, 272844.2940054685]), Record #199: [200, 0.112661735435, 0.000744643168558, 'Riverdale/North Riverdale/Fieldston', 200, 'Bronx'])\n",
      "(array('d', [1021301.8670706749, 145807.0101928562, 1035512.9964317381, 153566.70899422467]), Record #200: [201, 0.130404117686, 0.000619350747819, 'Rockaway Park', 201, 'Queens'])\n",
      "(array('d', [994887.4523128271, 212306.1112060696, 1000865.4651522487, 220892.37647767365]), Record #201: [202, 0.0699215712618, 0.000106175396322, 'Roosevelt Island', 202, 'Manhattan'])\n",
      "(array('d', [1049715.544915989, 170702.84881591797, 1060539.8254664242, 188447.19298623502]), Record #202: [203, 0.189937815868, 0.000615129861659, 'Rosedale', 203, 'Queens'])\n",
      "(array('d', [922745.646649301, 130242.30425061285, 930949.1504926682, 142484.57611057162]), Record #203: [204, 0.101912418311, 0.000641384265972, 'Rossville/Woodrow', 204, 'Staten Island'])\n",
      "(array('d', [1044355.0717166215, 184837.291985631, 1055350.7183504254, 197901.24493697286]), Record #204: [205, 0.141953388327, 0.000766216513505, 'Saint Albans', 205, 'Queens'])\n",
      "(array('d', [947800.0742682666, 166292.23460443318, 964827.7532348633, 175708.9620361328]), Record #205: [206, 0.212756793386, 0.000944392507762, 'Saint George/New Brighton', 206, 'Staten Island'])\n",
      "(array('d', [1010962.0356397629, 216046.87074047327, 1013752.2795449197, 218882.56725522876]), Record #206: [207, 0.0283756831492, 4.47230848441e-05, 'Saint Michaels Cemetery/Woodside', 207, 'Queens'])\n",
      "(array('d', [1027883.9862060845, 232262.78680421412, 1042369.5310058445, 247304.84908238053]), Record #207: [208, 0.214721009581, 0.00202032598969, 'Schuylerville/Edgewater Park', 208, 'Bronx'])\n",
      "(array('d', [981737.5120931715, 196080.4219970703, 984473.319881022, 198705.95798817277]), Record #208: [209, 0.0306953113473, 3.88703351209e-05, 'Seaport', 209, 'Manhattan'])\n",
      "(array('d', [995262.89754197, 152359.36569671333, 1007010.2789917141, 158858.62427021563]), Record #209: [210, 0.114851983372, 0.000453155131253, 'Sheepshead Bay', 210, 'Brooklyn'])\n",
      "(array('d', [982755.4328565747, 201372.46546940506, 985144.7881456763, 204519.48296949267]), Record #210: [211, 0.0252345082132, 3.97291966087e-05, 'SoHo', 211, 'Manhattan'])\n",
      "(array('d', [1016174.6459217966, 239126.85459968448, 1024060.6703980267, 243015.7695557773]), Record #211: [212, 0.0671290653429, 0.000161276191858, 'Soundview/Bruckner', 212, 'Bronx'])\n",
      "(array('d', [1016244.9339700937, 232396.22619628906, 1029605.3671800047, 241334.2570887357]), Record #212: [213, 0.159958783822, 0.000904077906339, 'Soundview/Castle Hill', 213, 'Bronx'])\n",
      "(array('d', [955014.1083281785, 147413.26360306144, 966374.2886352539, 158602.69612810016]), Record #213: [214, 0.135300314246, 0.000811976523012, 'South Beach/Dongan Hills', 214, 'Staten Island'])\n",
      "(array('d', [1036764.144622162, 188146.83230619133, 1046927.6155057997, 196368.4200131297]), Record #214: [215, 0.103556453625, 0.000395647022725, 'South Jamaica', 215, 'Queens'])\n",
      "(array('d', [1028591.7964618802, 180687.2643187195, 1039416.4956447333, 191428.2949540466]), Record #215: [216, 0.116797554681, 0.000816076647781, 'South Ozone Park', 216, 'Queens'])\n",
      "(array('d', [993014.1327592134, 193592.9530622214, 998930.6428155005, 197378.41462355852]), Record #216: [217, 0.0553905251285, 0.000114733270758, 'South Williamsburg', 217, 'Brooklyn'])\n",
      "(array('d', [1042671.5578610301, 182175.54213547707, 1051833.8883159757, 187276.19748273492]), Record #217: [218, 0.0837008281049, 0.000281293736407, 'Springfield Gardens North', 218, 'Queens'])\n",
      "(array('d', [1039171.2767668813, 177117.84563945234, 1056777.4283164442, 182738.16219893098]), Record #218: [219, 0.155126669675, 0.000428176336771, 'Springfield Gardens South', 219, 'Queens'])\n",
      "(array('d', [1005017.005150795, 257436.40943075716, 1012836.5822753906, 263707.3973724842]), Record #219: [220, 0.106015943267, 0.000313035744467, 'Spuyten Duyvil/Kingsbridge', 220, 'Bronx'])\n",
      "(array('d', [959859.5048783869, 158662.29284745455, 968462.5906101912, 171840.27258132398]), Record #220: [221, 0.166218220846, 0.000890111567051, 'Stapleton', 221, 'Staten Island'])\n",
      "(array('d', [1014426.4775294662, 172072.73388007283, 1019054.6963417977, 177757.14559869468]), Record #221: [222, 0.0483893527976, 0.000130268343918, 'Starrett City', 222, 'Brooklyn'])\n",
      "(array('d', [1005304.8982989788, 218318.36897829175, 1015355.5766546428, 227452.53680419922]), Record #222: [223, 0.166021925275, 0.00076436070058, 'Steinway', 223, 'Queens'])\n",
      "(array('d', [989084.5309998542, 204008.16680964828, 992175.1027832329, 207710.1425679028]), Record #223: [224, 0.0440204462769, 9.84786989135e-05, 'Stuy Town/Peter Cooper Village', 224, 'Manhattan'])\n",
      "(array('d', [999792.150128156, 186511.44545941055, 1007465.5269319415, 193891.6536064744]), Record #224: [225, 0.0887992073281, 0.000310835395162, 'Stuyvesant Heights', 225, 'Brooklyn'])\n",
      "(array('d', [999229.2839965522, 200360.08518271148, 1009992.5427261591, 213950.74330192804]), Record #225: [226, 0.168957762041, 0.00076194414504, 'Sunnyside', 226, 'Queens'])\n",
      "(array('d', [979577.3396484703, 168843.7252778411, 987286.3487038165, 177165.90676021576]), Record #226: [227, 0.0828301570789, 0.000268316529534, 'Sunset Park East', 227, 'Brooklyn'])\n",
      "(array('d', [975184.812191993, 170753.940950796, 987787.2404468209, 184042.25400564075]), Record #227: [228, 0.177685177706, 0.000993414783816, 'Sunset Park West', 228, 'Brooklyn'])\n",
      "(array('d', [992224.354090333, 213105.4366605729, 995670.1048288345, 216732.0336034]), Record #228: [229, 0.0425252900116, 9.47058230931e-05, 'Sutton Place/Turtle Bay North', 229, 'Manhattan'])\n",
      "(array('d', [987078.3702437133, 214286.4020524025, 990177.7867514193, 217911.41774857044]), Record #229: [230, 0.0310283096779, 5.60914463266e-05, 'Times Sq/Theatre District', 230, 'Manhattan'])\n",
      "(array('d', [980210.6054077, 198443.70835338533, 984262.1391232163, 203703.1198682189]), Record #230: [231, 0.0634201165587, 0.000166929752992, 'TriBeCa/Civic Center', 231, 'Manhattan'])\n",
      "(array('d', [986311.8527018577, 197630.77319334447, 991601.4748604596, 202128.96976317465]), Record #231: [232, 0.0614709085331, 0.000216049973456, 'Two Bridges/Seward Park', 232, 'Manhattan'])\n",
      "(array('d', [990945.6723427176, 209992.67400035262, 994190.4194336385, 214415.29269266129]), Record #232: [233, 0.048035918294, 0.000116188094682, 'UN/Turtle Bay South', 233, 'Manhattan'])\n",
      "(array('d', [985125.73328875, 206851.1467396319, 988662.8682978302, 211078.7774631679]), Record #233: [234, 0.0360721994984, 7.31054382894e-05, 'Union Sq', 234, 'Manhattan'])\n",
      "(array('d', [1004147.9647463113, 247048.3073168546, 1010617.1086728126, 253587.8479910046]), Record #234: [235, 0.0761668426519, 0.000212844547337, 'University Heights/Morris Heights', 235, 'Bronx'])\n",
      "(array('d', [994030.4035580009, 220891.6677542627, 998281.3922868222, 226338.28022389114]), Record #235: [236, 0.0442519223099, 0.000102864345211, 'Upper East Side North', 236, 'Manhattan'])\n",
      "(array('d', [991725.2441355735, 216732.0336034, 995812.3224907517, 221878.86369015276]), Record #236: [237, 0.0422126003388, 9.59873206621e-05, 'Upper East Side South', 237, 'Manhattan'])\n",
      "(array('d', [989265.7182652056, 225381.8851711303, 994169.5501972139, 230110.31566877663]), Record #237: [238, 0.0601093114033, 0.000184763693765, 'Upper West Side North', 238, 'Manhattan'])\n",
      "(array('d', [987538.0077245235, 222553.88852992654, 992741.7350377887, 227283.94483697414]), Record #238: [239, 0.0636261152958, 0.000204715440774, 'Upper West Side South', 239, 'Manhattan'])\n",
      "(array('d', [1011976.2955759466, 259230.85810862482, 1022580.148705259, 271349.0520300567]), Record #239: [240, 0.146069764379, 0.000722130920707, 'Van Cortlandt Park', 240, 'Bronx'])\n",
      "(array('d', [1010224.1762464195, 254827.50071641803, 1015865.0178931952, 262072.16497403383]), Record #240: [241, 0.0687645777649, 0.00025467697592, 'Van Cortlandt Village', 241, 'Bronx'])\n",
      "(array('d', [1019225.58188124, 244816.59272518754, 1031696.3210243881, 252911.68422986567]), Record #241: [242, 0.138136446433, 0.000360072450014, 'Van Nest/Morris Park', 242, 'Bronx'])\n",
      "(array('d', [998933.100271225, 248025.8280366212, 1005088.4385056943, 256192.89824010432]), Record #242: [243, 0.0943314999364, 0.000438377341503, 'Washington Heights North', 243, 'Manhattan'])\n",
      "(array('d', [998043.1414586306, 241841.07030804455, 1003231.1819570363, 249664.24027206004]), Record #243: [244, 0.0805686044599, 0.000359702747951, 'Washington Heights South', 244, 'Manhattan'])\n",
      "(array('d', [951595.6078206152, 163870.36045081913, 961009.7979691774, 172591.26044028997]), Record #244: [245, 0.0959830596604, 0.000466175414294, 'West Brighton', 245, 'Staten Island'])\n",
      "(array('d', [980883.7568359524, 209661.08253651857, 985503.7115176767, 217140.0903930664]), Record #245: [246, 0.0694671937437, 0.000281298327076, 'West Chelsea/Hudson Yards', 246, 'Manhattan'])\n",
      "(array('d', [1002772.0337694436, 235572.96954868734, 1008615.5841103345, 247187.5000719875]), Record #246: [247, 0.0929678582271, 0.000205617157843, 'West Concourse', 247, 'Bronx'])\n",
      "(array('d', [1016379.3529964536, 241061.2368311584, 1022241.6126289219, 245737.34208281338]), Record #247: [248, 0.0569191167671, 0.000149592769799, 'West Farms/Bronx River', 248, 'Bronx'])\n",
      "(array('d', [982284.8697309494, 204638.90211087465, 985125.73328875, 209191.23529168963]), Record #248: [249, 0.03638434365, 7.22155957729e-05, 'West Village', 249, 'Manhattan'])\n",
      "(array('d', [1022898.0474586934, 238946.02070005238, 1028696.9899198264, 246363.6137215048]), Record #249: [250, 0.0796263465454, 0.000240975845956, 'Westchester Village/Unionport', 250, 'Bronx'])\n",
      "(array('d', [942728.2832671553, 160816.31061646342, 957104.001913935, 169247.733566612]), Record #250: [251, 0.1377111611, 0.000625754983157, 'Westerleigh', 251, 'Staten Island'])\n",
      "(array('d', [1028328.2506881654, 221913.3551170081, 1042240.4505192935, 231157.99639895558]), Record #251: [252, 0.158004373564, 0.00102526406057, 'Whitestone', 252, 'Queens'])\n",
      "(array('d', [1026715.4288748056, 214505.11568523943, 1029463.1595236659, 218190.03592729568]), Record #252: [253, 0.0360514998192, 7.83395761191e-05, 'Willets Point', 253, 'Queens'])\n",
      "(array('d', [1020048.3492506146, 256730.1018128991, 1026855.7698712349, 265516.2846541703]), Record #253: [254, 0.0858863754861, 0.000360040216032, 'Williamsbridge/Olinville', 254, 'Bronx'])\n",
      "(array('d', [993297.1225273013, 198777.13890461624, 998882.6312554479, 203532.66202172637]), Record #254: [255, 0.0623841997664, 0.000172309184842, 'Williamsburg (North Side)', 255, 'Brooklyn'])\n",
      "(array('d', [992564.4776001126, 196303.3253210932, 998484.8136314303, 200312.52519746125]), Record #255: [256, 0.0679149669603, 0.000168611097013, 'Williamsburg (South Side)', 256, 'Brooklyn'])\n",
      "(array('d', [987459.7246597707, 174200.2400341183, 992341.6964935213, 180512.8911292851]), Record #256: [257, 0.0586690259793, 0.00013890947321, 'Windsor Terrace', 257, 'Brooklyn'])\n",
      "(array('d', [1020664.5027259886, 186812.10068896413, 1028294.2608849406, 194558.54835301638]), Record #257: [258, 0.0890133787693, 0.000366209617143, 'Woodhaven', 258, 'Queens'])\n",
      "(array('d', [1018222.4278112948, 262717.6290721595, 1029719.8453488797, 271014.4363643527]), Record #258: [259, 0.126750305191, 0.000394552487366, 'Woodlawn/Wakefield', 259, 'Bronx'])\n",
      "(array('d', [1006688.3598676026, 204310.64803376794, 1013437.840941608, 218286.41023896635]), Record #259: [260, 0.133514154636, 0.000422345326907, 'Woodside', 260, 'Queens'])\n",
      "(array('d', [979623.5888848454, 195963.02587248385, 981865.5556122959, 199293.51903903484]), Record #260: [261, 0.0271204563616, 3.43423231652e-05, 'World Trade Center', 261, 'Manhattan'])\n",
      "(array('d', [997355.2644428909, 219854.85540421307, 1001531.7300415188, 224639.90778632462]), Record #261: [262, 0.0490636231541, 0.000122330270966, 'Yorkville East', 262, 'Manhattan'])\n",
      "(array('d', [996078.3325188607, 220664.4041235, 999558.2104629427, 225347.96775142848]), Record #262: [263, 0.0370166252994, 6.57697664169e-05, 'Yorkville West', 263, 'Manhattan'])"
     ]
    }
   ],
   "source": [
    "for sr in sf.shapeRecords():\n",
    "    sr.shape.bbox[0:4], sr.record"
   ]
  },
  {
   "cell_type": "code",
   "execution_count": null,
   "metadata": {},
   "outputs": [
    {
     "data": {
      "application/vnd.jupyter.widget-view+json": {
       "model_id": "19470209bee74ff2bc570677527a552d",
       "version_major": 2,
       "version_minor": 0
      },
      "text/plain": [
       "VBox()"
      ]
     },
     "metadata": {},
     "output_type": "display_data"
    }
   ],
   "source": [
    "def get_lat_lon(sf,shp_dic):\n",
    "    content = []\n",
    "    for sr in sf.shapeRecords():\n",
    "        shape = sr.shape\n",
    "        rec = sr.record\n",
    "        loc_id = rec[shp_dic['LocationID']]\n",
    "        x = (shape.bbox[0]+shape.bbox[2])/2\n",
    "        y = (shape.bbox[1]+shape.bbox[3])/2\n",
    "        content.append((loc_id, x, y))\n",
    "    return pd.DataFrame(content, columns=[\"LocationID\", \"longitude\", \"latitude\"])"
   ]
  },
  {
   "cell_type": "code",
   "execution_count": null,
   "metadata": {},
   "outputs": [],
   "source": [
    "sf = shapefile.Reader(\"/tmp/shape/taxi_zones.shp\")\n",
    "fields_name = [field[0] for field in sf.fields[1:]]\n",
    "shp_dic = dict(zip(fields_name, list(range(len(fields_name)))))\n",
    "attributes = sf.records()\n",
    "shp_attr = [dict(zip(fields_name, attr)) for attr in attributes]\n",
    "\n",
    "df_loc = pd.DataFrame(shp_attr).join(get_lat_lon(sf,shp_dic).set_index(\"LocationID\"), on=\"LocationID\")\n",
    "\n",
    "df_loc.head()"
   ]
  },
  {
   "cell_type": "code",
   "execution_count": 38,
   "metadata": {},
   "outputs": [
    {
     "data": {
      "application/vnd.jupyter.widget-view+json": {
       "model_id": "6b63d4cc28994b54955df9a446623760",
       "version_major": 2,
       "version_minor": 0
      },
      "text/plain": [
       "VBox()"
      ]
     },
     "metadata": {},
     "output_type": "display_data"
    },
    {
     "data": {
      "application/vnd.jupyter.widget-view+json": {
       "model_id": "",
       "version_major": 2,
       "version_minor": 0
      },
      "text/plain": [
       "FloatProgress(value=0.0, bar_style='info', description='Progress:', layout=Layout(height='25px', width='50%'),…"
      ]
     },
     "metadata": {},
     "output_type": "display_data"
    }
   ],
   "source": [
    "spark_dfl = spark.createDataFrame(df_loc)"
   ]
  },
  {
   "cell_type": "code",
   "execution_count": 39,
   "metadata": {},
   "outputs": [
    {
     "data": {
      "application/vnd.jupyter.widget-view+json": {
       "model_id": "84c7161c2e274706a9440fd3960ddae6",
       "version_major": 2,
       "version_minor": 0
      },
      "text/plain": [
       "VBox()"
      ]
     },
     "metadata": {},
     "output_type": "display_data"
    },
    {
     "data": {
      "application/vnd.jupyter.widget-view+json": {
       "model_id": "",
       "version_major": 2,
       "version_minor": 0
      },
      "text/plain": [
       "FloatProgress(value=0.0, bar_style='info', description='Progress:', layout=Layout(height='25px', width='50%'),…"
      ]
     },
     "metadata": {},
     "output_type": "display_data"
    },
    {
     "name": "stdout",
     "output_type": "stream",
     "text": [
      "+--------+---------------+----------------+--------------------+----------+-------------+------------------+------------------+\n",
      "|OBJECTID|     Shape_Leng|      Shape_Area|                zone|LocationID|      borough|         longitude|          latitude|\n",
      "+--------+---------------+----------------+--------------------+----------+-------------+------------------+------------------+\n",
      "|       1| 0.116357453189|  7.823067885E-4|      Newark Airport|         1|          EWR| 936681.7498053049|190522.13027768553|\n",
      "|       2|  0.43346966679|0.00486634037837|         Jamaica Bay|         2|       Queens|1033536.0827942044|161853.98229982704|\n",
      "|       3|0.0843411059012|3.14414156821E-4|Allerton/Pelham G...|         3|        Bronx|  1027136.41219455|254730.01084850729|\n",
      "|       4|0.0435665270921|1.11871946192E-4|       Alphabet City|         4|    Manhattan| 990424.0195702165|203100.04043184966|\n",
      "|       5|0.0921464898574|4.97957489363E-4|       Arden Heights|         5|Staten Island| 932133.2098496482|139954.54193567485|\n",
      "|       6| 0.150490542523|6.06460984581E-4|Arrochar/Fort Wad...|         6|Staten Island| 964099.0173973292|157533.67206276953|\n",
      "|       7| 0.107417171123|3.89787989274E-4|             Astoria|         7|       Queens|1006324.9388191998|216569.41102095693|\n",
      "|       8|0.0275906911574| 2.6587716279E-5|        Astoria Park|         8|       Queens|1005541.5825920925| 222960.5823142156|\n",
      "|       9|0.0997840924705|3.38443803197E-4|          Auburndale|         9|       Queens|1043403.6924028024| 214170.7026207447|\n",
      "|      10|0.0998394794152|4.35823818081E-4|        Baisley Park|        10|       Queens|1042775.8015680313|186452.53824371845|\n",
      "|      11|0.0792110389596| 2.6452053504E-4|          Bath Beach|        11|     Brooklyn| 982164.4980031773|159335.25489003956|\n",
      "|      12|0.0366613013579|4.15116236727E-5|        Battery Park|        12|    Manhattan|  979889.680921644|195215.44749031216|\n",
      "|      13|0.0502813228631|1.49358592917E-4|   Battery Park City|        13|    Manhattan| 979844.2413037196|198508.15931824595|\n",
      "|      14| 0.175213698053|0.00138177826442|           Bay Ridge|        14|     Brooklyn| 976332.8627958819|166469.26262110472|\n",
      "|      15|  0.14433622262|9.25219395547E-4|Bay Terrace/Fort ...|        15|       Queens|1043719.6651142985|225304.68907873333|\n",
      "|      16| 0.141291873771|8.71889446182E-4|             Bayside|        16|       Queens|1046653.0270440206|216690.18732249737|\n",
      "|      17| 0.093522632948|3.22957654799E-4|             Bedford|        17|     Brooklyn| 997925.4938743934|191314.48353823274|\n",
      "|      18|0.0697995498569|1.48850163948E-4|        Bedford Park|        18|        Bronx|1014322.5144993141|255779.45435959846|\n",
      "|      19| 0.101824875452|5.46661094782E-4|           Bellerose|        19|       Queens|1059467.4358350784|207808.57245142013|\n",
      "|      20|0.0514401924362|1.34512633032E-4|             Belmont|        20|        Bronx|1015730.9563582167|251796.60542875528|\n",
      "+--------+---------------+----------------+--------------------+----------+-------------+------------------+------------------+\n",
      "only showing top 20 rows"
     ]
    }
   ],
   "source": [
    "spark_dfl.show()"
   ]
  },
  {
   "cell_type": "raw",
   "metadata": {},
   "source": [
    "# draw zone map by plot"
   ]
  },
  {
   "cell_type": "code",
   "execution_count": 78,
   "metadata": {},
   "outputs": [
    {
     "data": {
      "application/vnd.jupyter.widget-view+json": {
       "model_id": "11fac8346440488ab6886865a1a584d3",
       "version_major": 2,
       "version_minor": 0
      },
      "text/plain": [
       "VBox()"
      ]
     },
     "metadata": {},
     "output_type": "display_data"
    },
    {
     "data": {
      "application/vnd.jupyter.widget-view+json": {
       "model_id": "",
       "version_major": 2,
       "version_minor": 0
      },
      "text/plain": [
       "FloatProgress(value=0.0, bar_style='info', description='Progress:', layout=Layout(height='25px', width='50%'),…"
      ]
     },
     "metadata": {},
     "output_type": "display_data"
    }
   ],
   "source": [
    "def draw_zone_map(ax, sf, heat={}, text=[], arrows=[]):\n",
    "    continent = [235/256, 151/256, 78/256]\n",
    "    ocean = (89/256, 171/256, 227/256)\n",
    "    theta = np.linspace(0, 2*np.pi, len(text)+1).tolist()\n",
    "    ax.set_facecolor(ocean)\n",
    "    \n",
    "    # colorbar\n",
    "    if len(heat) != 0:\n",
    "        norm = mpl.colors.Normalize(vmin=fmin(heat.values()),vmax=max(heat.values())) #norm = mpl.colors.LogNorm(vmin=1,vmax=max(heat))\n",
    "        cm=plt.get_cmap('Reds')\n",
    "        sm = plt.cm.ScalarMappable(cmap=cm, norm=norm)\n",
    "        sm.set_array([])\n",
    "        plt.colorbar(sm, ticks=np.linspace(min(heat.values()),max(heat.values()),8),\n",
    "                     boundaries=np.arange(min(heat.values())-10,max(heat.values())+10,.1))\n",
    "    \n",
    "    for sr in sf.shapeRecords():\n",
    "        shape = sr.shape\n",
    "        rec = sr.record\n",
    "        loc_id = rec[shp_dic['LocationID']]\n",
    "        zone = rec[shp_dic['zone']]\n",
    "        \n",
    "        if len(heat) == 0:\n",
    "            col = continent\n",
    "        else:\n",
    "            if loc_id not in heat:\n",
    "                R,G,B,A = cm(norm(0))\n",
    "            else:\n",
    "                R,G,B,A = cm(norm(heat[loc_id]))\n",
    "            col = [R,G,B]\n",
    "\n",
    "        # check number of parts (could use MultiPolygon class of shapely?)\n",
    "        nparts = len(shape.parts) # total parts\n",
    "        if nparts == 1:\n",
    "            polygon = Polygon(shape.points)\n",
    "            patch = PolygonPatch(polygon, facecolor=col, alpha=1.0, zorder=2)\n",
    "            ax.add_patch(patch)\n",
    "        else: # loop over parts of each shape, plot separately\n",
    "            for ip in range(nparts): # loop over parts, plot separately\n",
    "                i0 = shape.parts[ip]\n",
    "                if ip < nparts-1:\n",
    "                    i1 = shape.parts[ip+1]-1\n",
    "                else:\n",
    "                    i1 = len(shape.points)\n",
    "\n",
    "                polygon = Polygon(shape.points[i0:i1+1])\n",
    "                patch = PolygonPatch(polygon, facecolor=col, alpha=1.0, zorder=2)\n",
    "                ax.add_patch(patch)\n",
    "        \n",
    "        x = (shape.bbox[0]+shape.bbox[2])/2\n",
    "        y = (shape.bbox[1]+shape.bbox[3])/2\n",
    "        if (len(text) == 0 and rec[shp_dic['Shape_Area']] > 0.0001):\n",
    "            plt.text(x, y, str(loc_id), horizontalalignment='center', verticalalignment='center')            \n",
    "        elif len(text) != 0 and loc_id in text:\n",
    "            #plt.text(x+0.01, y-0.01, str(loc_id), fontsize=12, color=\"white\", bbox=dict(facecolor='black', alpha=0.5))\n",
    "            eta_x = 0.05*np.cos(theta[text.index(loc_id)])\n",
    "            eta_y = 0.05*np.sin(theta[text.index(loc_id)])\n",
    "            ax.annotate(\"[{}] {}\".format(loc_id, zone), xy=(x, y), xytext=(x+eta_x, y+eta_y),\n",
    "                        bbox=dict(facecolor='black', alpha=0.5), color=\"white\", fontsize=12,\n",
    "                        arrowprops=dict(facecolor='black', width=3, shrink=0.05))\n",
    "    if len(arrows)!=0:\n",
    "        for arr in arrows:\n",
    "            ax.annotate('', xy = arr['dest'], xytext = arr['src'], size = arr['cnt'],\n",
    "                    arrowprops=dict(arrowstyle=\"fancy\", fc=\"0.6\", ec=\"none\"))\n",
    "    \n",
    "    # display\n",
    "    limits = get_boundaries(sf)\n",
    "    plt.xlim(limits[0], limits[1])\n",
    "    plt.ylim(limits[2], limits[3])"
   ]
  },
  {
   "cell_type": "code",
   "execution_count": null,
   "metadata": {},
   "outputs": [],
   "source": []
  },
  {
   "cell_type": "raw",
   "metadata": {},
   "source": [
    "# Draw Borough region"
   ]
  },
  {
   "cell_type": "code",
   "execution_count": 79,
   "metadata": {},
   "outputs": [
    {
     "data": {
      "application/vnd.jupyter.widget-view+json": {
       "model_id": "df22935b26014c289b0bba9663a73ac7",
       "version_major": 2,
       "version_minor": 0
      },
      "text/plain": [
       "VBox()"
      ]
     },
     "metadata": {},
     "output_type": "display_data"
    },
    {
     "data": {
      "application/vnd.jupyter.widget-view+json": {
       "model_id": "",
       "version_major": 2,
       "version_minor": 0
      },
      "text/plain": [
       "FloatProgress(value=0.0, bar_style='info', description='Progress:', layout=Layout(height='25px', width='50%'),…"
      ]
     },
     "metadata": {},
     "output_type": "display_data"
    }
   ],
   "source": [
    "# %matplotlib inline\n",
    "\n",
    "def draw_region_map(ax, sf, heat={}):\n",
    "    continent = [235/256, 151/256, 78/256]\n",
    "    ocean = (89/256, 171/256, 227/256)    \n",
    "    \n",
    "    reg_list={'Staten Island':1, 'Queens':2, 'Bronx':3, 'Manhattan':4, 'EWR':5, 'Brooklyn':6}\n",
    "    reg_x = {'Staten Island':[], 'Queens':[], 'Bronx':[], 'Manhattan':[], 'EWR':[], 'Brooklyn':[]}\n",
    "    reg_y = {'Staten Island':[], 'Queens':[], 'Bronx':[], 'Manhattan':[], 'EWR':[], 'Brooklyn':[]}\n",
    "    \n",
    "    # colorbar\n",
    "    if len(heat) != 0:\n",
    "        norm = mpl.colors.Normalize(vmin=math.sqrt(min(heat.values())), vmax=math.sqrt(max(heat.values()))) #norm = mpl.colors.LogNorm(vmin=1,vmax=max(heat))\n",
    "        cm=plt.get_cmap('Reds')\n",
    "        #sm = plt.cm.ScalarMappable(cmap=cm, norm=norm)\n",
    "        #sm.set_array([])\n",
    "        #plt.colorbar(sm, ticks=np.linspace(min(heat.values()),max(heat.values()),8), \\\n",
    "        #             boundaries=np.arange(min(heat.values())-10,max(heat.values())+10,.1))\n",
    "    \n",
    "    ax.set_facecolor(ocean)\n",
    "    for sr in sf.shapeRecords():\n",
    "        shape = sr.shape\n",
    "        rec = sr.record\n",
    "        reg_name = rec[shp_dic['borough']]\n",
    "        \n",
    "        if len(heat) == 0:\n",
    "            norm = mpl.colors.Normalize(vmin=1,vmax=6) #norm = mpl.colors.LogNorm(vmin=1,vmax=max(heat))\n",
    "            cm=plt.get_cmap('Pastel1')\n",
    "            R,G,B,A = cm(norm(reg_list[reg_name]))\n",
    "            col = [R,G,B]\n",
    "        else:\n",
    "            R,G,B,A = cm(norm(math.sqrt(heat[reg_name])))\n",
    "            col = [R,G,B]\n",
    "            \n",
    "        # check number of parts (could use MultiPolygon class of shapely?)\n",
    "        nparts = len(shape.parts) # total parts\n",
    "        if nparts == 1:\n",
    "            polygon = Polygon(shape.points)\n",
    "            patch = PolygonPatch(polygon, facecolor=col, alpha=1.0, zorder=2)\n",
    "            ax.add_patch(patch)\n",
    "        else: # loop over parts of each shape, plot separately\n",
    "            for ip in range(nparts): # loop over parts, plot separately\n",
    "                i0 = shape.parts[ip]\n",
    "                if ip < nparts-1:\n",
    "                    i1 = shape.parts[ip+1]-1\n",
    "                else:\n",
    "                    i1 = len(shape.points)\n",
    "\n",
    "                polygon = Polygon(shape.points[i0:i1+1])\n",
    "                patch = PolygonPatch(polygon, facecolor=col, alpha=1.0, zorder=2)\n",
    "                ax.add_patch(patch)\n",
    "                \n",
    "        reg_x[reg_name].append((shape.bbox[0]+shape.bbox[2])/2)\n",
    "        reg_y[reg_name].append((shape.bbox[1]+shape.bbox[3])/2)\n",
    "        \n",
    "    for k in reg_list:\n",
    "        if len(heat)==0:\n",
    "            plt.text(np.mean(reg_x[k]), np.mean(reg_y[k]), k, horizontalalignment='center', verticalalignment='center',\n",
    "                        bbox=dict(facecolor='black', alpha=0.5), color=\"white\", fontsize=12)     \n",
    "        else:\n",
    "            plt.text(np.mean(reg_x[k]), np.mean(reg_y[k]), \"{}\\n({}K)\".format(k, heat[k]/1000), horizontalalignment='center', \n",
    "                     verticalalignment='center',bbox=dict(facecolor='black', alpha=0.5), color=\"white\", fontsize=12)       \n",
    "\n",
    "    # display\n",
    "    limits = get_boundaries(sf)\n",
    "    plt.xlim(limits[0], limits[1])\n",
    "    plt.ylim(limits[2], limits[3])"
   ]
  },
  {
   "cell_type": "raw",
   "metadata": {},
   "source": [
    "# get boundaries of zone"
   ]
  },
  {
   "cell_type": "code",
   "execution_count": 80,
   "metadata": {},
   "outputs": [
    {
     "data": {
      "application/vnd.jupyter.widget-view+json": {
       "model_id": "33c7a062536548e485e78aa27dc4cb87",
       "version_major": 2,
       "version_minor": 0
      },
      "text/plain": [
       "VBox()"
      ]
     },
     "metadata": {},
     "output_type": "display_data"
    },
    {
     "data": {
      "application/vnd.jupyter.widget-view+json": {
       "model_id": "",
       "version_major": 2,
       "version_minor": 0
      },
      "text/plain": [
       "FloatProgress(value=0.0, bar_style='info', description='Progress:', layout=Layout(height='25px', width='50%'),…"
      ]
     },
     "metadata": {},
     "output_type": "display_data"
    }
   ],
   "source": [
    "# %matplotlib inline\n",
    "\n",
    "def get_boundaries(sf):\n",
    "    lat, lon = [], []\n",
    "    for shape in list(sf.iterShapes()):\n",
    "        lat.extend([shape.bbox[0], shape.bbox[2]])\n",
    "        lon.extend([shape.bbox[1], shape.bbox[3]])\n",
    "\n",
    "    margin = 0.01 # buffer to add to the range\n",
    "    lat_min = min(lat) - margin\n",
    "    lat_max = max(lat) + margin\n",
    "    lon_min = min(lon) - margin\n",
    "    lon_max = max(lon) + margin\n",
    "\n",
    "    return lat_min, lat_max, lon_min, lon_max"
   ]
  },
  {
   "cell_type": "code",
   "execution_count": 81,
   "metadata": {},
   "outputs": [
    {
     "data": {
      "application/vnd.jupyter.widget-view+json": {
       "model_id": "8b525d1222cf467190d34cc4e013e035",
       "version_major": 2,
       "version_minor": 0
      },
      "text/plain": [
       "VBox()"
      ]
     },
     "metadata": {},
     "output_type": "display_data"
    },
    {
     "data": {
      "application/vnd.jupyter.widget-view+json": {
       "model_id": "",
       "version_major": 2,
       "version_minor": 0
      },
      "text/plain": [
       "FloatProgress(value=0.0, bar_style='info', description='Progress:', layout=Layout(height='25px', width='50%'),…"
      ]
     },
     "metadata": {},
     "output_type": "display_data"
    },
    {
     "name": "stderr",
     "output_type": "stream",
     "text": [
      "An error occurred while calling z:org.apache.spark.sql.functions.min. Trace:\n",
      "py4j.Py4JException: Method min([class java.util.ArrayList]) does not exist\n",
      "\tat py4j.reflection.ReflectionEngine.getMethod(ReflectionEngine.java:318)\n",
      "\tat py4j.reflection.ReflectionEngine.getMethod(ReflectionEngine.java:339)\n",
      "\tat py4j.Gateway.invoke(Gateway.java:276)\n",
      "\tat py4j.commands.AbstractCommand.invokeMethod(AbstractCommand.java:132)\n",
      "\tat py4j.commands.CallCommand.execute(CallCommand.java:79)\n",
      "\tat py4j.GatewayConnection.run(GatewayConnection.java:238)\n",
      "\tat java.lang.Thread.run(Thread.java:748)\n",
      "\n",
      "\n",
      "Traceback (most recent call last):\n",
      "  File \"<stdin>\", line 65, in draw_region_map\n",
      "  File \"<stdin>\", line 10, in get_boundaries\n",
      "  File \"/usr/lib/spark/python/lib/pyspark.zip/pyspark/sql/functions.py\", line 44, in _\n",
      "    jc = getattr(sc._jvm.functions, name)(col._jc if isinstance(col, Column) else col)\n",
      "  File \"/usr/lib/spark/python/lib/py4j-0.10.7-src.zip/py4j/java_gateway.py\", line 1257, in __call__\n",
      "    answer, self.gateway_client, self.target_id, self.name)\n",
      "  File \"/usr/lib/spark/python/lib/pyspark.zip/pyspark/sql/utils.py\", line 63, in deco\n",
      "    return f(*a, **kw)\n",
      "  File \"/usr/lib/spark/python/lib/py4j-0.10.7-src.zip/py4j/protocol.py\", line 332, in get_return_value\n",
      "    format(target_id, \".\", name, value))\n",
      "py4j.protocol.Py4JError: An error occurred while calling z:org.apache.spark.sql.functions.min. Trace:\n",
      "py4j.Py4JException: Method min([class java.util.ArrayList]) does not exist\n",
      "\tat py4j.reflection.ReflectionEngine.getMethod(ReflectionEngine.java:318)\n",
      "\tat py4j.reflection.ReflectionEngine.getMethod(ReflectionEngine.java:339)\n",
      "\tat py4j.Gateway.invoke(Gateway.java:276)\n",
      "\tat py4j.commands.AbstractCommand.invokeMethod(AbstractCommand.java:132)\n",
      "\tat py4j.commands.CallCommand.execute(CallCommand.java:79)\n",
      "\tat py4j.GatewayConnection.run(GatewayConnection.java:238)\n",
      "\tat java.lang.Thread.run(Thread.java:748)\n",
      "\n",
      "\n",
      "\n"
     ]
    }
   ],
   "source": [
    "fig, ax = plt.subplots(nrows=1, ncols=2, figsize=(15,8))\n",
    "ax = plt.subplot(1, 2, 1)\n",
    "ax.set_title(\"Borough Area in NYC\")\n",
    "draw_region_map(ax, sf)\n",
    "\n",
    "ax = plt.subplot(1, 2, 2)\n",
    "ax.set_title(\"Zones in NYC\")\n",
    "draw_zone_map(ax, sf)"
   ]
  },
  {
   "cell_type": "code",
   "execution_count": null,
   "metadata": {},
   "outputs": [],
   "source": []
  }
 ],
 "metadata": {
  "kernelspec": {
   "display_name": "PySpark",
   "language": "",
   "name": "pysparkkernel"
  },
  "language_info": {
   "codemirror_mode": {
    "name": "python",
    "version": 2
   },
   "mimetype": "text/x-python",
   "name": "pyspark",
   "pygments_lexer": "python2"
  }
 },
 "nbformat": 4,
 "nbformat_minor": 4
}
