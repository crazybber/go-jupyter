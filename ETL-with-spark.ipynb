{
 "cells": [
  {
   "cell_type": "code",
   "execution_count": 1,
   "metadata": {
    "collapsed": true,
    "jupyter": {
     "outputs_hidden": true
    }
   },
   "outputs": [
    {
     "data": {
      "application/vnd.jupyter.widget-view+json": {
       "model_id": "44c7aee34bcf4c16b3c7f57fa111cfe0",
       "version_major": 2,
       "version_minor": 0
      },
      "text/plain": [
       "VBox()"
      ]
     },
     "metadata": {},
     "output_type": "display_data"
    },
    {
     "name": "stdout",
     "output_type": "stream",
     "text": [
      "Starting Spark application\n"
     ]
    },
    {
     "data": {
      "text/html": [
       "<table>\n",
       "<tr><th>ID</th><th>YARN Application ID</th><th>Kind</th><th>State</th><th>Spark UI</th><th>Driver log</th><th>Current session?</th></tr><tr><td>9</td><td>application_1584073442397_0010</td><td>pyspark</td><td>idle</td><td><a target=\"_blank\" href=\"http://ip-172-31-29-161.ap-northeast-1.compute.internal:20888/proxy/application_1584073442397_0010/\">Link</a></td><td><a target=\"_blank\" href=\"http://ip-172-31-29-161.ap-northeast-1.compute.internal:8042/node/containerlogs/container_1584073442397_0010_01_000001/livy\">Link</a></td><td>✔</td></tr></table>"
      ],
      "text/plain": [
       "<IPython.core.display.HTML object>"
      ]
     },
     "metadata": {},
     "output_type": "display_data"
    },
    {
     "data": {
      "application/vnd.jupyter.widget-view+json": {
       "model_id": "",
       "version_major": 2,
       "version_minor": 0
      },
      "text/plain": [
       "FloatProgress(value=0.0, bar_style='info', description='Progress:', layout=Layout(height='25px', width='50%'),…"
      ]
     },
     "metadata": {},
     "output_type": "display_data"
    },
    {
     "name": "stdout",
     "output_type": "stream",
     "text": [
      "SparkSession available as 'spark'.\n"
     ]
    },
    {
     "data": {
      "application/vnd.jupyter.widget-view+json": {
       "model_id": "",
       "version_major": 2,
       "version_minor": 0
      },
      "text/plain": [
       "FloatProgress(value=0.0, bar_style='info', description='Progress:', layout=Layout(height='25px', width='50%'),…"
      ]
     },
     "metadata": {},
     "output_type": "display_data"
    },
    {
     "name": "stdout",
     "output_type": "stream",
     "text": [
      "<SparkContext master=yarn appName=livy-session-9>"
     ]
    }
   ],
   "source": [
    "sc"
   ]
  },
  {
   "cell_type": "code",
   "execution_count": 7,
   "metadata": {
    "collapsed": true,
    "jupyter": {
     "outputs_hidden": true
    }
   },
   "outputs": [
    {
     "data": {
      "application/vnd.jupyter.widget-view+json": {
       "model_id": "3fdaaeb659954c2e83ca22d794e67c7f",
       "version_major": 2,
       "version_minor": 0
      },
      "text/plain": [
       "VBox()"
      ]
     },
     "metadata": {},
     "output_type": "display_data"
    },
    {
     "data": {
      "application/vnd.jupyter.widget-view+json": {
       "model_id": "",
       "version_major": 2,
       "version_minor": 0
      },
      "text/plain": [
       "FloatProgress(value=0.0, bar_style='info', description='Progress:', layout=Layout(height='25px', width='50%'),…"
      ]
     },
     "metadata": {},
     "output_type": "display_data"
    },
    {
     "name": "stdout",
     "output_type": "stream",
     "text": [
      "Package                    Version\n",
      "-------------------------- -------\n",
      "beautifulsoup4             4.8.1  \n",
      "boto                       2.49.0 \n",
      "jmespath                   0.9.4  \n",
      "lxml                       4.4.2  \n",
      "mysqlclient                1.4.6  \n",
      "nltk                       3.4.5  \n",
      "nose                       1.3.4  \n",
      "numpy                      1.14.5 \n",
      "pip                        20.0.2 \n",
      "py-dateutil                2.2    \n",
      "python36-sagemaker-pyspark 1.2.6  \n",
      "pytz                       2019.3 \n",
      "PyYAML                     3.11   \n",
      "setuptools                 46.0.0 \n",
      "six                        1.13.0 \n",
      "soupsieve                  1.9.5  \n",
      "wheel                      0.34.2 \n",
      "windmill                   1.6"
     ]
    }
   ],
   "source": [
    "sc.list_packages()"
   ]
  },
  {
   "cell_type": "code",
   "execution_count": 3,
   "metadata": {
    "collapsed": true,
    "jupyter": {
     "outputs_hidden": true
    }
   },
   "outputs": [
    {
     "data": {
      "application/vnd.jupyter.widget-view+json": {
       "model_id": "c55059270be248938d795bfd52847a77",
       "version_major": 2,
       "version_minor": 0
      },
      "text/plain": [
       "VBox()"
      ]
     },
     "metadata": {},
     "output_type": "display_data"
    },
    {
     "data": {
      "application/vnd.jupyter.widget-view+json": {
       "model_id": "",
       "version_major": 2,
       "version_minor": 0
      },
      "text/plain": [
       "FloatProgress(value=0.0, bar_style='info', description='Progress:', layout=Layout(height='25px', width='50%'),…"
      ]
     },
     "metadata": {},
     "output_type": "display_data"
    }
   ],
   "source": [
    "from pyspark.sql.functions import *\n",
    "from pyspark.sql.types import *\n",
    "from pyspark.sql import SparkSession\n",
    "import warnings; warnings.simplefilter('ignore')\n",
    "import datetime"
   ]
  },
  {
   "cell_type": "code",
   "execution_count": 7,
   "metadata": {
    "collapsed": true,
    "jupyter": {
     "outputs_hidden": true
    }
   },
   "outputs": [
    {
     "data": {
      "application/vnd.jupyter.widget-view+json": {
       "model_id": "7f47ed23c666491e95d90cb73a35ef0b",
       "version_major": 2,
       "version_minor": 0
      },
      "text/plain": [
       "VBox()"
      ]
     },
     "metadata": {},
     "output_type": "display_data"
    },
    {
     "data": {
      "application/vnd.jupyter.widget-view+json": {
       "model_id": "",
       "version_major": 2,
       "version_minor": 0
      },
      "text/plain": [
       "FloatProgress(value=0.0, bar_style='info', description='Progress:', layout=Layout(height='25px', width='50%'),…"
      ]
     },
     "metadata": {},
     "output_type": "display_data"
    }
   ],
   "source": [
    "# config spark to build context\n",
    "\n",
    "spark=SparkSession.builder.appName(\"NYC.TLC-Green-Car-Data-ETL\").getOrCreate()\n",
    "spark.conf.set(\"spark.sql.session.timeZone\", \"America/New_York\")"
   ]
  },
  {
   "cell_type": "code",
   "execution_count": 9,
   "metadata": {
    "collapsed": true,
    "jupyter": {
     "outputs_hidden": true
    }
   },
   "outputs": [
    {
     "data": {
      "application/vnd.jupyter.widget-view+json": {
       "model_id": "62439eb18cfb4913bb8d795e663506e5",
       "version_major": 2,
       "version_minor": 0
      },
      "text/plain": [
       "VBox()"
      ]
     },
     "metadata": {},
     "output_type": "display_data"
    },
    {
     "data": {
      "application/vnd.jupyter.widget-view+json": {
       "model_id": "",
       "version_major": 2,
       "version_minor": 0
      },
      "text/plain": [
       "FloatProgress(value=0.0, bar_style='info', description='Progress:', layout=Layout(height='25px', width='50%'),…"
      ]
     },
     "metadata": {},
     "output_type": "display_data"
    }
   ],
   "source": [
    "#read in our raw dataset\n",
    "df = spark.read.option('header', 'true') \\\n",
    "    .option('mode', 'FAILFAST') \\\n",
    "    .option('timeStampFormat', 'yyyy-MM-dd HH:mm:ss') \\\n",
    "    .option('columnNameOfCorruptRecord', 'error') \\\n",
    "    .csv('s3://data-etl-o-original-raw/green/*.csv') \\\n",
    "    .filter(year('lpep_pickup_datetime') == 2019) \\\n",
    "    .withColumn('duration', unix_timestamp('lpep_dropoff_datetime') - unix_timestamp('lpep_pickup_datetime')) \\\n",
    "    .withColumn('minute_rate',when(col('total_amount') <= 0.001,0).otherwise(col('total_amount')/col('duration') * 60)) \\\n",
    "    .withColumn('average_speed',when(col('trip_distance') < 0.001,0).otherwise(col('trip_distance')/col('duration') * 60 * 60)) \\\n",
    "    .drop('store_and_fwd_flag') \\\n",
    "    .drop('ehail_fee') \\\n",
    "    .drop('congestion_surcharge')"
   ]
  },
  {
   "cell_type": "code",
   "execution_count": 59,
   "metadata": {
    "collapsed": true,
    "jupyter": {
     "outputs_hidden": true
    }
   },
   "outputs": [
    {
     "data": {
      "application/vnd.jupyter.widget-view+json": {
       "model_id": "46dceeb948f54e5d8eb36a3e65490900",
       "version_major": 2,
       "version_minor": 0
      },
      "text/plain": [
       "VBox()"
      ]
     },
     "metadata": {},
     "output_type": "display_data"
    },
    {
     "data": {
      "application/vnd.jupyter.widget-view+json": {
       "model_id": "",
       "version_major": 2,
       "version_minor": 0
      },
      "text/plain": [
       "FloatProgress(value=0.0, bar_style='info', description='Progress:', layout=Layout(height='25px', width='50%'),…"
      ]
     },
     "metadata": {},
     "output_type": "display_data"
    },
    {
     "name": "stdout",
     "output_type": "stream",
     "text": [
      "root\n",
      " |-- VendorID: string (nullable = true)\n",
      " |-- lpep_pickup_datetime: string (nullable = true)\n",
      " |-- lpep_dropoff_datetime: string (nullable = true)\n",
      " |-- RatecodeID: string (nullable = true)\n",
      " |-- PULocationID: string (nullable = true)\n",
      " |-- DOLocationID: string (nullable = true)\n",
      " |-- passenger_count: string (nullable = true)\n",
      " |-- trip_distance: string (nullable = true)\n",
      " |-- fare_amount: string (nullable = true)\n",
      " |-- extra: string (nullable = true)\n",
      " |-- mta_tax: string (nullable = true)\n",
      " |-- tip_amount: string (nullable = true)\n",
      " |-- tolls_amount: string (nullable = true)\n",
      " |-- improvement_surcharge: string (nullable = true)\n",
      " |-- total_amount: string (nullable = true)\n",
      " |-- payment_type: string (nullable = true)\n",
      " |-- trip_type: string (nullable = true)\n",
      " |-- duration: long (nullable = true)\n",
      " |-- minute_rate: double (nullable = true)\n",
      " |-- average_speed: double (nullable = true)"
     ]
    }
   ],
   "source": [
    "## check schema structure\n",
    "df.printSchema()"
   ]
  },
  {
   "cell_type": "code",
   "execution_count": 67,
   "metadata": {
    "collapsed": true,
    "jupyter": {
     "outputs_hidden": true
    }
   },
   "outputs": [
    {
     "data": {
      "application/vnd.jupyter.widget-view+json": {
       "model_id": "02715e515b3c41f090b75cacebd4ed47",
       "version_major": 2,
       "version_minor": 0
      },
      "text/plain": [
       "VBox()"
      ]
     },
     "metadata": {},
     "output_type": "display_data"
    },
    {
     "data": {
      "application/vnd.jupyter.widget-view+json": {
       "model_id": "",
       "version_major": 2,
       "version_minor": 0
      },
      "text/plain": [
       "FloatProgress(value=0.0, bar_style='info', description='Progress:', layout=Layout(height='25px', width='50%'),…"
      ]
     },
     "metadata": {},
     "output_type": "display_data"
    },
    {
     "name": "stdout",
     "output_type": "stream",
     "text": [
      "+--------+--------------------+---------------------+--------+------------+-------------+--------------------+-------------------+\n",
      "|VendorID|lpep_pickup_datetime|lpep_dropoff_datetime|duration|total_amount|trip_distance|         minute_rate|      average_speed|\n",
      "+--------+--------------------+---------------------+--------+------------+-------------+--------------------+-------------------+\n",
      "|       2| 2019-01-01 00:10:16|  2019-01-01 00:16:32|     376|         7.3|          .86|  1.1648936170212767|   8.23404255319149|\n",
      "|       2| 2019-01-01 00:27:11|  2019-01-01 00:31:38|     267|         5.8|          .66|   1.303370786516854|  8.898876404494382|\n",
      "|       2| 2019-01-01 00:46:20|  2019-01-01 01:04:54|    1114|       19.71|         2.68|  1.0615798922800719|  8.660682226211849|\n",
      "|       2| 2019-01-01 00:19:06|  2019-01-01 00:39:43|    1237|        19.3|         4.53|  0.9361358124494745| 13.183508488278092|\n",
      "|       2| 2019-01-01 00:12:35|  2019-01-01 00:19:09|     394|         7.8|         1.05|  1.1878172588832485|  9.593908629441625|\n",
      "|       2| 2019-01-01 00:47:55|  2019-01-01 01:00:01|     726|        14.8|         3.77|  1.2231404958677687| 18.694214876033058|\n",
      "|       1| 2019-01-01 00:12:47|  2019-01-01 00:30:50|    1083|        17.3|         4.10|  0.9584487534626038| 13.628808864265928|\n",
      "|       2| 2019-01-01 00:16:23|  2019-01-01 00:39:46|    1403|        26.8|         7.75|  1.1461154668567355| 19.885958660014257|\n",
      "|       2| 2019-01-01 00:58:02|  2019-01-01 01:19:02|    1260|        16.8|         3.68|                 0.8| 10.514285714285714|\n",
      "|       2| 2019-01-01 00:37:00|  2019-01-01 00:56:42|    1182|       37.06|         6.84|  1.8812182741116754|  20.83248730964467|\n",
      "|       2| 2019-01-01 00:13:48|  2019-01-01 00:21:00|     432|        9.36|         1.15|  1.2999999999999998|  9.583333333333332|\n",
      "|       2| 2019-01-01 00:19:59|  2019-01-01 00:45:50|    1551|        16.8|          .49|  0.6499032882011606|  1.137330754352031|\n",
      "|       2| 2019-01-01 00:57:57|  2019-01-01 01:20:10|    1333|        18.3|         3.61|  0.8237059264816204|  9.749437359339835|\n",
      "|       1| 2019-01-01 00:09:02|  2019-01-01 00:17:50|     528|          14|         1.20|   1.590909090909091|  8.181818181818182|\n",
      "|       1| 2019-01-01 00:22:12|  2019-01-01 00:25:29|     197|         5.3|          .50|   1.614213197969543|  9.137055837563452|\n",
      "|       1| 2019-01-01 00:31:55|  2019-01-01 00:52:59|    1264|       24.95|         5.50|  1.1843354430379747| 15.664556962025317|\n",
      "|       2| 2019-01-01 00:30:20|  2019-01-01 00:54:19|    1439|       25.56|         5.01|  1.0657400972897844| 12.533703961084086|\n",
      "|       2| 2019-01-01 00:40:17|  2019-01-01 00:50:23|     606|       14.16|         2.72|   1.401980198019802|  16.15841584158416|\n",
      "|       2| 2019-01-01 00:51:16|  2019-01-01 01:04:10|     774|       14.75|         2.15|  1.1434108527131783|               10.0|\n",
      "|       2| 2019-01-01 00:30:28|  2019-01-01 00:41:18|     650|       14.04|         2.18|  1.2959999999999998| 12.073846153846157|\n",
      "|       2| 2019-01-01 00:26:59|  2019-01-01 01:01:33|    2074|        26.8|         6.66|  0.7753134040501447| 11.560270009643201|\n",
      "|       2| 2019-01-01 00:39:09|  2019-01-01 00:42:32|     203|         5.8|          .57|  1.7142857142857142| 10.108374384236452|\n",
      "|       2| 2019-01-01 00:35:13|  2019-01-01 01:18:53|    2620|        45.3|        13.90|  1.0374045801526717| 19.099236641221374|\n",
      "|       1| 2019-01-01 00:35:52|  2019-01-01 00:40:00|     248|         6.3|          .80|  1.5241935483870968| 11.612903225806452|\n",
      "|       1| 2019-01-01 00:48:27|  2019-01-01 00:55:49|     442|         8.3|         1.40|  1.1266968325791857| 11.402714932126695|\n",
      "|       2| 2019-01-01 00:01:21|  2019-01-01 00:08:45|     444|         8.3|         1.21|  1.1216216216216217|   9.81081081081081|\n",
      "|       2| 2019-01-01 00:24:39|  2019-01-01 00:43:17|    1118|        17.3|         2.74|  0.9284436493738819|  8.822898032200358|\n",
      "|       2| 2019-01-01 00:44:25|  2019-01-01 00:53:03|     518|       12.25|         1.99|   1.418918918918919| 13.830115830115831|\n",
      "|       2| 2019-01-01 00:44:58|  2019-01-01 01:13:46|    1728|        33.3|         9.97|  1.1562499999999998| 20.770833333333336|\n",
      "|       2| 2019-01-01 00:08:07|  2019-01-01 00:18:36|     629|         9.8|         1.36|  0.9348171701112878|  7.783783783783784|\n",
      "|       2| 2019-01-01 00:40:23|  2019-01-01 00:56:12|     949|        14.3|         2.80|   0.904109589041096| 10.621707060063223|\n",
      "|       2| 2019-01-01 00:29:46|  2019-01-01 00:41:09|     683|       12.36|         1.52|  1.0857979502196191|  8.011713030746707|\n",
      "|       2| 2019-01-01 00:01:17|  2019-01-01 00:21:33|    1216|        16.3|         3.08|  0.8042763157894737|  9.118421052631579|\n",
      "|       2| 2019-01-01 00:59:07|  2019-01-01 01:30:20|    1873|        36.8|        12.03|   1.178857447944474| 23.122263747997863|\n",
      "|       2| 2019-01-01 00:44:31|  2019-01-01 01:25:32|    2461|        43.8|        13.54|   1.067858594067452| 19.806582689963427|\n",
      "|       2| 2019-01-01 00:23:15|  2019-01-01 01:10:07|    2812|        41.3|        10.76|  0.8812233285917496|  13.77524893314367|\n",
      "|       2| 2019-01-01 00:33:41|  2019-01-01 00:54:35|    1254|       21.36|         4.58|  1.0220095693779905| 13.148325358851677|\n",
      "|       2| 2019-01-01 00:33:40|  2019-01-01 00:59:29|    1549|        22.8|         5.52|   0.883150419625565| 12.828921885087153|\n",
      "|       2| 2019-01-01 00:31:28|  2019-01-01 00:57:27|    1559|          36|        10.98|  1.3855035279025016| 25.354714560615783|\n",
      "|       1| 2019-01-01 00:19:22|  2019-01-01 00:31:33|     731|        10.8|         1.40|  0.8864569083447333|  6.894664842681259|\n",
      "|       1| 2019-01-01 00:45:24|  2019-01-01 01:09:30|    1446|        19.3|         4.10|  0.8008298755186722|  10.20746887966805|\n",
      "|       2| 2019-01-01 01:00:28|  2019-01-01 01:16:36|     968|        12.8|         2.26|  0.7933884297520662|   8.40495867768595|\n",
      "|       2| 2019-01-01 00:41:11|  2019-01-01 00:48:14|     423|       10.79|         1.43|   1.530496453900709| 12.170212765957446|\n",
      "|       2| 2019-01-01 00:55:18|  2019-01-01 00:58:08|     170|        7.25|          .76|   2.558823529411765| 16.094117647058823|\n",
      "|       1| 2019-01-01 00:18:13|  2019-01-01 00:32:22|     849|        12.3|         2.50|  0.8692579505300354|  10.60070671378092|\n",
      "|       1| 2019-01-01 00:59:59|  2019-01-01 01:12:23|     744|       15.95|         2.80|  1.2862903225806452| 13.548387096774194|\n",
      "|       2| 2019-01-01 00:51:48|  2019-01-01 00:51:58|      10|          60|          .00|               360.0|                0.0|\n",
      "|       2| 2019-01-01 00:39:04|  2019-01-01 00:52:06|     782|        14.3|         3.14|  1.0971867007672635|  14.45524296675192|\n",
      "|       2| 2019-01-01 00:47:37|  2019-01-01 00:50:08|     151|         5.8|          .74|  2.3046357615894038| 17.642384105960264|\n",
      "|       1| 2019-01-01 00:50:16|  2019-01-01 01:25:21|    2105|        32.3|         8.90|  0.9206650831353919| 15.220902612826603|\n",
      "|       2| 2019-01-01 00:23:10|  2019-01-01 00:39:03|     953|       20.76|         4.65|  1.3070304302203568|  17.56558237145855|\n",
      "|       2| 2019-01-01 00:55:59|  2019-01-01 01:48:31|    3152|        42.3|         9.98|  0.8052030456852791| 11.398477157360407|\n",
      "|       1| 2019-01-01 00:39:43|  2019-01-01 00:54:21|     878|        12.8|         2.20|  0.8747152619589977|  9.020501138952163|\n",
      "|       2| 2019-01-01 00:10:35|  2019-01-01 00:32:51|    1336|        23.3|         6.44|  1.0464071856287425| 17.353293413173656|\n",
      "|       2| 2019-01-01 00:12:41|  2019-01-01 00:29:20|     999|        12.8|         2.22|  0.7687687687687688|                8.0|\n",
      "|       2| 2019-01-01 00:44:36|  2019-01-01 00:58:31|     835|        12.3|         2.27|  0.8838323353293414|   9.78682634730539|\n",
      "|       2| 2019-01-01 01:02:35|  2019-01-01 01:07:00|     265|         6.3|          .88|  1.4264150943396225| 11.954716981132076|\n",
      "|       2| 2019-01-01 00:08:09|  2019-01-01 00:35:40|    1651|        29.8|         8.73|  1.0829800121138704|  19.03573591762568|\n",
      "|       2| 2019-01-01 00:46:27|  2019-01-01 01:22:54|    2187|       38.16|         7.00|  1.0469135802469134| 11.522633744855966|\n",
      "|       1| 2019-01-01 00:00:51|  2019-01-01 00:03:15|     144|         4.8|          .40|                 2.0| 10.000000000000002|\n",
      "|       1| 2019-01-01 00:52:26|  2019-01-01 00:59:56|     450|         8.3|         1.40|   1.106666666666667|               11.2|\n",
      "|       2| 2019-01-01 00:10:43|  2019-01-01 00:15:37|     294|        8.16|          .89|  1.6653061224489796|  10.89795918367347|\n",
      "|       2| 2019-01-01 00:18:39|  2019-01-01 00:21:48|     189|         5.3|          .29|  1.6825396825396826|  5.523809523809524|\n",
      "|       2| 2019-01-01 00:12:45|  2019-01-01 00:25:00|     735|        11.8|         2.11|   0.963265306122449|  10.33469387755102|\n",
      "|       2| 2019-01-01 00:43:00|  2019-01-01 00:53:38|     638|        13.3|         3.40|  1.2507836990595613| 19.184952978056423|\n",
      "|       2| 2019-01-01 00:39:51|  2019-01-01 00:43:05|     194|         5.8|          .75|  1.7938144329896906| 13.917525773195877|\n",
      "|       1| 2019-01-01 00:52:32|  2019-01-01 00:55:48|     196|         5.8|          .70|  1.7755102040816324| 12.857142857142856|\n",
      "|       1| 2019-01-01 00:26:04|  2019-01-01 00:42:16|     972|       27.35|         7.10|  1.6882716049382718| 26.296296296296294|\n",
      "|       1| 2019-01-01 00:36:35|  2019-01-01 00:54:14|    1059|        21.8|         6.30|  1.2351274787535411|  21.41643059490085|\n",
      "|       2| 2019-01-01 00:05:29|  2019-01-01 00:07:24|     115|         5.3|          .76|   2.765217391304348| 23.791304347826088|\n",
      "|       2| 2019-01-01 00:24:54|  2019-01-01 00:27:14|     140|         4.8|          .24|  2.0571428571428574|  6.171428571428572|\n",
      "|       2| 2019-01-01 00:28:31|  2019-01-01 00:30:24|     113|         4.8|          .39|  2.5486725663716814| 12.424778761061948|\n",
      "|       2| 2019-01-01 00:31:27|  2019-01-01 00:56:07|    1480|       41.76|        11.73|  1.6929729729729728|  28.53243243243243|\n",
      "|       2| 2019-01-01 00:38:22|  2019-01-01 00:50:32|     730|       20.16|         4.66|   1.656986301369863|  22.98082191780822|\n",
      "|       2| 2019-01-01 00:51:47|  2019-01-01 01:04:03|     736|       12.96|         1.58|  1.0565217391304347|  7.728260869565218|\n",
      "|       2| 2019-01-01 00:06:52|  2019-01-01 00:23:35|    1003|        14.3|         2.58|  0.8554336989032902|  9.260219341974079|\n",
      "|       2| 2019-01-01 00:29:33|  2019-01-01 00:37:17|     464|         9.3|         1.67|  1.2025862068965518| 12.956896551724139|\n",
      "|       2| 2019-01-01 00:51:56|  2019-01-02 00:37:17|   85521|        10.7|         1.61|0.007506928122917...|0.06777282772652331|\n",
      "|       2| 2019-01-01 01:01:56|  2019-01-01 01:21:03|    1147|        20.8|         5.75|   1.088055797733217| 18.047079337401918|\n",
      "|       2| 2019-01-01 00:00:15|  2019-01-01 00:11:28|     673|        17.3|         5.17|  1.5423476968796435| 27.655274888558694|\n",
      "|       2| 2019-01-01 00:40:18|  2019-01-01 01:03:58|    1420|        19.3|         4.36|  0.8154929577464789| 11.053521126760565|\n",
      "|       2| 2019-01-01 00:15:19|  2019-01-01 00:42:21|    1622|        26.3|         7.57|  0.9728729963008632| 16.801479654747226|\n",
      "|       2| 2019-01-01 00:56:06|  2019-01-01 01:29:56|    2030|       35.68|         9.17|  1.0545812807881774|  16.26206896551724|\n",
      "|       1| 2019-01-01 00:40:34|  2019-01-01 00:51:16|     642|       15.35|         3.40|  1.4345794392523366|  19.06542056074766|\n",
      "|       2| 2019-01-01 00:18:45|  2019-01-01 00:29:12|     627|        11.8|         2.74|  1.1291866028708135| 15.732057416267942|\n",
      "|       2| 2019-01-01 00:07:33|  2019-01-01 00:22:44|     911|        16.8|         4.49|  1.1064763995609221| 17.743139407244787|\n",
      "|       2| 2019-01-01 00:40:36|  2019-01-01 01:07:56|    1640|        32.8|        10.38|  1.1999999999999997| 22.785365853658536|\n",
      "|       2| 2019-01-01 00:06:31|  2019-01-01 00:14:44|     493|        10.3|         2.31|  1.2535496957403651|  16.86815415821501|\n",
      "|       2| 2019-01-01 00:10:50|  2019-01-01 00:11:23|      33|        5.16|          .23|   9.381818181818183| 25.090909090909093|\n",
      "|       2| 2019-01-01 00:39:52|  2019-01-01 01:11:33|    1901|        36.3|        11.25|   1.145712782745923| 21.304576538663863|\n",
      "|       2| 2019-01-01 00:21:11|  2019-01-01 00:26:29|     318|         6.8|          .81|  1.2830188679245282|  9.169811320754716|\n",
      "|       2| 2019-01-01 00:45:11|  2019-01-01 00:55:26|     615|         9.8|         1.83|  0.9560975609756099| 10.712195121951218|\n",
      "|       2| 2019-01-01 00:38:41|  2019-01-02 00:00:00|   84079|        27.8|         8.40| 0.01983848523412505| 0.3596617466906124|\n",
      "|       2| 2019-01-01 00:15:42|  2019-01-01 00:41:04|    1522|       32.76|         7.83|  1.2914586070959264| 18.520367936925098|\n",
      "|       2| 2019-01-01 00:21:28|  2019-01-01 00:48:15|    1607|        25.3|         4.49|  0.9446172993154948| 10.058494088363409|\n",
      "|       2| 2019-01-01 00:17:10|  2019-01-01 00:23:34|     384|         7.8|         1.08|             1.21875|             10.125|\n",
      "|       2| 2019-01-01 00:25:01|  2019-01-01 00:43:55|    1134|        26.3|         8.74|  1.3915343915343916| 27.746031746031747|\n",
      "|       2| 2019-01-01 00:36:56|  2019-01-01 00:43:50|     414|        10.3|         1.32|  1.4927536231884058| 11.478260869565219|\n",
      "|       2| 2019-01-01 00:53:11|  2019-01-01 00:57:04|     233|        8.91|          .68|   2.294420600858369| 10.506437768240344|\n",
      "|       2| 2019-01-01 00:01:00|  2019-01-01 00:06:27|     327|       10.38|         1.43|  1.9045871559633027| 15.743119266055043|\n",
      "+--------+--------------------+---------------------+--------+------------+-------------+--------------------+-------------------+\n",
      "only showing top 100 rows"
     ]
    }
   ],
   "source": [
    "# do some test\n",
    "tmp = df.select(['VendorID', 'lpep_pickup_datetime', 'lpep_dropoff_datetime', 'duration','total_amount','trip_distance','minute_rate','average_speed'])\n",
    "tmp.show(100)"
   ]
  },
  {
   "cell_type": "code",
   "execution_count": 10,
   "metadata": {
    "collapsed": true,
    "jupyter": {
     "outputs_hidden": true
    }
   },
   "outputs": [
    {
     "data": {
      "application/vnd.jupyter.widget-view+json": {
       "model_id": "762963e2670a4d3d91d287c823308db2",
       "version_major": 2,
       "version_minor": 0
      },
      "text/plain": [
       "VBox()"
      ]
     },
     "metadata": {},
     "output_type": "display_data"
    },
    {
     "data": {
      "application/vnd.jupyter.widget-view+json": {
       "model_id": "",
       "version_major": 2,
       "version_minor": 0
      },
      "text/plain": [
       "FloatProgress(value=0.0, bar_style='info', description='Progress:', layout=Layout(height='25px', width='50%'),…"
      ]
     },
     "metadata": {},
     "output_type": "display_data"
    },
    {
     "name": "stdout",
     "output_type": "stream",
     "text": [
      "['VendorID', 'lpep_pickup_datetime', 'lpep_dropoff_datetime', 'RatecodeID', 'PULocationID', 'DOLocationID', 'passenger_count', 'trip_distance', 'fare_amount', 'extra', 'mta_tax', 'tip_amount', 'tolls_amount', 'improvement_surcharge', 'total_amount', 'payment_type', 'trip_type', 'duration', 'minute_rate', 'average_speed']"
     ]
    }
   ],
   "source": [
    "df.columns"
   ]
  },
  {
   "cell_type": "code",
   "execution_count": 69,
   "metadata": {
    "collapsed": true,
    "jupyter": {
     "outputs_hidden": true
    }
   },
   "outputs": [
    {
     "data": {
      "application/vnd.jupyter.widget-view+json": {
       "model_id": "5c6a89e186d64f77a3aabca70d732195",
       "version_major": 2,
       "version_minor": 0
      },
      "text/plain": [
       "VBox()"
      ]
     },
     "metadata": {},
     "output_type": "display_data"
    },
    {
     "data": {
      "application/vnd.jupyter.widget-view+json": {
       "model_id": "",
       "version_major": 2,
       "version_minor": 0
      },
      "text/plain": [
       "FloatProgress(value=0.0, bar_style='info', description='Progress:', layout=Layout(height='25px', width='50%'),…"
      ]
     },
     "metadata": {},
     "output_type": "display_data"
    }
   ],
   "source": [
    "## fix colums with regular names\n",
    "for c in df.columns:\n",
    "    df = df.withColumnRenamed(c, c.replace(' ', '_'))"
   ]
  },
  {
   "cell_type": "code",
   "execution_count": 11,
   "metadata": {
    "collapsed": true,
    "jupyter": {
     "outputs_hidden": true
    }
   },
   "outputs": [
    {
     "data": {
      "application/vnd.jupyter.widget-view+json": {
       "model_id": "b0815a5780d04422960ba42fad8d8e75",
       "version_major": 2,
       "version_minor": 0
      },
      "text/plain": [
       "VBox()"
      ]
     },
     "metadata": {},
     "output_type": "display_data"
    },
    {
     "data": {
      "application/vnd.jupyter.widget-view+json": {
       "model_id": "",
       "version_major": 2,
       "version_minor": 0
      },
      "text/plain": [
       "FloatProgress(value=0.0, bar_style='info', description='Progress:', layout=Layout(height='25px', width='50%'),…"
      ]
     },
     "metadata": {},
     "output_type": "display_data"
    },
    {
     "name": "stdout",
     "output_type": "stream",
     "text": [
      "+--------+--------------------+---------------------+----------+------------+------------+---------------+-------------+-----------+-----+-------+----------+------------+---------------------+------------+------------+---------+--------+-----------+-------------+\n",
      "|VendorID|lpep_pickup_datetime|lpep_dropoff_datetime|RatecodeID|PULocationID|DOLocationID|passenger_count|trip_distance|fare_amount|extra|mta_tax|tip_amount|tolls_amount|improvement_surcharge|total_amount|payment_type|trip_type|duration|minute_rate|average_speed|\n",
      "+--------+--------------------+---------------------+----------+------------+------------+---------------+-------------+-----------+-----+-------+----------+------------+---------------------+------------+------------+---------+--------+-----------+-------------+\n",
      "|       2| 2019-01-01 00:10:16|  2019-01-01 00:16:32|         1|          97|          49|              2|          .86|          6|  0.5|    0.5|         0|           0|                  0.3|         7.3|           2|        1|     376|     1.1649|        8.234|\n",
      "|       2| 2019-01-01 00:27:11|  2019-01-01 00:31:38|         1|          49|         189|              2|          .66|        4.5|  0.5|    0.5|         0|           0|                  0.3|         5.8|           1|        1|     267|     1.3034|       8.8989|\n",
      "|       2| 2019-01-01 00:46:20|  2019-01-01 01:04:54|         1|         189|          17|              2|         2.68|       13.5|  0.5|    0.5|      2.96|           0|                  0.3|       19.71|           1|        1|    1114|     1.0616|       8.6607|\n",
      "|       2| 2019-01-01 00:19:06|  2019-01-01 00:39:43|         1|          82|         258|              1|         4.53|         18|  0.5|    0.5|         0|           0|                  0.3|        19.3|           2|        1|    1237|     0.9361|      13.1835|\n",
      "|       2| 2019-01-01 00:12:35|  2019-01-01 00:19:09|         1|          49|          17|              1|         1.05|        6.5|  0.5|    0.5|         0|           0|                  0.3|         7.8|           1|        1|     394|     1.1878|       9.5939|\n",
      "|       2| 2019-01-01 00:47:55|  2019-01-01 01:00:01|         1|         255|          33|              1|         3.77|       13.5|  0.5|    0.5|         0|           0|                  0.3|        14.8|           1|        1|     726|     1.2231|      18.6942|\n",
      "|       1| 2019-01-01 00:12:47|  2019-01-01 00:30:50|         1|          76|         225|              1|         4.10|         16|  0.5|    0.5|         0|           0|                  0.3|        17.3|           1|        1|    1083|     0.9584|      13.6288|\n",
      "|       2| 2019-01-01 00:16:23|  2019-01-01 00:39:46|         1|          25|          89|              1|         7.75|       25.5|  0.5|    0.5|         0|           0|                  0.3|        26.8|           1|        1|    1403|     1.1461|       19.886|\n",
      "|       2| 2019-01-01 00:58:02|  2019-01-01 01:19:02|         1|          85|          39|              1|         3.68|       15.5|  0.5|    0.5|         0|           0|                  0.3|        16.8|           1|        1|    1260|        0.8|      10.5143|\n",
      "|       2| 2019-01-01 00:37:00|  2019-01-01 00:56:42|         1|         223|         238|              1|         6.84|         22|  0.5|    0.5|         8|        5.76|                  0.3|       37.06|           1|        1|    1182|     1.8812|      20.8325|\n",
      "+--------+--------------------+---------------------+----------+------------+------------+---------------+-------------+-----------+-----+-------+----------+------------+---------------------+------------+------------+---------+--------+-----------+-------------+\n",
      "only showing top 10 rows"
     ]
    }
   ],
   "source": [
    "## polish data\n",
    "\n",
    "## remove data which is tooooo small and ilegal value\n",
    "df = df.filter(df['trip_distance'] >= 0.001)\n",
    "\n",
    "## round minute_rate and average_speed to scale 3 \n",
    "\n",
    "df = df.withColumn('minute_rate', round(df['minute_rate'],4))\n",
    "\n",
    "df = df.withColumn('average_speed', round(df['average_speed'],4))\n",
    "\n",
    "# rename 'VendorID'\n",
    "# df = df.withColumnRenamed('VendorID', 'vendor_id')\n",
    "\n",
    "df.show(10)\n"
   ]
  },
  {
   "cell_type": "code",
   "execution_count": 12,
   "metadata": {
    "collapsed": true,
    "jupyter": {
     "outputs_hidden": true
    }
   },
   "outputs": [
    {
     "data": {
      "application/vnd.jupyter.widget-view+json": {
       "model_id": "4ac90e9d2eef430590aacf97629ad046",
       "version_major": 2,
       "version_minor": 0
      },
      "text/plain": [
       "VBox()"
      ]
     },
     "metadata": {},
     "output_type": "display_data"
    },
    {
     "data": {
      "application/vnd.jupyter.widget-view+json": {
       "model_id": "",
       "version_major": 2,
       "version_minor": 0
      },
      "text/plain": [
       "FloatProgress(value=0.0, bar_style='info', description='Progress:', layout=Layout(height='25px', width='50%'),…"
      ]
     },
     "metadata": {},
     "output_type": "display_data"
    },
    {
     "name": "stdout",
     "output_type": "stream",
     "text": [
      "+--------+--------------------+---------------------+--------+------------+-------------+-----------+-------------+\n",
      "|VendorID|lpep_pickup_datetime|lpep_dropoff_datetime|duration|total_amount|trip_distance|minute_rate|average_speed|\n",
      "+--------+--------------------+---------------------+--------+------------+-------------+-----------+-------------+\n",
      "|       2| 2019-01-01 00:10:16|  2019-01-01 00:16:32|     376|         7.3|          .86|     1.1649|        8.234|\n",
      "|       2| 2019-01-01 00:27:11|  2019-01-01 00:31:38|     267|         5.8|          .66|     1.3034|       8.8989|\n",
      "|       2| 2019-01-01 00:46:20|  2019-01-01 01:04:54|    1114|       19.71|         2.68|     1.0616|       8.6607|\n",
      "|       2| 2019-01-01 00:19:06|  2019-01-01 00:39:43|    1237|        19.3|         4.53|     0.9361|      13.1835|\n",
      "|       2| 2019-01-01 00:12:35|  2019-01-01 00:19:09|     394|         7.8|         1.05|     1.1878|       9.5939|\n",
      "|       2| 2019-01-01 00:47:55|  2019-01-01 01:00:01|     726|        14.8|         3.77|     1.2231|      18.6942|\n",
      "|       1| 2019-01-01 00:12:47|  2019-01-01 00:30:50|    1083|        17.3|         4.10|     0.9584|      13.6288|\n",
      "|       2| 2019-01-01 00:16:23|  2019-01-01 00:39:46|    1403|        26.8|         7.75|     1.1461|       19.886|\n",
      "|       2| 2019-01-01 00:58:02|  2019-01-01 01:19:02|    1260|        16.8|         3.68|        0.8|      10.5143|\n",
      "|       2| 2019-01-01 00:37:00|  2019-01-01 00:56:42|    1182|       37.06|         6.84|     1.8812|      20.8325|\n",
      "|       2| 2019-01-01 00:13:48|  2019-01-01 00:21:00|     432|        9.36|         1.15|        1.3|       9.5833|\n",
      "|       2| 2019-01-01 00:19:59|  2019-01-01 00:45:50|    1551|        16.8|          .49|     0.6499|       1.1373|\n",
      "|       2| 2019-01-01 00:57:57|  2019-01-01 01:20:10|    1333|        18.3|         3.61|     0.8237|       9.7494|\n",
      "|       1| 2019-01-01 00:09:02|  2019-01-01 00:17:50|     528|          14|         1.20|     1.5909|       8.1818|\n",
      "|       1| 2019-01-01 00:22:12|  2019-01-01 00:25:29|     197|         5.3|          .50|     1.6142|       9.1371|\n",
      "|       1| 2019-01-01 00:31:55|  2019-01-01 00:52:59|    1264|       24.95|         5.50|     1.1843|      15.6646|\n",
      "|       2| 2019-01-01 00:30:20|  2019-01-01 00:54:19|    1439|       25.56|         5.01|     1.0657|      12.5337|\n",
      "|       2| 2019-01-01 00:40:17|  2019-01-01 00:50:23|     606|       14.16|         2.72|      1.402|      16.1584|\n",
      "|       2| 2019-01-01 00:51:16|  2019-01-01 01:04:10|     774|       14.75|         2.15|     1.1434|         10.0|\n",
      "|       2| 2019-01-01 00:30:28|  2019-01-01 00:41:18|     650|       14.04|         2.18|      1.296|      12.0738|\n",
      "+--------+--------------------+---------------------+--------+------------+-------------+-----------+-------------+\n",
      "only showing top 20 rows"
     ]
    }
   ],
   "source": [
    "tmp = df.select(['VendorID', 'lpep_pickup_datetime', 'lpep_dropoff_datetime', 'duration','total_amount','trip_distance','minute_rate','average_speed'])\n",
    "tmp.show(20)"
   ]
  },
  {
   "cell_type": "code",
   "execution_count": 13,
   "metadata": {
    "collapsed": true,
    "jupyter": {
     "outputs_hidden": true
    }
   },
   "outputs": [
    {
     "data": {
      "application/vnd.jupyter.widget-view+json": {
       "model_id": "995fa64448814c528b093fe4ddb1923a",
       "version_major": 2,
       "version_minor": 0
      },
      "text/plain": [
       "VBox()"
      ]
     },
     "metadata": {},
     "output_type": "display_data"
    },
    {
     "data": {
      "application/vnd.jupyter.widget-view+json": {
       "model_id": "",
       "version_major": 2,
       "version_minor": 0
      },
      "text/plain": [
       "FloatProgress(value=0.0, bar_style='info', description='Progress:', layout=Layout(height='25px', width='50%'),…"
      ]
     },
     "metadata": {},
     "output_type": "display_data"
    },
    {
     "name": "stdout",
     "output_type": "stream",
     "text": [
      "5779303"
     ]
    }
   ],
   "source": [
    "df.count()"
   ]
  },
  {
   "cell_type": "code",
   "execution_count": 18,
   "metadata": {
    "collapsed": true,
    "jupyter": {
     "outputs_hidden": true
    }
   },
   "outputs": [
    {
     "data": {
      "application/vnd.jupyter.widget-view+json": {
       "model_id": "7cfb59ad8b4d46e6a940526f053e2a1f",
       "version_major": 2,
       "version_minor": 0
      },
      "text/plain": [
       "VBox()"
      ]
     },
     "metadata": {},
     "output_type": "display_data"
    },
    {
     "data": {
      "application/vnd.jupyter.widget-view+json": {
       "model_id": "",
       "version_major": 2,
       "version_minor": 0
      },
      "text/plain": [
       "FloatProgress(value=0.0, bar_style='info', description='Progress:', layout=Layout(height='25px', width='50%'),…"
      ]
     },
     "metadata": {},
     "output_type": "display_data"
    }
   ],
   "source": [
    "## Write Data Back to S3 using AWS API\n",
    "currenttime = datetime.datetime.now()\n",
    "\n",
    "df.write.option('compression', 'snappy') \\\n",
    "    .save( \"s3://data-etl-o-target-0/result/green/green_car_data_processed_{date}/\".format(date=currenttime.strftime('%Y%m%d%H%M%s')))"
   ]
  },
  {
   "cell_type": "code",
   "execution_count": 14,
   "metadata": {
    "collapsed": true,
    "jupyter": {
     "outputs_hidden": true
    }
   },
   "outputs": [
    {
     "data": {
      "application/vnd.jupyter.widget-view+json": {
       "model_id": "c56408a681504c33ade63e07fa200be1",
       "version_major": 2,
       "version_minor": 0
      },
      "text/plain": [
       "VBox()"
      ]
     },
     "metadata": {},
     "output_type": "display_data"
    },
    {
     "data": {
      "application/vnd.jupyter.widget-view+json": {
       "model_id": "",
       "version_major": 2,
       "version_minor": 0
      },
      "text/plain": [
       "FloatProgress(value=0.0, bar_style='info', description='Progress:', layout=Layout(height='25px', width='50%'),…"
      ]
     },
     "metadata": {},
     "output_type": "display_data"
    }
   ],
   "source": [
    "\n",
    "#read in our raw dataset\n",
    "dfz = spark.read.option('header', 'true') \\\n",
    "    .option('mode', 'FAILFAST') \\\n",
    "    .option('columnNameOfCorruptRecord', 'error') \\\n",
    "    .csv('s3://data-etl-o-original-raw/zone/nyc.tlc.taxi_zone_lookup.csv') \\"
   ]
  },
  {
   "cell_type": "code",
   "execution_count": 81,
   "metadata": {
    "collapsed": true,
    "jupyter": {
     "outputs_hidden": true
    }
   },
   "outputs": [
    {
     "data": {
      "application/vnd.jupyter.widget-view+json": {
       "model_id": "ab14709f33244bbcb9256d2f7fe28b43",
       "version_major": 2,
       "version_minor": 0
      },
      "text/plain": [
       "VBox()"
      ]
     },
     "metadata": {},
     "output_type": "display_data"
    },
    {
     "data": {
      "application/vnd.jupyter.widget-view+json": {
       "model_id": "",
       "version_major": 2,
       "version_minor": 0
      },
      "text/plain": [
       "FloatProgress(value=0.0, bar_style='info', description='Progress:', layout=Layout(height='25px', width='50%'),…"
      ]
     },
     "metadata": {},
     "output_type": "display_data"
    },
    {
     "name": "stdout",
     "output_type": "stream",
     "text": [
      "265"
     ]
    }
   ],
   "source": [
    "dfz.count()"
   ]
  },
  {
   "cell_type": "code",
   "execution_count": 84,
   "metadata": {
    "collapsed": true,
    "jupyter": {
     "outputs_hidden": true
    }
   },
   "outputs": [
    {
     "data": {
      "application/vnd.jupyter.widget-view+json": {
       "model_id": "186084101734425e99ed3c91b8d2e802",
       "version_major": 2,
       "version_minor": 0
      },
      "text/plain": [
       "VBox()"
      ]
     },
     "metadata": {},
     "output_type": "display_data"
    },
    {
     "data": {
      "application/vnd.jupyter.widget-view+json": {
       "model_id": "",
       "version_major": 2,
       "version_minor": 0
      },
      "text/plain": [
       "FloatProgress(value=0.0, bar_style='info', description='Progress:', layout=Layout(height='25px', width='50%'),…"
      ]
     },
     "metadata": {},
     "output_type": "display_data"
    },
    {
     "name": "stdout",
     "output_type": "stream",
     "text": [
      "['LocationID', 'Borough', 'Zone', 'service_zone']"
     ]
    }
   ],
   "source": [
    "dfz.columns"
   ]
  },
  {
   "cell_type": "code",
   "execution_count": 15,
   "metadata": {
    "collapsed": true,
    "jupyter": {
     "outputs_hidden": true
    }
   },
   "outputs": [
    {
     "data": {
      "application/vnd.jupyter.widget-view+json": {
       "model_id": "33d1a2163c94444b9cae1e63956fa18a",
       "version_major": 2,
       "version_minor": 0
      },
      "text/plain": [
       "VBox()"
      ]
     },
     "metadata": {},
     "output_type": "display_data"
    },
    {
     "data": {
      "application/vnd.jupyter.widget-view+json": {
       "model_id": "",
       "version_major": 2,
       "version_minor": 0
      },
      "text/plain": [
       "FloatProgress(value=0.0, bar_style='info', description='Progress:', layout=Layout(height='25px', width='50%'),…"
      ]
     },
     "metadata": {},
     "output_type": "display_data"
    },
    {
     "name": "stdout",
     "output_type": "stream",
     "text": [
      "+----------+-------------+--------------------+------------+\n",
      "|LocationID|      Borough|                Zone|service_zone|\n",
      "+----------+-------------+--------------------+------------+\n",
      "|         1|          EWR|      Newark Airport|         EWR|\n",
      "|         2|       Queens|         Jamaica Bay|   Boro Zone|\n",
      "|         3|        Bronx|Allerton/Pelham G...|   Boro Zone|\n",
      "|         4|    Manhattan|       Alphabet City| Yellow Zone|\n",
      "|         5|Staten Island|       Arden Heights|   Boro Zone|\n",
      "|         6|Staten Island|Arrochar/Fort Wad...|   Boro Zone|\n",
      "|         7|       Queens|             Astoria|   Boro Zone|\n",
      "|         8|       Queens|        Astoria Park|   Boro Zone|\n",
      "|         9|       Queens|          Auburndale|   Boro Zone|\n",
      "|        10|       Queens|        Baisley Park|   Boro Zone|\n",
      "|        11|     Brooklyn|          Bath Beach|   Boro Zone|\n",
      "|        12|    Manhattan|        Battery Park| Yellow Zone|\n",
      "|        13|    Manhattan|   Battery Park City| Yellow Zone|\n",
      "|        14|     Brooklyn|           Bay Ridge|   Boro Zone|\n",
      "|        15|       Queens|Bay Terrace/Fort ...|   Boro Zone|\n",
      "|        16|       Queens|             Bayside|   Boro Zone|\n",
      "|        17|     Brooklyn|             Bedford|   Boro Zone|\n",
      "|        18|        Bronx|        Bedford Park|   Boro Zone|\n",
      "|        19|       Queens|           Bellerose|   Boro Zone|\n",
      "|        20|        Bronx|             Belmont|   Boro Zone|\n",
      "+----------+-------------+--------------------+------------+\n",
      "only showing top 20 rows"
     ]
    }
   ],
   "source": [
    "dfz.show(20)"
   ]
  },
  {
   "cell_type": "code",
   "execution_count": 88,
   "metadata": {
    "collapsed": true,
    "jupyter": {
     "outputs_hidden": true
    }
   },
   "outputs": [
    {
     "data": {
      "application/vnd.jupyter.widget-view+json": {
       "model_id": "663ca4f3af524fccba7312bc33cb3bb5",
       "version_major": 2,
       "version_minor": 0
      },
      "text/plain": [
       "VBox()"
      ]
     },
     "metadata": {},
     "output_type": "display_data"
    },
    {
     "data": {
      "application/vnd.jupyter.widget-view+json": {
       "model_id": "",
       "version_major": 2,
       "version_minor": 0
      },
      "text/plain": [
       "FloatProgress(value=0.0, bar_style='info', description='Progress:', layout=Layout(height='25px', width='50%'),…"
      ]
     },
     "metadata": {},
     "output_type": "display_data"
    },
    {
     "name": "stdout",
     "output_type": "stream",
     "text": [
      "+-------------+\n",
      "|      Borough|\n",
      "+-------------+\n",
      "|       Queens|\n",
      "|          EWR|\n",
      "|      Unknown|\n",
      "|     Brooklyn|\n",
      "|Staten Island|\n",
      "|    Manhattan|\n",
      "|        Bronx|\n",
      "+-------------+"
     ]
    }
   ],
   "source": [
    "dfz.select('Borough').distinct().show()"
   ]
  },
  {
   "cell_type": "code",
   "execution_count": 89,
   "metadata": {
    "collapsed": true,
    "jupyter": {
     "outputs_hidden": true
    }
   },
   "outputs": [
    {
     "data": {
      "application/vnd.jupyter.widget-view+json": {
       "model_id": "222f6e0b800b40b8acdf4bef9da2a3cd",
       "version_major": 2,
       "version_minor": 0
      },
      "text/plain": [
       "VBox()"
      ]
     },
     "metadata": {},
     "output_type": "display_data"
    },
    {
     "data": {
      "application/vnd.jupyter.widget-view+json": {
       "model_id": "",
       "version_major": 2,
       "version_minor": 0
      },
      "text/plain": [
       "FloatProgress(value=0.0, bar_style='info', description='Progress:', layout=Layout(height='25px', width='50%'),…"
      ]
     },
     "metadata": {},
     "output_type": "display_data"
    },
    {
     "name": "stdout",
     "output_type": "stream",
     "text": [
      "+----------+-------------+--------------------+------------+\n",
      "|LocationID|      Borough|                Zone|service_zone|\n",
      "+----------+-------------+--------------------+------------+\n",
      "|         1|          EWR|      Newark Airport|         EWR|\n",
      "|         2|       Queens|         Jamaica Bay|   Boro Zone|\n",
      "|         3|        Bronx|Allerton/Pelham G...|   Boro Zone|\n",
      "|         4|    Manhattan|       Alphabet City| Yellow Zone|\n",
      "|         5|Staten Island|       Arden Heights|   Boro Zone|\n",
      "|         6|Staten Island|Arrochar/Fort Wad...|   Boro Zone|\n",
      "|         7|       Queens|             Astoria|   Boro Zone|\n",
      "|         8|       Queens|        Astoria Park|   Boro Zone|\n",
      "|         9|       Queens|          Auburndale|   Boro Zone|\n",
      "|        10|       Queens|        Baisley Park|   Boro Zone|\n",
      "|        11|     Brooklyn|          Bath Beach|   Boro Zone|\n",
      "|        12|    Manhattan|        Battery Park| Yellow Zone|\n",
      "|        13|    Manhattan|   Battery Park City| Yellow Zone|\n",
      "|        14|     Brooklyn|           Bay Ridge|   Boro Zone|\n",
      "|        15|       Queens|Bay Terrace/Fort ...|   Boro Zone|\n",
      "|        16|       Queens|             Bayside|   Boro Zone|\n",
      "|        17|     Brooklyn|             Bedford|   Boro Zone|\n",
      "|        18|        Bronx|        Bedford Park|   Boro Zone|\n",
      "|        19|       Queens|           Bellerose|   Boro Zone|\n",
      "|        20|        Bronx|             Belmont|   Boro Zone|\n",
      "+----------+-------------+--------------------+------------+\n",
      "only showing top 20 rows"
     ]
    }
   ],
   "source": [
    "dfz.show(20)"
   ]
  },
  {
   "cell_type": "code",
   "execution_count": 17,
   "metadata": {
    "collapsed": true,
    "jupyter": {
     "outputs_hidden": true
    }
   },
   "outputs": [
    {
     "data": {
      "application/vnd.jupyter.widget-view+json": {
       "model_id": "959b360308874d578edb3042f5afa17c",
       "version_major": 2,
       "version_minor": 0
      },
      "text/plain": [
       "VBox()"
      ]
     },
     "metadata": {},
     "output_type": "display_data"
    },
    {
     "data": {
      "application/vnd.jupyter.widget-view+json": {
       "model_id": "",
       "version_major": 2,
       "version_minor": 0
      },
      "text/plain": [
       "FloatProgress(value=0.0, bar_style='info', description='Progress:', layout=Layout(height='25px', width='50%'),…"
      ]
     },
     "metadata": {},
     "output_type": "display_data"
    },
    {
     "name": "stdout",
     "output_type": "stream",
     "text": [
      "+-------------+--------------+\n",
      "|      Borough|count(Borough)|\n",
      "+-------------+--------------+\n",
      "|       Queens|            69|\n",
      "|          EWR|             1|\n",
      "|      Unknown|             2|\n",
      "|     Brooklyn|            61|\n",
      "|Staten Island|            20|\n",
      "|    Manhattan|            69|\n",
      "|        Bronx|            43|\n",
      "+-------------+--------------+"
     ]
    }
   ],
   "source": [
    "dfz.select('Borough').groupBy('Borough').agg({'Borough': 'count'}).show()"
   ]
  },
  {
   "cell_type": "code",
   "execution_count": 99,
   "metadata": {
    "collapsed": true,
    "jupyter": {
     "outputs_hidden": true
    }
   },
   "outputs": [
    {
     "name": "stdout",
     "output_type": "stream",
     "text": [
      "# packages in environment at /opt/conda:\n",
      "#\n",
      "# Name                    Version                   Build  Channel\n",
      "_libgcc_mutex             0.1                 conda_forge    conda-forge\n",
      "_openmp_mutex             4.5                      1_llvm    conda-forge\n",
      "alabaster                 0.7.12                     py_0    defaults\n",
      "anaconda-client           1.7.2                    py37_0    defaults\n",
      "anaconda-navigator        1.9.7                    py37_0    defaults\n",
      "anaconda-project          0.8.4                      py_0    defaults\n",
      "asn1crypto                1.3.0                    py37_0    defaults\n",
      "astroid                   2.3.3                    py37_0    defaults\n",
      "astropy                   4.0              py37h7b6447c_0    defaults\n",
      "attrs                     19.3.0                     py_0    defaults\n",
      "autovizwidget             0.13.1                     py_0    defaults\n",
      "awscli                    1.18.3                   py37_0    conda-forge\n",
      "awseditorssparkmonitoringwidget 1.0                      py37_0    file:///tmp/conda-repo\n",
      "awseditorsstorage         0.0.1                    py37_0    file:///tmp/conda-repo\n",
      "babel                     2.8.0                      py_0    defaults\n",
      "backcall                  0.1.0                    py37_0    defaults\n",
      "backports                 1.0                        py_2    defaults\n",
      "backports.functools_lru_cache 1.6.1                      py_0    defaults\n",
      "backports.shutil_get_terminal_size 1.0.0                    py37_2    defaults\n",
      "backports.tempfile        1.0                        py_1    defaults\n",
      "backports.weakref         1.0.post1                  py_1    defaults\n",
      "beautifulsoup4            4.8.2                    py37_0    defaults\n",
      "bitarray                  1.2.1            py37h7b6447c_0    defaults\n",
      "bkcharts                  0.2                      py37_0    defaults\n",
      "blas                      1.0                         mkl    defaults\n",
      "blaze                     0.11.3                   py37_0    defaults\n",
      "bleach                    3.1.0                      py_0    defaults\n",
      "blosc                     1.14.3               hdbcaa40_0    defaults\n",
      "bokeh                     1.4.0                    py37_0    defaults\n",
      "boto                      2.49.0                   py37_0    defaults\n",
      "botocore                  1.15.3                     py_0    conda-forge\n",
      "bottleneck                1.3.1            py37hdd07704_0    defaults\n",
      "bzip2                     1.0.6                h14c3975_5    defaults\n",
      "ca-certificates           2020.1.1                      0    defaults\n",
      "cairo                     1.14.12              h8948797_3    defaults\n",
      "certifi                   2019.11.28               py37_0    defaults\n",
      "cffi                      1.14.0           py37h2e261b9_0    defaults\n",
      "chardet                   3.0.4                 py37_1003    defaults\n",
      "click                     7.0                        py_0    defaults\n",
      "cloudpickle               1.3.0                      py_0    defaults\n",
      "clyent                    1.2.2                    py37_1    defaults\n",
      "colorama                  0.4.3                      py_0    defaults\n",
      "conda                     4.8.2                    py37_0    defaults\n",
      "conda-build               3.18.11                  py37_0    defaults\n",
      "conda-env                 2.6.0                         1    conda-forge\n",
      "conda-package-handling    1.6.0            py37h7b6447c_0    defaults\n",
      "conda-verify              3.4.2                      py_1    defaults\n",
      "contextlib2               0.6.0.post1                py_0    defaults\n",
      "cryptography              2.8              py37h1ba5d50_0    defaults\n",
      "curl                      7.68.0               hf8cf82a_0    conda-forge\n",
      "cycler                    0.10.0                   py37_0    defaults\n",
      "cython                    0.29.15          py37he6710b0_0    defaults\n",
      "cytoolz                   0.10.1           py37h7b6447c_0    defaults\n",
      "dask                      2.10.1                     py_0    defaults\n",
      "dask-core                 2.10.1                     py_0    defaults\n",
      "datashape                 0.5.4                    py37_1    defaults\n",
      "dbus                      1.13.2               h714fa37_1    defaults\n",
      "decorator                 4.4.1                      py_0    defaults\n",
      "defusedxml                0.6.0                      py_0    defaults\n",
      "distributed               2.10.0                     py_0    defaults\n",
      "docutils                  0.15.2                   py37_0    defaults\n",
      "entrypoints               0.3                      py37_0    defaults\n",
      "et_xmlfile                1.0.1                    py37_0    defaults\n",
      "expat                     2.2.6                he6710b0_0    defaults\n",
      "fastcache                 1.1.0            py37h7b6447c_0    defaults\n",
      "filelock                  3.0.12                     py_0    defaults\n",
      "flask                     1.1.1                      py_0    defaults\n",
      "flask-cors                3.0.8                      py_0    defaults\n",
      "fontconfig                2.13.0               h9420a91_0    defaults\n",
      "freetype                  2.9.1                h8a8886c_1    defaults\n",
      "fribidi                   1.0.5                h7b6447c_0    defaults\n",
      "fsspec                    0.6.2                      py_0    defaults\n",
      "future                    0.18.2                   py37_0    defaults\n",
      "get_terminal_size         1.0.0                haa9412d_0    defaults\n",
      "gevent                    1.4.0            py37h7b6447c_0    defaults\n",
      "gitdb2                    2.0.6                      py_0    defaults\n",
      "gitpython                 3.0.5                      py_0    defaults\n",
      "glib                      2.56.2               hd408876_0    defaults\n",
      "glob2                     0.7                        py_0    defaults\n",
      "gmp                       6.1.2                h6c8ec71_1    defaults\n",
      "gmpy2                     2.0.8            py37h10f8cd9_2    defaults\n",
      "graphite2                 1.3.11               h16798f4_2    defaults\n",
      "greenlet                  0.4.15           py37h7b6447c_0    defaults\n",
      "gst-plugins-base          1.14.0               hbbd80ab_1    defaults\n",
      "gstreamer                 1.14.0               hb453b48_1    defaults\n",
      "h5py                      2.8.0            py37h989c5e5_3    defaults\n",
      "harfbuzz                  1.8.8                hffaf4a1_0    defaults\n",
      "hdf5                      1.10.2               hba1933b_1    defaults\n",
      "hdijupyterutils           0.12.9                     py_0    defaults\n",
      "heapdict                  1.0.1                      py_0    defaults\n",
      "html5lib                  1.0.1                      py_0    defaults\n",
      "hypothesis                5.5.4                      py_0    defaults\n",
      "icu                       58.2                 h9c2bf20_1    defaults\n",
      "idna                      2.8                      py37_0    defaults\n",
      "imageio                   2.6.1                    py37_0    defaults\n",
      "imagesize                 1.2.0                      py_0    defaults\n",
      "importlib_metadata        1.5.0                    py37_0    defaults\n",
      "intel-openmp              2020.0                      166    defaults\n",
      "ipykernel                 5.1.4            py37h39e3cac_0    defaults\n",
      "ipython                   7.12.0           py37h5ca1d4c_0    defaults\n",
      "ipython_genutils          0.2.0                    py37_0    defaults\n",
      "ipywidgets                7.5.1                      py_0    defaults\n",
      "isort                     4.3.21                   py37_0    defaults\n",
      "itsdangerous              1.1.0                      py_0    defaults\n",
      "jbig                      2.1                  hdba287a_0    defaults\n",
      "jdcal                     1.4.1                      py_0    defaults\n",
      "jedi                      0.16.0                   py37_0    defaults\n",
      "jeepney                   0.4.2                      py_0    defaults\n",
      "jinja2                    2.11.1                     py_0    defaults\n",
      "jmespath                  0.9.4                      py_0    conda-forge\n",
      "joblib                    0.14.1                     py_0    defaults\n",
      "jpeg                      9b                   h024ee3a_2    defaults\n",
      "json5                     0.9.1                      py_0    defaults\n",
      "jsonschema                3.2.0                    py37_0    defaults\n",
      "jupyter_client            5.3.4                    py37_0    defaults\n",
      "jupyter_console           6.1.0                      py_0    defaults\n",
      "jupyter_core              4.6.1                    py37_0    defaults\n",
      "jupyterlab                1.2.3              pyhf63ae98_0    defaults\n",
      "jupyterlab-git            0.9.0                      py_0    conda-forge\n",
      "jupyterlab_server         1.0.0                      py_0    defaults\n",
      "keyring                   21.1.0                   py37_0    defaults\n",
      "kiwisolver                1.1.0            py37he6710b0_0    defaults\n",
      "krb5                      1.16.4               h2fd8d38_0    conda-forge\n",
      "lazy-object-proxy         1.4.3            py37h7b6447c_0    defaults\n",
      "libarchive                3.3.3             hb44662c_1005    conda-forge\n",
      "libblas                   3.8.0                    15_mkl    conda-forge\n",
      "libcblas                  3.8.0                    15_mkl    conda-forge\n",
      "libcurl                   7.68.0               hda55be3_0    conda-forge\n",
      "libedit                   3.1.20170329         h6b74fdf_2    defaults\n",
      "libffi                    3.2.1                hd88cf55_4    defaults\n",
      "libgcc-ng                 9.2.0                h24d8f2e_2    conda-forge\n",
      "libgfortran-ng            7.3.0                hdf63c60_5    conda-forge\n",
      "libiconv                  1.15              h516909a_1005    conda-forge\n",
      "liblapack                 3.8.0                    15_mkl    conda-forge\n",
      "liblapacke                3.8.0                    15_mkl    conda-forge\n",
      "liblief                   0.9.0                hf8a498c_1    conda-forge\n",
      "libopenblas               0.3.8                h5ec1e0e_0    conda-forge\n",
      "libpng                    1.6.37               hbc83047_0    defaults\n",
      "libsodium                 1.0.16               h1bed415_0    defaults\n",
      "libssh2                   1.8.2                h22169c7_2    conda-forge\n",
      "libstdcxx-ng              9.2.0                hdf63c60_2    conda-forge\n",
      "libtiff                   4.0.9                he85c1e1_1    defaults\n",
      "libtool                   2.4.6                h544aabb_3    defaults\n",
      "libuuid                   1.0.3                h1bed415_2    defaults\n",
      "libuv                     1.34.0               h516909a_0    conda-forge\n",
      "libxcb                    1.13                 h1bed415_1    defaults\n",
      "libxml2                   2.9.9                hea5a465_1    defaults\n",
      "libxslt                   1.1.33               h7d1a2b0_0    defaults\n",
      "llvm-openmp               9.0.1                hc9558a2_2    conda-forge\n",
      "llvmlite                  0.31.0           py37hd408876_0    defaults\n",
      "locket                    0.2.0                    py37_1    defaults\n",
      "lxml                      4.5.0            py37hefd8a0e_0    defaults\n",
      "lz4-c                     1.8.3             he1b5a44_1001    conda-forge\n",
      "lzo                       2.10                 h49e0be7_2    defaults\n",
      "markupsafe                1.1.1            py37h7b6447c_0    defaults\n",
      "matplotlib                3.1.3                    py37_0    defaults\n",
      "matplotlib-base           3.1.3            py37hef1b27d_0    defaults\n",
      "mccabe                    0.6.1                    py37_1    defaults\n",
      "mistune                   0.8.4            py37h7b6447c_0    defaults\n",
      "mkl                       2020.0                      166    conda-forge\n",
      "mkl-service               2.3.0            py37he904b0f_0    defaults\n",
      "mkl_fft                   1.0.15           py37ha843d7b_0    defaults\n",
      "mkl_random                1.1.0            py37hd6b4f25_0    defaults\n",
      "more-itertools            8.2.0                      py_0    defaults\n",
      "mpc                       1.1.0                h10f8cd9_1    defaults\n",
      "mpfr                      4.0.1                hdf1c602_3    defaults\n",
      "mpmath                    1.1.0                    py37_0    defaults\n",
      "msgpack-python            0.6.1            py37hfd86e86_1    defaults\n",
      "multipledispatch          0.6.0                    py37_0    defaults\n",
      "navigator-updater         0.2.1                    py37_0    defaults\n",
      "nbconvert                 5.6.1                    py37_0    defaults\n",
      "nbdime                    1.1.0                    py37_0    conda-forge\n",
      "nbformat                  5.0.4                      py_0    defaults\n",
      "ncurses                   6.1                  hf484d3e_0    defaults\n",
      "networkx                  2.4                        py_0    defaults\n",
      "nltk                      3.4.5                    py37_0    defaults\n",
      "nodejs                    10.13.0              he6710b0_0    defaults\n",
      "nose                      1.3.7                    py37_2    defaults\n",
      "notebook                  6.0.2                    py37_0    defaults\n",
      "numba                     0.48.0           py37h0573a6f_0    defaults\n",
      "numexpr                   2.7.1            py37h423224d_0    defaults\n",
      "numpy                     1.18.1           py37h4f9e942_0    defaults\n",
      "numpy-base                1.18.1           py37hde5b4d6_1    defaults\n",
      "numpydoc                  0.9.2                      py_0    defaults\n",
      "odo                       0.5.1                    py37_0    defaults\n",
      "olefile                   0.46                       py_0    defaults\n",
      "openpyxl                  3.0.3                      py_0    defaults\n",
      "openssl                   1.1.1d               h7b6447c_4    defaults\n",
      "packaging                 20.1                       py_0    defaults\n",
      "pandas                    1.0.1            py37h0573a6f_0    defaults\n",
      "pandoc                    1.19.2.1             hea2e7c5_1    defaults\n",
      "pandocfilters             1.4.2                    py37_1    defaults\n",
      "pango                     1.42.3               h8589676_0    defaults\n",
      "parso                     0.6.1                      py_0    defaults\n",
      "partd                     1.1.0                      py_0    defaults\n",
      "patchelf                  0.9                  hf79760b_2    defaults\n",
      "path                      13.1.0                   py37_0    defaults\n",
      "path.py                   12.4.0                        0    defaults\n",
      "pathlib2                  2.3.5                    py37_0    defaults\n",
      "patsy                     0.5.1                    py37_0    defaults\n",
      "pcre                      8.42                 h439df22_0    defaults\n",
      "pep8                      1.7.1                    py37_0    defaults\n",
      "pexpect                   4.8.0                    py37_0    defaults\n",
      "pickleshare               0.7.5                    py37_0    defaults\n",
      "pillow                    5.4.1            py37h34e0f95_0    defaults\n",
      "pip                       20.0.2                   py37_1    defaults\n",
      "pixman                    0.38.0               h7b6447c_0    defaults\n",
      "pkginfo                   1.5.0.1                  py37_0    defaults\n",
      "plotly                    4.5.0                      py_0    defaults\n",
      "pluggy                    0.13.1                   py37_0    defaults\n",
      "ply                       3.11                     py37_0    defaults\n",
      "prometheus_client         0.7.1                      py_0    defaults\n",
      "prompt_toolkit            3.0.3                      py_0    defaults\n",
      "psutil                    5.6.7            py37h7b6447c_0    defaults\n",
      "ptyprocess                0.6.0                    py37_0    defaults\n",
      "py                        1.8.1                      py_0    defaults\n",
      "py-lief                   0.9.0            py37he1b5a44_1    conda-forge\n",
      "pyasn1                    0.4.8                      py_0    conda-forge\n",
      "pycodestyle               2.5.0                    py37_0    defaults\n",
      "pycosat                   0.6.3            py37h7b6447c_0    defaults\n",
      "pycparser                 2.19                       py_0    defaults\n",
      "pycrypto                  2.6.1            py37h14c3975_9    defaults\n",
      "pycurl                    7.43.0.5         py37h1ba5d50_0    defaults\n",
      "pyflakes                  2.1.1                    py37_0    defaults\n",
      "pygments                  2.5.2                      py_0    defaults\n",
      "pykerberos                1.2.1            py37h14c3975_0    defaults\n",
      "pylint                    2.4.4                    py37_0    defaults\n",
      "pyodbc                    4.0.24           py37he6710b0_0    defaults\n",
      "pyopenssl                 19.1.0                   py37_0    defaults\n",
      "pyparsing                 2.4.6                      py_0    defaults\n",
      "pyqt                      5.6.0            py37h22d08a2_6    defaults\n",
      "pyrsistent                0.15.7           py37h7b6447c_0    defaults\n",
      "pysocks                   1.7.1                    py37_0    defaults\n",
      "pytables                  3.4.4            py37ha205bf6_0    defaults\n",
      "pytest                    5.3.5                    py37_0    defaults\n",
      "pytest-arraydiff          0.3              py37h39e3cac_0    defaults\n",
      "pytest-astropy            0.8.0                      py_0    defaults\n",
      "pytest-astropy-header     0.1.2                      py_0    defaults\n",
      "pytest-doctestplus        0.5.0                      py_0    defaults\n",
      "pytest-openfiles          0.4.0                      py_0    defaults\n",
      "pytest-remotedata         0.3.2                    py37_0    defaults\n",
      "pytest-runner             5.2                        py_0    defaults\n",
      "python                    3.7.3                h0371630_0    defaults\n",
      "python-dateutil           2.8.1                      py_0    defaults\n",
      "python-libarchive-c       2.8                     py37_13    defaults\n",
      "pytz                      2019.3                     py_0    defaults\n",
      "pywavelets                1.1.1            py37h7b6447c_0    defaults\n",
      "pyyaml                    5.2              py37h7b6447c_0    defaults\n",
      "pyzmq                     18.1.1                   pypi_0    pypi\n",
      "qt                        5.6.3                h8bf5577_3    defaults\n",
      "qtawesome                 0.6.1                      py_0    defaults\n",
      "qtconsole                 4.6.0                      py_1    defaults\n",
      "qtpy                      1.9.0                      py_0    defaults\n",
      "readline                  7.0                  ha6073c6_4    defaults\n",
      "requests                  2.22.0                   py37_1    defaults\n",
      "requests-kerberos         0.12.0                   py37_0    defaults\n",
      "retrying                  1.3.3                      py_2    defaults\n",
      "ripgrep                   11.0.2               h516909a_3    conda-forge\n",
      "rope                      0.16.0                     py_0    defaults\n",
      "rsa                       3.4.2                      py_1    conda-forge\n",
      "ruamel_yaml               0.15.87          py37h7b6447c_0    defaults\n",
      "s3transfer                0.3.3                    py37_0    defaults\n",
      "scikit-image              0.16.2           py37h0573a6f_0    defaults\n",
      "scikit-learn              0.22.1           py37hd81dba3_0    defaults\n",
      "scipy                     1.4.1            py37h0b6359f_0    defaults\n",
      "seaborn                   0.10.0                     py_0    defaults\n",
      "secretstorage             3.1.2                    py37_0    defaults\n",
      "send2trash                1.5.0                    py37_0    defaults\n",
      "setuptools                45.2.0                   py37_0    defaults\n",
      "simplegeneric             0.8.1                    py37_2    defaults\n",
      "singledispatch            3.4.0.3                  py37_0    defaults\n",
      "sip                       4.18.1           py37hf484d3e_2    defaults\n",
      "six                       1.14.0                   py37_0    defaults\n",
      "smmap2                    2.0.5                      py_0    defaults\n",
      "snappy                    1.1.7                hbae5bb6_3    defaults\n",
      "snowballstemmer           2.0.0                      py_0    defaults\n",
      "sortedcollections         1.1.2                    py37_0    defaults\n",
      "sortedcontainers          2.1.0                    py37_0    defaults\n",
      "soupsieve                 1.9.5                    py37_0    defaults\n",
      "sparkmagic                0.12.9.amzn.0              py37    file:///tmp/conda-repo\n",
      "sphinx                    2.4.0                      py_0    defaults\n",
      "sphinxcontrib             1.0                      py37_1    defaults\n",
      "sphinxcontrib-applehelp   1.0.1                      py_0    defaults\n",
      "sphinxcontrib-devhelp     1.0.1                      py_0    defaults\n",
      "sphinxcontrib-htmlhelp    1.0.2                      py_0    defaults\n",
      "sphinxcontrib-jsmath      1.0.1                      py_0    defaults\n",
      "sphinxcontrib-qthelp      1.0.2                      py_0    defaults\n",
      "sphinxcontrib-serializinghtml 1.1.3                      py_0    defaults\n",
      "sphinxcontrib-websupport  1.2.0                      py_0    defaults\n",
      "spyder                    3.3.6                    py37_0    defaults\n",
      "spyder-kernels            0.5.2                    py37_0    defaults\n",
      "sqlalchemy                1.3.13           py37h7b6447c_0    defaults\n",
      "sqlite                    3.28.0               h8b20d00_0    conda-forge\n",
      "statsmodels               0.11.0           py37h7b6447c_0    defaults\n",
      "sympy                     1.5.1                    py37_0    defaults\n",
      "tbb                       2020.0               hfd86e86_0    defaults\n",
      "tblib                     1.6.0                      py_0    defaults\n",
      "terminado                 0.8.3                    py37_0    defaults\n",
      "testpath                  0.4.4                      py_0    defaults\n",
      "tk                        8.6.10               hed695b0_0    conda-forge\n",
      "toolz                     0.10.0                     py_0    defaults\n",
      "tornado                   6.0.3            py37h7b6447c_3    defaults\n",
      "tqdm                      4.43.0                     py_0    conda-forge\n",
      "traitlets                 4.3.3                    py37_0    defaults\n",
      "typing                    3.6.4                    py37_0    defaults\n",
      "unicodecsv                0.14.1                   py37_0    defaults\n",
      "unixodbc                  2.3.6                h1bed415_0    defaults\n",
      "urllib3                   1.25.8                   py37_0    defaults\n",
      "wcwidth                   0.1.8                      py_0    defaults\n",
      "webencodings              0.5.1                    py37_1    defaults\n",
      "werkzeug                  1.0.0                      py_0    defaults\n",
      "wheel                     0.34.2                   py37_0    defaults\n",
      "widgetsnbextension        3.5.1                    py37_0    defaults\n",
      "wrapt                     1.11.2           py37h7b6447c_0    defaults\n",
      "wurlitzer                 2.0.0                    py37_0    defaults\n",
      "xlrd                      1.2.0                      py_0    defaults\n",
      "xlsxwriter                1.2.7                      py_0    defaults\n",
      "xlwt                      1.3.0                    py37_0    defaults\n",
      "xz                        5.2.4                h14c3975_4    defaults\n",
      "yaml                      0.1.7                had09818_2    defaults\n",
      "zeromq                    4.2.5                h439df22_0    defaults\n",
      "zict                      1.0.0                      py_0    defaults\n",
      "zipp                      2.2.0                      py_0    defaults\n",
      "zlib                      1.2.11               ha838bed_2    defaults\n",
      "zstd                      1.4.0                h3b9ef0a_0    conda-forge\n",
      "\n",
      "Note: you may need to restart the kernel to use updated packages.\n"
     ]
    }
   ],
   "source": [
    "%%local\n",
    "conda list"
   ]
  },
  {
   "cell_type": "code",
   "execution_count": 100,
   "metadata": {
    "collapsed": true,
    "jupyter": {
     "outputs_hidden": true
    }
   },
   "outputs": [
    {
     "data": {
      "text/html": [
       "\n",
       "<table>\n",
       "  <tr>\n",
       "    <th>Magic</th>\n",
       "    <th>Example</th>\n",
       "    <th>Explanation</th>\n",
       "  </tr>\n",
       "  <tr>\n",
       "    <td>info</td>\n",
       "    <td>%%info</td>\n",
       "    <td>Outputs session information for the current Livy endpoint.</td>\n",
       "  </tr>\n",
       "  <tr>\n",
       "    <td>cleanup</td>\n",
       "    <td>%%cleanup -f</td>\n",
       "    <td>Deletes all sessions for the current Livy endpoint, including this notebook's session. The force flag is mandatory.</td>\n",
       "  </tr>\n",
       "  <tr>\n",
       "    <td>delete</td>\n",
       "    <td>%%delete -f -s 0</td>\n",
       "    <td>Deletes a session by number for the current Livy endpoint. Cannot delete this kernel's session.</td>\n",
       "  </tr>\n",
       "  <tr>\n",
       "    <td>logs</td>\n",
       "    <td>%%logs</td>\n",
       "    <td>Outputs the current session's Livy logs.</td>\n",
       "  </tr>\n",
       "  <tr>\n",
       "    <td>configure</td>\n",
       "    <td>%%configure -f<br/>{\"executorMemory\": \"1000M\", \"executorCores\": 4}</td>\n",
       "    <td>Configure the session creation parameters. The force flag is mandatory if a session has already been\n",
       "    created and the session will be dropped and recreated.<br/>Look at <a href=\"https://github.com/cloudera/livy#request-body\">\n",
       "    Livy's POST /sessions Request Body</a> for a list of valid parameters. Parameters must be passed in as a JSON string.</td>\n",
       "  </tr>\n",
       "  <tr>\n",
       "    <td>spark</td>\n",
       "    <td>%%spark -o df<br/>df = spark.read.parquet('...</td>\n",
       "    <td>Executes spark commands.\n",
       "    Parameters:\n",
       "      <ul>\n",
       "        <li>-o VAR_NAME: The Spark dataframe of name VAR_NAME will be available in the %%local Python context as a\n",
       "          <a href=\"http://pandas.pydata.org/\">Pandas</a> dataframe with the same name.</li>\n",
       "        <li>-m METHOD: Sample method, either <tt>take</tt> or <tt>sample</tt>.</li>\n",
       "        <li>-n MAXROWS: The maximum number of rows of a dataframe that will be pulled from Livy to Jupyter.\n",
       "            If this number is negative, then the number of rows will be unlimited.</li>\n",
       "        <li>-r FRACTION: Fraction used for sampling.</li>\n",
       "      </ul>\n",
       "    </td>\n",
       "  </tr>\n",
       "  <tr>\n",
       "    <td>display</td>\n",
       "    <td>%%display -n 100<br/>my_spark_df</td>\n",
       "    <td>Displays Spark dataframe as a beautiful HTML table with horizontal and vertical scroll bars(if necessary).\n",
       "    Parameters:\n",
       "      <ul>\n",
       "        <li>-m METHOD: Sample method, either <tt>take</tt> or <tt>sample</tt>.</li>\n",
       "        <li>-n MAXROWS: The maximum number of rows of a dataframe to display.\n",
       "            If this number is negative, then the number of rows will be unlimited.</li>\n",
       "        <li>-r FRACTION: Fraction used for sampling.</li>\n",
       "      </ul>\n",
       "    </td>\n",
       "  </tr>\n",
       "  <tr>\n",
       "    <td>sql</td>\n",
       "    <td>%%sql -o tables -q<br/>SHOW TABLES</td>\n",
       "    <td>Executes a SQL query against the variable sqlContext (Spark v1.x) or spark (Spark v2.x).\n",
       "    Parameters:\n",
       "      <ul>\n",
       "        <li>-o VAR_NAME: The result of the SQL query will be available in the %%local Python context as a\n",
       "          <a href=\"http://pandas.pydata.org/\">Pandas</a> dataframe.</li>\n",
       "        <li>-q: The magic will return None instead of the dataframe (no visualization).</li>\n",
       "        <li>-m, -n, -r are the same as the %%spark parameters above.</li>\n",
       "      </ul>\n",
       "    </td>\n",
       "  </tr>\n",
       "  <tr>\n",
       "    <td>local</td>\n",
       "    <td>%%local<br/>a = 1</td>\n",
       "    <td>All the code in subsequent lines will be executed locally. Code must be valid Python code.</td>\n",
       "  </tr>\n",
       "</table>\n"
      ],
      "text/plain": [
       "<IPython.core.display.HTML object>"
      ]
     },
     "metadata": {},
     "output_type": "display_data"
    }
   ],
   "source": [
    "%%help"
   ]
  },
  {
   "cell_type": "code",
   "execution_count": 101,
   "metadata": {
    "collapsed": true,
    "jupyter": {
     "outputs_hidden": true
    }
   },
   "outputs": [
    {
     "data": {
      "application/vnd.jupyter.widget-view+json": {
       "model_id": "94ce942e34414873bd873f6211225555",
       "version_major": 2,
       "version_minor": 0
      },
      "text/plain": [
       "VBox()"
      ]
     },
     "metadata": {},
     "output_type": "display_data"
    },
    {
     "data": {
      "application/vnd.jupyter.widget-view+json": {
       "model_id": "",
       "version_major": 2,
       "version_minor": 0
      },
      "text/plain": [
       "FloatProgress(value=0.0, bar_style='info', description='Progress:', layout=Layout(height='25px', width='50%'),…"
      ]
     },
     "metadata": {},
     "output_type": "display_data"
    },
    {
     "name": "stdout",
     "output_type": "stream",
     "text": [
      "+--------+------------+------------+---------------+--------------------+---------------------+--------+------------+-------------+-----------+-------------+\n",
      "|VendorID|PULocationID|DOLocationID|passenger_count|lpep_pickup_datetime|lpep_dropoff_datetime|duration|total_amount|trip_distance|minute_rate|average_speed|\n",
      "+--------+------------+------------+---------------+--------------------+---------------------+--------+------------+-------------+-----------+-------------+\n",
      "|       2|          97|          49|              2| 2019-01-01 00:10:16|  2019-01-01 00:16:32|     376|         7.3|          .86|      1.165|        8.234|\n",
      "|       2|          49|         189|              2| 2019-01-01 00:27:11|  2019-01-01 00:31:38|     267|         5.8|          .66|      1.303|        8.899|\n",
      "|       2|         189|          17|              2| 2019-01-01 00:46:20|  2019-01-01 01:04:54|    1114|       19.71|         2.68|      1.062|        8.661|\n",
      "|       2|          82|         258|              1| 2019-01-01 00:19:06|  2019-01-01 00:39:43|    1237|        19.3|         4.53|      0.936|       13.184|\n",
      "|       2|          49|          17|              1| 2019-01-01 00:12:35|  2019-01-01 00:19:09|     394|         7.8|         1.05|      1.188|        9.594|\n",
      "|       2|         255|          33|              1| 2019-01-01 00:47:55|  2019-01-01 01:00:01|     726|        14.8|         3.77|      1.223|       18.694|\n",
      "|       1|          76|         225|              1| 2019-01-01 00:12:47|  2019-01-01 00:30:50|    1083|        17.3|         4.10|      0.958|       13.629|\n",
      "|       2|          25|          89|              1| 2019-01-01 00:16:23|  2019-01-01 00:39:46|    1403|        26.8|         7.75|      1.146|       19.886|\n",
      "|       2|          85|          39|              1| 2019-01-01 00:58:02|  2019-01-01 01:19:02|    1260|        16.8|         3.68|        0.8|       10.514|\n",
      "|       2|         223|         238|              1| 2019-01-01 00:37:00|  2019-01-01 00:56:42|    1182|       37.06|         6.84|      1.881|       20.832|\n",
      "|       2|         129|         129|              2| 2019-01-01 00:13:48|  2019-01-01 00:21:00|     432|        9.36|         1.15|        1.3|        9.583|\n",
      "|       2|          71|          71|              1| 2019-01-01 00:19:59|  2019-01-01 00:45:50|    1551|        16.8|          .49|       0.65|        1.137|\n",
      "|       2|          85|         177|              1| 2019-01-01 00:57:57|  2019-01-01 01:20:10|    1333|        18.3|         3.61|      0.824|        9.749|\n",
      "|       1|         256|          80|              1| 2019-01-01 00:09:02|  2019-01-01 00:17:50|     528|          14|         1.20|      1.591|        8.182|\n",
      "|       1|          80|          80|              1| 2019-01-01 00:22:12|  2019-01-01 00:25:29|     197|         5.3|          .50|      1.614|        9.137|\n",
      "|       1|         256|         229|              1| 2019-01-01 00:31:55|  2019-01-01 00:52:59|    1264|       24.95|         5.50|      1.184|       15.665|\n",
      "|       2|         255|         231|              1| 2019-01-01 00:30:20|  2019-01-01 00:54:19|    1439|       25.56|         5.01|      1.066|       12.534|\n",
      "|       2|         146|         129|              1| 2019-01-01 00:40:17|  2019-01-01 00:50:23|     606|       14.16|         2.72|      1.402|       16.158|\n",
      "|       2|         129|         157|              1| 2019-01-01 00:51:16|  2019-01-01 01:04:10|     774|       14.75|         2.15|      1.143|         10.0|\n",
      "|       2|         256|         112|              5| 2019-01-01 00:30:28|  2019-01-01 00:41:18|     650|       14.04|         2.18|      1.296|       12.074|\n",
      "+--------+------------+------------+---------------+--------------------+---------------------+--------+------------+-------------+-----------+-------------+\n",
      "only showing top 20 rows"
     ]
    }
   ],
   "source": [
    "tmp = df.select(['VendorID','PULocationID', 'DOLocationID', 'passenger_count', 'lpep_pickup_datetime', 'lpep_dropoff_datetime', 'duration','total_amount','trip_distance','minute_rate','average_speed'])\n",
    "tmp.show(20)"
   ]
  },
  {
   "cell_type": "code",
   "execution_count": 104,
   "metadata": {
    "collapsed": true,
    "jupyter": {
     "outputs_hidden": true
    }
   },
   "outputs": [
    {
     "data": {
      "application/vnd.jupyter.widget-view+json": {
       "model_id": "f3c697a177314d1681ca9adb0db790ff",
       "version_major": 2,
       "version_minor": 0
      },
      "text/plain": [
       "VBox()"
      ]
     },
     "metadata": {},
     "output_type": "display_data"
    },
    {
     "data": {
      "application/vnd.jupyter.widget-view+json": {
       "model_id": "",
       "version_major": 2,
       "version_minor": 0
      },
      "text/plain": [
       "FloatProgress(value=0.0, bar_style='info', description='Progress:', layout=Layout(height='25px', width='50%'),…"
      ]
     },
     "metadata": {},
     "output_type": "display_data"
    },
    {
     "name": "stdout",
     "output_type": "stream",
     "text": [
      "+--------+------------+------------+---------------+--------------------+---------------------+--------+------------+-------------+-----------+-------------+\n",
      "|VendorID|PULocationID|DOLocationID|passenger_count|lpep_pickup_datetime|lpep_dropoff_datetime|duration|total_amount|trip_distance|minute_rate|average_speed|\n",
      "+--------+------------+------------+---------------+--------------------+---------------------+--------+------------+-------------+-----------+-------------+\n",
      "|       2|          97|          49|              2| 2019-01-01 00:10:16|  2019-01-01 00:16:32|     376|         7.3|          .86|      1.165|        8.234|\n",
      "|       2|          49|         189|              2| 2019-01-01 00:27:11|  2019-01-01 00:31:38|     267|         5.8|          .66|      1.303|        8.899|\n",
      "|       2|         189|          17|              2| 2019-01-01 00:46:20|  2019-01-01 01:04:54|    1114|       19.71|         2.68|      1.062|        8.661|\n",
      "|       2|          82|         258|              1| 2019-01-01 00:19:06|  2019-01-01 00:39:43|    1237|        19.3|         4.53|      0.936|       13.184|\n",
      "|       2|          49|          17|              1| 2019-01-01 00:12:35|  2019-01-01 00:19:09|     394|         7.8|         1.05|      1.188|        9.594|\n",
      "|       2|         255|          33|              1| 2019-01-01 00:47:55|  2019-01-01 01:00:01|     726|        14.8|         3.77|      1.223|       18.694|\n",
      "|       1|          76|         225|              1| 2019-01-01 00:12:47|  2019-01-01 00:30:50|    1083|        17.3|         4.10|      0.958|       13.629|\n",
      "|       2|          25|          89|              1| 2019-01-01 00:16:23|  2019-01-01 00:39:46|    1403|        26.8|         7.75|      1.146|       19.886|\n",
      "|       2|          85|          39|              1| 2019-01-01 00:58:02|  2019-01-01 01:19:02|    1260|        16.8|         3.68|        0.8|       10.514|\n",
      "|       2|         223|         238|              1| 2019-01-01 00:37:00|  2019-01-01 00:56:42|    1182|       37.06|         6.84|      1.881|       20.832|\n",
      "+--------+------------+------------+---------------+--------------------+---------------------+--------+------------+-------------+-----------+-------------+\n",
      "only showing top 10 rows"
     ]
    }
   ],
   "source": [
    "df.groupBy('passenger_count').count().orderBy('count', ascending=False).limit(10).show(10)"
   ]
  },
  {
   "cell_type": "code",
   "execution_count": 19,
   "metadata": {
    "collapsed": true,
    "jupyter": {
     "outputs_hidden": true
    }
   },
   "outputs": [
    {
     "data": {
      "application/vnd.jupyter.widget-view+json": {
       "model_id": "e82909428ba74b0c9dd81602b0eef652",
       "version_major": 2,
       "version_minor": 0
      },
      "text/plain": [
       "VBox()"
      ]
     },
     "metadata": {},
     "output_type": "display_data"
    },
    {
     "data": {
      "application/vnd.jupyter.widget-view+json": {
       "model_id": "",
       "version_major": 2,
       "version_minor": 0
      },
      "text/plain": [
       "FloatProgress(value=0.0, bar_style='info', description='Progress:', layout=Layout(height='25px', width='50%'),…"
      ]
     },
     "metadata": {},
     "output_type": "display_data"
    },
    {
     "name": "stdout",
     "output_type": "stream",
     "text": [
      "+------------+------+\n",
      "|PULocationID| count|\n",
      "+------------+------+\n",
      "|          74|457848|\n",
      "|          75|368752|\n",
      "|          41|333623|\n",
      "|          82|259303|\n",
      "|           7|244131|\n",
      "+------------+------+\n",
      "only showing top 5 rows"
     ]
    }
   ],
   "source": [
    "toplo = df.groupBy('PULocationID').count().orderBy('count', ascending=False).limit(10)\n",
    "toplo.show(5)"
   ]
  },
  {
   "cell_type": "code",
   "execution_count": 20,
   "metadata": {
    "collapsed": true,
    "jupyter": {
     "outputs_hidden": true
    }
   },
   "outputs": [
    {
     "data": {
      "application/vnd.jupyter.widget-view+json": {
       "model_id": "264235e112e44e6bbb9ebda298572f2c",
       "version_major": 2,
       "version_minor": 0
      },
      "text/plain": [
       "VBox()"
      ]
     },
     "metadata": {},
     "output_type": "display_data"
    },
    {
     "data": {
      "application/vnd.jupyter.widget-view+json": {
       "model_id": "",
       "version_major": 2,
       "version_minor": 0
      },
      "text/plain": [
       "FloatProgress(value=0.0, bar_style='info', description='Progress:', layout=Layout(height='25px', width='50%'),…"
      ]
     },
     "metadata": {},
     "output_type": "display_data"
    },
    {
     "name": "stdout",
     "output_type": "stream",
     "text": [
      "+------------+------------+-----+\n",
      "|PULocationID|DOLocationID|count|\n",
      "+------------+------------+-----+\n",
      "|          75|          74|72275|\n",
      "|           7|           7|67275|\n",
      "|          74|          75|61992|\n",
      "|          41|          42|56941|\n",
      "|          95|          95|52950|\n",
      "+------------+------------+-----+\n",
      "only showing top 5 rows"
     ]
    }
   ],
   "source": [
    "toplo2 = df.groupBy('PULocationID','DOLocationID').count().orderBy('count', ascending=False).limit(10)\n",
    "toplo2.show(5)"
   ]
  },
  {
   "cell_type": "code",
   "execution_count": 21,
   "metadata": {
    "collapsed": true,
    "jupyter": {
     "outputs_hidden": true
    }
   },
   "outputs": [
    {
     "data": {
      "application/vnd.jupyter.widget-view+json": {
       "model_id": "a2cde955a0fe4ba2a22c52261aad6c8a",
       "version_major": 2,
       "version_minor": 0
      },
      "text/plain": [
       "VBox()"
      ]
     },
     "metadata": {},
     "output_type": "display_data"
    },
    {
     "data": {
      "application/vnd.jupyter.widget-view+json": {
       "model_id": "",
       "version_major": 2,
       "version_minor": 0
      },
      "text/plain": [
       "FloatProgress(value=0.0, bar_style='info', description='Progress:', layout=Layout(height='25px', width='50%'),…"
      ]
     },
     "metadata": {},
     "output_type": "display_data"
    },
    {
     "name": "stdout",
     "output_type": "stream",
     "text": [
      "+----------+-------------+--------------------+------------+\n",
      "|LocationID|      Borough|                Zone|service_zone|\n",
      "+----------+-------------+--------------------+------------+\n",
      "|         1|          EWR|      Newark Airport|         EWR|\n",
      "|         2|       Queens|         Jamaica Bay|   Boro Zone|\n",
      "|         3|        Bronx|Allerton/Pelham G...|   Boro Zone|\n",
      "|         4|    Manhattan|       Alphabet City| Yellow Zone|\n",
      "|         5|Staten Island|       Arden Heights|   Boro Zone|\n",
      "+----------+-------------+--------------------+------------+\n",
      "only showing top 5 rows"
     ]
    }
   ],
   "source": [
    "dfz.show(5)"
   ]
  },
  {
   "cell_type": "code",
   "execution_count": 22,
   "metadata": {
    "collapsed": true,
    "jupyter": {
     "outputs_hidden": true
    }
   },
   "outputs": [
    {
     "data": {
      "application/vnd.jupyter.widget-view+json": {
       "model_id": "c1dad7a7886543d0b8d7177ba709a351",
       "version_major": 2,
       "version_minor": 0
      },
      "text/plain": [
       "VBox()"
      ]
     },
     "metadata": {},
     "output_type": "display_data"
    },
    {
     "data": {
      "application/vnd.jupyter.widget-view+json": {
       "model_id": "",
       "version_major": 2,
       "version_minor": 0
      },
      "text/plain": [
       "FloatProgress(value=0.0, bar_style='info', description='Progress:', layout=Layout(height='25px', width='50%'),…"
      ]
     },
     "metadata": {},
     "output_type": "display_data"
    },
    {
     "name": "stdout",
     "output_type": "stream",
     "text": [
      "+------------+------------+-----+------------+-----------------+------------+\n",
      "|PULocationID|DOLocationID|count|FromLocation|             Zone|service_zone|\n",
      "+------------+------------+-----+------------+-----------------+------------+\n",
      "|          75|          74|72275|   Manhattan|East Harlem South|   Boro Zone|\n",
      "|           7|           7|67275|      Queens|          Astoria|   Boro Zone|\n",
      "|          74|          75|61992|   Manhattan|East Harlem North|   Boro Zone|\n",
      "|          41|          42|56941|   Manhattan|   Central Harlem|   Boro Zone|\n",
      "|          95|          95|52950|      Queens|     Forest Hills|   Boro Zone|\n",
      "|          82|         129|49679|      Queens|         Elmhurst|   Boro Zone|\n",
      "|          41|          41|43924|   Manhattan|   Central Harlem|   Boro Zone|\n",
      "|          74|          41|43754|   Manhattan|East Harlem North|   Boro Zone|\n",
      "|          74|          74|43477|   Manhattan|East Harlem North|   Boro Zone|\n",
      "|         129|         129|43268|      Queens|  Jackson Heights|   Boro Zone|\n",
      "+------------+------------+-----+------------+-----------------+------------+"
     ]
    }
   ],
   "source": [
    "top_5_loc_names = toplo2.join(dfz, toplo2['PULocationID'].eqNullSafe(dfz['LocationID']),'left') \\\n",
    "            .withColumnRenamed('Borough','FromLocation') \\\n",
    "            .drop('LocationID') \\\n",
    "            .orderBy('count', ascending=False)\n",
    "top_5_loc_names.show()"
   ]
  },
  {
   "cell_type": "code",
   "execution_count": 114,
   "metadata": {
    "collapsed": true,
    "jupyter": {
     "outputs_hidden": true
    }
   },
   "outputs": [
    {
     "data": {
      "text/html": [
       "\n",
       "<table>\n",
       "  <tr>\n",
       "    <th>Magic</th>\n",
       "    <th>Example</th>\n",
       "    <th>Explanation</th>\n",
       "  </tr>\n",
       "  <tr>\n",
       "    <td>info</td>\n",
       "    <td>%%info</td>\n",
       "    <td>Outputs session information for the current Livy endpoint.</td>\n",
       "  </tr>\n",
       "  <tr>\n",
       "    <td>cleanup</td>\n",
       "    <td>%%cleanup -f</td>\n",
       "    <td>Deletes all sessions for the current Livy endpoint, including this notebook's session. The force flag is mandatory.</td>\n",
       "  </tr>\n",
       "  <tr>\n",
       "    <td>delete</td>\n",
       "    <td>%%delete -f -s 0</td>\n",
       "    <td>Deletes a session by number for the current Livy endpoint. Cannot delete this kernel's session.</td>\n",
       "  </tr>\n",
       "  <tr>\n",
       "    <td>logs</td>\n",
       "    <td>%%logs</td>\n",
       "    <td>Outputs the current session's Livy logs.</td>\n",
       "  </tr>\n",
       "  <tr>\n",
       "    <td>configure</td>\n",
       "    <td>%%configure -f<br/>{\"executorMemory\": \"1000M\", \"executorCores\": 4}</td>\n",
       "    <td>Configure the session creation parameters. The force flag is mandatory if a session has already been\n",
       "    created and the session will be dropped and recreated.<br/>Look at <a href=\"https://github.com/cloudera/livy#request-body\">\n",
       "    Livy's POST /sessions Request Body</a> for a list of valid parameters. Parameters must be passed in as a JSON string.</td>\n",
       "  </tr>\n",
       "  <tr>\n",
       "    <td>spark</td>\n",
       "    <td>%%spark -o df<br/>df = spark.read.parquet('...</td>\n",
       "    <td>Executes spark commands.\n",
       "    Parameters:\n",
       "      <ul>\n",
       "        <li>-o VAR_NAME: The Spark dataframe of name VAR_NAME will be available in the %%local Python context as a\n",
       "          <a href=\"http://pandas.pydata.org/\">Pandas</a> dataframe with the same name.</li>\n",
       "        <li>-m METHOD: Sample method, either <tt>take</tt> or <tt>sample</tt>.</li>\n",
       "        <li>-n MAXROWS: The maximum number of rows of a dataframe that will be pulled from Livy to Jupyter.\n",
       "            If this number is negative, then the number of rows will be unlimited.</li>\n",
       "        <li>-r FRACTION: Fraction used for sampling.</li>\n",
       "      </ul>\n",
       "    </td>\n",
       "  </tr>\n",
       "  <tr>\n",
       "    <td>display</td>\n",
       "    <td>%%display -n 100<br/>my_spark_df</td>\n",
       "    <td>Displays Spark dataframe as a beautiful HTML table with horizontal and vertical scroll bars(if necessary).\n",
       "    Parameters:\n",
       "      <ul>\n",
       "        <li>-m METHOD: Sample method, either <tt>take</tt> or <tt>sample</tt>.</li>\n",
       "        <li>-n MAXROWS: The maximum number of rows of a dataframe to display.\n",
       "            If this number is negative, then the number of rows will be unlimited.</li>\n",
       "        <li>-r FRACTION: Fraction used for sampling.</li>\n",
       "      </ul>\n",
       "    </td>\n",
       "  </tr>\n",
       "  <tr>\n",
       "    <td>sql</td>\n",
       "    <td>%%sql -o tables -q<br/>SHOW TABLES</td>\n",
       "    <td>Executes a SQL query against the variable sqlContext (Spark v1.x) or spark (Spark v2.x).\n",
       "    Parameters:\n",
       "      <ul>\n",
       "        <li>-o VAR_NAME: The result of the SQL query will be available in the %%local Python context as a\n",
       "          <a href=\"http://pandas.pydata.org/\">Pandas</a> dataframe.</li>\n",
       "        <li>-q: The magic will return None instead of the dataframe (no visualization).</li>\n",
       "        <li>-m, -n, -r are the same as the %%spark parameters above.</li>\n",
       "      </ul>\n",
       "    </td>\n",
       "  </tr>\n",
       "  <tr>\n",
       "    <td>local</td>\n",
       "    <td>%%local<br/>a = 1</td>\n",
       "    <td>All the code in subsequent lines will be executed locally. Code must be valid Python code.</td>\n",
       "  </tr>\n",
       "</table>\n"
      ],
      "text/plain": [
       "<IPython.core.display.HTML object>"
      ]
     },
     "metadata": {},
     "output_type": "display_data"
    }
   ],
   "source": [
    "%%help"
   ]
  },
  {
   "cell_type": "code",
   "execution_count": 23,
   "metadata": {
    "collapsed": true,
    "jupyter": {
     "outputs_hidden": true
    }
   },
   "outputs": [
    {
     "data": {
      "application/vnd.jupyter.widget-view+json": {
       "model_id": "aa573813590e4eb894dc4f18d5ef150a",
       "version_major": 2,
       "version_minor": 0
      },
      "text/plain": [
       "VBox()"
      ]
     },
     "metadata": {},
     "output_type": "display_data"
    },
    {
     "data": {
      "application/vnd.jupyter.widget-view+json": {
       "model_id": "",
       "version_major": 2,
       "version_minor": 0
      },
      "text/plain": [
       "FloatProgress(value=0.0, bar_style='info', description='Progress:', layout=Layout(height='25px', width='50%'),…"
      ]
     },
     "metadata": {},
     "output_type": "display_data"
    }
   ],
   "source": [
    "top_5_loc_names.createOrReplaceTempView(\"top_5_loc_names_views\")"
   ]
  },
  {
   "cell_type": "code",
   "execution_count": 29,
   "metadata": {
    "collapsed": true,
    "jupyter": {
     "outputs_hidden": true
    }
   },
   "outputs": [
    {
     "data": {
      "application/vnd.jupyter.widget-view+json": {
       "model_id": "",
       "version_major": 2,
       "version_minor": 0
      },
      "text/plain": [
       "FloatProgress(value=0.0, bar_style='info', description='Progress:', layout=Layout(height='25px', width='50%'),…"
      ]
     },
     "metadata": {},
     "output_type": "display_data"
    },
    {
     "data": {
      "application/vnd.jupyter.widget-view+json": {
       "model_id": "23b79f0857b04d02a3fa6c1d968c6d99",
       "version_major": 2,
       "version_minor": 0
      },
      "text/plain": [
       "VBox(children=(HBox(children=(HTML(value='Type:'), Button(description='Table', layout=Layout(width='70px'), st…"
      ]
     },
     "metadata": {},
     "output_type": "display_data"
    },
    {
     "data": {
      "application/vnd.jupyter.widget-view+json": {
       "model_id": "621514ca62c1477b8d5aabc9b2477554",
       "version_major": 2,
       "version_minor": 0
      },
      "text/plain": [
       "Output()"
      ]
     },
     "metadata": {},
     "output_type": "display_data"
    }
   ],
   "source": [
    "%%sql -o top_5_loc_names -n -1\n",
    "select 'PULocationID','DOLocationID','count' from top_5_loc_names_views\n",
    "group by 'PULocationID','DOLocationID'\n",
    "ORDER BY count Desc"
   ]
  },
  {
   "cell_type": "code",
   "execution_count": 31,
   "metadata": {},
   "outputs": [
    {
     "data": {
      "application/vnd.jupyter.widget-view+json": {
       "model_id": "3fd02988356e4311bcdc3291febb70c6",
       "version_major": 2,
       "version_minor": 0
      },
      "text/plain": [
       "VBox()"
      ]
     },
     "metadata": {},
     "output_type": "display_data"
    },
    {
     "data": {
      "application/vnd.jupyter.widget-view+json": {
       "model_id": "",
       "version_major": 2,
       "version_minor": 0
      },
      "text/plain": [
       "FloatProgress(value=0.0, bar_style='info', description='Progress:', layout=Layout(height='25px', width='50%'),…"
      ]
     },
     "metadata": {},
     "output_type": "display_data"
    },
    {
     "name": "stdout",
     "output_type": "stream",
     "text": [
      "[]"
     ]
    }
   ],
   "source": [
    "import os\n",
    "all_files_in_cur_dir = os.listdir('.') \n",
    "csvfileslist = list(filter(lambda x:(x[-6:] == '.ipynb'),all_files_in_cur_dir))\n",
    "csvfileslist"
   ]
  },
  {
   "cell_type": "code",
   "execution_count": 34,
   "metadata": {},
   "outputs": [
    {
     "data": {
      "application/vnd.jupyter.widget-view+json": {
       "model_id": "1df3cd73ee1f415aad31992231191629",
       "version_major": 2,
       "version_minor": 0
      },
      "text/plain": [
       "VBox()"
      ]
     },
     "metadata": {},
     "output_type": "display_data"
    },
    {
     "data": {
      "application/vnd.jupyter.widget-view+json": {
       "model_id": "",
       "version_major": 2,
       "version_minor": 0
      },
      "text/plain": [
       "FloatProgress(value=0.0, bar_style='info', description='Progress:', layout=Layout(height='25px', width='50%'),…"
      ]
     },
     "metadata": {},
     "output_type": "display_data"
    },
    {
     "name": "stdout",
     "output_type": "stream",
     "text": [
      "['var', 'lib64', 'emr', 'home', 'lost+found', 'sbin', 'selinux', 'lib', 'srv', 'device-names.json', 'media', 'tmp', 'mnt', 'run', 'cgroup', 'bin', 'etc', 'dev', 'mnt1', '.autofsck', 'boot', 'opt', 'usr', 'proc', 'sys', 'root', 'local', '.autorelabel']"
     ]
    }
   ],
   "source": [
    "import os\n",
    "# csvfileslist = list(os.listdir('.'))\n",
    "csvfileslist\n",
    "os.listdir('.')"
   ]
  },
  {
   "cell_type": "code",
   "execution_count": 44,
   "metadata": {},
   "outputs": [
    {
     "data": {
      "application/vnd.jupyter.widget-view+json": {
       "model_id": "b67c222684054bba881b5ac344c346f2",
       "version_major": 2,
       "version_minor": 0
      },
      "text/plain": [
       "VBox()"
      ]
     },
     "metadata": {},
     "output_type": "display_data"
    },
    {
     "data": {
      "application/vnd.jupyter.widget-view+json": {
       "model_id": "",
       "version_major": 2,
       "version_minor": 0
      },
      "text/plain": [
       "FloatProgress(value=0.0, bar_style='info', description='Progress:', layout=Layout(height='25px', width='50%'),…"
      ]
     },
     "metadata": {},
     "output_type": "display_data"
    },
    {
     "name": "stdout",
     "output_type": "stream",
     "text": [
      "('/tmp/LoanStats3a.csv.zip', <http.client.HTTPMessage object at 0x7f604f355400>)"
     ]
    }
   ],
   "source": [
    "import urllib \n",
    "urllib.request.urlretrieve(\"https://resources.lendingclub.com/LoanStats3a.csv.zip\", \"/tmp/LoanStats3a.csv.zip\")"
   ]
  },
  {
   "cell_type": "code",
   "execution_count": 46,
   "metadata": {},
   "outputs": [
    {
     "data": {
      "application/vnd.jupyter.widget-view+json": {
       "model_id": "1d02511d038e4656bc750730d9677644",
       "version_major": 2,
       "version_minor": 0
      },
      "text/plain": [
       "VBox()"
      ]
     },
     "metadata": {},
     "output_type": "display_data"
    },
    {
     "data": {
      "application/vnd.jupyter.widget-view+json": {
       "model_id": "",
       "version_major": 2,
       "version_minor": 0
      },
      "text/plain": [
       "FloatProgress(value=0.0, bar_style='info', description='Progress:', layout=Layout(height='25px', width='50%'),…"
      ]
     },
     "metadata": {},
     "output_type": "display_data"
    }
   ],
   "source": [
    "import zipfile\n",
    "urllib.request.urlretrieve(\"https://s3.amazonaws.com/nyc-tlc/misc/taxi_zones.zip\", \"/tmp/taxi_zones.zip\")\n",
    "with zipfile.ZipFile(\"/tmp/taxi_zones.zip\",\"r\") as zip_ref:\n",
    "    zip_ref.extractall(\"/tmp/shape\")"
   ]
  },
  {
   "cell_type": "code",
   "execution_count": 47,
   "metadata": {},
   "outputs": [
    {
     "data": {
      "application/vnd.jupyter.widget-view+json": {
       "model_id": "d93f44781e5b4479b23846af8763b669",
       "version_major": 2,
       "version_minor": 0
      },
      "text/plain": [
       "VBox()"
      ]
     },
     "metadata": {},
     "output_type": "display_data"
    },
    {
     "data": {
      "application/vnd.jupyter.widget-view+json": {
       "model_id": "",
       "version_major": 2,
       "version_minor": 0
      },
      "text/plain": [
       "FloatProgress(value=0.0, bar_style='info', description='Progress:', layout=Layout(height='25px', width='50%'),…"
      ]
     },
     "metadata": {},
     "output_type": "display_data"
    },
    {
     "name": "stdout",
     "output_type": "stream",
     "text": [
      "['taxi_zones.prj', 'taxi_zones.dbf', 'taxi_zones.shp', 'taxi_zones.shp.xml', 'taxi_zones.shx', 'taxi_zones.sbn', 'taxi_zones.sbx']"
     ]
    }
   ],
   "source": [
    "os.listdir('/tmp/shape')"
   ]
  },
  {
   "cell_type": "code",
   "execution_count": 54,
   "metadata": {},
   "outputs": [
    {
     "data": {
      "application/vnd.jupyter.widget-view+json": {
       "model_id": "e2e1ac6b2a114da8b6b0dc5012193dab",
       "version_major": 2,
       "version_minor": 0
      },
      "text/plain": [
       "VBox()"
      ]
     },
     "metadata": {},
     "output_type": "display_data"
    },
    {
     "data": {
      "application/vnd.jupyter.widget-view+json": {
       "model_id": "",
       "version_major": 2,
       "version_minor": 0
      },
      "text/plain": [
       "FloatProgress(value=0.0, bar_style='info', description='Progress:', layout=Layout(height='25px', width='50%'),…"
      ]
     },
     "metadata": {},
     "output_type": "display_data"
    }
   ],
   "source": [
    "#read in our raw dataset\n",
    "shpt1 = sc.binaryFiles('s3://data-etl-o-original-raw/zone/taxi_zones_shape.zip')"
   ]
  },
  {
   "cell_type": "code",
   "execution_count": 55,
   "metadata": {},
   "outputs": [
    {
     "data": {
      "application/vnd.jupyter.widget-view+json": {
       "model_id": "9e0699fadf074791a0f601920326591c",
       "version_major": 2,
       "version_minor": 0
      },
      "text/plain": [
       "VBox()"
      ]
     },
     "metadata": {},
     "output_type": "display_data"
    },
    {
     "data": {
      "application/vnd.jupyter.widget-view+json": {
       "model_id": "",
       "version_major": 2,
       "version_minor": 0
      },
      "text/plain": [
       "FloatProgress(value=0.0, bar_style='info', description='Progress:', layout=Layout(height='25px', width='50%'),…"
      ]
     },
     "metadata": {},
     "output_type": "display_data"
    }
   ],
   "source": [
    "shpt1.saveAsTextFile('/tmp/taxi_zones_shape_1.zip')"
   ]
  },
  {
   "cell_type": "code",
   "execution_count": 56,
   "metadata": {},
   "outputs": [
    {
     "data": {
      "application/vnd.jupyter.widget-view+json": {
       "model_id": "7620968f9a78490eb0f913cd5e506f71",
       "version_major": 2,
       "version_minor": 0
      },
      "text/plain": [
       "VBox()"
      ]
     },
     "metadata": {},
     "output_type": "display_data"
    },
    {
     "data": {
      "application/vnd.jupyter.widget-view+json": {
       "model_id": "",
       "version_major": 2,
       "version_minor": 0
      },
      "text/plain": [
       "FloatProgress(value=0.0, bar_style='info', description='Progress:', layout=Layout(height='25px', width='50%'),…"
      ]
     },
     "metadata": {},
     "output_type": "display_data"
    },
    {
     "name": "stdout",
     "output_type": "stream",
     "text": [
      "['LoanStats3a.csv.zip', 'taxi_zones.zip']"
     ]
    }
   ],
   "source": [
    "tmpfile = list(filter(lambda x:(x[-4:] == '.zip'),os.listdir('/tmp')))\n",
    "tmpfile"
   ]
  },
  {
   "cell_type": "code",
   "execution_count": 57,
   "metadata": {},
   "outputs": [
    {
     "data": {
      "application/vnd.jupyter.widget-view+json": {
       "model_id": "9e29b9c3bf2c4f2bbf8510dbdaf76178",
       "version_major": 2,
       "version_minor": 0
      },
      "text/plain": [
       "VBox()"
      ]
     },
     "metadata": {},
     "output_type": "display_data"
    },
    {
     "data": {
      "application/vnd.jupyter.widget-view+json": {
       "model_id": "",
       "version_major": 2,
       "version_minor": 0
      },
      "text/plain": [
       "FloatProgress(value=0.0, bar_style='info', description='Progress:', layout=Layout(height='25px', width='50%'),…"
      ]
     },
     "metadata": {},
     "output_type": "display_data"
    }
   ],
   "source": [
    "shpt2 = sc.textFile('s3://data-etl-o-original-raw/zone/taxi_zones_shape.zip')"
   ]
  },
  {
   "cell_type": "code",
   "execution_count": 58,
   "metadata": {},
   "outputs": [
    {
     "data": {
      "application/vnd.jupyter.widget-view+json": {
       "model_id": "6a367e2131264382abadc4012f0fa783",
       "version_major": 2,
       "version_minor": 0
      },
      "text/plain": [
       "VBox()"
      ]
     },
     "metadata": {},
     "output_type": "display_data"
    },
    {
     "data": {
      "application/vnd.jupyter.widget-view+json": {
       "model_id": "",
       "version_major": 2,
       "version_minor": 0
      },
      "text/plain": [
       "FloatProgress(value=0.0, bar_style='info', description='Progress:', layout=Layout(height='25px', width='50%'),…"
      ]
     },
     "metadata": {},
     "output_type": "display_data"
    }
   ],
   "source": [
    "shpt2.saveAsTextFile('/tmp/taxi_zones_shape_2.zip')"
   ]
  },
  {
   "cell_type": "code",
   "execution_count": 59,
   "metadata": {},
   "outputs": [
    {
     "data": {
      "application/vnd.jupyter.widget-view+json": {
       "model_id": "fe4b717af89343819d2f6b09415dff77",
       "version_major": 2,
       "version_minor": 0
      },
      "text/plain": [
       "VBox()"
      ]
     },
     "metadata": {},
     "output_type": "display_data"
    },
    {
     "data": {
      "application/vnd.jupyter.widget-view+json": {
       "model_id": "",
       "version_major": 2,
       "version_minor": 0
      },
      "text/plain": [
       "FloatProgress(value=0.0, bar_style='info', description='Progress:', layout=Layout(height='25px', width='50%'),…"
      ]
     },
     "metadata": {},
     "output_type": "display_data"
    },
    {
     "name": "stdout",
     "output_type": "stream",
     "text": [
      "['LoanStats3a.csv.zip', 'taxi_zones.zip']"
     ]
    }
   ],
   "source": [
    "tmpfile = list(filter(lambda x:(x[-4:] == '.zip'),os.listdir('/tmp')))\n",
    "tmpfile"
   ]
  },
  {
   "cell_type": "code",
   "execution_count": null,
   "metadata": {},
   "outputs": [],
   "source": []
  }
 ],
 "metadata": {
  "kernelspec": {
   "display_name": "PySpark",
   "language": "",
   "name": "pysparkkernel"
  },
  "language_info": {
   "codemirror_mode": {
    "name": "python",
    "version": 2
   },
   "mimetype": "text/x-python",
   "name": "pyspark",
   "pygments_lexer": "python2"
  }
 },
 "nbformat": 4,
 "nbformat_minor": 4
}
