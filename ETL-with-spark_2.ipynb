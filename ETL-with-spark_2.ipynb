{
 "cells": [
  {
   "cell_type": "code",
   "execution_count": 1,
   "metadata": {
    "collapsed": true,
    "jupyter": {
     "outputs_hidden": true
    }
   },
   "outputs": [
    {
     "data": {
      "application/vnd.jupyter.widget-view+json": {
       "model_id": "2e02089c12f74a7cb14872582b69fb5e",
       "version_major": 2,
       "version_minor": 0
      },
      "text/plain": [
       "VBox()"
      ]
     },
     "metadata": {},
     "output_type": "display_data"
    },
    {
     "name": "stdout",
     "output_type": "stream",
     "text": [
      "Starting Spark application\n"
     ]
    },
    {
     "data": {
      "text/html": [
       "<table>\n",
       "<tr><th>ID</th><th>YARN Application ID</th><th>Kind</th><th>State</th><th>Spark UI</th><th>Driver log</th><th>Current session?</th></tr><tr><td>0</td><td>application_1584332844565_0001</td><td>pyspark</td><td>idle</td><td><a target=\"_blank\" href=\"http://ip-172-31-42-35.ap-northeast-1.compute.internal:20888/proxy/application_1584332844565_0001/\">Link</a></td><td><a target=\"_blank\" href=\"http://ip-172-31-42-35.ap-northeast-1.compute.internal:8042/node/containerlogs/container_1584332844565_0001_01_000001/livy\">Link</a></td><td>✔</td></tr></table>"
      ],
      "text/plain": [
       "<IPython.core.display.HTML object>"
      ]
     },
     "metadata": {},
     "output_type": "display_data"
    },
    {
     "data": {
      "application/vnd.jupyter.widget-view+json": {
       "model_id": "",
       "version_major": 2,
       "version_minor": 0
      },
      "text/plain": [
       "FloatProgress(value=0.0, bar_style='info', description='Progress:', layout=Layout(height='25px', width='50%'),…"
      ]
     },
     "metadata": {},
     "output_type": "display_data"
    },
    {
     "name": "stdout",
     "output_type": "stream",
     "text": [
      "SparkSession available as 'spark'.\n"
     ]
    },
    {
     "data": {
      "application/vnd.jupyter.widget-view+json": {
       "model_id": "",
       "version_major": 2,
       "version_minor": 0
      },
      "text/plain": [
       "FloatProgress(value=0.0, bar_style='info', description='Progress:', layout=Layout(height='25px', width='50%'),…"
      ]
     },
     "metadata": {},
     "output_type": "display_data"
    },
    {
     "name": "stdout",
     "output_type": "stream",
     "text": [
      "<SparkContext master=yarn appName=livy-session-0>"
     ]
    }
   ],
   "source": [
    "sc"
   ]
  },
  {
   "cell_type": "code",
   "execution_count": 2,
   "metadata": {
    "collapsed": true,
    "jupyter": {
     "outputs_hidden": true
    }
   },
   "outputs": [
    {
     "data": {
      "application/vnd.jupyter.widget-view+json": {
       "model_id": "467be508cb63433eba1405c3aa87e01a",
       "version_major": 2,
       "version_minor": 0
      },
      "text/plain": [
       "VBox()"
      ]
     },
     "metadata": {},
     "output_type": "display_data"
    },
    {
     "data": {
      "application/vnd.jupyter.widget-view+json": {
       "model_id": "",
       "version_major": 2,
       "version_minor": 0
      },
      "text/plain": [
       "FloatProgress(value=0.0, bar_style='info', description='Progress:', layout=Layout(height='25px', width='50%'),…"
      ]
     },
     "metadata": {},
     "output_type": "display_data"
    },
    {
     "name": "stdout",
     "output_type": "stream",
     "text": [
      "Package                    Version\n",
      "-------------------------- -------\n",
      "beautifulsoup4             4.8.1  \n",
      "boto                       2.49.0 \n",
      "jmespath                   0.9.4  \n",
      "lxml                       4.4.2  \n",
      "mysqlclient                1.4.6  \n",
      "nltk                       3.4.5  \n",
      "nose                       1.3.4  \n",
      "numpy                      1.14.5 \n",
      "pip                        20.0.2 \n",
      "py-dateutil                2.2    \n",
      "python36-sagemaker-pyspark 1.2.6  \n",
      "pytz                       2019.3 \n",
      "PyYAML                     3.11   \n",
      "setuptools                 46.0.0 \n",
      "six                        1.13.0 \n",
      "soupsieve                  1.9.5  \n",
      "wheel                      0.34.2 \n",
      "windmill                   1.6"
     ]
    }
   ],
   "source": [
    "sc.list_packages()"
   ]
  },
  {
   "cell_type": "markdown",
   "metadata": {},
   "source": [
    "#### prepare 1 : download target raw files from publics nyc tlc website https://www1.nyc.gov/site/tlc/about/tlc-trip-record-data.page"
   ]
  },
  {
   "cell_type": "code",
   "execution_count": 4,
   "metadata": {
    "collapsed": true,
    "jupyter": {
     "outputs_hidden": true
    }
   },
   "outputs": [
    {
     "data": {
      "application/vnd.jupyter.widget-view+json": {
       "model_id": "f8f8a02d0eec41e389ae394489dac028",
       "version_major": 2,
       "version_minor": 0
      },
      "text/plain": [
       "VBox()"
      ]
     },
     "metadata": {},
     "output_type": "display_data"
    },
    {
     "data": {
      "application/vnd.jupyter.widget-view+json": {
       "model_id": "",
       "version_major": 2,
       "version_minor": 0
      },
      "text/plain": [
       "FloatProgress(value=0.0, bar_style='info', description='Progress:', layout=Layout(height='25px', width='50%'),…"
      ]
     },
     "metadata": {},
     "output_type": "display_data"
    },
    {
     "name": "stdout",
     "output_type": "stream",
     "text": [
      "'tlc.green_tripdata_2019-01.csv'\n",
      "'tlc.green_tripdata_2019-02.csv'\n",
      "'tlc.green_tripdata_2019-03.csv'\n",
      "'tlc.green_tripdata_2019-04.csv'\n",
      "'tlc.green_tripdata_2019-05.csv'\n",
      "'tlc.green_tripdata_2019-06.csv'\n",
      "'tlc.green_tripdata_2019-07.csv'\n",
      "'tlc.green_tripdata_2019-08.csv'\n",
      "'tlc.green_tripdata_2019-09.csv'\n",
      "'tlc.green_tripdata_2019-10.csv'\n",
      "'tlc.green_tripdata_2019-11.csv'\n",
      "'tlc.green_tripdata_2019-12.csv'"
     ]
    }
   ],
   "source": [
    "import os\n",
    "import urllib.request\n",
    "\n",
    "target_2019_greencar_data_dir_path = '/tmp/nyc/tlc'\n",
    "\n",
    "if not os.path.exists(target_2019_greencar_data_dir_path):\n",
    "    os.makedirs(target_2019_greencar_data_dir_path)\n",
    "\n",
    "for month in range(1,13):\n",
    "    target_greencar_data_filepath = target_2019_greencar_data_dir_path + \"/tlc.green_tripdata_2019-{0:0>2d}.csv\".format(month)\n",
    "    if not os.path.exists(target_greencar_data_filepath):\n",
    "        urllib.request.urlretrieve(\"https://s3.amazonaws.com/nyc-tlc/trip+data/\"+\"green_tripdata_2019-{0:0>2d}.csv\".format(month), target_greencar_data_filepath)\n",
    "\n",
    "# check the target files\n",
    "for item in os.listdir(target_2019_greencar_data_dir_path):\n",
    "    item"
   ]
  },
  {
   "cell_type": "markdown",
   "metadata": {},
   "source": [
    "#### prepare 2 : download taxi_zones  lookup files from publics nyc tlc "
   ]
  },
  {
   "cell_type": "code",
   "execution_count": 6,
   "metadata": {},
   "outputs": [
    {
     "data": {
      "application/vnd.jupyter.widget-view+json": {
       "model_id": "4d29533929f04311a83f6eb44b3604b7",
       "version_major": 2,
       "version_minor": 0
      },
      "text/plain": [
       "VBox()"
      ]
     },
     "metadata": {},
     "output_type": "display_data"
    },
    {
     "data": {
      "application/vnd.jupyter.widget-view+json": {
       "model_id": "",
       "version_major": 2,
       "version_minor": 0
      },
      "text/plain": [
       "FloatProgress(value=0.0, bar_style='info', description='Progress:', layout=Layout(height='25px', width='50%'),…"
      ]
     },
     "metadata": {},
     "output_type": "display_data"
    },
    {
     "name": "stdout",
     "output_type": "stream",
     "text": [
      "'tlc'\n",
      "'taxi+_zone_lookup.csv'"
     ]
    }
   ],
   "source": [
    "import urllib.request\n",
    "\n",
    "target_zone_lookup_file_path = '/tmp/nyc/taxi+_zone_lookup.csv'\n",
    "\n",
    "if not os.path.exists(target_zone_lookup_file_path):\n",
    "    urllib.request.urlretrieve('https://s3.amazonaws.com/nyc-tlc/misc/taxi+_zone_lookup.csv', target_zone_lookup_file_path)\n",
    "\n",
    "# check the target files\n",
    "for item in os.listdir('/tmp/nyc'):\n",
    "    item"
   ]
  },
  {
   "cell_type": "markdown",
   "metadata": {},
   "source": [
    "### prepare 3 : download  shape files from publics nyc tlc for further UI visualization"
   ]
  },
  {
   "cell_type": "code",
   "execution_count": 8,
   "metadata": {
    "collapsed": true,
    "jupyter": {
     "outputs_hidden": true
    }
   },
   "outputs": [
    {
     "data": {
      "application/vnd.jupyter.widget-view+json": {
       "model_id": "4715a10cc08a4b9da08137421f9d127d",
       "version_major": 2,
       "version_minor": 0
      },
      "text/plain": [
       "VBox()"
      ]
     },
     "metadata": {},
     "output_type": "display_data"
    },
    {
     "data": {
      "application/vnd.jupyter.widget-view+json": {
       "model_id": "",
       "version_major": 2,
       "version_minor": 0
      },
      "text/plain": [
       "FloatProgress(value=0.0, bar_style='info', description='Progress:', layout=Layout(height='25px', width='50%'),…"
      ]
     },
     "metadata": {},
     "output_type": "display_data"
    },
    {
     "name": "stdout",
     "output_type": "stream",
     "text": [
      "'taxi_zones.prj'\n",
      "'taxi_zones.dbf'\n",
      "'taxi_zones.shp'\n",
      "'taxi_zones.shp.xml'\n",
      "'taxi_zones.shx'\n",
      "'taxi_zones.sbn'\n",
      "'taxi_zones.sbx'"
     ]
    }
   ],
   "source": [
    "import zipfile\n",
    "\n",
    "target_shapefile_path = '/tmp/nyc/taxi_zones.zip'\n",
    "\n",
    "if not os.path.exists(target_shapefile_path):  \n",
    "    urllib.request.urlretrieve(\"https://s3.amazonaws.com/nyc-tlc/misc/taxi_zones.zip\", target_shapefile_path)\n",
    "\n",
    "target_shapefile_dir = '/tmp/nyc/shape'\n",
    "if not os.path.exists(target_shapefile_dir): \n",
    "    with zipfile.ZipFile(target_shapefile_path,'r') as zip_ref:\n",
    "        zip_ref.extractall(target_shapefile_dir)\n",
    "\n",
    "#check the target files\n",
    "for item in os.listdir(target_shapefile_dir):\n",
    "    item"
   ]
  },
  {
   "cell_type": "code",
   "execution_count": 17,
   "metadata": {
    "collapsed": true,
    "jupyter": {
     "outputs_hidden": true
    }
   },
   "outputs": [
    {
     "data": {
      "application/vnd.jupyter.widget-view+json": {
       "model_id": "b1f7d91838a44cd0834035039a8d30b7",
       "version_major": 2,
       "version_minor": 0
      },
      "text/plain": [
       "VBox()"
      ]
     },
     "metadata": {},
     "output_type": "display_data"
    },
    {
     "data": {
      "application/vnd.jupyter.widget-view+json": {
       "model_id": "",
       "version_major": 2,
       "version_minor": 0
      },
      "text/plain": [
       "FloatProgress(value=0.0, bar_style='info', description='Progress:', layout=Layout(height='25px', width='50%'),…"
      ]
     },
     "metadata": {},
     "output_type": "display_data"
    },
    {
     "name": "stdout",
     "output_type": "stream",
     "text": [
      "['emr', 'sagemaker-spark-sdk', 'redshift', 'aws-java-sdk', 'hmclient']"
     ]
    }
   ],
   "source": [
    "import os\n",
    "\n",
    "os.listdir('/usr/share/aws/')"
   ]
  },
  {
   "cell_type": "markdown",
   "metadata": {},
   "source": [
    "#### step 1: load raw data from s3 and do some basic clean and polishing "
   ]
  },
  {
   "cell_type": "code",
   "execution_count": 18,
   "metadata": {
    "collapsed": true,
    "jupyter": {
     "outputs_hidden": true
    }
   },
   "outputs": [
    {
     "data": {
      "application/vnd.jupyter.widget-view+json": {
       "model_id": "57706ad4c1c44a8fb6613f2e92a97c71",
       "version_major": 2,
       "version_minor": 0
      },
      "text/plain": [
       "VBox()"
      ]
     },
     "metadata": {},
     "output_type": "display_data"
    },
    {
     "data": {
      "application/vnd.jupyter.widget-view+json": {
       "model_id": "",
       "version_major": 2,
       "version_minor": 0
      },
      "text/plain": [
       "FloatProgress(value=0.0, bar_style='info', description='Progress:', layout=Layout(height='25px', width='50%'),…"
      ]
     },
     "metadata": {},
     "output_type": "display_data"
    }
   ],
   "source": [
    "from pyspark.sql.types import *\n",
    "from pyspark.sql import SparkSession\n",
    "import pyspark.sql.functions as f\n",
    "import warnings; warnings.simplefilter('ignore')\n",
    "import datetime\n",
    "\n",
    "# config spark to build context\n",
    "spark=SparkSession.builder.appName(\"NYC.TLC-Green-Car-Data-ETL\").getOrCreate()\n",
    "spark.conf.set(\"spark.sql.session.timeZone\", \"America/New_York\")\n",
    "\n",
    "# read in our raw dataset\n",
    "# add new column :pickup_hour\n",
    "# add new column :dropoff_hour\n",
    "# add new column :duration\n",
    "# add new column :minute_rate\n",
    "# add new column :average_speed\n",
    "\n",
    "# remove colum :store_and_fwd_flag\n",
    "# remove colum :ehail_fee\n",
    "# remove colum :congestion_surcharge\n",
    "\n",
    "df = spark.read.option('header', 'true') \\\n",
    "    .option('mode', 'FAILFAST') \\\n",
    "    .option('timeStampFormat', 'yyyy-MM-dd HH:mm:ss') \\\n",
    "    .option('columnNameOfCorruptRecord', 'error') \\\n",
    "    .csv('s3://data-etl-o-original-raw/green/*.csv') \\\n",
    "    .filter(f.year('lpep_pickup_datetime') == 2019) \\\n",
    "    .withColumn('pickup_hour',f.hour('lpep_pickup_datetime')) \\\n",
    "    .withColumn('dropoff_hour',f.hour('lpep_dropoff_datetime')) \\\n",
    "    .withColumn('duration', f.unix_timestamp('lpep_dropoff_datetime') - f.unix_timestamp('lpep_pickup_datetime')) \\\n",
    "    .withColumn('minute_rate',f.when(f.col('total_amount') <= 0.001,0).otherwise(f.col('total_amount')/f.col('duration') * 60)) \\\n",
    "    .withColumn('average_speed',f.when(f.col('trip_distance') < 0.001,0).otherwise(f.col('trip_distance')/f.col('duration') * 60 * 60)) \\\n",
    "    .drop('store_and_fwd_flag') \\\n",
    "    .drop('ehail_fee') \\\n",
    "    .drop('congestion_surcharge')\n"
   ]
  },
  {
   "cell_type": "code",
   "execution_count": 19,
   "metadata": {
    "collapsed": true,
    "jupyter": {
     "outputs_hidden": true
    }
   },
   "outputs": [
    {
     "data": {
      "application/vnd.jupyter.widget-view+json": {
       "model_id": "58c6a1a206cd420fb8f6bd6601704008",
       "version_major": 2,
       "version_minor": 0
      },
      "text/plain": [
       "VBox()"
      ]
     },
     "metadata": {},
     "output_type": "display_data"
    },
    {
     "data": {
      "application/vnd.jupyter.widget-view+json": {
       "model_id": "",
       "version_major": 2,
       "version_minor": 0
      },
      "text/plain": [
       "FloatProgress(value=0.0, bar_style='info', description='Progress:', layout=Layout(height='25px', width='50%'),…"
      ]
     },
     "metadata": {},
     "output_type": "display_data"
    },
    {
     "name": "stdout",
     "output_type": "stream",
     "text": [
      "Collecting pandas\n",
      "  Downloading pandas-1.0.2-cp36-cp36m-manylinux1_x86_64.whl (10.1 MB)\n",
      "Collecting python-dateutil>=2.6.1\n",
      "  Downloading python_dateutil-2.8.1-py2.py3-none-any.whl (227 kB)\n",
      "Requirement already satisfied: numpy>=1.13.3 in /usr/local/lib64/python3.6/site-packages (from pandas) (1.14.5)\n",
      "Requirement already satisfied: pytz>=2017.2 in /usr/local/lib/python3.6/site-packages (from pandas) (2019.3)\n",
      "Requirement already satisfied: six>=1.5 in /usr/local/lib/python3.6/site-packages (from python-dateutil>=2.6.1->pandas) (1.13.0)\n",
      "Installing collected packages: python-dateutil, pandas\n",
      "Successfully installed pandas-1.0.2 python-dateutil-2.8.1\n",
      "\n",
      "Collecting pyshp\n",
      "  Downloading pyshp-2.1.0.tar.gz (215 kB)\n",
      "Building wheels for collected packages: pyshp\n",
      "  Building wheel for pyshp (setup.py): started\n",
      "  Building wheel for pyshp (setup.py): finished with status 'done'\n",
      "  Created wheel for pyshp: filename=pyshp-2.1.0-py3-none-any.whl size=32607 sha256=cd46a74c583ea6f68db2fb75b72e6aa6f9b22776c468b268a4e5242df61151c7\n",
      "  Stored in directory: /mnt/var/lib/livy/.cache/pip/wheels/1b/ab/b5/333342ac6838b5ab6977d3b5d29140cf3e60b01b220f8178c0\n",
      "Successfully built pyshp\n",
      "Installing collected packages: pyshp\n",
      "Successfully installed pyshp-2.1.0\n",
      "\n",
      "Collecting shapely\n",
      "  Downloading Shapely-1.7.0-cp36-cp36m-manylinux1_x86_64.whl (1.8 MB)\n",
      "Installing collected packages: shapely\n",
      "Successfully installed shapely-1.7.0\n",
      "\n",
      "Collecting descartes\n",
      "  Downloading descartes-1.1.0-py3-none-any.whl (5.8 kB)\n",
      "Collecting matplotlib\n",
      "  Downloading matplotlib-3.2.0-cp36-cp36m-manylinux1_x86_64.whl (12.4 MB)\n",
      "Collecting pyparsing!=2.0.4,!=2.1.2,!=2.1.6,>=2.0.1\n",
      "  Downloading pyparsing-2.4.6-py2.py3-none-any.whl (67 kB)\n",
      "Requirement already satisfied: numpy>=1.11 in /usr/local/lib64/python3.6/site-packages (from matplotlib->descartes) (1.14.5)\n",
      "Requirement already satisfied: python-dateutil>=2.1 in /mnt/tmp/1584333376115-0/lib/python3.6/site-packages (from matplotlib->descartes) (2.8.1)\n",
      "Collecting kiwisolver>=1.0.1\n",
      "  Downloading kiwisolver-1.1.0-cp36-cp36m-manylinux1_x86_64.whl (90 kB)\n",
      "Collecting cycler>=0.10\n",
      "  Downloading cycler-0.10.0-py2.py3-none-any.whl (6.5 kB)\n",
      "Requirement already satisfied: six>=1.5 in /usr/local/lib/python3.6/site-packages (from python-dateutil>=2.1->matplotlib->descartes) (1.13.0)\n",
      "Requirement already satisfied: setuptools in /mnt/tmp/1584333376115-0/lib/python3.6/site-packages (from kiwisolver>=1.0.1->matplotlib->descartes) (46.0.0)\n",
      "Installing collected packages: pyparsing, kiwisolver, cycler, matplotlib, descartes\n",
      "Successfully installed cycler-0.10.0 descartes-1.1.0 kiwisolver-1.1.0 matplotlib-3.2.0 pyparsing-2.4.6\n",
      "\n",
      "Collecting sqlalchemy\n",
      "  Downloading SQLAlchemy-1.3.15.tar.gz (6.1 MB)\n",
      "  Installing build dependencies: started\n",
      "  Installing build dependencies: finished with status 'done'\n",
      "  Getting requirements to build wheel: started\n",
      "  Getting requirements to build wheel: finished with status 'done'\n",
      "    Preparing wheel metadata: started\n",
      "    Preparing wheel metadata: finished with status 'done'\n",
      "Building wheels for collected packages: sqlalchemy\n",
      "  Building wheel for sqlalchemy (PEP 517): started\n",
      "  Building wheel for sqlalchemy (PEP 517): finished with status 'done'\n",
      "  Created wheel for sqlalchemy: filename=SQLAlchemy-1.3.15-cp36-cp36m-linux_x86_64.whl size=1228121 sha256=d540ba0410f6cbd0788761cda84c43f8de9a064f9238f658fea66103ebbeddd7\n",
      "  Stored in directory: /mnt/var/lib/livy/.cache/pip/wheels/4a/1b/3a/c73044d7be48baeb47cbee343334f7803726ca1e9ba7b29095\n",
      "Successfully built sqlalchemy\n",
      "Installing collected packages: sqlalchemy\n",
      "Successfully installed sqlalchemy-1.3.15"
     ]
    }
   ],
   "source": [
    "sc.install_pypi_package(\"pandas\")\n",
    "sc.install_pypi_package(\"pyshp\")\n",
    "sc.install_pypi_package(\"shapely\")\n",
    "sc.install_pypi_package(\"descartes\")\n",
    "sc.install_pypi_package(\"sqlalchemy\")"
   ]
  },
  {
   "cell_type": "code",
   "execution_count": 20,
   "metadata": {},
   "outputs": [
    {
     "data": {
      "application/vnd.jupyter.widget-view+json": {
       "model_id": "ca479128ee44432b8197d4e6fe65c9c3",
       "version_major": 2,
       "version_minor": 0
      },
      "text/plain": [
       "VBox()"
      ]
     },
     "metadata": {},
     "output_type": "display_data"
    },
    {
     "data": {
      "application/vnd.jupyter.widget-view+json": {
       "model_id": "",
       "version_major": 2,
       "version_minor": 0
      },
      "text/plain": [
       "FloatProgress(value=0.0, bar_style='info', description='Progress:', layout=Layout(height='25px', width='50%'),…"
      ]
     },
     "metadata": {},
     "output_type": "display_data"
    }
   ],
   "source": [
    "import pandas as pd\n",
    "import numpy as np\n",
    "import urllib.request\n",
    "import zipfile\n",
    "import random\n",
    "import itertools\n",
    "import math\n",
    "import shapefile\n",
    "from shapely.geometry import Polygon\n",
    "from descartes.patch import PolygonPatch\n",
    "import matplotlib as mpl\n",
    "import matplotlib.pyplot as plt\n",
    "plt.style.use('ggplot')"
   ]
  },
  {
   "cell_type": "code",
   "execution_count": 21,
   "metadata": {},
   "outputs": [
    {
     "data": {
      "application/vnd.jupyter.widget-view+json": {
       "model_id": "7209e3a8bd7e4587974b89047a4b72be",
       "version_major": 2,
       "version_minor": 0
      },
      "text/plain": [
       "VBox()"
      ]
     },
     "metadata": {},
     "output_type": "display_data"
    },
    {
     "data": {
      "application/vnd.jupyter.widget-view+json": {
       "model_id": "",
       "version_major": 2,
       "version_minor": 0
      },
      "text/plain": [
       "FloatProgress(value=0.0, bar_style='info', description='Progress:', layout=Layout(height='25px', width='50%'),…"
      ]
     },
     "metadata": {},
     "output_type": "display_data"
    }
   ],
   "source": [
    "from sqlalchemy import create_engine\n",
    "\n",
    "nyc_database = create_engine('sqlite:////tmp/nyc/nyc_tlc_green-car_database.db')"
   ]
  },
  {
   "cell_type": "code",
   "execution_count": 22,
   "metadata": {},
   "outputs": [
    {
     "data": {
      "application/vnd.jupyter.widget-view+json": {
       "model_id": "e14666f76440451e8986c92e6ef9267b",
       "version_major": 2,
       "version_minor": 0
      },
      "text/plain": [
       "VBox()"
      ]
     },
     "metadata": {},
     "output_type": "display_data"
    },
    {
     "data": {
      "application/vnd.jupyter.widget-view+json": {
       "model_id": "",
       "version_major": 2,
       "version_minor": 0
      },
      "text/plain": [
       "FloatProgress(value=0.0, bar_style='info', description='Progress:', layout=Layout(height='25px', width='50%'),…"
      ]
     },
     "metadata": {},
     "output_type": "display_data"
    }
   ],
   "source": [
    "# load a local copy from internet data\n",
    "j, chunksize = 1, 100000\n",
    "for month in range(1,13):\n",
    "    fp = \"/tmp/nyc/tlc/tlc.green_tripdata_2019-{0:0>2d}.csv\".format(month)\n",
    "    for ldf in pd.read_csv(fp, chunksize=chunksize, iterator=True):\n",
    "        ldf.index += j\n",
    "        ldf.to_sql('local_table', nyc_database, if_exists='append')\n",
    "        j = ldf.index[-1] + 1\n",
    "del ldf\n"
   ]
  },
  {
   "cell_type": "markdown",
   "metadata": {},
   "source": [
    "#### step 2: cache data im memory for comparing some key properties"
   ]
  },
  {
   "cell_type": "code",
   "execution_count": 23,
   "metadata": {},
   "outputs": [
    {
     "data": {
      "application/vnd.jupyter.widget-view+json": {
       "model_id": "ceea8b1cc3864f4b85b86f0248704874",
       "version_major": 2,
       "version_minor": 0
      },
      "text/plain": [
       "VBox()"
      ]
     },
     "metadata": {},
     "output_type": "display_data"
    },
    {
     "data": {
      "application/vnd.jupyter.widget-view+json": {
       "model_id": "",
       "version_major": 2,
       "version_minor": 0
      },
      "text/plain": [
       "FloatProgress(value=0.0, bar_style='info', description='Progress:', layout=Layout(height='25px', width='50%'),…"
      ]
     },
     "metadata": {},
     "output_type": "display_data"
    },
    {
     "name": "stdout",
     "output_type": "stream",
     "text": [
      "root\n",
      " |-- VendorID: string (nullable = true)\n",
      " |-- lpep_pickup_datetime: string (nullable = true)\n",
      " |-- lpep_dropoff_datetime: string (nullable = true)\n",
      " |-- RatecodeID: string (nullable = true)\n",
      " |-- PULocationID: string (nullable = true)\n",
      " |-- DOLocationID: string (nullable = true)\n",
      " |-- passenger_count: string (nullable = true)\n",
      " |-- trip_distance: string (nullable = true)\n",
      " |-- fare_amount: string (nullable = true)\n",
      " |-- extra: string (nullable = true)\n",
      " |-- mta_tax: string (nullable = true)\n",
      " |-- tip_amount: string (nullable = true)\n",
      " |-- tolls_amount: string (nullable = true)\n",
      " |-- improvement_surcharge: string (nullable = true)\n",
      " |-- total_amount: string (nullable = true)\n",
      " |-- payment_type: string (nullable = true)\n",
      " |-- trip_type: string (nullable = true)\n",
      " |-- pickup_hour: integer (nullable = true)\n",
      " |-- dropoff_hour: integer (nullable = true)\n",
      " |-- duration: long (nullable = true)\n",
      " |-- minute_rate: double (nullable = true)\n",
      " |-- average_speed: double (nullable = true)\n",
      "\n",
      "root\n",
      " |-- VendorID: string (nullable = true)\n",
      " |-- lpep_pickup_datetime: string (nullable = true)\n",
      " |-- lpep_dropoff_datetime: string (nullable = true)\n",
      " |-- RatecodeID: string (nullable = true)\n",
      " |-- PULocationID: string (nullable = true)\n",
      " |-- DOLocationID: string (nullable = true)\n",
      " |-- passenger_count: string (nullable = true)\n",
      " |-- trip_distance: string (nullable = true)\n",
      " |-- fare_amount: string (nullable = true)\n",
      " |-- extra: string (nullable = true)\n",
      " |-- mta_tax: string (nullable = true)\n",
      " |-- tip_amount: string (nullable = true)\n",
      " |-- tolls_amount: string (nullable = true)\n",
      " |-- improvement_surcharge: string (nullable = true)\n",
      " |-- total_amount: string (nullable = true)\n",
      " |-- payment_type: string (nullable = true)\n",
      " |-- trip_type: string (nullable = true)\n",
      " |-- pickup_hour: integer (nullable = true)\n",
      " |-- dropoff_hour: integer (nullable = true)\n",
      " |-- duration: long (nullable = true)\n",
      " |-- minute_rate: double (nullable = true)\n",
      " |-- average_speed: double (nullable = true)\n",
      "\n",
      "(None, None)"
     ]
    }
   ],
   "source": [
    "dfcache = df.cache()\n",
    "\n",
    "# dfcache\n",
    "## check schema structure\n",
    "df.printSchema(),dfcache.printSchema()"
   ]
  },
  {
   "cell_type": "markdown",
   "metadata": {},
   "source": [
    "### step 3: processing further polishing and transformation"
   ]
  },
  {
   "cell_type": "code",
   "execution_count": 24,
   "metadata": {},
   "outputs": [
    {
     "data": {
      "application/vnd.jupyter.widget-view+json": {
       "model_id": "e8b6229e8283402ab846419c9ccbfe88",
       "version_major": 2,
       "version_minor": 0
      },
      "text/plain": [
       "VBox()"
      ]
     },
     "metadata": {},
     "output_type": "display_data"
    },
    {
     "data": {
      "application/vnd.jupyter.widget-view+json": {
       "model_id": "",
       "version_major": 2,
       "version_minor": 0
      },
      "text/plain": [
       "FloatProgress(value=0.0, bar_style='info', description='Progress:', layout=Layout(height='25px', width='50%'),…"
      ]
     },
     "metadata": {},
     "output_type": "display_data"
    },
    {
     "name": "stdout",
     "output_type": "stream",
     "text": [
      "+--------+--------------------+---------------------+--------+------------+-------------+-----------+-------------+\n",
      "|VendorID|lpep_pickup_datetime|lpep_dropoff_datetime|duration|total_amount|trip_distance|minute_rate|average_speed|\n",
      "+--------+--------------------+---------------------+--------+------------+-------------+-----------+-------------+\n",
      "|       2| 2019-01-01 00:10:16|  2019-01-01 00:16:32|     376|         7.3|          .86|     1.1649|        8.234|\n",
      "|       2| 2019-01-01 00:27:11|  2019-01-01 00:31:38|     267|         5.8|          .66|     1.3034|       8.8989|\n",
      "|       2| 2019-01-01 00:46:20|  2019-01-01 01:04:54|    1114|       19.71|         2.68|     1.0616|       8.6607|\n",
      "|       2| 2019-01-01 00:19:06|  2019-01-01 00:39:43|    1237|        19.3|         4.53|     0.9361|      13.1835|\n",
      "|       2| 2019-01-01 00:12:35|  2019-01-01 00:19:09|     394|         7.8|         1.05|     1.1878|       9.5939|\n",
      "|       2| 2019-01-01 00:47:55|  2019-01-01 01:00:01|     726|        14.8|         3.77|     1.2231|      18.6942|\n",
      "|       1| 2019-01-01 00:12:47|  2019-01-01 00:30:50|    1083|        17.3|         4.10|     0.9584|      13.6288|\n",
      "|       2| 2019-01-01 00:16:23|  2019-01-01 00:39:46|    1403|        26.8|         7.75|     1.1461|       19.886|\n",
      "|       2| 2019-01-01 00:58:02|  2019-01-01 01:19:02|    1260|        16.8|         3.68|        0.8|      10.5143|\n",
      "|       2| 2019-01-01 00:37:00|  2019-01-01 00:56:42|    1182|       37.06|         6.84|     1.8812|      20.8325|\n",
      "+--------+--------------------+---------------------+--------+------------+-------------+-----------+-------------+\n",
      "only showing top 10 rows"
     ]
    }
   ],
   "source": [
    "## fix colums with regular names\n",
    "\n",
    "for c in df.columns:\n",
    "    df = df.withColumnRenamed(c, c.replace(' ', '_'))\n",
    "\n",
    "## polish data\n",
    "\n",
    "## remove data which is tooooo small and ilegal value\n",
    "df = df.filter(df['trip_distance'] >= 0.001)\n",
    "\n",
    "## round minute_rate and average_speed to scale 3 \n",
    "\n",
    "df = df.withColumn('minute_rate', f.round(df['minute_rate'],4))\n",
    "\n",
    "df = df.withColumn('average_speed', f.round(df['average_speed'],4))\n",
    "\n",
    "# rename 'VendorID'\n",
    "# df = df.withColumnRenamed('VendorID', 'vendor_id')\n",
    "\n",
    "# rename passenger_count to pcount shortly\n",
    "df = df.withColumnRenamed('passenger_count', 'p_count')\n",
    "\n",
    "# df.show(10)\n",
    "\n",
    "df.select(['VendorID', 'lpep_pickup_datetime', 'lpep_dropoff_datetime', 'duration','total_amount','trip_distance','minute_rate','average_speed']) \\\n",
    ".show(10)\n",
    "\n",
    "## Write Data Back to S3 using AWS API\n",
    "# currenttime = datetime.datetime.now()\n",
    "\n",
    "# df.write.option('compression', 'snappy') \\\n",
    "#    .save( \"s3://data-etl-o-target-0/result/green/green_car_data_processed_{date}/\".format(date=currenttime.strftime('%Y%m%d%H%M%s')))"
   ]
  },
  {
   "cell_type": "code",
   "execution_count": 25,
   "metadata": {},
   "outputs": [
    {
     "data": {
      "application/vnd.jupyter.widget-view+json": {
       "model_id": "2b937e0117fb4fae94be3994e82c5151",
       "version_major": 2,
       "version_minor": 0
      },
      "text/plain": [
       "VBox()"
      ]
     },
     "metadata": {},
     "output_type": "display_data"
    },
    {
     "data": {
      "application/vnd.jupyter.widget-view+json": {
       "model_id": "",
       "version_major": 2,
       "version_minor": 0
      },
      "text/plain": [
       "FloatProgress(value=0.0, bar_style='info', description='Progress:', layout=Layout(height='25px', width='50%'),…"
      ]
     },
     "metadata": {},
     "output_type": "display_data"
    },
    {
     "name": "stdout",
     "output_type": "stream",
     "text": [
      "(5779303, 5929810)"
     ]
    }
   ],
   "source": [
    "## caculate and comparing the count of the target data \n",
    "\n",
    "df.columns,dfcache.columns\n",
    "\n",
    "df.count(), dfcache.count()"
   ]
  },
  {
   "cell_type": "markdown",
   "metadata": {},
   "source": [
    "#### step 4: load taxi zone data from s3 for future merging using"
   ]
  },
  {
   "cell_type": "code",
   "execution_count": 57,
   "metadata": {},
   "outputs": [
    {
     "data": {
      "application/vnd.jupyter.widget-view+json": {
       "model_id": "a2daeee6ee1f46b3b113caba8b3faa72",
       "version_major": 2,
       "version_minor": 0
      },
      "text/plain": [
       "VBox()"
      ]
     },
     "metadata": {},
     "output_type": "display_data"
    },
    {
     "data": {
      "application/vnd.jupyter.widget-view+json": {
       "model_id": "",
       "version_major": 2,
       "version_minor": 0
      },
      "text/plain": [
       "FloatProgress(value=0.0, bar_style='info', description='Progress:', layout=Layout(height='25px', width='50%'),…"
      ]
     },
     "metadata": {},
     "output_type": "display_data"
    },
    {
     "name": "stdout",
     "output_type": "stream",
     "text": [
      "+----------+-------------+--------------------+------------+\n",
      "|LocationID|      Borough|                Zone|service_zone|\n",
      "+----------+-------------+--------------------+------------+\n",
      "|         1|          EWR|      Newark Airport|         EWR|\n",
      "|         2|       Queens|         Jamaica Bay|   Boro Zone|\n",
      "|         3|        Bronx|Allerton/Pelham G...|   Boro Zone|\n",
      "|         4|    Manhattan|       Alphabet City| Yellow Zone|\n",
      "|         5|Staten Island|       Arden Heights|   Boro Zone|\n",
      "|         6|Staten Island|Arrochar/Fort Wad...|   Boro Zone|\n",
      "|         7|       Queens|             Astoria|   Boro Zone|\n",
      "|         8|       Queens|        Astoria Park|   Boro Zone|\n",
      "|         9|       Queens|          Auburndale|   Boro Zone|\n",
      "|        10|       Queens|        Baisley Park|   Boro Zone|\n",
      "|        11|     Brooklyn|          Bath Beach|   Boro Zone|\n",
      "|        12|    Manhattan|        Battery Park| Yellow Zone|\n",
      "|        13|    Manhattan|   Battery Park City| Yellow Zone|\n",
      "|        14|     Brooklyn|           Bay Ridge|   Boro Zone|\n",
      "|        15|       Queens|Bay Terrace/Fort ...|   Boro Zone|\n",
      "|        16|       Queens|             Bayside|   Boro Zone|\n",
      "|        17|     Brooklyn|             Bedford|   Boro Zone|\n",
      "|        18|        Bronx|        Bedford Park|   Boro Zone|\n",
      "|        19|       Queens|           Bellerose|   Boro Zone|\n",
      "|        20|        Bronx|             Belmont|   Boro Zone|\n",
      "+----------+-------------+--------------------+------------+\n",
      "only showing top 20 rows"
     ]
    }
   ],
   "source": [
    "#read in our raw dataset\n",
    "dfz = spark.read.option('header', 'true') \\\n",
    "    .option('mode', 'FAILFAST') \\\n",
    "    .option('columnNameOfCorruptRecord', 'error') \\\n",
    "    .csv('s3://data-etl-o-original-raw/zone/nyc.tlc.taxi_zone_lookup.csv')\n",
    "\n",
    "dfzcache = dfz.cache()\n",
    "\n",
    "# dfz.count(),dfz.columns\n",
    "\n",
    "dfz.show(20)"
   ]
  },
  {
   "cell_type": "code",
   "execution_count": 49,
   "metadata": {},
   "outputs": [
    {
     "data": {
      "application/vnd.jupyter.widget-view+json": {
       "model_id": "cc3480a9a673436995e87451171186d1",
       "version_major": 2,
       "version_minor": 0
      },
      "text/plain": [
       "VBox()"
      ]
     },
     "metadata": {},
     "output_type": "display_data"
    },
    {
     "data": {
      "application/vnd.jupyter.widget-view+json": {
       "model_id": "",
       "version_major": 2,
       "version_minor": 0
      },
      "text/plain": [
       "FloatProgress(value=0.0, bar_style='info', description='Progress:', layout=Layout(height='25px', width='50%'),…"
      ]
     },
     "metadata": {},
     "output_type": "display_data"
    },
    {
     "name": "stdout",
     "output_type": "stream",
     "text": [
      "                  Borough                     Zone service_zone\n",
      "LocationID                                                     \n",
      "1                     EWR           Newark Airport          EWR\n",
      "2                  Queens              Jamaica Bay    Boro Zone\n",
      "3                   Bronx  Allerton/Pelham Gardens    Boro Zone\n",
      "4               Manhattan            Alphabet City  Yellow Zone\n",
      "5           Staten Island            Arden Heights    Boro Zone"
     ]
    }
   ],
   "source": [
    "lddf = pd.read_csv('/tmp/nyc/taxi+_zone_lookup.csv',index_col='LocationID').replace(np.NaN, '')\n",
    "lddf.head()"
   ]
  },
  {
   "cell_type": "code",
   "execution_count": 56,
   "metadata": {},
   "outputs": [
    {
     "data": {
      "application/vnd.jupyter.widget-view+json": {
       "model_id": "ec2579d380ec46a6966a2c9b715dcd53",
       "version_major": 2,
       "version_minor": 0
      },
      "text/plain": [
       "VBox()"
      ]
     },
     "metadata": {},
     "output_type": "display_data"
    },
    {
     "data": {
      "application/vnd.jupyter.widget-view+json": {
       "model_id": "",
       "version_major": 2,
       "version_minor": 0
      },
      "text/plain": [
       "FloatProgress(value=0.0, bar_style='info', description='Progress:', layout=Layout(height='25px', width='50%'),…"
      ]
     },
     "metadata": {},
     "output_type": "display_data"
    },
    {
     "name": "stdout",
     "output_type": "stream",
     "text": [
      "+-------------+--------------+\n",
      "|      Borough|count(Borough)|\n",
      "+-------------+--------------+\n",
      "|       Queens|            69|\n",
      "|          EWR|             1|\n",
      "|      Unknown|             2|\n",
      "|     Brooklyn|            61|\n",
      "|Staten Island|            20|\n",
      "|    Manhattan|            69|\n",
      "|        Bronx|            43|\n",
      "+-------------+--------------+"
     ]
    }
   ],
   "source": [
    "ldfz = spark.createDataFrame(lddf)\n",
    "# ldfz.select('Borough').distinct().show()\n",
    "ldfz.select('Borough').groupBy('Borough').agg({'Borough': 'count'}).show()"
   ]
  },
  {
   "cell_type": "code",
   "execution_count": 101,
   "metadata": {
    "collapsed": true,
    "jupyter": {
     "outputs_hidden": true
    }
   },
   "outputs": [
    {
     "data": {
      "application/vnd.jupyter.widget-view+json": {
       "model_id": "94ce942e34414873bd873f6211225555",
       "version_major": 2,
       "version_minor": 0
      },
      "text/plain": [
       "VBox()"
      ]
     },
     "metadata": {},
     "output_type": "display_data"
    },
    {
     "data": {
      "application/vnd.jupyter.widget-view+json": {
       "model_id": "",
       "version_major": 2,
       "version_minor": 0
      },
      "text/plain": [
       "FloatProgress(value=0.0, bar_style='info', description='Progress:', layout=Layout(height='25px', width='50%'),…"
      ]
     },
     "metadata": {},
     "output_type": "display_data"
    },
    {
     "name": "stdout",
     "output_type": "stream",
     "text": [
      "+--------+------------+------------+---------------+--------------------+---------------------+--------+------------+-------------+-----------+-------------+\n",
      "|VendorID|PULocationID|DOLocationID|passenger_count|lpep_pickup_datetime|lpep_dropoff_datetime|duration|total_amount|trip_distance|minute_rate|average_speed|\n",
      "+--------+------------+------------+---------------+--------------------+---------------------+--------+------------+-------------+-----------+-------------+\n",
      "|       2|          97|          49|              2| 2019-01-01 00:10:16|  2019-01-01 00:16:32|     376|         7.3|          .86|      1.165|        8.234|\n",
      "|       2|          49|         189|              2| 2019-01-01 00:27:11|  2019-01-01 00:31:38|     267|         5.8|          .66|      1.303|        8.899|\n",
      "|       2|         189|          17|              2| 2019-01-01 00:46:20|  2019-01-01 01:04:54|    1114|       19.71|         2.68|      1.062|        8.661|\n",
      "|       2|          82|         258|              1| 2019-01-01 00:19:06|  2019-01-01 00:39:43|    1237|        19.3|         4.53|      0.936|       13.184|\n",
      "|       2|          49|          17|              1| 2019-01-01 00:12:35|  2019-01-01 00:19:09|     394|         7.8|         1.05|      1.188|        9.594|\n",
      "|       2|         255|          33|              1| 2019-01-01 00:47:55|  2019-01-01 01:00:01|     726|        14.8|         3.77|      1.223|       18.694|\n",
      "|       1|          76|         225|              1| 2019-01-01 00:12:47|  2019-01-01 00:30:50|    1083|        17.3|         4.10|      0.958|       13.629|\n",
      "|       2|          25|          89|              1| 2019-01-01 00:16:23|  2019-01-01 00:39:46|    1403|        26.8|         7.75|      1.146|       19.886|\n",
      "|       2|          85|          39|              1| 2019-01-01 00:58:02|  2019-01-01 01:19:02|    1260|        16.8|         3.68|        0.8|       10.514|\n",
      "|       2|         223|         238|              1| 2019-01-01 00:37:00|  2019-01-01 00:56:42|    1182|       37.06|         6.84|      1.881|       20.832|\n",
      "|       2|         129|         129|              2| 2019-01-01 00:13:48|  2019-01-01 00:21:00|     432|        9.36|         1.15|        1.3|        9.583|\n",
      "|       2|          71|          71|              1| 2019-01-01 00:19:59|  2019-01-01 00:45:50|    1551|        16.8|          .49|       0.65|        1.137|\n",
      "|       2|          85|         177|              1| 2019-01-01 00:57:57|  2019-01-01 01:20:10|    1333|        18.3|         3.61|      0.824|        9.749|\n",
      "|       1|         256|          80|              1| 2019-01-01 00:09:02|  2019-01-01 00:17:50|     528|          14|         1.20|      1.591|        8.182|\n",
      "|       1|          80|          80|              1| 2019-01-01 00:22:12|  2019-01-01 00:25:29|     197|         5.3|          .50|      1.614|        9.137|\n",
      "|       1|         256|         229|              1| 2019-01-01 00:31:55|  2019-01-01 00:52:59|    1264|       24.95|         5.50|      1.184|       15.665|\n",
      "|       2|         255|         231|              1| 2019-01-01 00:30:20|  2019-01-01 00:54:19|    1439|       25.56|         5.01|      1.066|       12.534|\n",
      "|       2|         146|         129|              1| 2019-01-01 00:40:17|  2019-01-01 00:50:23|     606|       14.16|         2.72|      1.402|       16.158|\n",
      "|       2|         129|         157|              1| 2019-01-01 00:51:16|  2019-01-01 01:04:10|     774|       14.75|         2.15|      1.143|         10.0|\n",
      "|       2|         256|         112|              5| 2019-01-01 00:30:28|  2019-01-01 00:41:18|     650|       14.04|         2.18|      1.296|       12.074|\n",
      "+--------+------------+------------+---------------+--------------------+---------------------+--------+------------+-------------+-----------+-------------+\n",
      "only showing top 20 rows"
     ]
    }
   ],
   "source": [
    "tmp = df.select(['VendorID','PULocationID', 'DOLocationID', 'p_count', 'lpep_pickup_datetime', 'lpep_dropoff_datetime', 'duration','total_amount','trip_distance','minute_rate','average_speed'])\n",
    "tmp.show(20)"
   ]
  },
  {
   "cell_type": "code",
   "execution_count": 51,
   "metadata": {},
   "outputs": [
    {
     "data": {
      "application/vnd.jupyter.widget-view+json": {
       "model_id": "e005fedea45a41b6affca499fe0644f3",
       "version_major": 2,
       "version_minor": 0
      },
      "text/plain": [
       "VBox()"
      ]
     },
     "metadata": {},
     "output_type": "display_data"
    },
    {
     "data": {
      "application/vnd.jupyter.widget-view+json": {
       "model_id": "",
       "version_major": 2,
       "version_minor": 0
      },
      "text/plain": [
       "FloatProgress(value=0.0, bar_style='info', description='Progress:', layout=Layout(height='25px', width='50%'),…"
      ]
     },
     "metadata": {},
     "output_type": "display_data"
    },
    {
     "name": "stdout",
     "output_type": "stream",
     "text": [
      "+-------+-------+\n",
      "|p_count|  count|\n",
      "+-------+-------+\n",
      "|      1|4705631|\n",
      "|      2| 406405|\n",
      "|   null| 304825|\n",
      "|      5| 161783|\n",
      "|      6|  86660|\n",
      "|      3|  75135|\n",
      "|      4|  28172|\n",
      "|      0|  10584|\n",
      "|      8|     58|\n",
      "|      7|     36|\n",
      "+-------+-------+"
     ]
    }
   ],
   "source": [
    "df.groupBy('p_count').count().orderBy('count', ascending=False).limit(10).show(10)"
   ]
  },
  {
   "cell_type": "code",
   "execution_count": 52,
   "metadata": {},
   "outputs": [
    {
     "data": {
      "application/vnd.jupyter.widget-view+json": {
       "model_id": "d98b619dfa0548c1bd3319acb34a7041",
       "version_major": 2,
       "version_minor": 0
      },
      "text/plain": [
       "VBox()"
      ]
     },
     "metadata": {},
     "output_type": "display_data"
    },
    {
     "data": {
      "application/vnd.jupyter.widget-view+json": {
       "model_id": "",
       "version_major": 2,
       "version_minor": 0
      },
      "text/plain": [
       "FloatProgress(value=0.0, bar_style='info', description='Progress:', layout=Layout(height='25px', width='50%'),…"
      ]
     },
     "metadata": {},
     "output_type": "display_data"
    },
    {
     "name": "stdout",
     "output_type": "stream",
     "text": [
      "+------------+------+\n",
      "|PULocationID| count|\n",
      "+------------+------+\n",
      "|          74|457848|\n",
      "|          75|368752|\n",
      "|          41|333623|\n",
      "|          82|259303|\n",
      "|           7|244131|\n",
      "+------------+------+\n",
      "only showing top 5 rows"
     ]
    }
   ],
   "source": [
    "toplo = df.groupBy('PULocationID').count().orderBy('count', ascending=False).limit(10)\n",
    "toplo.show(5)"
   ]
  },
  {
   "cell_type": "code",
   "execution_count": 53,
   "metadata": {},
   "outputs": [
    {
     "data": {
      "application/vnd.jupyter.widget-view+json": {
       "model_id": "6b0241704f884c799ce3b80f9917f466",
       "version_major": 2,
       "version_minor": 0
      },
      "text/plain": [
       "VBox()"
      ]
     },
     "metadata": {},
     "output_type": "display_data"
    },
    {
     "data": {
      "application/vnd.jupyter.widget-view+json": {
       "model_id": "",
       "version_major": 2,
       "version_minor": 0
      },
      "text/plain": [
       "FloatProgress(value=0.0, bar_style='info', description='Progress:', layout=Layout(height='25px', width='50%'),…"
      ]
     },
     "metadata": {},
     "output_type": "display_data"
    },
    {
     "name": "stdout",
     "output_type": "stream",
     "text": [
      "+------------+------------+-----+\n",
      "|PULocationID|DOLocationID|count|\n",
      "+------------+------------+-----+\n",
      "|          75|          74|72275|\n",
      "|           7|           7|67275|\n",
      "|          74|          75|61992|\n",
      "|          41|          42|56941|\n",
      "|          95|          95|52950|\n",
      "+------------+------------+-----+\n",
      "only showing top 5 rows"
     ]
    }
   ],
   "source": [
    "toplo2 = df.groupBy('PULocationID','DOLocationID').count().orderBy('count', ascending=False).limit(10)\n",
    "toplo2.show(5)"
   ]
  },
  {
   "cell_type": "code",
   "execution_count": 58,
   "metadata": {},
   "outputs": [
    {
     "data": {
      "application/vnd.jupyter.widget-view+json": {
       "model_id": "57925922352f405a8fcbe5534ca2e9b3",
       "version_major": 2,
       "version_minor": 0
      },
      "text/plain": [
       "VBox()"
      ]
     },
     "metadata": {},
     "output_type": "display_data"
    },
    {
     "data": {
      "application/vnd.jupyter.widget-view+json": {
       "model_id": "",
       "version_major": 2,
       "version_minor": 0
      },
      "text/plain": [
       "FloatProgress(value=0.0, bar_style='info', description='Progress:', layout=Layout(height='25px', width='50%'),…"
      ]
     },
     "metadata": {},
     "output_type": "display_data"
    },
    {
     "name": "stdout",
     "output_type": "stream",
     "text": [
      "+----------+-------------+--------------------+------------+\n",
      "|LocationID|      Borough|                Zone|service_zone|\n",
      "+----------+-------------+--------------------+------------+\n",
      "|         1|          EWR|      Newark Airport|         EWR|\n",
      "|         2|       Queens|         Jamaica Bay|   Boro Zone|\n",
      "|         3|        Bronx|Allerton/Pelham G...|   Boro Zone|\n",
      "|         4|    Manhattan|       Alphabet City| Yellow Zone|\n",
      "|         5|Staten Island|       Arden Heights|   Boro Zone|\n",
      "+----------+-------------+--------------------+------------+\n",
      "only showing top 5 rows"
     ]
    }
   ],
   "source": [
    "dfz.show(5)"
   ]
  },
  {
   "cell_type": "code",
   "execution_count": 59,
   "metadata": {},
   "outputs": [
    {
     "data": {
      "application/vnd.jupyter.widget-view+json": {
       "model_id": "0a27d723415344d6bd47946d0a49bc8b",
       "version_major": 2,
       "version_minor": 0
      },
      "text/plain": [
       "VBox()"
      ]
     },
     "metadata": {},
     "output_type": "display_data"
    },
    {
     "data": {
      "application/vnd.jupyter.widget-view+json": {
       "model_id": "",
       "version_major": 2,
       "version_minor": 0
      },
      "text/plain": [
       "FloatProgress(value=0.0, bar_style='info', description='Progress:', layout=Layout(height='25px', width='50%'),…"
      ]
     },
     "metadata": {},
     "output_type": "display_data"
    },
    {
     "name": "stdout",
     "output_type": "stream",
     "text": [
      "+------------+------------+-----+------------+-----------------+------------+\n",
      "|PULocationID|DOLocationID|count|FromLocation|             Zone|service_zone|\n",
      "+------------+------------+-----+------------+-----------------+------------+\n",
      "|          75|          74|72275|   Manhattan|East Harlem South|   Boro Zone|\n",
      "|           7|           7|67275|      Queens|          Astoria|   Boro Zone|\n",
      "|          74|          75|61992|   Manhattan|East Harlem North|   Boro Zone|\n",
      "|          41|          42|56941|   Manhattan|   Central Harlem|   Boro Zone|\n",
      "|          95|          95|52950|      Queens|     Forest Hills|   Boro Zone|\n",
      "|          82|         129|49679|      Queens|         Elmhurst|   Boro Zone|\n",
      "|          41|          41|43924|   Manhattan|   Central Harlem|   Boro Zone|\n",
      "|          74|          41|43754|   Manhattan|East Harlem North|   Boro Zone|\n",
      "|          74|          74|43477|   Manhattan|East Harlem North|   Boro Zone|\n",
      "|         129|         129|43268|      Queens|  Jackson Heights|   Boro Zone|\n",
      "+------------+------------+-----+------------+-----------------+------------+"
     ]
    }
   ],
   "source": [
    "top_5_loc_names = toplo2.join(dfz, toplo2['PULocationID'].eqNullSafe(dfz['LocationID']),'left') \\\n",
    "            .withColumnRenamed('Borough','FromLocation') \\\n",
    "            .drop('LocationID') \\\n",
    "            .orderBy('count', ascending=False)\n",
    "top_5_loc_names.show()"
   ]
  },
  {
   "cell_type": "code",
   "execution_count": 114,
   "metadata": {
    "collapsed": true,
    "jupyter": {
     "outputs_hidden": true
    }
   },
   "outputs": [
    {
     "data": {
      "text/html": [
       "\n",
       "<table>\n",
       "  <tr>\n",
       "    <th>Magic</th>\n",
       "    <th>Example</th>\n",
       "    <th>Explanation</th>\n",
       "  </tr>\n",
       "  <tr>\n",
       "    <td>info</td>\n",
       "    <td>%%info</td>\n",
       "    <td>Outputs session information for the current Livy endpoint.</td>\n",
       "  </tr>\n",
       "  <tr>\n",
       "    <td>cleanup</td>\n",
       "    <td>%%cleanup -f</td>\n",
       "    <td>Deletes all sessions for the current Livy endpoint, including this notebook's session. The force flag is mandatory.</td>\n",
       "  </tr>\n",
       "  <tr>\n",
       "    <td>delete</td>\n",
       "    <td>%%delete -f -s 0</td>\n",
       "    <td>Deletes a session by number for the current Livy endpoint. Cannot delete this kernel's session.</td>\n",
       "  </tr>\n",
       "  <tr>\n",
       "    <td>logs</td>\n",
       "    <td>%%logs</td>\n",
       "    <td>Outputs the current session's Livy logs.</td>\n",
       "  </tr>\n",
       "  <tr>\n",
       "    <td>configure</td>\n",
       "    <td>%%configure -f<br/>{\"executorMemory\": \"1000M\", \"executorCores\": 4}</td>\n",
       "    <td>Configure the session creation parameters. The force flag is mandatory if a session has already been\n",
       "    created and the session will be dropped and recreated.<br/>Look at <a href=\"https://github.com/cloudera/livy#request-body\">\n",
       "    Livy's POST /sessions Request Body</a> for a list of valid parameters. Parameters must be passed in as a JSON string.</td>\n",
       "  </tr>\n",
       "  <tr>\n",
       "    <td>spark</td>\n",
       "    <td>%%spark -o df<br/>df = spark.read.parquet('...</td>\n",
       "    <td>Executes spark commands.\n",
       "    Parameters:\n",
       "      <ul>\n",
       "        <li>-o VAR_NAME: The Spark dataframe of name VAR_NAME will be available in the %%local Python context as a\n",
       "          <a href=\"http://pandas.pydata.org/\">Pandas</a> dataframe with the same name.</li>\n",
       "        <li>-m METHOD: Sample method, either <tt>take</tt> or <tt>sample</tt>.</li>\n",
       "        <li>-n MAXROWS: The maximum number of rows of a dataframe that will be pulled from Livy to Jupyter.\n",
       "            If this number is negative, then the number of rows will be unlimited.</li>\n",
       "        <li>-r FRACTION: Fraction used for sampling.</li>\n",
       "      </ul>\n",
       "    </td>\n",
       "  </tr>\n",
       "  <tr>\n",
       "    <td>display</td>\n",
       "    <td>%%display -n 100<br/>my_spark_df</td>\n",
       "    <td>Displays Spark dataframe as a beautiful HTML table with horizontal and vertical scroll bars(if necessary).\n",
       "    Parameters:\n",
       "      <ul>\n",
       "        <li>-m METHOD: Sample method, either <tt>take</tt> or <tt>sample</tt>.</li>\n",
       "        <li>-n MAXROWS: The maximum number of rows of a dataframe to display.\n",
       "            If this number is negative, then the number of rows will be unlimited.</li>\n",
       "        <li>-r FRACTION: Fraction used for sampling.</li>\n",
       "      </ul>\n",
       "    </td>\n",
       "  </tr>\n",
       "  <tr>\n",
       "    <td>sql</td>\n",
       "    <td>%%sql -o tables -q<br/>SHOW TABLES</td>\n",
       "    <td>Executes a SQL query against the variable sqlContext (Spark v1.x) or spark (Spark v2.x).\n",
       "    Parameters:\n",
       "      <ul>\n",
       "        <li>-o VAR_NAME: The result of the SQL query will be available in the %%local Python context as a\n",
       "          <a href=\"http://pandas.pydata.org/\">Pandas</a> dataframe.</li>\n",
       "        <li>-q: The magic will return None instead of the dataframe (no visualization).</li>\n",
       "        <li>-m, -n, -r are the same as the %%spark parameters above.</li>\n",
       "      </ul>\n",
       "    </td>\n",
       "  </tr>\n",
       "  <tr>\n",
       "    <td>local</td>\n",
       "    <td>%%local<br/>a = 1</td>\n",
       "    <td>All the code in subsequent lines will be executed locally. Code must be valid Python code.</td>\n",
       "  </tr>\n",
       "</table>\n"
      ],
      "text/plain": [
       "<IPython.core.display.HTML object>"
      ]
     },
     "metadata": {},
     "output_type": "display_data"
    }
   ],
   "source": [
    "%%help"
   ]
  },
  {
   "cell_type": "code",
   "execution_count": 23,
   "metadata": {
    "collapsed": true,
    "jupyter": {
     "outputs_hidden": true
    }
   },
   "outputs": [
    {
     "data": {
      "application/vnd.jupyter.widget-view+json": {
       "model_id": "aa573813590e4eb894dc4f18d5ef150a",
       "version_major": 2,
       "version_minor": 0
      },
      "text/plain": [
       "VBox()"
      ]
     },
     "metadata": {},
     "output_type": "display_data"
    },
    {
     "data": {
      "application/vnd.jupyter.widget-view+json": {
       "model_id": "",
       "version_major": 2,
       "version_minor": 0
      },
      "text/plain": [
       "FloatProgress(value=0.0, bar_style='info', description='Progress:', layout=Layout(height='25px', width='50%'),…"
      ]
     },
     "metadata": {},
     "output_type": "display_data"
    }
   ],
   "source": [
    "top_5_loc_names.createOrReplaceTempView(\"top_5_loc_names_views\")"
   ]
  },
  {
   "cell_type": "code",
   "execution_count": 29,
   "metadata": {
    "collapsed": true,
    "jupyter": {
     "outputs_hidden": true
    }
   },
   "outputs": [
    {
     "data": {
      "application/vnd.jupyter.widget-view+json": {
       "model_id": "",
       "version_major": 2,
       "version_minor": 0
      },
      "text/plain": [
       "FloatProgress(value=0.0, bar_style='info', description='Progress:', layout=Layout(height='25px', width='50%'),…"
      ]
     },
     "metadata": {},
     "output_type": "display_data"
    },
    {
     "data": {
      "application/vnd.jupyter.widget-view+json": {
       "model_id": "23b79f0857b04d02a3fa6c1d968c6d99",
       "version_major": 2,
       "version_minor": 0
      },
      "text/plain": [
       "VBox(children=(HBox(children=(HTML(value='Type:'), Button(description='Table', layout=Layout(width='70px'), st…"
      ]
     },
     "metadata": {},
     "output_type": "display_data"
    },
    {
     "data": {
      "application/vnd.jupyter.widget-view+json": {
       "model_id": "621514ca62c1477b8d5aabc9b2477554",
       "version_major": 2,
       "version_minor": 0
      },
      "text/plain": [
       "Output()"
      ]
     },
     "metadata": {},
     "output_type": "display_data"
    }
   ],
   "source": [
    "%%sql -o top_5_loc_names -n -1\n",
    "select 'PULocationID','DOLocationID','count' from top_5_loc_names_views\n",
    "group by 'PULocationID','DOLocationID'\n",
    "ORDER BY count Desc"
   ]
  },
  {
   "cell_type": "code",
   "execution_count": 17,
   "metadata": {
    "collapsed": true,
    "jupyter": {
     "outputs_hidden": true
    }
   },
   "outputs": [
    {
     "data": {
      "application/vnd.jupyter.widget-view+json": {
       "model_id": "ecba167ec2ae4200a4d81ec82a303338",
       "version_major": 2,
       "version_minor": 0
      },
      "text/plain": [
       "VBox()"
      ]
     },
     "metadata": {},
     "output_type": "display_data"
    },
    {
     "data": {
      "application/vnd.jupyter.widget-view+json": {
       "model_id": "",
       "version_major": 2,
       "version_minor": 0
      },
      "text/plain": [
       "FloatProgress(value=0.0, bar_style='info', description='Progress:', layout=Layout(height='25px', width='50%'),…"
      ]
     },
     "metadata": {},
     "output_type": "display_data"
    },
    {
     "name": "stdout",
     "output_type": "stream",
     "text": [
      "[]"
     ]
    }
   ],
   "source": [
    "import os\n",
    "all_files_in_cur_dir = os.listdir('.') \n",
    "csvfileslist = list(filter(lambda x:(x[-6:] == '.ipynb'),all_files_in_cur_dir))\n",
    "csvfileslist"
   ]
  },
  {
   "cell_type": "code",
   "execution_count": 18,
   "metadata": {
    "collapsed": true,
    "jupyter": {
     "outputs_hidden": true
    }
   },
   "outputs": [
    {
     "data": {
      "application/vnd.jupyter.widget-view+json": {
       "model_id": "0e016692dad84bbfbb9c1526f32bcd81",
       "version_major": 2,
       "version_minor": 0
      },
      "text/plain": [
       "VBox()"
      ]
     },
     "metadata": {},
     "output_type": "display_data"
    },
    {
     "data": {
      "application/vnd.jupyter.widget-view+json": {
       "model_id": "",
       "version_major": 2,
       "version_minor": 0
      },
      "text/plain": [
       "FloatProgress(value=0.0, bar_style='info', description='Progress:', layout=Layout(height='25px', width='50%'),…"
      ]
     },
     "metadata": {},
     "output_type": "display_data"
    },
    {
     "name": "stdout",
     "output_type": "stream",
     "text": [
      "['var', 'lib64', 'emr', 'home', 'lost+found', 'sbin', 'selinux', 'lib', 'srv', 'device-names.json', 'media', 'tmp', 'mnt', 'run', 'cgroup', 'bin', 'etc', 'dev', 'mnt1', '.autofsck', 'boot', 'opt', 'usr', 'proc', 'sys', 'root', 'local', '.autorelabel']"
     ]
    }
   ],
   "source": [
    "csvfileslist = list(os.listdir('.'))\n",
    "csvfileslist\n",
    "os.listdir('.')"
   ]
  },
  {
   "cell_type": "code",
   "execution_count": 19,
   "metadata": {
    "collapsed": true,
    "jupyter": {
     "outputs_hidden": true
    }
   },
   "outputs": [
    {
     "data": {
      "application/vnd.jupyter.widget-view+json": {
       "model_id": "c705e674ab1b43998a9e6fc68f6fc5b1",
       "version_major": 2,
       "version_minor": 0
      },
      "text/plain": [
       "VBox()"
      ]
     },
     "metadata": {},
     "output_type": "display_data"
    },
    {
     "data": {
      "application/vnd.jupyter.widget-view+json": {
       "model_id": "",
       "version_major": 2,
       "version_minor": 0
      },
      "text/plain": [
       "FloatProgress(value=0.0, bar_style='info', description='Progress:', layout=Layout(height='25px', width='50%'),…"
      ]
     },
     "metadata": {},
     "output_type": "display_data"
    },
    {
     "name": "stdout",
     "output_type": "stream",
     "text": [
      "[]"
     ]
    }
   ],
   "source": [
    "tmpfile = list(filter(lambda x:(x[-4:] == '.zip'),os.listdir('/tmp')))\n",
    "tmpfile"
   ]
  },
  {
   "cell_type": "markdown",
   "metadata": {},
   "source": [
    "#### step 5: handle taxi_zones shape files for further UI visualization"
   ]
  },
  {
   "cell_type": "code",
   "execution_count": 60,
   "metadata": {},
   "outputs": [
    {
     "data": {
      "application/vnd.jupyter.widget-view+json": {
       "model_id": "74581b69a2b24841a6480c2955db2015",
       "version_major": 2,
       "version_minor": 0
      },
      "text/plain": [
       "VBox()"
      ]
     },
     "metadata": {},
     "output_type": "display_data"
    },
    {
     "data": {
      "application/vnd.jupyter.widget-view+json": {
       "model_id": "",
       "version_major": 2,
       "version_minor": 0
      },
      "text/plain": [
       "FloatProgress(value=0.0, bar_style='info', description='Progress:', layout=Layout(height='25px', width='50%'),…"
      ]
     },
     "metadata": {},
     "output_type": "display_data"
    }
   ],
   "source": [
    "import pandas as pd\n",
    "import numpy as np\n",
    "import urllib.request\n",
    "import zipfile\n",
    "import random\n",
    "import itertools\n",
    "import math\n",
    "import shapefile\n",
    "from shapely.geometry import Polygon\n",
    "from descartes.patch import PolygonPatch\n",
    "import matplotlib as mpl\n",
    "import matplotlib.pyplot as plt\n",
    "plt.style.use('ggplot')"
   ]
  },
  {
   "cell_type": "raw",
   "metadata": {},
   "source": [
    "src format:\n",
    "\n",
    "Record #0:[1, 0.116357453189, 0.0007823067885, 'Newark Airport', 1, 'EWR']\n",
    "\n",
    "target format\n",
    "\n",
    "{'OBJECTID': 1, 'Shape_Leng': 0.116357453189, 'Shape_Area': 0.0007823067885, 'zone': 'Newark Airport', 'LocationID': 1, 'borough': 'EWR'}"
   ]
  },
  {
   "cell_type": "code",
   "execution_count": null,
   "metadata": {},
   "outputs": [],
   "source": [
    "# define processing to extract LocationID、longitude、latitude"
   ]
  },
  {
   "cell_type": "code",
   "execution_count": 62,
   "metadata": {},
   "outputs": [
    {
     "data": {
      "application/vnd.jupyter.widget-view+json": {
       "model_id": "971053e2e81c4624bb54c46911f1de20",
       "version_major": 2,
       "version_minor": 0
      },
      "text/plain": [
       "VBox()"
      ]
     },
     "metadata": {},
     "output_type": "display_data"
    },
    {
     "data": {
      "application/vnd.jupyter.widget-view+json": {
       "model_id": "",
       "version_major": 2,
       "version_minor": 0
      },
      "text/plain": [
       "FloatProgress(value=0.0, bar_style='info', description='Progress:', layout=Layout(height='25px', width='50%'),…"
      ]
     },
     "metadata": {},
     "output_type": "display_data"
    }
   ],
   "source": [
    "def get_lat_lon(sf,shp_dic):\n",
    "    content = []\n",
    "    for sr in sf.shapeRecords():\n",
    "        shape = sr.shape\n",
    "        rec = sr.record\n",
    "        loc_id = rec[shp_dic['LocationID']]\n",
    "        x = (shape.bbox[0]+shape.bbox[2])/2\n",
    "        y = (shape.bbox[1]+shape.bbox[3])/2\n",
    "        content.append((loc_id, x, y))\n",
    "    return pd.DataFrame(content, columns=[\"LocationID\", \"longitude\", \"latitude\"]).replace(np.NaN, '')"
   ]
  },
  {
   "cell_type": "code",
   "execution_count": 63,
   "metadata": {},
   "outputs": [
    {
     "data": {
      "application/vnd.jupyter.widget-view+json": {
       "model_id": "b00e06b950c249c180c9ef055701df2c",
       "version_major": 2,
       "version_minor": 0
      },
      "text/plain": [
       "VBox()"
      ]
     },
     "metadata": {},
     "output_type": "display_data"
    },
    {
     "data": {
      "application/vnd.jupyter.widget-view+json": {
       "model_id": "",
       "version_major": 2,
       "version_minor": 0
      },
      "text/plain": [
       "FloatProgress(value=0.0, bar_style='info', description='Progress:', layout=Layout(height='25px', width='50%'),…"
      ]
     },
     "metadata": {},
     "output_type": "display_data"
    },
    {
     "name": "stdout",
     "output_type": "stream",
     "text": [
      "+--------+---------------+----------------+--------------------+----------+-------------+------------------+------------------+\n",
      "|OBJECTID|     Shape_Leng|      Shape_Area|                zone|LocationID|      borough|         longitude|          latitude|\n",
      "+--------+---------------+----------------+--------------------+----------+-------------+------------------+------------------+\n",
      "|       1| 0.116357453189|  7.823067885E-4|      Newark Airport|         1|          EWR| 936681.7498053049|190522.13027768553|\n",
      "|       2|  0.43346966679|0.00486634037837|         Jamaica Bay|         2|       Queens|1033536.0827942044|161853.98229982704|\n",
      "|       3|0.0843411059012|3.14414156821E-4|Allerton/Pelham G...|         3|        Bronx|  1027136.41219455|254730.01084850729|\n",
      "|       4|0.0435665270921|1.11871946192E-4|       Alphabet City|         4|    Manhattan| 990424.0195702165|203100.04043184966|\n",
      "|       5|0.0921464898574|4.97957489363E-4|       Arden Heights|         5|Staten Island| 932133.2098496482|139954.54193567485|\n",
      "|       6| 0.150490542523|6.06460984581E-4|Arrochar/Fort Wad...|         6|Staten Island| 964099.0173973292|157533.67206276953|\n",
      "|       7| 0.107417171123|3.89787989274E-4|             Astoria|         7|       Queens|1006324.9388191998|216569.41102095693|\n",
      "|       8|0.0275906911574| 2.6587716279E-5|        Astoria Park|         8|       Queens|1005541.5825920925| 222960.5823142156|\n",
      "|       9|0.0997840924705|3.38443803197E-4|          Auburndale|         9|       Queens|1043403.6924028024| 214170.7026207447|\n",
      "|      10|0.0998394794152|4.35823818081E-4|        Baisley Park|        10|       Queens|1042775.8015680313|186452.53824371845|\n",
      "+--------+---------------+----------------+--------------------+----------+-------------+------------------+------------------+\n",
      "only showing top 10 rows"
     ]
    }
   ],
   "source": [
    "## read previous file we download and extracted to /tmp/nyc/shape/\n",
    "sf = shapefile.Reader(\"/tmp/nyc/shape/taxi_zones.shp\")\n",
    "fields_name = [field[0] for field in sf.fields[1:]]\n",
    "shp_dic = dict(zip(fields_name, list(range(len(fields_name)))))\n",
    "attributes = sf.records()\n",
    "shp_attr = [dict(zip(fields_name, attr)) for attr in attributes]\n",
    "\n",
    "df_loc = pd.DataFrame(shp_attr).join(get_lat_lon(sf,shp_dic).set_index(\"LocationID\"), on=\"LocationID\")\n",
    "\n",
    "## df_loc.head()\n",
    "## ported to spark to analyze\n",
    "spark_dfl = spark.createDataFrame(df_loc)\n",
    "spark_dfl.show(10)"
   ]
  },
  {
   "cell_type": "markdown",
   "metadata": {},
   "source": [
    "### define processing for draw region map and draw zone map by plot"
   ]
  },
  {
   "cell_type": "code",
   "execution_count": 133,
   "metadata": {},
   "outputs": [
    {
     "data": {
      "application/vnd.jupyter.widget-view+json": {
       "model_id": "c12ce4e93cde42ebb545462f3a5d069b",
       "version_major": 2,
       "version_minor": 0
      },
      "text/plain": [
       "VBox()"
      ]
     },
     "metadata": {},
     "output_type": "display_data"
    },
    {
     "data": {
      "application/vnd.jupyter.widget-view+json": {
       "model_id": "",
       "version_major": 2,
       "version_minor": 0
      },
      "text/plain": [
       "FloatProgress(value=0.0, bar_style='info', description='Progress:', layout=Layout(height='25px', width='50%'),…"
      ]
     },
     "metadata": {},
     "output_type": "display_data"
    }
   ],
   "source": [
    "def draw_zone_map(ax, sf, heat={}, text=[], arrows=[]):\n",
    "    continent = [235/256, 151/256, 78/256]\n",
    "    ocean = (89/256, 171/256, 227/256)\n",
    "    theta = np.linspace(0, 2*np.pi, len(text)+1).tolist()\n",
    "    ax.set_facecolor(ocean)\n",
    "    \n",
    "    # colorbar\n",
    "    if len(heat) != 0:\n",
    "        norm = mpl.colors.Normalize(vmin=min(heat.values()),vmax=max(heat.values())) #norm = mpl.colors.LogNorm(vmin=1,vmax=max(heat))\n",
    "        cm=plt.get_cmap('Reds')\n",
    "        sm = plt.cm.ScalarMappable(cmap=cm, norm=norm)\n",
    "        sm.set_array([])\n",
    "        plt.colorbar(sm, ticks=np.linspace(min(heat.values()),max(heat.values()),8),\n",
    "                     boundaries=np.arange(min(heat.values())-10,max(heat.values())+10,.1))\n",
    "    \n",
    "    for sr in sf.shapeRecords():\n",
    "        shape = sr.shape\n",
    "        rec = sr.record\n",
    "        loc_id = rec[shp_dic['LocationID']]\n",
    "        zone = rec[shp_dic['zone']]\n",
    "        \n",
    "        if len(heat) == 0:\n",
    "            col = continent\n",
    "        else:\n",
    "            if loc_id not in heat:\n",
    "                R,G,B,A = cm(norm(0))\n",
    "            else:\n",
    "                R,G,B,A = cm(norm(heat[loc_id]))\n",
    "            col = [R,G,B]\n",
    "\n",
    "        # check number of parts (could use MultiPolygon class of shapely?)\n",
    "        nparts = len(shape.parts) # total parts\n",
    "        if nparts == 1:\n",
    "            polygon = Polygon(shape.points)\n",
    "            patch = PolygonPatch(polygon, facecolor=col, alpha=1.0, zorder=2)\n",
    "            ax.add_patch(patch)\n",
    "        else: # loop over parts of each shape, plot separately\n",
    "            for ip in range(nparts): # loop over parts, plot separately\n",
    "                i0 = shape.parts[ip]\n",
    "                if ip < nparts-1:\n",
    "                    i1 = shape.parts[ip+1]-1\n",
    "                else:\n",
    "                    i1 = len(shape.points)\n",
    "\n",
    "                polygon = Polygon(shape.points[i0:i1+1])\n",
    "                patch = PolygonPatch(polygon, facecolor=col, alpha=1.0, zorder=2)\n",
    "                ax.add_patch(patch)\n",
    "        \n",
    "        x = (shape.bbox[0]+shape.bbox[2])/2\n",
    "        y = (shape.bbox[1]+shape.bbox[3])/2\n",
    "        if (len(text) == 0 and rec[shp_dic['Shape_Area']] > 0.0001):\n",
    "            plt.text(x, y, str(loc_id), horizontalalignment='center', verticalalignment='center')            \n",
    "        elif len(text) != 0 and loc_id in text:\n",
    "            #plt.text(x+0.01, y-0.01, str(loc_id), fontsize=12, color=\"white\", bbox=dict(facecolor='black', alpha=0.5))\n",
    "            eta_x = 0.05*np.cos(theta[text.index(loc_id)])\n",
    "            eta_y = 0.05*np.sin(theta[text.index(loc_id)])\n",
    "            ax.annotate(\"[{}] {}\".format(loc_id, zone), xy=(x, y), xytext=(x+eta_x, y+eta_y),\n",
    "                        bbox=dict(facecolor='black', alpha=0.5), color=\"white\", fontsize=12,\n",
    "                        arrowprops=dict(facecolor='black', width=3, shrink=0.05))\n",
    "    if len(arrows)!=0:\n",
    "        for arr in arrows:\n",
    "            ax.annotate('', xy = arr['dest'], xytext = arr['src'], size = arr['cnt'],\n",
    "                    arrowprops=dict(arrowstyle=\"fancy\", fc=\"0.6\", ec=\"none\"))\n",
    "    \n",
    "    # display\n",
    "    limits = get_boundaries(sf)\n",
    "    plt.xlim(limits[0], limits[1])\n",
    "    plt.ylim(limits[2], limits[3])\n",
    "\n",
    "# Draw Borough region\n",
    "\n",
    "def draw_region_map(ax, sf, heat={}):\n",
    "    continent = [235/256, 151/256, 78/256]\n",
    "    ocean = (89/256, 171/256, 227/256)    \n",
    "    \n",
    "    reg_list={'Staten Island':1, 'Queens':2, 'Bronx':3, 'Manhattan':4, 'EWR':5, 'Brooklyn':6}\n",
    "    reg_x = {'Staten Island':[], 'Queens':[], 'Bronx':[], 'Manhattan':[], 'EWR':[], 'Brooklyn':[]}\n",
    "    reg_y = {'Staten Island':[], 'Queens':[], 'Bronx':[], 'Manhattan':[], 'EWR':[], 'Brooklyn':[]}\n",
    "    \n",
    "    # colorbar\n",
    "    if len(heat) != 0:\n",
    "        norm = mpl.colors.Normalize(vmin=math.sqrt(min(heat.values())), vmax=math.sqrt(max(heat.values()))) #norm = mpl.colors.LogNorm(vmin=1,vmax=max(heat))\n",
    "        cm=plt.get_cmap('Reds')\n",
    "        #sm = plt.cm.ScalarMappable(cmap=cm, norm=norm)\n",
    "        #sm.set_array([])\n",
    "        #plt.colorbar(sm, ticks=np.linspace(min(heat.values()),max(heat.values()),8), \\\n",
    "        #             boundaries=np.arange(min(heat.values())-10,max(heat.values())+10,.1))\n",
    "    \n",
    "    ax.set_facecolor(ocean)\n",
    "    for sr in sf.shapeRecords():\n",
    "        shape = sr.shape\n",
    "        rec = sr.record\n",
    "        reg_name = rec[shp_dic['borough']]\n",
    "        \n",
    "        if len(heat) == 0:\n",
    "            norm = mpl.colors.Normalize(vmin=1,vmax=6) #norm = mpl.colors.LogNorm(vmin=1,vmax=max(heat))\n",
    "            cm=plt.get_cmap('Pastel1')\n",
    "            R,G,B,A = cm(norm(reg_list[reg_name]))\n",
    "            col = [R,G,B]\n",
    "        else:\n",
    "            R,G,B,A = cm(norm(math.sqrt(heat[reg_name])))\n",
    "            col = [R,G,B]\n",
    "            \n",
    "        # check number of parts (could use MultiPolygon class of shapely?)\n",
    "        nparts = len(shape.parts) # total parts\n",
    "        if nparts == 1:\n",
    "            polygon = Polygon(shape.points)\n",
    "            patch = PolygonPatch(polygon, facecolor=col, alpha=1.0, zorder=2)\n",
    "            ax.add_patch(patch)\n",
    "        else: # loop over parts of each shape, plot separately\n",
    "            for ip in range(nparts): # loop over parts, plot separately\n",
    "                i0 = shape.parts[ip]\n",
    "                if ip < nparts-1:\n",
    "                    i1 = shape.parts[ip+1]-1\n",
    "                else:\n",
    "                    i1 = len(shape.points)\n",
    "\n",
    "                polygon = Polygon(shape.points[i0:i1+1])\n",
    "                patch = PolygonPatch(polygon, facecolor=col, alpha=1.0, zorder=2)\n",
    "                ax.add_patch(patch)\n",
    "                \n",
    "        reg_x[reg_name].append((shape.bbox[0]+shape.bbox[2])/2)\n",
    "        reg_y[reg_name].append((shape.bbox[1]+shape.bbox[3])/2)\n",
    "        \n",
    "    for k in reg_list:\n",
    "        if len(heat)==0:\n",
    "            plt.text(np.mean(reg_x[k]), np.mean(reg_y[k]), k, horizontalalignment='center', verticalalignment='center',\n",
    "                        bbox=dict(facecolor='black', alpha=0.5), color=\"white\", fontsize=12)     \n",
    "        else:\n",
    "            plt.text(np.mean(reg_x[k]), np.mean(reg_y[k]), \"{}\\n({}K)\".format(k, heat[k]/1000), horizontalalignment='center', \n",
    "                     verticalalignment='center',bbox=dict(facecolor='black', alpha=0.5), color=\"white\", fontsize=12)       \n",
    "\n",
    "    # display\n",
    "    limits = get_boundaries(sf)\n",
    "    plt.xlim(limits[0], limits[1])\n",
    "    plt.ylim(limits[2], limits[3])\n",
    "\n",
    "# get boundaries of zone\n",
    "# %matplotlib inline\n",
    "\n",
    "def get_boundaries(sf):\n",
    "    lat, lon = [], []\n",
    "    for shape in list(sf.iterShapes()):\n",
    "        lat.extend([shape.bbox[0], shape.bbox[2]])\n",
    "        lon.extend([shape.bbox[1], shape.bbox[3]])\n",
    "\n",
    "    margin = 0.01 # buffer to add to the range\n",
    "    lat_min = min(lat) - margin\n",
    "    lat_max = max(lat) + margin\n",
    "    lon_min = min(lon) - margin\n",
    "    lon_max = max(lon) + margin\n",
    "\n",
    "    return lat_min, lat_max, lon_min, lon_max"
   ]
  },
  {
   "cell_type": "code",
   "execution_count": 65,
   "metadata": {},
   "outputs": [
    {
     "data": {
      "application/vnd.jupyter.widget-view+json": {
       "model_id": "7d1441865ded44f0bc18afe5107b8d08",
       "version_major": 2,
       "version_minor": 0
      },
      "text/plain": [
       "VBox()"
      ]
     },
     "metadata": {},
     "output_type": "display_data"
    },
    {
     "data": {
      "application/vnd.jupyter.widget-view+json": {
       "model_id": "",
       "version_major": 2,
       "version_minor": 0
      },
      "text/plain": [
       "FloatProgress(value=0.0, bar_style='info', description='Progress:', layout=Layout(height='25px', width='50%'),…"
      ]
     },
     "metadata": {},
     "output_type": "display_data"
    },
    {
     "data": {
      "image/png": "[encoded data removed]",
      "text/plain": [
       "<IPython.core.display.Image object>"
      ]
     },
     "metadata": {},
     "output_type": "display_data"
    }
   ],
   "source": [
    "fig, ax = plt.subplots(nrows=1, ncols=2, figsize=(15,8))\n",
    "ax = plt.subplot(1, 2, 1)\n",
    "ax.set_title(\"Borough Area in NYC\")\n",
    "draw_region_map(ax, sf)\n",
    "\n",
    "ax = plt.subplot(1, 2, 2)\n",
    "ax.set_title(\"Zones in NYC\")\n",
    "draw_zone_map(ax, sf)\n",
    "\n",
    "%matplot plt"
   ]
  },
  {
   "cell_type": "code",
   "execution_count": 42,
   "metadata": {},
   "outputs": [
    {
     "data": {
      "application/vnd.jupyter.widget-view+json": {
       "model_id": "b0df100857ba488a8658bac65c43a276",
       "version_major": 2,
       "version_minor": 0
      },
      "text/plain": [
       "VBox()"
      ]
     },
     "metadata": {},
     "output_type": "display_data"
    },
    {
     "data": {
      "application/vnd.jupyter.widget-view+json": {
       "model_id": "",
       "version_major": 2,
       "version_minor": 0
      },
      "text/plain": [
       "FloatProgress(value=0.0, bar_style='info', description='Progress:', layout=Layout(height='25px', width='50%'),…"
      ]
     },
     "metadata": {},
     "output_type": "display_data"
    },
    {
     "name": "stdout",
     "output_type": "stream",
     "text": [
      "+--------+------------+------------+-------+--------------------+---------------------+--------+------------+-------------+-----------+-------------+\n",
      "|VendorID|PULocationID|DOLocationID|p_count|lpep_pickup_datetime|lpep_dropoff_datetime|duration|total_amount|trip_distance|minute_rate|average_speed|\n",
      "+--------+------------+------------+-------+--------------------+---------------------+--------+------------+-------------+-----------+-------------+\n",
      "|       2|          97|          49|      2| 2019-01-01 00:10:16|  2019-01-01 00:16:32|     376|         7.3|          .86|     1.1649|        8.234|\n",
      "|       2|          49|         189|      2| 2019-01-01 00:27:11|  2019-01-01 00:31:38|     267|         5.8|          .66|     1.3034|       8.8989|\n",
      "|       2|         189|          17|      2| 2019-01-01 00:46:20|  2019-01-01 01:04:54|    1114|       19.71|         2.68|     1.0616|       8.6607|\n",
      "|       2|          82|         258|      1| 2019-01-01 00:19:06|  2019-01-01 00:39:43|    1237|        19.3|         4.53|     0.9361|      13.1835|\n",
      "|       2|          49|          17|      1| 2019-01-01 00:12:35|  2019-01-01 00:19:09|     394|         7.8|         1.05|     1.1878|       9.5939|\n",
      "|       2|         255|          33|      1| 2019-01-01 00:47:55|  2019-01-01 01:00:01|     726|        14.8|         3.77|     1.2231|      18.6942|\n",
      "|       1|          76|         225|      1| 2019-01-01 00:12:47|  2019-01-01 00:30:50|    1083|        17.3|         4.10|     0.9584|      13.6288|\n",
      "|       2|          25|          89|      1| 2019-01-01 00:16:23|  2019-01-01 00:39:46|    1403|        26.8|         7.75|     1.1461|       19.886|\n",
      "|       2|          85|          39|      1| 2019-01-01 00:58:02|  2019-01-01 01:19:02|    1260|        16.8|         3.68|        0.8|      10.5143|\n",
      "|       2|         223|         238|      1| 2019-01-01 00:37:00|  2019-01-01 00:56:42|    1182|       37.06|         6.84|     1.8812|      20.8325|\n",
      "+--------+------------+------------+-------+--------------------+---------------------+--------+------------+-------------+-----------+-------------+\n",
      "only showing top 10 rows"
     ]
    }
   ],
   "source": [
    "\n",
    "df.select(['VendorID','PULocationID', 'DOLocationID', 'p_count', 'lpep_pickup_datetime', 'lpep_dropoff_datetime', 'duration','total_amount','trip_distance','minute_rate','average_speed']) \\\n",
    ".show(10)"
   ]
  },
  {
   "cell_type": "code",
   "execution_count": 45,
   "metadata": {},
   "outputs": [
    {
     "data": {
      "application/vnd.jupyter.widget-view+json": {
       "model_id": "41b112eddccd400fb454af558e137808",
       "version_major": 2,
       "version_minor": 0
      },
      "text/plain": [
       "VBox()"
      ]
     },
     "metadata": {},
     "output_type": "display_data"
    },
    {
     "data": {
      "application/vnd.jupyter.widget-view+json": {
       "model_id": "",
       "version_major": 2,
       "version_minor": 0
      },
      "text/plain": [
       "FloatProgress(value=0.0, bar_style='info', description='Progress:', layout=Layout(height='25px', width='50%'),…"
      ]
     },
     "metadata": {},
     "output_type": "display_data"
    },
    {
     "name": "stdout",
     "output_type": "stream",
     "text": [
      "+--------+---------------+----------------+--------------------+----------+-------------+------------------+------------------+\n",
      "|OBJECTID|     Shape_Leng|      Shape_Area|                zone|LocationID|      borough|         longitude|          latitude|\n",
      "+--------+---------------+----------------+--------------------+----------+-------------+------------------+------------------+\n",
      "|       1| 0.116357453189|  7.823067885E-4|      Newark Airport|         1|          EWR| 936681.7498053049|190522.13027768553|\n",
      "|       2|  0.43346966679|0.00486634037837|         Jamaica Bay|         2|       Queens|1033536.0827942044|161853.98229982704|\n",
      "|       3|0.0843411059012|3.14414156821E-4|Allerton/Pelham G...|         3|        Bronx|  1027136.41219455|254730.01084850729|\n",
      "|       4|0.0435665270921|1.11871946192E-4|       Alphabet City|         4|    Manhattan| 990424.0195702165|203100.04043184966|\n",
      "|       5|0.0921464898574|4.97957489363E-4|       Arden Heights|         5|Staten Island| 932133.2098496482|139954.54193567485|\n",
      "|       6| 0.150490542523|6.06460984581E-4|Arrochar/Fort Wad...|         6|Staten Island| 964099.0173973292|157533.67206276953|\n",
      "|       7| 0.107417171123|3.89787989274E-4|             Astoria|         7|       Queens|1006324.9388191998|216569.41102095693|\n",
      "|       8|0.0275906911574| 2.6587716279E-5|        Astoria Park|         8|       Queens|1005541.5825920925| 222960.5823142156|\n",
      "|       9|0.0997840924705|3.38443803197E-4|          Auburndale|         9|       Queens|1043403.6924028024| 214170.7026207447|\n",
      "|      10|0.0998394794152|4.35823818081E-4|        Baisley Park|        10|       Queens|1042775.8015680313|186452.53824371845|\n",
      "|      11|0.0792110389596| 2.6452053504E-4|          Bath Beach|        11|     Brooklyn| 982164.4980031773|159335.25489003956|\n",
      "|      12|0.0366613013579|4.15116236727E-5|        Battery Park|        12|    Manhattan|  979889.680921644|195215.44749031216|\n",
      "|      13|0.0502813228631|1.49358592917E-4|   Battery Park City|        13|    Manhattan| 979844.2413037196|198508.15931824595|\n",
      "|      14| 0.175213698053|0.00138177826442|           Bay Ridge|        14|     Brooklyn| 976332.8627958819|166469.26262110472|\n",
      "|      15|  0.14433622262|9.25219395547E-4|Bay Terrace/Fort ...|        15|       Queens|1043719.6651142985|225304.68907873333|\n",
      "|      16| 0.141291873771|8.71889446182E-4|             Bayside|        16|       Queens|1046653.0270440206|216690.18732249737|\n",
      "|      17| 0.093522632948|3.22957654799E-4|             Bedford|        17|     Brooklyn| 997925.4938743934|191314.48353823274|\n",
      "|      18|0.0697995498569|1.48850163948E-4|        Bedford Park|        18|        Bronx|1014322.5144993141|255779.45435959846|\n",
      "|      19| 0.101824875452|5.46661094782E-4|           Bellerose|        19|       Queens|1059467.4358350784|207808.57245142013|\n",
      "|      20|0.0514401924362|1.34512633032E-4|             Belmont|        20|        Bronx|1015730.9563582167|251796.60542875528|\n",
      "+--------+---------------+----------------+--------------------+----------+-------------+------------------+------------------+\n",
      "only showing top 20 rows"
     ]
    }
   ],
   "source": [
    "spark_dfl.show()"
   ]
  },
  {
   "cell_type": "code",
   "execution_count": 43,
   "metadata": {
    "collapsed": true,
    "jupyter": {
     "outputs_hidden": true
    }
   },
   "outputs": [
    {
     "data": {
      "application/vnd.jupyter.widget-view+json": {
       "model_id": "28b92875a03245788478f6d2a587c1c7",
       "version_major": 2,
       "version_minor": 0
      },
      "text/plain": [
       "VBox()"
      ]
     },
     "metadata": {},
     "output_type": "display_data"
    },
    {
     "data": {
      "application/vnd.jupyter.widget-view+json": {
       "model_id": "",
       "version_major": 2,
       "version_minor": 0
      },
      "text/plain": [
       "FloatProgress(value=0.0, bar_style='info', description='Progress:', layout=Layout(height='25px', width='50%'),…"
      ]
     },
     "metadata": {},
     "output_type": "display_data"
    },
    {
     "name": "stdout",
     "output_type": "stream",
     "text": [
      "+----------+-------------+--------------------+------------+\n",
      "|LocationID|      Borough|                Zone|service_zone|\n",
      "+----------+-------------+--------------------+------------+\n",
      "|         1|          EWR|      Newark Airport|         EWR|\n",
      "|         2|       Queens|         Jamaica Bay|   Boro Zone|\n",
      "|         3|        Bronx|Allerton/Pelham G...|   Boro Zone|\n",
      "|         4|    Manhattan|       Alphabet City| Yellow Zone|\n",
      "|         5|Staten Island|       Arden Heights|   Boro Zone|\n",
      "|         6|Staten Island|Arrochar/Fort Wad...|   Boro Zone|\n",
      "|         7|       Queens|             Astoria|   Boro Zone|\n",
      "|         8|       Queens|        Astoria Park|   Boro Zone|\n",
      "|         9|       Queens|          Auburndale|   Boro Zone|\n",
      "|        10|       Queens|        Baisley Park|   Boro Zone|\n",
      "+----------+-------------+--------------------+------------+\n",
      "only showing top 10 rows"
     ]
    }
   ],
   "source": [
    "dfz.show(10)"
   ]
  },
  {
   "cell_type": "code",
   "execution_count": 46,
   "metadata": {},
   "outputs": [
    {
     "data": {
      "application/vnd.jupyter.widget-view+json": {
       "model_id": "3fb5c5942fa640b89e336f79ecf5efa4",
       "version_major": 2,
       "version_minor": 0
      },
      "text/plain": [
       "VBox()"
      ]
     },
     "metadata": {},
     "output_type": "display_data"
    },
    {
     "data": {
      "application/vnd.jupyter.widget-view+json": {
       "model_id": "",
       "version_major": 2,
       "version_minor": 0
      },
      "text/plain": [
       "FloatProgress(value=0.0, bar_style='info', description='Progress:', layout=Layout(height='25px', width='50%'),…"
      ]
     },
     "metadata": {},
     "output_type": "display_data"
    },
    {
     "name": "stdout",
     "output_type": "stream",
     "text": [
      "(['LocationID', 'Borough', 'Zone', 'service_zone'], ['VendorID', 'lpep_pickup_datetime', 'lpep_dropoff_datetime', 'RatecodeID', 'PULocationID', 'DOLocationID', 'p_count', 'trip_distance', 'fare_amount', 'extra', 'mta_tax', 'tip_amount', 'tolls_amount', 'improvement_surcharge', 'total_amount', 'payment_type', 'trip_type', 'duration', 'minute_rate', 'average_speed'], ['OBJECTID', 'Shape_Leng', 'Shape_Area', 'zone', 'LocationID', 'borough', 'longitude', 'latitude'])"
     ]
    }
   ],
   "source": [
    "dfz.columns,df.columns,spark_dfl.columns"
   ]
  },
  {
   "cell_type": "markdown",
   "metadata": {},
   "source": [
    "### for business trending ,we need to exploring some data from merged data\n",
    "\n",
    "### Q1: Which zone have most pickups and drop-offs?"
   ]
  },
  {
   "cell_type": "code",
   "execution_count": 66,
   "metadata": {},
   "outputs": [
    {
     "data": {
      "application/vnd.jupyter.widget-view+json": {
       "model_id": "b708af2aefd04943ac9f48edb68f5cf0",
       "version_major": 2,
       "version_minor": 0
      },
      "text/plain": [
       "VBox()"
      ]
     },
     "metadata": {},
     "output_type": "display_data"
    },
    {
     "data": {
      "application/vnd.jupyter.widget-view+json": {
       "model_id": "",
       "version_major": 2,
       "version_minor": 0
      },
      "text/plain": [
       "FloatProgress(value=0.0, bar_style='info', description='Progress:', layout=Layout(height='25px', width='50%'),…"
      ]
     },
     "metadata": {},
     "output_type": "display_data"
    },
    {
     "name": "stdout",
     "output_type": "stream",
     "text": [
      "+----------+--------+--------+-----------+\n",
      "|LocationID|pu_count|do_count|total_count|\n",
      "+----------+--------+--------+-----------+\n",
      "|       125|      77|    3586|       3663|\n",
      "|       124|    2441|    3898|       6339|\n",
      "|        51|   15028|   14029|      29057|\n",
      "|         7|  244131|  150145|     394276|\n",
      "|       169|   10191|   14368|      24559|\n",
      "+----------+--------+--------+-----------+\n",
      "only showing top 5 rows"
     ]
    }
   ],
   "source": [
    "## count().orderBy('count', ascending=False).limit(10)\n",
    "\n",
    "df_pu = df.select(f.col(\"PULocationID\").alias(\"LocationID\")).groupby('LocationID').count().withColumnRenamed('count', 'pu_count')\n",
    "df_do = df.select(f.col(\"DOLocationID\").alias(\"LocationID\")).groupby('LocationID').count().withColumnRenamed('count', 'do_count')\n",
    "\n",
    "## use taxi zone talbe\n",
    "joined1 = df_pu.join(df_do, 'LocationID', 'left').withColumn('total_count', df_pu.pu_count + df_do.do_count)\n",
    "\n",
    "joined1.show(5)"
   ]
  },
  {
   "cell_type": "code",
   "execution_count": 67,
   "metadata": {},
   "outputs": [
    {
     "data": {
      "application/vnd.jupyter.widget-view+json": {
       "model_id": "ba0b5b273afb47cfac71b2804e5a88b2",
       "version_major": 2,
       "version_minor": 0
      },
      "text/plain": [
       "VBox()"
      ]
     },
     "metadata": {},
     "output_type": "display_data"
    },
    {
     "data": {
      "application/vnd.jupyter.widget-view+json": {
       "model_id": "",
       "version_major": 2,
       "version_minor": 0
      },
      "text/plain": [
       "FloatProgress(value=0.0, bar_style='info', description='Progress:', layout=Layout(height='25px', width='50%'),…"
      ]
     },
     "metadata": {},
     "output_type": "display_data"
    },
    {
     "name": "stdout",
     "output_type": "stream",
     "text": [
      "+----------+-------------+--------------------+------------+\n",
      "|LocationID|      Borough|                Zone|service_zone|\n",
      "+----------+-------------+--------------------+------------+\n",
      "|         1|          EWR|      Newark Airport|         EWR|\n",
      "|         2|       Queens|         Jamaica Bay|   Boro Zone|\n",
      "|         3|        Bronx|Allerton/Pelham G...|   Boro Zone|\n",
      "|         4|    Manhattan|       Alphabet City| Yellow Zone|\n",
      "|         5|Staten Island|       Arden Heights|   Boro Zone|\n",
      "+----------+-------------+--------------------+------------+\n",
      "only showing top 5 rows"
     ]
    }
   ],
   "source": [
    "dfz.show(5)"
   ]
  },
  {
   "cell_type": "code",
   "execution_count": 89,
   "metadata": {},
   "outputs": [
    {
     "data": {
      "application/vnd.jupyter.widget-view+json": {
       "model_id": "75199e181ce541fdb245b3ad3cce1c5e",
       "version_major": 2,
       "version_minor": 0
      },
      "text/plain": [
       "VBox()"
      ]
     },
     "metadata": {},
     "output_type": "display_data"
    },
    {
     "data": {
      "application/vnd.jupyter.widget-view+json": {
       "model_id": "",
       "version_major": 2,
       "version_minor": 0
      },
      "text/plain": [
       "FloatProgress(value=0.0, bar_style='info', description='Progress:', layout=Layout(height='25px', width='50%'),…"
      ]
     },
     "metadata": {},
     "output_type": "display_data"
    },
    {
     "name": "stdout",
     "output_type": "stream",
     "text": [
      "+----------+--------+--------+-----------+-------------+--------------------+------------+\n",
      "|LocationID|pu_count|do_count|total_count|      Borough|                Zone|service_zone|\n",
      "+----------+--------+--------+-----------+-------------+--------------------+------------+\n",
      "|         1|      22|    1822|       1844|          EWR|      Newark Airport|         EWR|\n",
      "|         2|       9|      64|         73|       Queens|         Jamaica Bay|   Boro Zone|\n",
      "|         3|    5097|    5745|      10842|        Bronx|Allerton/Pelham G...|   Boro Zone|\n",
      "|         4|     183|    5936|       6119|    Manhattan|       Alphabet City| Yellow Zone|\n",
      "|         5|      60|     125|        185|Staten Island|       Arden Heights|   Boro Zone|\n",
      "|         6|      57|     150|        207|Staten Island|Arrochar/Fort Wad...|   Boro Zone|\n",
      "|         7|  244131|  150145|     394276|       Queens|             Astoria|   Boro Zone|\n",
      "|         8|      86|     779|        865|       Queens|        Astoria Park|   Boro Zone|\n",
      "|         9|    2691|    4217|       6908|       Queens|          Auburndale|   Boro Zone|\n",
      "|        10|    6516|   17264|      23780|       Queens|        Baisley Park|   Boro Zone|\n",
      "+----------+--------+--------+-----------+-------------+--------------------+------------+\n",
      "only showing top 10 rows"
     ]
    }
   ],
   "source": [
    "# order tables\n",
    "joined2 = joined1.join(dfz,'LocationID', 'left') \\\n",
    "    .withColumn(\"LocationID\", f.col('LocationID').cast(IntegerType())) \\\n",
    "    .orderBy('LocationID')\n",
    "\n",
    "joined2.show(10)"
   ]
  },
  {
   "cell_type": "code",
   "execution_count": 125,
   "metadata": {},
   "outputs": [
    {
     "data": {
      "application/vnd.jupyter.widget-view+json": {
       "model_id": "a6e59955f58940139de92c228edc5e7f",
       "version_major": 2,
       "version_minor": 0
      },
      "text/plain": [
       "VBox()"
      ]
     },
     "metadata": {},
     "output_type": "display_data"
    },
    {
     "data": {
      "application/vnd.jupyter.widget-view+json": {
       "model_id": "",
       "version_major": 2,
       "version_minor": 0
      },
      "text/plain": [
       "FloatProgress(value=0.0, bar_style='info', description='Progress:', layout=Layout(height='25px', width='50%'),…"
      ]
     },
     "metadata": {},
     "output_type": "display_data"
    },
    {
     "name": "stdout",
     "output_type": "stream",
     "text": [
      "+----------+--------+--------+-----------+---------+-----------------+------------+\n",
      "|LocationID|pu_count|do_count|total_count|  Borough|             Zone|service_zone|\n",
      "+----------+--------+--------+-----------+---------+-----------------+------------+\n",
      "|        74|  457848|  222492|     680340|Manhattan|East Harlem North|   Boro Zone|\n",
      "|        75|  368752|  159362|     528114|Manhattan|East Harlem South|   Boro Zone|\n",
      "|        41|  333623|  184460|     518083|Manhattan|   Central Harlem|   Boro Zone|\n",
      "|        82|  259303|   98800|     358103|   Queens|         Elmhurst|   Boro Zone|\n",
      "|         7|  244131|  150145|     394276|   Queens|          Astoria|   Boro Zone|\n",
      "+----------+--------+--------+-----------+---------+-----------------+------------+"
     ]
    }
   ],
   "source": [
    "# joined2.select('*').limit(10).show(10)\n",
    "# joinedtemplate = joined2.createOrReplaceTempView(\"joinedtemplate\")\n",
    "#df_putp5 = joined2.orderBy('pu_count', ascending=False).select('*').limit(5)\n",
    "\n",
    "df_putp5 = joined2.orderBy('pu_count', ascending=False).limit(5)\n",
    "df_putp5.show()"
   ]
  },
  {
   "cell_type": "code",
   "execution_count": 124,
   "metadata": {},
   "outputs": [
    {
     "data": {
      "application/vnd.jupyter.widget-view+json": {
       "model_id": "1c50d8eb2f464de1800855aabfd84063",
       "version_major": 2,
       "version_minor": 0
      },
      "text/plain": [
       "VBox()"
      ]
     },
     "metadata": {},
     "output_type": "display_data"
    },
    {
     "data": {
      "application/vnd.jupyter.widget-view+json": {
       "model_id": "",
       "version_major": 2,
       "version_minor": 0
      },
      "text/plain": [
       "FloatProgress(value=0.0, bar_style='info', description='Progress:', layout=Layout(height='25px', width='50%'),…"
      ]
     },
     "metadata": {},
     "output_type": "display_data"
    },
    {
     "name": "stdout",
     "output_type": "stream",
     "text": [
      "+----------+--------+--------+-----------+---------+--------------------+------------+\n",
      "|LocationID|pu_count|do_count|total_count|  Borough|                Zone|service_zone|\n",
      "+----------+--------+--------+-----------+---------+--------------------+------------+\n",
      "|        74|  457848|  222492|     680340|Manhattan|   East Harlem North|   Boro Zone|\n",
      "|        42|  200203|  206448|     406651|Manhattan|Central Harlem North|   Boro Zone|\n",
      "|        41|  333623|  184460|     518083|Manhattan|      Central Harlem|   Boro Zone|\n",
      "|        75|  368752|  159362|     528114|Manhattan|   East Harlem South|   Boro Zone|\n",
      "|       129|  151117|  151820|     302937|   Queens|     Jackson Heights|   Boro Zone|\n",
      "+----------+--------+--------+-----------+---------+--------------------+------------+"
     ]
    }
   ],
   "source": [
    "\n",
    "#df_dotp5 = joined2.orderBy('do_count', ascending=False).select(['LocationID','do_count','pu_count','Borough','Zone'])\n",
    "\n",
    "df_dotp5 = joined2.orderBy('do_count', ascending=False).limit(5)\n",
    "\n",
    "df_dotp5.show()\n"
   ]
  },
  {
   "cell_type": "raw",
   "metadata": {
    "jupyter": {
     "outputs_hidden": true
    }
   },
   "source": [
    "## way 2\n",
    "df_pu_agg = df.select(f.col(\"PULocationID\").alias(\"LocationID\")).groupBy('LocationID').agg({'LocationID':'count'}).withColumnRenamed('count(LocationID)', 'pu_count')\n",
    "df_do_agg = df.select(f.col(\"DOLocationID\").alias(\"LocationID\")).groupBy('LocationID').agg({'LocationID':'count'}).withColumnRenamed('count(LocationID)', 'do_count')\n",
    "# joinedg1 = df_pu_agg.join(df_do_agg, 'LocationID', 'left').withColumn('total_count', df_pu.pu_count + df_do.do_count)\n",
    "# joinedg2 = joinedg1.join(dfz,'LocationID', 'left')\n",
    "# joinedg2.show(10)"
   ]
  },
  {
   "cell_type": "code",
   "execution_count": 138,
   "metadata": {},
   "outputs": [
    {
     "data": {
      "application/vnd.jupyter.widget-view+json": {
       "model_id": "318f741ec34d4b1da8c9816deb0ddf93",
       "version_major": 2,
       "version_minor": 0
      },
      "text/plain": [
       "VBox()"
      ]
     },
     "metadata": {},
     "output_type": "display_data"
    },
    {
     "data": {
      "application/vnd.jupyter.widget-view+json": {
       "model_id": "",
       "version_major": 2,
       "version_minor": 0
      },
      "text/plain": [
       "FloatProgress(value=0.0, bar_style='info', description='Progress:', layout=Layout(height='25px', width='50%'),…"
      ]
     },
     "metadata": {},
     "output_type": "display_data"
    },
    {
     "name": "stderr",
     "output_type": "stream",
     "text": [
      "'DataFrame' object has no attribute 'map'\n",
      "Traceback (most recent call last):\n",
      "  File \"/usr/lib/spark/python/lib/pyspark.zip/pyspark/sql/dataframe.py\", line 1301, in __getattr__\n",
      "    \"'%s' object has no attribute '%s'\" % (self.__class__.__name__, name))\n",
      "AttributeError: 'DataFrame' object has no attribute 'map'\n",
      "\n"
     ]
    }
   ],
   "source": [
    "# [Row(LocationID=74, pu_count=457848), Row(LocationID=75, pu_count=368752), Row(LocationID=41, pu_count=333623)]\n",
    "#list_LocationID =  [row.LocationID for row in joined2.select(['LocationID','pu_count']).collect()]\n",
    "\n",
    "list_LocationID = joined2.select(\"LocationID\").rdd.flatMap(lambda x: x).collect()\n",
    "list_pu_count = joined2.select(\"pu_count\").rdd.flatMap(lambda x: x).collect()\n",
    "list_do_count = joined2.select(\"do_count\").rdd.flatMap(lambda x: x).collect()\n",
    "\n",
    "#list_LocationID[1],list_pu_count[1]\n",
    "# get the pick mount from different zone \n",
    "\n",
    "pu_mount_list = dict(zip(list_LocationID, list_pu_count))\n",
    "\n",
    "# list_index_df_putp5 = df_putp5.select(\"LocationID\").rdd.flatMap(lambda x: x).collect()\n",
    "# list_index_df_putp5 =df_putp5.select(\"LocationID\").rdd.flatMap(lambda x: x).collect()\n",
    "\n",
    "do_mount_list = dict(zip(list_LocationID, list_do_count))\n",
    "# list_index_df_dotp5 = df_dotp5.select(\"LocationID\").rdd.flatMap(lambda x: x).collect()"
   ]
  },
  {
   "cell_type": "code",
   "execution_count": 135,
   "metadata": {},
   "outputs": [
    {
     "data": {
      "application/vnd.jupyter.widget-view+json": {
       "model_id": "ea77b27649ee4d50a98d06949040a4d7",
       "version_major": 2,
       "version_minor": 0
      },
      "text/plain": [
       "VBox()"
      ]
     },
     "metadata": {},
     "output_type": "display_data"
    },
    {
     "data": {
      "application/vnd.jupyter.widget-view+json": {
       "model_id": "",
       "version_major": 2,
       "version_minor": 0
      },
      "text/plain": [
       "FloatProgress(value=0.0, bar_style='info', description='Progress:', layout=Layout(height='25px', width='50%'),…"
      ]
     },
     "metadata": {},
     "output_type": "display_data"
    },
    {
     "name": "stdout",
     "output_type": "stream",
     "text": [
      "([74, 75, 41, 82, 7], [74, 42, 41, 75, 129])"
     ]
    }
   ],
   "source": [
    "list_index_df_putp5 =[row.LocationID for row in df_putp5.select('LocationID').collect()]\n",
    "\n",
    "list_index_df_dotp5 = [row.LocationID for row in df_dotp5.select('LocationID').collect()]\n",
    "\n",
    "list_index_df_putp5,list_index_df_dotp5\n"
   ]
  },
  {
   "cell_type": "code",
   "execution_count": 137,
   "metadata": {},
   "outputs": [
    {
     "data": {
      "application/vnd.jupyter.widget-view+json": {
       "model_id": "91fa3711bbe741b681ac98ed6940a9ac",
       "version_major": 2,
       "version_minor": 0
      },
      "text/plain": [
       "VBox()"
      ]
     },
     "metadata": {},
     "output_type": "display_data"
    },
    {
     "data": {
      "application/vnd.jupyter.widget-view+json": {
       "model_id": "",
       "version_major": 2,
       "version_minor": 0
      },
      "text/plain": [
       "FloatProgress(value=0.0, bar_style='info', description='Progress:', layout=Layout(height='25px', width='50%'),…"
      ]
     },
     "metadata": {},
     "output_type": "display_data"
    },
    {
     "name": "stderr",
     "output_type": "stream",
     "text": [
      "'<' not supported between instances of 'NoneType' and 'int'\n",
      "Traceback (most recent call last):\n",
      "  File \"<stdin>\", line 9, in draw_zone_map\n",
      "TypeError: '<' not supported between instances of 'NoneType' and 'int'\n",
      "\n"
     ]
    }
   ],
   "source": [
    "fig, ax = plt.subplots(nrows=1, ncols=2, figsize=(18,8))\n",
    "ax = plt.subplot(1, 2, 1)\n",
    "ax.set_title(\"Block Zones with most pickups\")\n",
    "draw_zone_map(ax, sf, heat=pu_mount_list, text=list_index_df_putp5)\n",
    "ax = plt.subplot(1, 2, 2)\n",
    "ax.set_title(\"Block Zones with most drop-offs\")\n",
    "draw_zone_map(ax, sf, heat=do_mount_list, text=list_index_df_dotp5)\n",
    "\n",
    "%matplot plt"
   ]
  },
  {
   "cell_type": "code",
   "execution_count": 112,
   "metadata": {},
   "outputs": [
    {
     "data": {
      "application/vnd.jupyter.widget-view+json": {
       "model_id": "4ef4ef7f5dc54abfaea6b6fa09ab0fc6",
       "version_major": 2,
       "version_minor": 0
      },
      "text/plain": [
       "VBox()"
      ]
     },
     "metadata": {},
     "output_type": "display_data"
    },
    {
     "data": {
      "application/vnd.jupyter.widget-view+json": {
       "model_id": "",
       "version_major": 2,
       "version_minor": 0
      },
      "text/plain": [
       "FloatProgress(value=0.0, bar_style='info', description='Progress:', layout=Layout(height='25px', width='50%'),…"
      ]
     },
     "metadata": {},
     "output_type": "display_data"
    },
    {
     "name": "stdout",
     "output_type": "stream",
     "text": [
      "[1, 2, 3, 4, 5, 6, 7, 8, 9, 10, 11, 12, 13, 14, 15, 16, 17, 18, 19, 20, 21, 22, 23, 24, 25, 26, 27, 28, 29, 30, 31, 32, 33, 34, 35, 36, 37, 38, 39, 40, 41, 42, 43, 44, 45, 46, 47, 48, 49, 50, 51, 52, 53, 54, 55, 56, 57, 58, 59, 60, 61, 62, 63, 64, 65, 66, 67, 68, 69, 70, 71, 72, 73, 74, 75, 76, 77, 78, 79, 80, 81, 82, 83, 84, 85, 86, 87, 88, 89, 90, 91, 92, 93, 94, 95, 96, 97, 98, 99, 100, 101, 102, 106, 107, 108, 109, 111, 112, 113, 114, 115, 116, 117, 118, 119, 120, 121, 122, 123, 124, 125, 126, 127, 128, 129, 130, 131, 132, 133, 134, 135, 136, 137, 138, 139, 140, 141, 142, 143, 144, 145, 146, 147, 148, 149, 150, 151, 152, 153, 154, 155, 156, 157, 158, 159, 160, 161, 162, 163, 164, 165, 166, 167, 168, 169, 170, 171, 172, 173, 174, 175, 176, 177, 178, 179, 180, 181, 182, 183, 184, 185, 186, 187, 188, 189, 190, 191, 192, 193, 194, 195, 196, 197, 198, 199, 200, 201, 202, 203, 204, 205, 206, 207, 208, 209, 210, 211, 212, 213, 214, 215, 216, 217, 218, 219, 220, 221, 222, 223, 224, 225, 226, 227, 228, 229, 230, 231, 232, 233, 234, 235, 236, 237, 238, 239, 240, 241, 242, 243, 244, 245, 246, 247, 248, 249, 250, 251, 252, 253, 254, 255, 256, 257, 258, 259, 260, 261, 262, 263, 264, 265]"
     ]
    }
   ],
   "source": [
    "joined2.select(\"LocationID\").rdd.flatMap(lambda x: x).collect()"
   ]
  },
  {
   "cell_type": "code",
   "execution_count": 98,
   "metadata": {},
   "outputs": [
    {
     "data": {
      "application/vnd.jupyter.widget-view+json": {
       "model_id": "3dda81161e5d46dfb188447bcb978b01",
       "version_major": 2,
       "version_minor": 0
      },
      "text/plain": [
       "VBox()"
      ]
     },
     "metadata": {},
     "output_type": "display_data"
    },
    {
     "data": {
      "application/vnd.jupyter.widget-view+json": {
       "model_id": "",
       "version_major": 2,
       "version_minor": 0
      },
      "text/plain": [
       "FloatProgress(value=0.0, bar_style='info', description='Progress:', layout=Layout(height='25px', width='50%'),…"
      ]
     },
     "metadata": {},
     "output_type": "display_data"
    },
    {
     "name": "stdout",
     "output_type": "stream",
     "text": [
      "   LocationID\n",
      "0          74\n",
      "1          75\n",
      "2          41\n",
      "3          82\n",
      "4           7"
     ]
    }
   ],
   "source": [
    "#dict(zip(df_putp5.select('LocationID'),df_putp5.select(pu_count')))\n",
    "\n",
    "df_pu_dic = df_putp5.select('LocationID').toPandas()\n",
    "df_pu_dic.head()"
   ]
  },
  {
   "cell_type": "code",
   "execution_count": null,
   "metadata": {},
   "outputs": [],
   "source": []
  }
 ],
 "metadata": {
  "kernelspec": {
   "display_name": "PySpark",
   "language": "",
   "name": "pysparkkernel"
  },
  "language_info": {
   "codemirror_mode": {
    "name": "python",
    "version": 2
   },
   "mimetype": "text/x-python",
   "name": "pyspark",
   "pygments_lexer": "python2"
  }
 },
 "nbformat": 4,
 "nbformat_minor": 4
}
